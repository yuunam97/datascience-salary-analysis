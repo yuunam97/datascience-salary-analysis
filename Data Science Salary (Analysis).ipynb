{
 "cells": [
  {
   "cell_type": "markdown",
   "metadata": {},
   "source": [
    "This dataset describes the salaries of different data science fields in DS domain.\n",
    "\n",
    "The goal of this analysis is to provide insights into the current salary trajectories in the realm of data science field that is advancing quickly."
   ]
  },
  {
   "cell_type": "code",
   "execution_count": 1,
   "metadata": {},
   "outputs": [],
   "source": [
    "import numpy as np\n",
    "import pandas as pd\n",
    "import seaborn as sns\n",
    "import plotly.express as px\n",
    "import plotly.figure_factory as ff\n",
    "import matplotlib.pyplot as plt\n",
    "import plotly.graph_objects as go\n",
    "# from wordcloud import WordCloud\n",
    "\n",
    "# Converting residential codes to ISO3\n",
    "import country_converter as cc"
   ]
  },
  {
   "cell_type": "code",
   "execution_count": 2,
   "metadata": {},
   "outputs": [
    {
     "data": {
      "text/html": [
       "<div>\n",
       "<style scoped>\n",
       "    .dataframe tbody tr th:only-of-type {\n",
       "        vertical-align: middle;\n",
       "    }\n",
       "\n",
       "    .dataframe tbody tr th {\n",
       "        vertical-align: top;\n",
       "    }\n",
       "\n",
       "    .dataframe thead th {\n",
       "        text-align: right;\n",
       "    }\n",
       "</style>\n",
       "<table border=\"1\" class=\"dataframe\">\n",
       "  <thead>\n",
       "    <tr style=\"text-align: right;\">\n",
       "      <th></th>\n",
       "      <th>work_year</th>\n",
       "      <th>experience_level</th>\n",
       "      <th>employment_type</th>\n",
       "      <th>job_title</th>\n",
       "      <th>salary</th>\n",
       "      <th>salary_currency</th>\n",
       "      <th>salary_in_usd</th>\n",
       "      <th>employee_residence</th>\n",
       "      <th>remote_ratio</th>\n",
       "      <th>company_location</th>\n",
       "      <th>company_size</th>\n",
       "    </tr>\n",
       "  </thead>\n",
       "  <tbody>\n",
       "    <tr>\n",
       "      <th>0</th>\n",
       "      <td>2023</td>\n",
       "      <td>SE</td>\n",
       "      <td>FT</td>\n",
       "      <td>Principal Data Scientist</td>\n",
       "      <td>80000</td>\n",
       "      <td>EUR</td>\n",
       "      <td>85847</td>\n",
       "      <td>ES</td>\n",
       "      <td>100</td>\n",
       "      <td>ES</td>\n",
       "      <td>L</td>\n",
       "    </tr>\n",
       "    <tr>\n",
       "      <th>1</th>\n",
       "      <td>2023</td>\n",
       "      <td>MI</td>\n",
       "      <td>CT</td>\n",
       "      <td>ML Engineer</td>\n",
       "      <td>30000</td>\n",
       "      <td>USD</td>\n",
       "      <td>30000</td>\n",
       "      <td>US</td>\n",
       "      <td>100</td>\n",
       "      <td>US</td>\n",
       "      <td>S</td>\n",
       "    </tr>\n",
       "    <tr>\n",
       "      <th>2</th>\n",
       "      <td>2023</td>\n",
       "      <td>MI</td>\n",
       "      <td>CT</td>\n",
       "      <td>ML Engineer</td>\n",
       "      <td>25500</td>\n",
       "      <td>USD</td>\n",
       "      <td>25500</td>\n",
       "      <td>US</td>\n",
       "      <td>100</td>\n",
       "      <td>US</td>\n",
       "      <td>S</td>\n",
       "    </tr>\n",
       "    <tr>\n",
       "      <th>3</th>\n",
       "      <td>2023</td>\n",
       "      <td>SE</td>\n",
       "      <td>FT</td>\n",
       "      <td>Data Scientist</td>\n",
       "      <td>175000</td>\n",
       "      <td>USD</td>\n",
       "      <td>175000</td>\n",
       "      <td>CA</td>\n",
       "      <td>100</td>\n",
       "      <td>CA</td>\n",
       "      <td>M</td>\n",
       "    </tr>\n",
       "    <tr>\n",
       "      <th>4</th>\n",
       "      <td>2023</td>\n",
       "      <td>SE</td>\n",
       "      <td>FT</td>\n",
       "      <td>Data Scientist</td>\n",
       "      <td>120000</td>\n",
       "      <td>USD</td>\n",
       "      <td>120000</td>\n",
       "      <td>CA</td>\n",
       "      <td>100</td>\n",
       "      <td>CA</td>\n",
       "      <td>M</td>\n",
       "    </tr>\n",
       "  </tbody>\n",
       "</table>\n",
       "</div>"
      ],
      "text/plain": [
       "   work_year experience_level employment_type                 job_title  \\\n",
       "0       2023               SE              FT  Principal Data Scientist   \n",
       "1       2023               MI              CT               ML Engineer   \n",
       "2       2023               MI              CT               ML Engineer   \n",
       "3       2023               SE              FT            Data Scientist   \n",
       "4       2023               SE              FT            Data Scientist   \n",
       "\n",
       "   salary salary_currency  salary_in_usd employee_residence  remote_ratio  \\\n",
       "0   80000             EUR          85847                 ES           100   \n",
       "1   30000             USD          30000                 US           100   \n",
       "2   25500             USD          25500                 US           100   \n",
       "3  175000             USD         175000                 CA           100   \n",
       "4  120000             USD         120000                 CA           100   \n",
       "\n",
       "  company_location company_size  \n",
       "0               ES            L  \n",
       "1               US            S  \n",
       "2               US            S  \n",
       "3               CA            M  \n",
       "4               CA            M  "
      ]
     },
     "execution_count": 2,
     "metadata": {},
     "output_type": "execute_result"
    }
   ],
   "source": [
    "#### Loading the dataset\n",
    "\n",
    "df_ds = pd.read_csv('ds_salaries.csv')\n",
    "\n",
    "df_ds.head(5)"
   ]
  },
  {
   "cell_type": "code",
   "execution_count": 3,
   "metadata": {},
   "outputs": [
    {
     "name": "stdout",
     "output_type": "stream",
     "text": [
      "(3755, 11)\n",
      "\n",
      "<class 'pandas.core.frame.DataFrame'>\n",
      "RangeIndex: 3755 entries, 0 to 3754\n",
      "Data columns (total 11 columns):\n",
      " #   Column              Non-Null Count  Dtype \n",
      "---  ------              --------------  ----- \n",
      " 0   work_year           3755 non-null   int64 \n",
      " 1   experience_level    3755 non-null   object\n",
      " 2   employment_type     3755 non-null   object\n",
      " 3   job_title           3755 non-null   object\n",
      " 4   salary              3755 non-null   int64 \n",
      " 5   salary_currency     3755 non-null   object\n",
      " 6   salary_in_usd       3755 non-null   int64 \n",
      " 7   employee_residence  3755 non-null   object\n",
      " 8   remote_ratio        3755 non-null   int64 \n",
      " 9   company_location    3755 non-null   object\n",
      " 10  company_size        3755 non-null   object\n",
      "dtypes: int64(4), object(7)\n",
      "memory usage: 322.8+ KB\n"
     ]
    }
   ],
   "source": [
    "print(df_ds.shape)\n",
    "\n",
    "print()\n",
    "\n",
    "df_ds.info()"
   ]
  },
  {
   "cell_type": "code",
   "execution_count": 4,
   "metadata": {},
   "outputs": [
    {
     "data": {
      "text/plain": [
       "work_year             0\n",
       "experience_level      0\n",
       "employment_type       0\n",
       "job_title             0\n",
       "salary                0\n",
       "salary_currency       0\n",
       "salary_in_usd         0\n",
       "employee_residence    0\n",
       "remote_ratio          0\n",
       "company_location      0\n",
       "company_size          0\n",
       "dtype: int64"
      ]
     },
     "execution_count": 4,
     "metadata": {},
     "output_type": "execute_result"
    }
   ],
   "source": [
    "#### Examining for null/missing values:\n",
    "\n",
    "df_ds.isnull().sum()"
   ]
  },
  {
   "cell_type": "markdown",
   "metadata": {},
   "source": [
    "\n",
    "This dataset contains no missing/null values, and contains 11 columns and 3755 rows:\n",
    "\n",
    "1. `work_year` [categorical]: The year the salary was paid.\n",
    "\n",
    "2. `experience_level` [categorical]: The experience level in the job during the year.\n",
    "\n",
    "3. `employment_type` [categorical]: The type of employment for the role.\n",
    "\n",
    "4. `job_title` [categorical]: The role worked in during the year.\n",
    "\n",
    "5. `salary` [numerical]: The total gross salary amount paid.\n",
    "\n",
    "6. `salary_currency` [categorical]: The currency of the salary paid as an ISO 4217 currency code.\n",
    "\n",
    "7. `salary_in_usd` [numerical]: The salary in USD.\n",
    "\n",
    "8. `employee_residence` [categorical]: Employee's primary country of residence in during the work year as an ISO 3166 country code.\n",
    "\n",
    "9. `remote_ratio` [numerical]: The overall amount of work done remotely.\n",
    "\n",
    "10. `company_location` [categorical]: The country of the employer's main office or contracting branch.\n",
    "\n",
    "11. `company_size` [categorical]: The median number of people that worked for the company during the year.\n",
    "\n"
   ]
  },
  {
   "cell_type": "markdown",
   "metadata": {},
   "source": [
    "## Univariate Analysis"
   ]
  },
  {
   "cell_type": "markdown",
   "metadata": {},
   "source": [
    "#### Experience Levels of Data Science jobs"
   ]
  },
  {
   "cell_type": "code",
   "execution_count": 5,
   "metadata": {},
   "outputs": [
    {
     "data": {
      "text/plain": [
       "experience_level\n",
       "SE    2516\n",
       "MI     805\n",
       "EN     320\n",
       "EX     114\n",
       "Name: count, dtype: int64"
      ]
     },
     "execution_count": 5,
     "metadata": {},
     "output_type": "execute_result"
    }
   ],
   "source": [
    "df_ds['experience_level'].value_counts()"
   ]
  },
  {
   "cell_type": "code",
   "execution_count": 6,
   "metadata": {},
   "outputs": [],
   "source": [
    "df_ds['experience_level'] = df_ds['experience_level'].replace('EN', 'Entry-level (Junior)')\n",
    "df_ds['experience_level'] = df_ds['experience_level'].replace('MI', 'Mid-level (Intermediate)')\n",
    "df_ds['experience_level'] = df_ds['experience_level'].replace('SE', 'Senior-level (Senior)')\n",
    "df_ds['experience_level'] = df_ds['experience_level'].replace('EX', 'Executive-level (Director)')\n",
    "\n",
    "experience = df_ds['experience_level'].value_counts()"
   ]
  },
  {
   "cell_type": "code",
   "execution_count": 7,
   "metadata": {},
   "outputs": [
    {
     "data": {
      "application/vnd.plotly.v1+json": {
       "config": {
        "plotlyServerURL": "https://plot.ly"
       },
       "data": [
        {
         "branchvalues": "total",
         "domain": {
          "x": [
           0,
           1
          ],
          "y": [
           0,
           1
          ]
         },
         "hovertemplate": "labels=%{label}<br>value=%{value}<br>parent=%{parent}<br>id=%{id}<extra></extra>",
         "ids": [
          "Entry-level (Junior)",
          "Executive-level (Director)",
          "Mid-level (Intermediate)",
          "Senior-level (Senior)"
         ],
         "labels": [
          "Entry-level (Junior)",
          "Executive-level (Director)",
          "Mid-level (Intermediate)",
          "Senior-level (Senior)"
         ],
         "name": "",
         "parents": [
          "",
          "",
          "",
          ""
         ],
         "type": "treemap",
         "values": [
          320,
          114,
          805,
          2516
         ]
        }
       ],
       "layout": {
        "legend": {
         "tracegroupgap": 0
        },
        "template": {
         "data": {
          "bar": [
           {
            "error_x": {
             "color": "#2a3f5f"
            },
            "error_y": {
             "color": "#2a3f5f"
            },
            "marker": {
             "line": {
              "color": "#E5ECF6",
              "width": 0.5
             },
             "pattern": {
              "fillmode": "overlay",
              "size": 10,
              "solidity": 0.2
             }
            },
            "type": "bar"
           }
          ],
          "barpolar": [
           {
            "marker": {
             "line": {
              "color": "#E5ECF6",
              "width": 0.5
             },
             "pattern": {
              "fillmode": "overlay",
              "size": 10,
              "solidity": 0.2
             }
            },
            "type": "barpolar"
           }
          ],
          "carpet": [
           {
            "aaxis": {
             "endlinecolor": "#2a3f5f",
             "gridcolor": "white",
             "linecolor": "white",
             "minorgridcolor": "white",
             "startlinecolor": "#2a3f5f"
            },
            "baxis": {
             "endlinecolor": "#2a3f5f",
             "gridcolor": "white",
             "linecolor": "white",
             "minorgridcolor": "white",
             "startlinecolor": "#2a3f5f"
            },
            "type": "carpet"
           }
          ],
          "choropleth": [
           {
            "colorbar": {
             "outlinewidth": 0,
             "ticks": ""
            },
            "type": "choropleth"
           }
          ],
          "contour": [
           {
            "colorbar": {
             "outlinewidth": 0,
             "ticks": ""
            },
            "colorscale": [
             [
              0,
              "#0d0887"
             ],
             [
              0.1111111111111111,
              "#46039f"
             ],
             [
              0.2222222222222222,
              "#7201a8"
             ],
             [
              0.3333333333333333,
              "#9c179e"
             ],
             [
              0.4444444444444444,
              "#bd3786"
             ],
             [
              0.5555555555555556,
              "#d8576b"
             ],
             [
              0.6666666666666666,
              "#ed7953"
             ],
             [
              0.7777777777777778,
              "#fb9f3a"
             ],
             [
              0.8888888888888888,
              "#fdca26"
             ],
             [
              1,
              "#f0f921"
             ]
            ],
            "type": "contour"
           }
          ],
          "contourcarpet": [
           {
            "colorbar": {
             "outlinewidth": 0,
             "ticks": ""
            },
            "type": "contourcarpet"
           }
          ],
          "heatmap": [
           {
            "colorbar": {
             "outlinewidth": 0,
             "ticks": ""
            },
            "colorscale": [
             [
              0,
              "#0d0887"
             ],
             [
              0.1111111111111111,
              "#46039f"
             ],
             [
              0.2222222222222222,
              "#7201a8"
             ],
             [
              0.3333333333333333,
              "#9c179e"
             ],
             [
              0.4444444444444444,
              "#bd3786"
             ],
             [
              0.5555555555555556,
              "#d8576b"
             ],
             [
              0.6666666666666666,
              "#ed7953"
             ],
             [
              0.7777777777777778,
              "#fb9f3a"
             ],
             [
              0.8888888888888888,
              "#fdca26"
             ],
             [
              1,
              "#f0f921"
             ]
            ],
            "type": "heatmap"
           }
          ],
          "heatmapgl": [
           {
            "colorbar": {
             "outlinewidth": 0,
             "ticks": ""
            },
            "colorscale": [
             [
              0,
              "#0d0887"
             ],
             [
              0.1111111111111111,
              "#46039f"
             ],
             [
              0.2222222222222222,
              "#7201a8"
             ],
             [
              0.3333333333333333,
              "#9c179e"
             ],
             [
              0.4444444444444444,
              "#bd3786"
             ],
             [
              0.5555555555555556,
              "#d8576b"
             ],
             [
              0.6666666666666666,
              "#ed7953"
             ],
             [
              0.7777777777777778,
              "#fb9f3a"
             ],
             [
              0.8888888888888888,
              "#fdca26"
             ],
             [
              1,
              "#f0f921"
             ]
            ],
            "type": "heatmapgl"
           }
          ],
          "histogram": [
           {
            "marker": {
             "pattern": {
              "fillmode": "overlay",
              "size": 10,
              "solidity": 0.2
             }
            },
            "type": "histogram"
           }
          ],
          "histogram2d": [
           {
            "colorbar": {
             "outlinewidth": 0,
             "ticks": ""
            },
            "colorscale": [
             [
              0,
              "#0d0887"
             ],
             [
              0.1111111111111111,
              "#46039f"
             ],
             [
              0.2222222222222222,
              "#7201a8"
             ],
             [
              0.3333333333333333,
              "#9c179e"
             ],
             [
              0.4444444444444444,
              "#bd3786"
             ],
             [
              0.5555555555555556,
              "#d8576b"
             ],
             [
              0.6666666666666666,
              "#ed7953"
             ],
             [
              0.7777777777777778,
              "#fb9f3a"
             ],
             [
              0.8888888888888888,
              "#fdca26"
             ],
             [
              1,
              "#f0f921"
             ]
            ],
            "type": "histogram2d"
           }
          ],
          "histogram2dcontour": [
           {
            "colorbar": {
             "outlinewidth": 0,
             "ticks": ""
            },
            "colorscale": [
             [
              0,
              "#0d0887"
             ],
             [
              0.1111111111111111,
              "#46039f"
             ],
             [
              0.2222222222222222,
              "#7201a8"
             ],
             [
              0.3333333333333333,
              "#9c179e"
             ],
             [
              0.4444444444444444,
              "#bd3786"
             ],
             [
              0.5555555555555556,
              "#d8576b"
             ],
             [
              0.6666666666666666,
              "#ed7953"
             ],
             [
              0.7777777777777778,
              "#fb9f3a"
             ],
             [
              0.8888888888888888,
              "#fdca26"
             ],
             [
              1,
              "#f0f921"
             ]
            ],
            "type": "histogram2dcontour"
           }
          ],
          "mesh3d": [
           {
            "colorbar": {
             "outlinewidth": 0,
             "ticks": ""
            },
            "type": "mesh3d"
           }
          ],
          "parcoords": [
           {
            "line": {
             "colorbar": {
              "outlinewidth": 0,
              "ticks": ""
             }
            },
            "type": "parcoords"
           }
          ],
          "pie": [
           {
            "automargin": true,
            "type": "pie"
           }
          ],
          "scatter": [
           {
            "fillpattern": {
             "fillmode": "overlay",
             "size": 10,
             "solidity": 0.2
            },
            "type": "scatter"
           }
          ],
          "scatter3d": [
           {
            "line": {
             "colorbar": {
              "outlinewidth": 0,
              "ticks": ""
             }
            },
            "marker": {
             "colorbar": {
              "outlinewidth": 0,
              "ticks": ""
             }
            },
            "type": "scatter3d"
           }
          ],
          "scattercarpet": [
           {
            "marker": {
             "colorbar": {
              "outlinewidth": 0,
              "ticks": ""
             }
            },
            "type": "scattercarpet"
           }
          ],
          "scattergeo": [
           {
            "marker": {
             "colorbar": {
              "outlinewidth": 0,
              "ticks": ""
             }
            },
            "type": "scattergeo"
           }
          ],
          "scattergl": [
           {
            "marker": {
             "colorbar": {
              "outlinewidth": 0,
              "ticks": ""
             }
            },
            "type": "scattergl"
           }
          ],
          "scattermapbox": [
           {
            "marker": {
             "colorbar": {
              "outlinewidth": 0,
              "ticks": ""
             }
            },
            "type": "scattermapbox"
           }
          ],
          "scatterpolar": [
           {
            "marker": {
             "colorbar": {
              "outlinewidth": 0,
              "ticks": ""
             }
            },
            "type": "scatterpolar"
           }
          ],
          "scatterpolargl": [
           {
            "marker": {
             "colorbar": {
              "outlinewidth": 0,
              "ticks": ""
             }
            },
            "type": "scatterpolargl"
           }
          ],
          "scatterternary": [
           {
            "marker": {
             "colorbar": {
              "outlinewidth": 0,
              "ticks": ""
             }
            },
            "type": "scatterternary"
           }
          ],
          "surface": [
           {
            "colorbar": {
             "outlinewidth": 0,
             "ticks": ""
            },
            "colorscale": [
             [
              0,
              "#0d0887"
             ],
             [
              0.1111111111111111,
              "#46039f"
             ],
             [
              0.2222222222222222,
              "#7201a8"
             ],
             [
              0.3333333333333333,
              "#9c179e"
             ],
             [
              0.4444444444444444,
              "#bd3786"
             ],
             [
              0.5555555555555556,
              "#d8576b"
             ],
             [
              0.6666666666666666,
              "#ed7953"
             ],
             [
              0.7777777777777778,
              "#fb9f3a"
             ],
             [
              0.8888888888888888,
              "#fdca26"
             ],
             [
              1,
              "#f0f921"
             ]
            ],
            "type": "surface"
           }
          ],
          "table": [
           {
            "cells": {
             "fill": {
              "color": "#EBF0F8"
             },
             "line": {
              "color": "white"
             }
            },
            "header": {
             "fill": {
              "color": "#C8D4E3"
             },
             "line": {
              "color": "white"
             }
            },
            "type": "table"
           }
          ]
         },
         "layout": {
          "annotationdefaults": {
           "arrowcolor": "#2a3f5f",
           "arrowhead": 0,
           "arrowwidth": 1
          },
          "autotypenumbers": "strict",
          "coloraxis": {
           "colorbar": {
            "outlinewidth": 0,
            "ticks": ""
           }
          },
          "colorscale": {
           "diverging": [
            [
             0,
             "#8e0152"
            ],
            [
             0.1,
             "#c51b7d"
            ],
            [
             0.2,
             "#de77ae"
            ],
            [
             0.3,
             "#f1b6da"
            ],
            [
             0.4,
             "#fde0ef"
            ],
            [
             0.5,
             "#f7f7f7"
            ],
            [
             0.6,
             "#e6f5d0"
            ],
            [
             0.7,
             "#b8e186"
            ],
            [
             0.8,
             "#7fbc41"
            ],
            [
             0.9,
             "#4d9221"
            ],
            [
             1,
             "#276419"
            ]
           ],
           "sequential": [
            [
             0,
             "#0d0887"
            ],
            [
             0.1111111111111111,
             "#46039f"
            ],
            [
             0.2222222222222222,
             "#7201a8"
            ],
            [
             0.3333333333333333,
             "#9c179e"
            ],
            [
             0.4444444444444444,
             "#bd3786"
            ],
            [
             0.5555555555555556,
             "#d8576b"
            ],
            [
             0.6666666666666666,
             "#ed7953"
            ],
            [
             0.7777777777777778,
             "#fb9f3a"
            ],
            [
             0.8888888888888888,
             "#fdca26"
            ],
            [
             1,
             "#f0f921"
            ]
           ],
           "sequentialminus": [
            [
             0,
             "#0d0887"
            ],
            [
             0.1111111111111111,
             "#46039f"
            ],
            [
             0.2222222222222222,
             "#7201a8"
            ],
            [
             0.3333333333333333,
             "#9c179e"
            ],
            [
             0.4444444444444444,
             "#bd3786"
            ],
            [
             0.5555555555555556,
             "#d8576b"
            ],
            [
             0.6666666666666666,
             "#ed7953"
            ],
            [
             0.7777777777777778,
             "#fb9f3a"
            ],
            [
             0.8888888888888888,
             "#fdca26"
            ],
            [
             1,
             "#f0f921"
            ]
           ]
          },
          "colorway": [
           "#636efa",
           "#EF553B",
           "#00cc96",
           "#ab63fa",
           "#FFA15A",
           "#19d3f3",
           "#FF6692",
           "#B6E880",
           "#FF97FF",
           "#FECB52"
          ],
          "font": {
           "color": "#2a3f5f"
          },
          "geo": {
           "bgcolor": "white",
           "lakecolor": "white",
           "landcolor": "#E5ECF6",
           "showlakes": true,
           "showland": true,
           "subunitcolor": "white"
          },
          "hoverlabel": {
           "align": "left"
          },
          "hovermode": "closest",
          "mapbox": {
           "style": "light"
          },
          "paper_bgcolor": "white",
          "plot_bgcolor": "#E5ECF6",
          "polar": {
           "angularaxis": {
            "gridcolor": "white",
            "linecolor": "white",
            "ticks": ""
           },
           "bgcolor": "#E5ECF6",
           "radialaxis": {
            "gridcolor": "white",
            "linecolor": "white",
            "ticks": ""
           }
          },
          "scene": {
           "xaxis": {
            "backgroundcolor": "#E5ECF6",
            "gridcolor": "white",
            "gridwidth": 2,
            "linecolor": "white",
            "showbackground": true,
            "ticks": "",
            "zerolinecolor": "white"
           },
           "yaxis": {
            "backgroundcolor": "#E5ECF6",
            "gridcolor": "white",
            "gridwidth": 2,
            "linecolor": "white",
            "showbackground": true,
            "ticks": "",
            "zerolinecolor": "white"
           },
           "zaxis": {
            "backgroundcolor": "#E5ECF6",
            "gridcolor": "white",
            "gridwidth": 2,
            "linecolor": "white",
            "showbackground": true,
            "ticks": "",
            "zerolinecolor": "white"
           }
          },
          "shapedefaults": {
           "line": {
            "color": "#2a3f5f"
           }
          },
          "ternary": {
           "aaxis": {
            "gridcolor": "white",
            "linecolor": "white",
            "ticks": ""
           },
           "baxis": {
            "gridcolor": "white",
            "linecolor": "white",
            "ticks": ""
           },
           "bgcolor": "#E5ECF6",
           "caxis": {
            "gridcolor": "white",
            "linecolor": "white",
            "ticks": ""
           }
          },
          "title": {
           "x": 0.05
          },
          "xaxis": {
           "automargin": true,
           "gridcolor": "white",
           "linecolor": "white",
           "ticks": "",
           "title": {
            "standoff": 15
           },
           "zerolinecolor": "white",
           "zerolinewidth": 2
          },
          "yaxis": {
           "automargin": true,
           "gridcolor": "white",
           "linecolor": "white",
           "ticks": "",
           "title": {
            "standoff": 15
           },
           "zerolinecolor": "white",
           "zerolinewidth": 2
          }
         }
        },
        "title": {
         "text": "Experience Level of Employees"
        }
       }
      }
     },
     "metadata": {},
     "output_type": "display_data"
    }
   ],
   "source": [
    "fig = px.treemap(experience, path = [experience.index], values = experience.values,\n",
    "                 title = 'Experience Level of Employees')\n",
    "fig.show()"
   ]
  },
  {
   "cell_type": "markdown",
   "metadata": {},
   "source": [
    "WHAT WE KNOW:\n",
    "- Most of the employees are at \"Senior-Level\", followed by \"Mid-Level\". "
   ]
  },
  {
   "cell_type": "markdown",
   "metadata": {},
   "source": [
    "#### Most Famous/Top 10 data science jobs"
   ]
  },
  {
   "cell_type": "code",
   "execution_count": 8,
   "metadata": {},
   "outputs": [],
   "source": [
    "best_ds_jobs = df_ds['job_title'].value_counts()[:10]"
   ]
  },
  {
   "cell_type": "code",
   "execution_count": 9,
   "metadata": {},
   "outputs": [
    {
     "data": {
      "application/vnd.plotly.v1+json": {
       "config": {
        "plotlyServerURL": "https://plot.ly"
       },
       "data": [
        {
         "alignmentgroup": "True",
         "hovertemplate": "x=%{x}<br>y=%{y}<br>text=%{text}<extra></extra>",
         "legendgroup": "",
         "marker": {
          "color": "#636efa",
          "pattern": {
           "shape": ""
          }
         },
         "name": "",
         "offsetgroup": "",
         "orientation": "v",
         "showlegend": false,
         "text": [
          1040,
          840,
          612,
          289,
          103,
          101,
          82,
          58,
          58,
          37
         ],
         "textposition": "auto",
         "type": "bar",
         "x": [
          "Data Engineer",
          "Data Scientist",
          "Data Analyst",
          "Machine Learning Engineer",
          "Analytics Engineer",
          "Data Architect",
          "Research Scientist",
          "Data Science Manager",
          "Applied Scientist",
          "Research Engineer"
         ],
         "xaxis": "x",
         "y": [
          1040,
          840,
          612,
          289,
          103,
          101,
          82,
          58,
          58,
          37
         ],
         "yaxis": "y"
        }
       ],
       "layout": {
        "barmode": "relative",
        "legend": {
         "tracegroupgap": 0
        },
        "template": {
         "data": {
          "bar": [
           {
            "error_x": {
             "color": "#2a3f5f"
            },
            "error_y": {
             "color": "#2a3f5f"
            },
            "marker": {
             "line": {
              "color": "#E5ECF6",
              "width": 0.5
             },
             "pattern": {
              "fillmode": "overlay",
              "size": 10,
              "solidity": 0.2
             }
            },
            "type": "bar"
           }
          ],
          "barpolar": [
           {
            "marker": {
             "line": {
              "color": "#E5ECF6",
              "width": 0.5
             },
             "pattern": {
              "fillmode": "overlay",
              "size": 10,
              "solidity": 0.2
             }
            },
            "type": "barpolar"
           }
          ],
          "carpet": [
           {
            "aaxis": {
             "endlinecolor": "#2a3f5f",
             "gridcolor": "white",
             "linecolor": "white",
             "minorgridcolor": "white",
             "startlinecolor": "#2a3f5f"
            },
            "baxis": {
             "endlinecolor": "#2a3f5f",
             "gridcolor": "white",
             "linecolor": "white",
             "minorgridcolor": "white",
             "startlinecolor": "#2a3f5f"
            },
            "type": "carpet"
           }
          ],
          "choropleth": [
           {
            "colorbar": {
             "outlinewidth": 0,
             "ticks": ""
            },
            "type": "choropleth"
           }
          ],
          "contour": [
           {
            "colorbar": {
             "outlinewidth": 0,
             "ticks": ""
            },
            "colorscale": [
             [
              0,
              "#0d0887"
             ],
             [
              0.1111111111111111,
              "#46039f"
             ],
             [
              0.2222222222222222,
              "#7201a8"
             ],
             [
              0.3333333333333333,
              "#9c179e"
             ],
             [
              0.4444444444444444,
              "#bd3786"
             ],
             [
              0.5555555555555556,
              "#d8576b"
             ],
             [
              0.6666666666666666,
              "#ed7953"
             ],
             [
              0.7777777777777778,
              "#fb9f3a"
             ],
             [
              0.8888888888888888,
              "#fdca26"
             ],
             [
              1,
              "#f0f921"
             ]
            ],
            "type": "contour"
           }
          ],
          "contourcarpet": [
           {
            "colorbar": {
             "outlinewidth": 0,
             "ticks": ""
            },
            "type": "contourcarpet"
           }
          ],
          "heatmap": [
           {
            "colorbar": {
             "outlinewidth": 0,
             "ticks": ""
            },
            "colorscale": [
             [
              0,
              "#0d0887"
             ],
             [
              0.1111111111111111,
              "#46039f"
             ],
             [
              0.2222222222222222,
              "#7201a8"
             ],
             [
              0.3333333333333333,
              "#9c179e"
             ],
             [
              0.4444444444444444,
              "#bd3786"
             ],
             [
              0.5555555555555556,
              "#d8576b"
             ],
             [
              0.6666666666666666,
              "#ed7953"
             ],
             [
              0.7777777777777778,
              "#fb9f3a"
             ],
             [
              0.8888888888888888,
              "#fdca26"
             ],
             [
              1,
              "#f0f921"
             ]
            ],
            "type": "heatmap"
           }
          ],
          "heatmapgl": [
           {
            "colorbar": {
             "outlinewidth": 0,
             "ticks": ""
            },
            "colorscale": [
             [
              0,
              "#0d0887"
             ],
             [
              0.1111111111111111,
              "#46039f"
             ],
             [
              0.2222222222222222,
              "#7201a8"
             ],
             [
              0.3333333333333333,
              "#9c179e"
             ],
             [
              0.4444444444444444,
              "#bd3786"
             ],
             [
              0.5555555555555556,
              "#d8576b"
             ],
             [
              0.6666666666666666,
              "#ed7953"
             ],
             [
              0.7777777777777778,
              "#fb9f3a"
             ],
             [
              0.8888888888888888,
              "#fdca26"
             ],
             [
              1,
              "#f0f921"
             ]
            ],
            "type": "heatmapgl"
           }
          ],
          "histogram": [
           {
            "marker": {
             "pattern": {
              "fillmode": "overlay",
              "size": 10,
              "solidity": 0.2
             }
            },
            "type": "histogram"
           }
          ],
          "histogram2d": [
           {
            "colorbar": {
             "outlinewidth": 0,
             "ticks": ""
            },
            "colorscale": [
             [
              0,
              "#0d0887"
             ],
             [
              0.1111111111111111,
              "#46039f"
             ],
             [
              0.2222222222222222,
              "#7201a8"
             ],
             [
              0.3333333333333333,
              "#9c179e"
             ],
             [
              0.4444444444444444,
              "#bd3786"
             ],
             [
              0.5555555555555556,
              "#d8576b"
             ],
             [
              0.6666666666666666,
              "#ed7953"
             ],
             [
              0.7777777777777778,
              "#fb9f3a"
             ],
             [
              0.8888888888888888,
              "#fdca26"
             ],
             [
              1,
              "#f0f921"
             ]
            ],
            "type": "histogram2d"
           }
          ],
          "histogram2dcontour": [
           {
            "colorbar": {
             "outlinewidth": 0,
             "ticks": ""
            },
            "colorscale": [
             [
              0,
              "#0d0887"
             ],
             [
              0.1111111111111111,
              "#46039f"
             ],
             [
              0.2222222222222222,
              "#7201a8"
             ],
             [
              0.3333333333333333,
              "#9c179e"
             ],
             [
              0.4444444444444444,
              "#bd3786"
             ],
             [
              0.5555555555555556,
              "#d8576b"
             ],
             [
              0.6666666666666666,
              "#ed7953"
             ],
             [
              0.7777777777777778,
              "#fb9f3a"
             ],
             [
              0.8888888888888888,
              "#fdca26"
             ],
             [
              1,
              "#f0f921"
             ]
            ],
            "type": "histogram2dcontour"
           }
          ],
          "mesh3d": [
           {
            "colorbar": {
             "outlinewidth": 0,
             "ticks": ""
            },
            "type": "mesh3d"
           }
          ],
          "parcoords": [
           {
            "line": {
             "colorbar": {
              "outlinewidth": 0,
              "ticks": ""
             }
            },
            "type": "parcoords"
           }
          ],
          "pie": [
           {
            "automargin": true,
            "type": "pie"
           }
          ],
          "scatter": [
           {
            "fillpattern": {
             "fillmode": "overlay",
             "size": 10,
             "solidity": 0.2
            },
            "type": "scatter"
           }
          ],
          "scatter3d": [
           {
            "line": {
             "colorbar": {
              "outlinewidth": 0,
              "ticks": ""
             }
            },
            "marker": {
             "colorbar": {
              "outlinewidth": 0,
              "ticks": ""
             }
            },
            "type": "scatter3d"
           }
          ],
          "scattercarpet": [
           {
            "marker": {
             "colorbar": {
              "outlinewidth": 0,
              "ticks": ""
             }
            },
            "type": "scattercarpet"
           }
          ],
          "scattergeo": [
           {
            "marker": {
             "colorbar": {
              "outlinewidth": 0,
              "ticks": ""
             }
            },
            "type": "scattergeo"
           }
          ],
          "scattergl": [
           {
            "marker": {
             "colorbar": {
              "outlinewidth": 0,
              "ticks": ""
             }
            },
            "type": "scattergl"
           }
          ],
          "scattermapbox": [
           {
            "marker": {
             "colorbar": {
              "outlinewidth": 0,
              "ticks": ""
             }
            },
            "type": "scattermapbox"
           }
          ],
          "scatterpolar": [
           {
            "marker": {
             "colorbar": {
              "outlinewidth": 0,
              "ticks": ""
             }
            },
            "type": "scatterpolar"
           }
          ],
          "scatterpolargl": [
           {
            "marker": {
             "colorbar": {
              "outlinewidth": 0,
              "ticks": ""
             }
            },
            "type": "scatterpolargl"
           }
          ],
          "scatterternary": [
           {
            "marker": {
             "colorbar": {
              "outlinewidth": 0,
              "ticks": ""
             }
            },
            "type": "scatterternary"
           }
          ],
          "surface": [
           {
            "colorbar": {
             "outlinewidth": 0,
             "ticks": ""
            },
            "colorscale": [
             [
              0,
              "#0d0887"
             ],
             [
              0.1111111111111111,
              "#46039f"
             ],
             [
              0.2222222222222222,
              "#7201a8"
             ],
             [
              0.3333333333333333,
              "#9c179e"
             ],
             [
              0.4444444444444444,
              "#bd3786"
             ],
             [
              0.5555555555555556,
              "#d8576b"
             ],
             [
              0.6666666666666666,
              "#ed7953"
             ],
             [
              0.7777777777777778,
              "#fb9f3a"
             ],
             [
              0.8888888888888888,
              "#fdca26"
             ],
             [
              1,
              "#f0f921"
             ]
            ],
            "type": "surface"
           }
          ],
          "table": [
           {
            "cells": {
             "fill": {
              "color": "#EBF0F8"
             },
             "line": {
              "color": "white"
             }
            },
            "header": {
             "fill": {
              "color": "#C8D4E3"
             },
             "line": {
              "color": "white"
             }
            },
            "type": "table"
           }
          ]
         },
         "layout": {
          "annotationdefaults": {
           "arrowcolor": "#2a3f5f",
           "arrowhead": 0,
           "arrowwidth": 1
          },
          "autotypenumbers": "strict",
          "coloraxis": {
           "colorbar": {
            "outlinewidth": 0,
            "ticks": ""
           }
          },
          "colorscale": {
           "diverging": [
            [
             0,
             "#8e0152"
            ],
            [
             0.1,
             "#c51b7d"
            ],
            [
             0.2,
             "#de77ae"
            ],
            [
             0.3,
             "#f1b6da"
            ],
            [
             0.4,
             "#fde0ef"
            ],
            [
             0.5,
             "#f7f7f7"
            ],
            [
             0.6,
             "#e6f5d0"
            ],
            [
             0.7,
             "#b8e186"
            ],
            [
             0.8,
             "#7fbc41"
            ],
            [
             0.9,
             "#4d9221"
            ],
            [
             1,
             "#276419"
            ]
           ],
           "sequential": [
            [
             0,
             "#0d0887"
            ],
            [
             0.1111111111111111,
             "#46039f"
            ],
            [
             0.2222222222222222,
             "#7201a8"
            ],
            [
             0.3333333333333333,
             "#9c179e"
            ],
            [
             0.4444444444444444,
             "#bd3786"
            ],
            [
             0.5555555555555556,
             "#d8576b"
            ],
            [
             0.6666666666666666,
             "#ed7953"
            ],
            [
             0.7777777777777778,
             "#fb9f3a"
            ],
            [
             0.8888888888888888,
             "#fdca26"
            ],
            [
             1,
             "#f0f921"
            ]
           ],
           "sequentialminus": [
            [
             0,
             "#0d0887"
            ],
            [
             0.1111111111111111,
             "#46039f"
            ],
            [
             0.2222222222222222,
             "#7201a8"
            ],
            [
             0.3333333333333333,
             "#9c179e"
            ],
            [
             0.4444444444444444,
             "#bd3786"
            ],
            [
             0.5555555555555556,
             "#d8576b"
            ],
            [
             0.6666666666666666,
             "#ed7953"
            ],
            [
             0.7777777777777778,
             "#fb9f3a"
            ],
            [
             0.8888888888888888,
             "#fdca26"
            ],
            [
             1,
             "#f0f921"
            ]
           ]
          },
          "colorway": [
           "#636efa",
           "#EF553B",
           "#00cc96",
           "#ab63fa",
           "#FFA15A",
           "#19d3f3",
           "#FF6692",
           "#B6E880",
           "#FF97FF",
           "#FECB52"
          ],
          "font": {
           "color": "#2a3f5f"
          },
          "geo": {
           "bgcolor": "white",
           "lakecolor": "white",
           "landcolor": "#E5ECF6",
           "showlakes": true,
           "showland": true,
           "subunitcolor": "white"
          },
          "hoverlabel": {
           "align": "left"
          },
          "hovermode": "closest",
          "mapbox": {
           "style": "light"
          },
          "paper_bgcolor": "white",
          "plot_bgcolor": "#E5ECF6",
          "polar": {
           "angularaxis": {
            "gridcolor": "white",
            "linecolor": "white",
            "ticks": ""
           },
           "bgcolor": "#E5ECF6",
           "radialaxis": {
            "gridcolor": "white",
            "linecolor": "white",
            "ticks": ""
           }
          },
          "scene": {
           "xaxis": {
            "backgroundcolor": "#E5ECF6",
            "gridcolor": "white",
            "gridwidth": 2,
            "linecolor": "white",
            "showbackground": true,
            "ticks": "",
            "zerolinecolor": "white"
           },
           "yaxis": {
            "backgroundcolor": "#E5ECF6",
            "gridcolor": "white",
            "gridwidth": 2,
            "linecolor": "white",
            "showbackground": true,
            "ticks": "",
            "zerolinecolor": "white"
           },
           "zaxis": {
            "backgroundcolor": "#E5ECF6",
            "gridcolor": "white",
            "gridwidth": 2,
            "linecolor": "white",
            "showbackground": true,
            "ticks": "",
            "zerolinecolor": "white"
           }
          },
          "shapedefaults": {
           "line": {
            "color": "#2a3f5f"
           }
          },
          "ternary": {
           "aaxis": {
            "gridcolor": "white",
            "linecolor": "white",
            "ticks": ""
           },
           "baxis": {
            "gridcolor": "white",
            "linecolor": "white",
            "ticks": ""
           },
           "bgcolor": "#E5ECF6",
           "caxis": {
            "gridcolor": "white",
            "linecolor": "white",
            "ticks": ""
           }
          },
          "title": {
           "x": 0.05
          },
          "xaxis": {
           "automargin": true,
           "gridcolor": "white",
           "linecolor": "white",
           "ticks": "",
           "title": {
            "standoff": 15
           },
           "zerolinecolor": "white",
           "zerolinewidth": 2
          },
          "yaxis": {
           "automargin": true,
           "gridcolor": "white",
           "linecolor": "white",
           "ticks": "",
           "title": {
            "standoff": 15
           },
           "zerolinecolor": "white",
           "zerolinewidth": 2
          }
         }
        },
        "title": {
         "text": "Best Data Science jobs"
        },
        "xaxis": {
         "anchor": "y",
         "domain": [
          0,
          1
         ],
         "title": {
          "text": "Job titles"
         }
        },
        "yaxis": {
         "anchor": "x",
         "domain": [
          0,
          1
         ],
         "title": {
          "text": "Count"
         }
        }
       }
      }
     },
     "metadata": {},
     "output_type": "display_data"
    }
   ],
   "source": [
    "fig = px.bar(x = best_ds_jobs.index, y = best_ds_jobs.values, text = best_ds_jobs.values,\n",
    "             title = 'Best Data Science jobs')\n",
    "fig.update_layout(xaxis_title = 'Job titles', yaxis_title = 'Count')\n",
    "\n",
    "fig.show()"
   ]
  },
  {
   "cell_type": "markdown",
   "metadata": {},
   "source": [
    "WHAT WE KNOW:\n",
    "- The top three DS jobs are: Data Engineer > Data Scientist > Data Analyst."
   ]
  },
  {
   "cell_type": "markdown",
   "metadata": {},
   "source": [
    "#### Types of Employment\n",
    "\n",
    "What we have in employment_type:\n",
    "\n",
    "- FT = Full-Time\n",
    "- PT = Part-Time\n",
    "- CT = Contract\n",
    "- FL = Freelance\n",
    "\n",
    "Renaming the acronyms to full:"
   ]
  },
  {
   "cell_type": "code",
   "execution_count": 10,
   "metadata": {},
   "outputs": [],
   "source": [
    "df_ds['employment_type'] = df_ds['employment_type'].replace('FT', 'Full-Time')\n",
    "df_ds['employment_type'] = df_ds['employment_type'].replace('PT', 'Part-Time')\n",
    "df_ds['employment_type'] = df_ds['employment_type'].replace('CT', 'Contract')\n",
    "df_ds['employment_type'] = df_ds['employment_type'].replace('FL', 'Freelance')"
   ]
  },
  {
   "cell_type": "code",
   "execution_count": 11,
   "metadata": {},
   "outputs": [
    {
     "data": {
      "image/png": "[encoded data removed]",
      "text/plain": [
       "<Figure size 640x480 with 1 Axes>"
      ]
     },
     "metadata": {},
     "output_type": "display_data"
    }
   ],
   "source": [
    "#### Using Seaborn to create a bar chart showing the employment type distributions\n",
    "\n",
    "employment = df_ds['employment_type'].value_counts()\n",
    "\n",
    "g = sns.barplot(x = employment.index, y = employment.values, hue = employment.index, legend = True)\n",
    "\n",
    "g.set_title('Type of Employment')\n",
    "g.set_xlabel('Employment Type')\n",
    "g.set_ylabel('Count')\n",
    "\n",
    "# Showing Bar graph values:\n",
    "for i in g.containers:\n",
    "    g.bar_label(i,)\n"
   ]
  },
  {
   "cell_type": "markdown",
   "metadata": {},
   "source": [
    "WHAT WE KNOW:\n",
    "- The above bar chart tells us that majority of employees are working **Full-time**.\n"
   ]
  },
  {
   "cell_type": "markdown",
   "metadata": {},
   "source": [
    "#### Company Sizes:\n",
    "\n",
    "In company_sizes, there are:\n",
    "\n",
    "- Small = S\n",
    "- Medium = M\n",
    "- Large = L"
   ]
  },
  {
   "cell_type": "code",
   "execution_count": 12,
   "metadata": {},
   "outputs": [
    {
     "data": {
      "application/vnd.plotly.v1+json": {
       "config": {
        "plotlyServerURL": "https://plot.ly"
       },
       "data": [
        {
         "alignmentgroup": "True",
         "hovertemplate": "color=M<br>x=%{x}<br>y=%{y}<br>text=%{text}<extra></extra>",
         "legendgroup": "M",
         "marker": {
          "color": "#636efa",
          "pattern": {
           "shape": ""
          }
         },
         "name": "M",
         "offsetgroup": "M",
         "orientation": "v",
         "showlegend": true,
         "text": [
          3153
         ],
         "textposition": "auto",
         "type": "bar",
         "x": [
          "M"
         ],
         "xaxis": "x",
         "y": [
          3153
         ],
         "yaxis": "y"
        },
        {
         "alignmentgroup": "True",
         "hovertemplate": "color=L<br>x=%{x}<br>y=%{y}<br>text=%{text}<extra></extra>",
         "legendgroup": "L",
         "marker": {
          "color": "#EF553B",
          "pattern": {
           "shape": ""
          }
         },
         "name": "L",
         "offsetgroup": "L",
         "orientation": "v",
         "showlegend": true,
         "text": [
          454
         ],
         "textposition": "auto",
         "type": "bar",
         "x": [
          "L"
         ],
         "xaxis": "x",
         "y": [
          454
         ],
         "yaxis": "y"
        },
        {
         "alignmentgroup": "True",
         "hovertemplate": "color=S<br>x=%{x}<br>y=%{y}<br>text=%{text}<extra></extra>",
         "legendgroup": "S",
         "marker": {
          "color": "#00cc96",
          "pattern": {
           "shape": ""
          }
         },
         "name": "S",
         "offsetgroup": "S",
         "orientation": "v",
         "showlegend": true,
         "text": [
          148
         ],
         "textposition": "auto",
         "type": "bar",
         "x": [
          "S"
         ],
         "xaxis": "x",
         "y": [
          148
         ],
         "yaxis": "y"
        }
       ],
       "layout": {
        "barmode": "relative",
        "legend": {
         "title": {
          "text": "color"
         },
         "tracegroupgap": 0
        },
        "template": {
         "data": {
          "bar": [
           {
            "error_x": {
             "color": "#2a3f5f"
            },
            "error_y": {
             "color": "#2a3f5f"
            },
            "marker": {
             "line": {
              "color": "#E5ECF6",
              "width": 0.5
             },
             "pattern": {
              "fillmode": "overlay",
              "size": 10,
              "solidity": 0.2
             }
            },
            "type": "bar"
           }
          ],
          "barpolar": [
           {
            "marker": {
             "line": {
              "color": "#E5ECF6",
              "width": 0.5
             },
             "pattern": {
              "fillmode": "overlay",
              "size": 10,
              "solidity": 0.2
             }
            },
            "type": "barpolar"
           }
          ],
          "carpet": [
           {
            "aaxis": {
             "endlinecolor": "#2a3f5f",
             "gridcolor": "white",
             "linecolor": "white",
             "minorgridcolor": "white",
             "startlinecolor": "#2a3f5f"
            },
            "baxis": {
             "endlinecolor": "#2a3f5f",
             "gridcolor": "white",
             "linecolor": "white",
             "minorgridcolor": "white",
             "startlinecolor": "#2a3f5f"
            },
            "type": "carpet"
           }
          ],
          "choropleth": [
           {
            "colorbar": {
             "outlinewidth": 0,
             "ticks": ""
            },
            "type": "choropleth"
           }
          ],
          "contour": [
           {
            "colorbar": {
             "outlinewidth": 0,
             "ticks": ""
            },
            "colorscale": [
             [
              0,
              "#0d0887"
             ],
             [
              0.1111111111111111,
              "#46039f"
             ],
             [
              0.2222222222222222,
              "#7201a8"
             ],
             [
              0.3333333333333333,
              "#9c179e"
             ],
             [
              0.4444444444444444,
              "#bd3786"
             ],
             [
              0.5555555555555556,
              "#d8576b"
             ],
             [
              0.6666666666666666,
              "#ed7953"
             ],
             [
              0.7777777777777778,
              "#fb9f3a"
             ],
             [
              0.8888888888888888,
              "#fdca26"
             ],
             [
              1,
              "#f0f921"
             ]
            ],
            "type": "contour"
           }
          ],
          "contourcarpet": [
           {
            "colorbar": {
             "outlinewidth": 0,
             "ticks": ""
            },
            "type": "contourcarpet"
           }
          ],
          "heatmap": [
           {
            "colorbar": {
             "outlinewidth": 0,
             "ticks": ""
            },
            "colorscale": [
             [
              0,
              "#0d0887"
             ],
             [
              0.1111111111111111,
              "#46039f"
             ],
             [
              0.2222222222222222,
              "#7201a8"
             ],
             [
              0.3333333333333333,
              "#9c179e"
             ],
             [
              0.4444444444444444,
              "#bd3786"
             ],
             [
              0.5555555555555556,
              "#d8576b"
             ],
             [
              0.6666666666666666,
              "#ed7953"
             ],
             [
              0.7777777777777778,
              "#fb9f3a"
             ],
             [
              0.8888888888888888,
              "#fdca26"
             ],
             [
              1,
              "#f0f921"
             ]
            ],
            "type": "heatmap"
           }
          ],
          "heatmapgl": [
           {
            "colorbar": {
             "outlinewidth": 0,
             "ticks": ""
            },
            "colorscale": [
             [
              0,
              "#0d0887"
             ],
             [
              0.1111111111111111,
              "#46039f"
             ],
             [
              0.2222222222222222,
              "#7201a8"
             ],
             [
              0.3333333333333333,
              "#9c179e"
             ],
             [
              0.4444444444444444,
              "#bd3786"
             ],
             [
              0.5555555555555556,
              "#d8576b"
             ],
             [
              0.6666666666666666,
              "#ed7953"
             ],
             [
              0.7777777777777778,
              "#fb9f3a"
             ],
             [
              0.8888888888888888,
              "#fdca26"
             ],
             [
              1,
              "#f0f921"
             ]
            ],
            "type": "heatmapgl"
           }
          ],
          "histogram": [
           {
            "marker": {
             "pattern": {
              "fillmode": "overlay",
              "size": 10,
              "solidity": 0.2
             }
            },
            "type": "histogram"
           }
          ],
          "histogram2d": [
           {
            "colorbar": {
             "outlinewidth": 0,
             "ticks": ""
            },
            "colorscale": [
             [
              0,
              "#0d0887"
             ],
             [
              0.1111111111111111,
              "#46039f"
             ],
             [
              0.2222222222222222,
              "#7201a8"
             ],
             [
              0.3333333333333333,
              "#9c179e"
             ],
             [
              0.4444444444444444,
              "#bd3786"
             ],
             [
              0.5555555555555556,
              "#d8576b"
             ],
             [
              0.6666666666666666,
              "#ed7953"
             ],
             [
              0.7777777777777778,
              "#fb9f3a"
             ],
             [
              0.8888888888888888,
              "#fdca26"
             ],
             [
              1,
              "#f0f921"
             ]
            ],
            "type": "histogram2d"
           }
          ],
          "histogram2dcontour": [
           {
            "colorbar": {
             "outlinewidth": 0,
             "ticks": ""
            },
            "colorscale": [
             [
              0,
              "#0d0887"
             ],
             [
              0.1111111111111111,
              "#46039f"
             ],
             [
              0.2222222222222222,
              "#7201a8"
             ],
             [
              0.3333333333333333,
              "#9c179e"
             ],
             [
              0.4444444444444444,
              "#bd3786"
             ],
             [
              0.5555555555555556,
              "#d8576b"
             ],
             [
              0.6666666666666666,
              "#ed7953"
             ],
             [
              0.7777777777777778,
              "#fb9f3a"
             ],
             [
              0.8888888888888888,
              "#fdca26"
             ],
             [
              1,
              "#f0f921"
             ]
            ],
            "type": "histogram2dcontour"
           }
          ],
          "mesh3d": [
           {
            "colorbar": {
             "outlinewidth": 0,
             "ticks": ""
            },
            "type": "mesh3d"
           }
          ],
          "parcoords": [
           {
            "line": {
             "colorbar": {
              "outlinewidth": 0,
              "ticks": ""
             }
            },
            "type": "parcoords"
           }
          ],
          "pie": [
           {
            "automargin": true,
            "type": "pie"
           }
          ],
          "scatter": [
           {
            "fillpattern": {
             "fillmode": "overlay",
             "size": 10,
             "solidity": 0.2
            },
            "type": "scatter"
           }
          ],
          "scatter3d": [
           {
            "line": {
             "colorbar": {
              "outlinewidth": 0,
              "ticks": ""
             }
            },
            "marker": {
             "colorbar": {
              "outlinewidth": 0,
              "ticks": ""
             }
            },
            "type": "scatter3d"
           }
          ],
          "scattercarpet": [
           {
            "marker": {
             "colorbar": {
              "outlinewidth": 0,
              "ticks": ""
             }
            },
            "type": "scattercarpet"
           }
          ],
          "scattergeo": [
           {
            "marker": {
             "colorbar": {
              "outlinewidth": 0,
              "ticks": ""
             }
            },
            "type": "scattergeo"
           }
          ],
          "scattergl": [
           {
            "marker": {
             "colorbar": {
              "outlinewidth": 0,
              "ticks": ""
             }
            },
            "type": "scattergl"
           }
          ],
          "scattermapbox": [
           {
            "marker": {
             "colorbar": {
              "outlinewidth": 0,
              "ticks": ""
             }
            },
            "type": "scattermapbox"
           }
          ],
          "scatterpolar": [
           {
            "marker": {
             "colorbar": {
              "outlinewidth": 0,
              "ticks": ""
             }
            },
            "type": "scatterpolar"
           }
          ],
          "scatterpolargl": [
           {
            "marker": {
             "colorbar": {
              "outlinewidth": 0,
              "ticks": ""
             }
            },
            "type": "scatterpolargl"
           }
          ],
          "scatterternary": [
           {
            "marker": {
             "colorbar": {
              "outlinewidth": 0,
              "ticks": ""
             }
            },
            "type": "scatterternary"
           }
          ],
          "surface": [
           {
            "colorbar": {
             "outlinewidth": 0,
             "ticks": ""
            },
            "colorscale": [
             [
              0,
              "#0d0887"
             ],
             [
              0.1111111111111111,
              "#46039f"
             ],
             [
              0.2222222222222222,
              "#7201a8"
             ],
             [
              0.3333333333333333,
              "#9c179e"
             ],
             [
              0.4444444444444444,
              "#bd3786"
             ],
             [
              0.5555555555555556,
              "#d8576b"
             ],
             [
              0.6666666666666666,
              "#ed7953"
             ],
             [
              0.7777777777777778,
              "#fb9f3a"
             ],
             [
              0.8888888888888888,
              "#fdca26"
             ],
             [
              1,
              "#f0f921"
             ]
            ],
            "type": "surface"
           }
          ],
          "table": [
           {
            "cells": {
             "fill": {
              "color": "#EBF0F8"
             },
             "line": {
              "color": "white"
             }
            },
            "header": {
             "fill": {
              "color": "#C8D4E3"
             },
             "line": {
              "color": "white"
             }
            },
            "type": "table"
           }
          ]
         },
         "layout": {
          "annotationdefaults": {
           "arrowcolor": "#2a3f5f",
           "arrowhead": 0,
           "arrowwidth": 1
          },
          "autotypenumbers": "strict",
          "coloraxis": {
           "colorbar": {
            "outlinewidth": 0,
            "ticks": ""
           }
          },
          "colorscale": {
           "diverging": [
            [
             0,
             "#8e0152"
            ],
            [
             0.1,
             "#c51b7d"
            ],
            [
             0.2,
             "#de77ae"
            ],
            [
             0.3,
             "#f1b6da"
            ],
            [
             0.4,
             "#fde0ef"
            ],
            [
             0.5,
             "#f7f7f7"
            ],
            [
             0.6,
             "#e6f5d0"
            ],
            [
             0.7,
             "#b8e186"
            ],
            [
             0.8,
             "#7fbc41"
            ],
            [
             0.9,
             "#4d9221"
            ],
            [
             1,
             "#276419"
            ]
           ],
           "sequential": [
            [
             0,
             "#0d0887"
            ],
            [
             0.1111111111111111,
             "#46039f"
            ],
            [
             0.2222222222222222,
             "#7201a8"
            ],
            [
             0.3333333333333333,
             "#9c179e"
            ],
            [
             0.4444444444444444,
             "#bd3786"
            ],
            [
             0.5555555555555556,
             "#d8576b"
            ],
            [
             0.6666666666666666,
             "#ed7953"
            ],
            [
             0.7777777777777778,
             "#fb9f3a"
            ],
            [
             0.8888888888888888,
             "#fdca26"
            ],
            [
             1,
             "#f0f921"
            ]
           ],
           "sequentialminus": [
            [
             0,
             "#0d0887"
            ],
            [
             0.1111111111111111,
             "#46039f"
            ],
            [
             0.2222222222222222,
             "#7201a8"
            ],
            [
             0.3333333333333333,
             "#9c179e"
            ],
            [
             0.4444444444444444,
             "#bd3786"
            ],
            [
             0.5555555555555556,
             "#d8576b"
            ],
            [
             0.6666666666666666,
             "#ed7953"
            ],
            [
             0.7777777777777778,
             "#fb9f3a"
            ],
            [
             0.8888888888888888,
             "#fdca26"
            ],
            [
             1,
             "#f0f921"
            ]
           ]
          },
          "colorway": [
           "#636efa",
           "#EF553B",
           "#00cc96",
           "#ab63fa",
           "#FFA15A",
           "#19d3f3",
           "#FF6692",
           "#B6E880",
           "#FF97FF",
           "#FECB52"
          ],
          "font": {
           "color": "#2a3f5f"
          },
          "geo": {
           "bgcolor": "white",
           "lakecolor": "white",
           "landcolor": "#E5ECF6",
           "showlakes": true,
           "showland": true,
           "subunitcolor": "white"
          },
          "hoverlabel": {
           "align": "left"
          },
          "hovermode": "closest",
          "mapbox": {
           "style": "light"
          },
          "paper_bgcolor": "white",
          "plot_bgcolor": "#E5ECF6",
          "polar": {
           "angularaxis": {
            "gridcolor": "white",
            "linecolor": "white",
            "ticks": ""
           },
           "bgcolor": "#E5ECF6",
           "radialaxis": {
            "gridcolor": "white",
            "linecolor": "white",
            "ticks": ""
           }
          },
          "scene": {
           "xaxis": {
            "backgroundcolor": "#E5ECF6",
            "gridcolor": "white",
            "gridwidth": 2,
            "linecolor": "white",
            "showbackground": true,
            "ticks": "",
            "zerolinecolor": "white"
           },
           "yaxis": {
            "backgroundcolor": "#E5ECF6",
            "gridcolor": "white",
            "gridwidth": 2,
            "linecolor": "white",
            "showbackground": true,
            "ticks": "",
            "zerolinecolor": "white"
           },
           "zaxis": {
            "backgroundcolor": "#E5ECF6",
            "gridcolor": "white",
            "gridwidth": 2,
            "linecolor": "white",
            "showbackground": true,
            "ticks": "",
            "zerolinecolor": "white"
           }
          },
          "shapedefaults": {
           "line": {
            "color": "#2a3f5f"
           }
          },
          "ternary": {
           "aaxis": {
            "gridcolor": "white",
            "linecolor": "white",
            "ticks": ""
           },
           "baxis": {
            "gridcolor": "white",
            "linecolor": "white",
            "ticks": ""
           },
           "bgcolor": "#E5ECF6",
           "caxis": {
            "gridcolor": "white",
            "linecolor": "white",
            "ticks": ""
           }
          },
          "title": {
           "x": 0.05
          },
          "xaxis": {
           "automargin": true,
           "gridcolor": "white",
           "linecolor": "white",
           "ticks": "",
           "title": {
            "standoff": 15
           },
           "zerolinecolor": "white",
           "zerolinewidth": 2
          },
          "yaxis": {
           "automargin": true,
           "gridcolor": "white",
           "linecolor": "white",
           "ticks": "",
           "title": {
            "standoff": 15
           },
           "zerolinecolor": "white",
           "zerolinewidth": 2
          }
         }
        },
        "title": {
         "text": "Distribution of Company Sizes"
        },
        "xaxis": {
         "anchor": "y",
         "categoryarray": [
          "S",
          "M",
          "L"
         ],
         "categoryorder": "array",
         "domain": [
          0,
          1
         ],
         "title": {
          "text": "Company Size"
         }
        },
        "yaxis": {
         "anchor": "x",
         "domain": [
          0,
          1
         ],
         "title": {
          "text": "Count"
         }
        }
       }
      }
     },
     "metadata": {},
     "output_type": "display_data"
    }
   ],
   "source": [
    "comp_size = df_ds['company_size'].value_counts()\n",
    "\n",
    "fig = px.bar(x = comp_size.index, y = comp_size.values, text = comp_size.values, color = comp_size.index,\n",
    "             title = 'Distribution of Company Sizes')\n",
    "\n",
    "fig.update_layout(xaxis_title = 'Company Size', yaxis_title = 'Count')\n",
    "\n",
    "## Arranging the order of `company_size` in normal order\n",
    "fig.update_xaxes(categoryorder='array', categoryarray= ['S', 'M', 'L'])\n",
    "fig.show()"
   ]
  },
  {
   "cell_type": "markdown",
   "metadata": {},
   "source": [
    "WHAT WE KNOW:\n",
    "- There are many Medium sized companies with DS jobs. Only small proportion of Large and Small companies have/offer DS jobs."
   ]
  },
  {
   "cell_type": "markdown",
   "metadata": {},
   "source": [
    "#### Company Location && Employee Locations\n",
    "\n",
    "The column `employee_residence` contains employee's country of residence as an ISO 3166 country code. Therefore, we convert this using country_converter library and visualize them on a map:"
   ]
  },
  {
   "cell_type": "code",
   "execution_count": 13,
   "metadata": {},
   "outputs": [],
   "source": [
    "#### Converting the employee residence:\n",
    "\n",
    "df_ds['employee_residence'] = cc.convert(names = df_ds['employee_residence'], to = 'ISO3')\n"
   ]
  },
  {
   "cell_type": "code",
   "execution_count": 14,
   "metadata": {},
   "outputs": [
    {
     "data": {
      "application/vnd.plotly.v1+json": {
       "config": {
        "plotlyServerURL": "https://plot.ly"
       },
       "data": [
        {
         "coloraxis": "coloraxis",
         "geo": "geo",
         "hovertemplate": "locations=%{location}<br>color=%{z}<extra></extra>",
         "locations": [
          "USA",
          "GBR",
          "CAN",
          "ESP",
          "IND",
          "DEU",
          "FRA",
          "PRT",
          "BRA",
          "GRC",
          "NLD",
          "AUS",
          "MEX",
          "ITA",
          "PAK",
          "JPN",
          "IRL",
          "NGA",
          "AUT",
          "ARG",
          "POL",
          "PRI",
          "TUR",
          "BEL",
          "SGP",
          "RUS",
          "LVA",
          "UKR",
          "COL",
          "CHE",
          "SVN",
          "BOL",
          "DNK",
          "HRV",
          "HUN",
          "ROU",
          "THA",
          "ARE",
          "VNM",
          "HKG",
          "UZB",
          "PHL",
          "CAF",
          "CHL",
          "FIN",
          "CZE",
          "SWE",
          "ASM",
          "LTU",
          "GHA",
          "KEN",
          "DZA",
          "NZL",
          "JEY",
          "MYS",
          "MDA",
          "IRQ",
          "BGR",
          "LUX",
          "SRB",
          "HND",
          "EST",
          "TUN",
          "CRI",
          "IDN",
          "EGY",
          "DOM",
          "CHN",
          "SVK",
          "IRN",
          "MAR",
          "ISR",
          "MKD",
          "BIH",
          "ARM",
          "CYP",
          "KWT",
          "MLT"
         ],
         "name": "",
         "type": "choropleth",
         "z": [
          3004,
          167,
          85,
          80,
          71,
          48,
          38,
          18,
          18,
          16,
          15,
          11,
          10,
          8,
          8,
          7,
          7,
          7,
          6,
          6,
          6,
          5,
          5,
          5,
          5,
          4,
          4,
          4,
          4,
          4,
          4,
          3,
          3,
          3,
          3,
          3,
          3,
          3,
          3,
          2,
          2,
          2,
          2,
          2,
          2,
          2,
          2,
          2,
          2,
          2,
          2,
          1,
          1,
          1,
          1,
          1,
          1,
          1,
          1,
          1,
          1,
          1,
          1,
          1,
          1,
          1,
          1,
          1,
          1,
          1,
          1,
          1,
          1,
          1,
          1,
          1,
          1,
          1
         ]
        }
       ],
       "layout": {
        "coloraxis": {
         "colorbar": {
          "title": {
           "text": "color"
          }
         },
         "colorscale": [
          [
           0,
           "rgb(247,252,245)"
          ],
          [
           0.125,
           "rgb(229,245,224)"
          ],
          [
           0.25,
           "rgb(199,233,192)"
          ],
          [
           0.375,
           "rgb(161,217,155)"
          ],
          [
           0.5,
           "rgb(116,196,118)"
          ],
          [
           0.625,
           "rgb(65,171,93)"
          ],
          [
           0.75,
           "rgb(35,139,69)"
          ],
          [
           0.875,
           "rgb(0,109,44)"
          ],
          [
           1,
           "rgb(0,68,27)"
          ]
         ]
        },
        "geo": {
         "center": {},
         "domain": {
          "x": [
           0,
           1
          ],
          "y": [
           0,
           1
          ]
         }
        },
        "legend": {
         "tracegroupgap": 0
        },
        "template": {
         "data": {
          "bar": [
           {
            "error_x": {
             "color": "#2a3f5f"
            },
            "error_y": {
             "color": "#2a3f5f"
            },
            "marker": {
             "line": {
              "color": "#E5ECF6",
              "width": 0.5
             },
             "pattern": {
              "fillmode": "overlay",
              "size": 10,
              "solidity": 0.2
             }
            },
            "type": "bar"
           }
          ],
          "barpolar": [
           {
            "marker": {
             "line": {
              "color": "#E5ECF6",
              "width": 0.5
             },
             "pattern": {
              "fillmode": "overlay",
              "size": 10,
              "solidity": 0.2
             }
            },
            "type": "barpolar"
           }
          ],
          "carpet": [
           {
            "aaxis": {
             "endlinecolor": "#2a3f5f",
             "gridcolor": "white",
             "linecolor": "white",
             "minorgridcolor": "white",
             "startlinecolor": "#2a3f5f"
            },
            "baxis": {
             "endlinecolor": "#2a3f5f",
             "gridcolor": "white",
             "linecolor": "white",
             "minorgridcolor": "white",
             "startlinecolor": "#2a3f5f"
            },
            "type": "carpet"
           }
          ],
          "choropleth": [
           {
            "colorbar": {
             "outlinewidth": 0,
             "ticks": ""
            },
            "type": "choropleth"
           }
          ],
          "contour": [
           {
            "colorbar": {
             "outlinewidth": 0,
             "ticks": ""
            },
            "colorscale": [
             [
              0,
              "#0d0887"
             ],
             [
              0.1111111111111111,
              "#46039f"
             ],
             [
              0.2222222222222222,
              "#7201a8"
             ],
             [
              0.3333333333333333,
              "#9c179e"
             ],
             [
              0.4444444444444444,
              "#bd3786"
             ],
             [
              0.5555555555555556,
              "#d8576b"
             ],
             [
              0.6666666666666666,
              "#ed7953"
             ],
             [
              0.7777777777777778,
              "#fb9f3a"
             ],
             [
              0.8888888888888888,
              "#fdca26"
             ],
             [
              1,
              "#f0f921"
             ]
            ],
            "type": "contour"
           }
          ],
          "contourcarpet": [
           {
            "colorbar": {
             "outlinewidth": 0,
             "ticks": ""
            },
            "type": "contourcarpet"
           }
          ],
          "heatmap": [
           {
            "colorbar": {
             "outlinewidth": 0,
             "ticks": ""
            },
            "colorscale": [
             [
              0,
              "#0d0887"
             ],
             [
              0.1111111111111111,
              "#46039f"
             ],
             [
              0.2222222222222222,
              "#7201a8"
             ],
             [
              0.3333333333333333,
              "#9c179e"
             ],
             [
              0.4444444444444444,
              "#bd3786"
             ],
             [
              0.5555555555555556,
              "#d8576b"
             ],
             [
              0.6666666666666666,
              "#ed7953"
             ],
             [
              0.7777777777777778,
              "#fb9f3a"
             ],
             [
              0.8888888888888888,
              "#fdca26"
             ],
             [
              1,
              "#f0f921"
             ]
            ],
            "type": "heatmap"
           }
          ],
          "heatmapgl": [
           {
            "colorbar": {
             "outlinewidth": 0,
             "ticks": ""
            },
            "colorscale": [
             [
              0,
              "#0d0887"
             ],
             [
              0.1111111111111111,
              "#46039f"
             ],
             [
              0.2222222222222222,
              "#7201a8"
             ],
             [
              0.3333333333333333,
              "#9c179e"
             ],
             [
              0.4444444444444444,
              "#bd3786"
             ],
             [
              0.5555555555555556,
              "#d8576b"
             ],
             [
              0.6666666666666666,
              "#ed7953"
             ],
             [
              0.7777777777777778,
              "#fb9f3a"
             ],
             [
              0.8888888888888888,
              "#fdca26"
             ],
             [
              1,
              "#f0f921"
             ]
            ],
            "type": "heatmapgl"
           }
          ],
          "histogram": [
           {
            "marker": {
             "pattern": {
              "fillmode": "overlay",
              "size": 10,
              "solidity": 0.2
             }
            },
            "type": "histogram"
           }
          ],
          "histogram2d": [
           {
            "colorbar": {
             "outlinewidth": 0,
             "ticks": ""
            },
            "colorscale": [
             [
              0,
              "#0d0887"
             ],
             [
              0.1111111111111111,
              "#46039f"
             ],
             [
              0.2222222222222222,
              "#7201a8"
             ],
             [
              0.3333333333333333,
              "#9c179e"
             ],
             [
              0.4444444444444444,
              "#bd3786"
             ],
             [
              0.5555555555555556,
              "#d8576b"
             ],
             [
              0.6666666666666666,
              "#ed7953"
             ],
             [
              0.7777777777777778,
              "#fb9f3a"
             ],
             [
              0.8888888888888888,
              "#fdca26"
             ],
             [
              1,
              "#f0f921"
             ]
            ],
            "type": "histogram2d"
           }
          ],
          "histogram2dcontour": [
           {
            "colorbar": {
             "outlinewidth": 0,
             "ticks": ""
            },
            "colorscale": [
             [
              0,
              "#0d0887"
             ],
             [
              0.1111111111111111,
              "#46039f"
             ],
             [
              0.2222222222222222,
              "#7201a8"
             ],
             [
              0.3333333333333333,
              "#9c179e"
             ],
             [
              0.4444444444444444,
              "#bd3786"
             ],
             [
              0.5555555555555556,
              "#d8576b"
             ],
             [
              0.6666666666666666,
              "#ed7953"
             ],
             [
              0.7777777777777778,
              "#fb9f3a"
             ],
             [
              0.8888888888888888,
              "#fdca26"
             ],
             [
              1,
              "#f0f921"
             ]
            ],
            "type": "histogram2dcontour"
           }
          ],
          "mesh3d": [
           {
            "colorbar": {
             "outlinewidth": 0,
             "ticks": ""
            },
            "type": "mesh3d"
           }
          ],
          "parcoords": [
           {
            "line": {
             "colorbar": {
              "outlinewidth": 0,
              "ticks": ""
             }
            },
            "type": "parcoords"
           }
          ],
          "pie": [
           {
            "automargin": true,
            "type": "pie"
           }
          ],
          "scatter": [
           {
            "fillpattern": {
             "fillmode": "overlay",
             "size": 10,
             "solidity": 0.2
            },
            "type": "scatter"
           }
          ],
          "scatter3d": [
           {
            "line": {
             "colorbar": {
              "outlinewidth": 0,
              "ticks": ""
             }
            },
            "marker": {
             "colorbar": {
              "outlinewidth": 0,
              "ticks": ""
             }
            },
            "type": "scatter3d"
           }
          ],
          "scattercarpet": [
           {
            "marker": {
             "colorbar": {
              "outlinewidth": 0,
              "ticks": ""
             }
            },
            "type": "scattercarpet"
           }
          ],
          "scattergeo": [
           {
            "marker": {
             "colorbar": {
              "outlinewidth": 0,
              "ticks": ""
             }
            },
            "type": "scattergeo"
           }
          ],
          "scattergl": [
           {
            "marker": {
             "colorbar": {
              "outlinewidth": 0,
              "ticks": ""
             }
            },
            "type": "scattergl"
           }
          ],
          "scattermapbox": [
           {
            "marker": {
             "colorbar": {
              "outlinewidth": 0,
              "ticks": ""
             }
            },
            "type": "scattermapbox"
           }
          ],
          "scatterpolar": [
           {
            "marker": {
             "colorbar": {
              "outlinewidth": 0,
              "ticks": ""
             }
            },
            "type": "scatterpolar"
           }
          ],
          "scatterpolargl": [
           {
            "marker": {
             "colorbar": {
              "outlinewidth": 0,
              "ticks": ""
             }
            },
            "type": "scatterpolargl"
           }
          ],
          "scatterternary": [
           {
            "marker": {
             "colorbar": {
              "outlinewidth": 0,
              "ticks": ""
             }
            },
            "type": "scatterternary"
           }
          ],
          "surface": [
           {
            "colorbar": {
             "outlinewidth": 0,
             "ticks": ""
            },
            "colorscale": [
             [
              0,
              "#0d0887"
             ],
             [
              0.1111111111111111,
              "#46039f"
             ],
             [
              0.2222222222222222,
              "#7201a8"
             ],
             [
              0.3333333333333333,
              "#9c179e"
             ],
             [
              0.4444444444444444,
              "#bd3786"
             ],
             [
              0.5555555555555556,
              "#d8576b"
             ],
             [
              0.6666666666666666,
              "#ed7953"
             ],
             [
              0.7777777777777778,
              "#fb9f3a"
             ],
             [
              0.8888888888888888,
              "#fdca26"
             ],
             [
              1,
              "#f0f921"
             ]
            ],
            "type": "surface"
           }
          ],
          "table": [
           {
            "cells": {
             "fill": {
              "color": "#EBF0F8"
             },
             "line": {
              "color": "white"
             }
            },
            "header": {
             "fill": {
              "color": "#C8D4E3"
             },
             "line": {
              "color": "white"
             }
            },
            "type": "table"
           }
          ]
         },
         "layout": {
          "annotationdefaults": {
           "arrowcolor": "#2a3f5f",
           "arrowhead": 0,
           "arrowwidth": 1
          },
          "autotypenumbers": "strict",
          "coloraxis": {
           "colorbar": {
            "outlinewidth": 0,
            "ticks": ""
           }
          },
          "colorscale": {
           "diverging": [
            [
             0,
             "#8e0152"
            ],
            [
             0.1,
             "#c51b7d"
            ],
            [
             0.2,
             "#de77ae"
            ],
            [
             0.3,
             "#f1b6da"
            ],
            [
             0.4,
             "#fde0ef"
            ],
            [
             0.5,
             "#f7f7f7"
            ],
            [
             0.6,
             "#e6f5d0"
            ],
            [
             0.7,
             "#b8e186"
            ],
            [
             0.8,
             "#7fbc41"
            ],
            [
             0.9,
             "#4d9221"
            ],
            [
             1,
             "#276419"
            ]
           ],
           "sequential": [
            [
             0,
             "#0d0887"
            ],
            [
             0.1111111111111111,
             "#46039f"
            ],
            [
             0.2222222222222222,
             "#7201a8"
            ],
            [
             0.3333333333333333,
             "#9c179e"
            ],
            [
             0.4444444444444444,
             "#bd3786"
            ],
            [
             0.5555555555555556,
             "#d8576b"
            ],
            [
             0.6666666666666666,
             "#ed7953"
            ],
            [
             0.7777777777777778,
             "#fb9f3a"
            ],
            [
             0.8888888888888888,
             "#fdca26"
            ],
            [
             1,
             "#f0f921"
            ]
           ],
           "sequentialminus": [
            [
             0,
             "#0d0887"
            ],
            [
             0.1111111111111111,
             "#46039f"
            ],
            [
             0.2222222222222222,
             "#7201a8"
            ],
            [
             0.3333333333333333,
             "#9c179e"
            ],
            [
             0.4444444444444444,
             "#bd3786"
            ],
            [
             0.5555555555555556,
             "#d8576b"
            ],
            [
             0.6666666666666666,
             "#ed7953"
            ],
            [
             0.7777777777777778,
             "#fb9f3a"
            ],
            [
             0.8888888888888888,
             "#fdca26"
            ],
            [
             1,
             "#f0f921"
            ]
           ]
          },
          "colorway": [
           "#636efa",
           "#EF553B",
           "#00cc96",
           "#ab63fa",
           "#FFA15A",
           "#19d3f3",
           "#FF6692",
           "#B6E880",
           "#FF97FF",
           "#FECB52"
          ],
          "font": {
           "color": "#2a3f5f"
          },
          "geo": {
           "bgcolor": "white",
           "lakecolor": "white",
           "landcolor": "#E5ECF6",
           "showlakes": true,
           "showland": true,
           "subunitcolor": "white"
          },
          "hoverlabel": {
           "align": "left"
          },
          "hovermode": "closest",
          "mapbox": {
           "style": "light"
          },
          "paper_bgcolor": "white",
          "plot_bgcolor": "#E5ECF6",
          "polar": {
           "angularaxis": {
            "gridcolor": "white",
            "linecolor": "white",
            "ticks": ""
           },
           "bgcolor": "#E5ECF6",
           "radialaxis": {
            "gridcolor": "white",
            "linecolor": "white",
            "ticks": ""
           }
          },
          "scene": {
           "xaxis": {
            "backgroundcolor": "#E5ECF6",
            "gridcolor": "white",
            "gridwidth": 2,
            "linecolor": "white",
            "showbackground": true,
            "ticks": "",
            "zerolinecolor": "white"
           },
           "yaxis": {
            "backgroundcolor": "#E5ECF6",
            "gridcolor": "white",
            "gridwidth": 2,
            "linecolor": "white",
            "showbackground": true,
            "ticks": "",
            "zerolinecolor": "white"
           },
           "zaxis": {
            "backgroundcolor": "#E5ECF6",
            "gridcolor": "white",
            "gridwidth": 2,
            "linecolor": "white",
            "showbackground": true,
            "ticks": "",
            "zerolinecolor": "white"
           }
          },
          "shapedefaults": {
           "line": {
            "color": "#2a3f5f"
           }
          },
          "ternary": {
           "aaxis": {
            "gridcolor": "white",
            "linecolor": "white",
            "ticks": ""
           },
           "baxis": {
            "gridcolor": "white",
            "linecolor": "white",
            "ticks": ""
           },
           "bgcolor": "#E5ECF6",
           "caxis": {
            "gridcolor": "white",
            "linecolor": "white",
            "ticks": ""
           }
          },
          "title": {
           "x": 0.05
          },
          "xaxis": {
           "automargin": true,
           "gridcolor": "white",
           "linecolor": "white",
           "ticks": "",
           "title": {
            "standoff": 15
           },
           "zerolinecolor": "white",
           "zerolinewidth": 2
          },
          "yaxis": {
           "automargin": true,
           "gridcolor": "white",
           "linecolor": "white",
           "ticks": "",
           "title": {
            "standoff": 15
           },
           "zerolinecolor": "white",
           "zerolinewidth": 2
          }
         }
        },
        "title": {
         "text": "Locations of Employees"
        }
       }
      }
     },
     "metadata": {},
     "output_type": "display_data"
    }
   ],
   "source": [
    "employ_res = df_ds['employee_residence'].value_counts()\n",
    "\n",
    "fig = px.choropleth(locations = employ_res.index, color = employ_res.values, \n",
    "                    color_continuous_scale = px.colors.sequential.Greens,\n",
    "                    title = 'Locations of Employees')\n",
    "\n",
    "fig.show()"
   ]
  },
  {
   "cell_type": "code",
   "execution_count": 15,
   "metadata": {},
   "outputs": [
    {
     "data": {
      "application/vnd.plotly.v1+json": {
       "config": {
        "plotlyServerURL": "https://plot.ly"
       },
       "data": [
        {
         "alignmentgroup": "True",
         "hovertemplate": "color=USA<br>x=%{x}<br>y=%{y}<br>text=%{text}<extra></extra>",
         "legendgroup": "USA",
         "marker": {
          "color": "#636efa",
          "pattern": {
           "shape": ""
          }
         },
         "name": "USA",
         "offsetgroup": "USA",
         "orientation": "v",
         "showlegend": true,
         "text": [
          3004
         ],
         "textposition": "auto",
         "type": "bar",
         "x": [
          "USA"
         ],
         "xaxis": "x",
         "y": [
          3004
         ],
         "yaxis": "y"
        },
        {
         "alignmentgroup": "True",
         "hovertemplate": "color=GBR<br>x=%{x}<br>y=%{y}<br>text=%{text}<extra></extra>",
         "legendgroup": "GBR",
         "marker": {
          "color": "#EF553B",
          "pattern": {
           "shape": ""
          }
         },
         "name": "GBR",
         "offsetgroup": "GBR",
         "orientation": "v",
         "showlegend": true,
         "text": [
          167
         ],
         "textposition": "auto",
         "type": "bar",
         "x": [
          "GBR"
         ],
         "xaxis": "x",
         "y": [
          167
         ],
         "yaxis": "y"
        },
        {
         "alignmentgroup": "True",
         "hovertemplate": "color=CAN<br>x=%{x}<br>y=%{y}<br>text=%{text}<extra></extra>",
         "legendgroup": "CAN",
         "marker": {
          "color": "#00cc96",
          "pattern": {
           "shape": ""
          }
         },
         "name": "CAN",
         "offsetgroup": "CAN",
         "orientation": "v",
         "showlegend": true,
         "text": [
          85
         ],
         "textposition": "auto",
         "type": "bar",
         "x": [
          "CAN"
         ],
         "xaxis": "x",
         "y": [
          85
         ],
         "yaxis": "y"
        },
        {
         "alignmentgroup": "True",
         "hovertemplate": "color=ESP<br>x=%{x}<br>y=%{y}<br>text=%{text}<extra></extra>",
         "legendgroup": "ESP",
         "marker": {
          "color": "#ab63fa",
          "pattern": {
           "shape": ""
          }
         },
         "name": "ESP",
         "offsetgroup": "ESP",
         "orientation": "v",
         "showlegend": true,
         "text": [
          80
         ],
         "textposition": "auto",
         "type": "bar",
         "x": [
          "ESP"
         ],
         "xaxis": "x",
         "y": [
          80
         ],
         "yaxis": "y"
        },
        {
         "alignmentgroup": "True",
         "hovertemplate": "color=IND<br>x=%{x}<br>y=%{y}<br>text=%{text}<extra></extra>",
         "legendgroup": "IND",
         "marker": {
          "color": "#FFA15A",
          "pattern": {
           "shape": ""
          }
         },
         "name": "IND",
         "offsetgroup": "IND",
         "orientation": "v",
         "showlegend": true,
         "text": [
          71
         ],
         "textposition": "auto",
         "type": "bar",
         "x": [
          "IND"
         ],
         "xaxis": "x",
         "y": [
          71
         ],
         "yaxis": "y"
        },
        {
         "alignmentgroup": "True",
         "hovertemplate": "color=DEU<br>x=%{x}<br>y=%{y}<br>text=%{text}<extra></extra>",
         "legendgroup": "DEU",
         "marker": {
          "color": "#19d3f3",
          "pattern": {
           "shape": ""
          }
         },
         "name": "DEU",
         "offsetgroup": "DEU",
         "orientation": "v",
         "showlegend": true,
         "text": [
          48
         ],
         "textposition": "auto",
         "type": "bar",
         "x": [
          "DEU"
         ],
         "xaxis": "x",
         "y": [
          48
         ],
         "yaxis": "y"
        },
        {
         "alignmentgroup": "True",
         "hovertemplate": "color=FRA<br>x=%{x}<br>y=%{y}<br>text=%{text}<extra></extra>",
         "legendgroup": "FRA",
         "marker": {
          "color": "#FF6692",
          "pattern": {
           "shape": ""
          }
         },
         "name": "FRA",
         "offsetgroup": "FRA",
         "orientation": "v",
         "showlegend": true,
         "text": [
          38
         ],
         "textposition": "auto",
         "type": "bar",
         "x": [
          "FRA"
         ],
         "xaxis": "x",
         "y": [
          38
         ],
         "yaxis": "y"
        },
        {
         "alignmentgroup": "True",
         "hovertemplate": "color=PRT<br>x=%{x}<br>y=%{y}<br>text=%{text}<extra></extra>",
         "legendgroup": "PRT",
         "marker": {
          "color": "#B6E880",
          "pattern": {
           "shape": ""
          }
         },
         "name": "PRT",
         "offsetgroup": "PRT",
         "orientation": "v",
         "showlegend": true,
         "text": [
          18
         ],
         "textposition": "auto",
         "type": "bar",
         "x": [
          "PRT"
         ],
         "xaxis": "x",
         "y": [
          18
         ],
         "yaxis": "y"
        },
        {
         "alignmentgroup": "True",
         "hovertemplate": "color=BRA<br>x=%{x}<br>y=%{y}<br>text=%{text}<extra></extra>",
         "legendgroup": "BRA",
         "marker": {
          "color": "#FF97FF",
          "pattern": {
           "shape": ""
          }
         },
         "name": "BRA",
         "offsetgroup": "BRA",
         "orientation": "v",
         "showlegend": true,
         "text": [
          18
         ],
         "textposition": "auto",
         "type": "bar",
         "x": [
          "BRA"
         ],
         "xaxis": "x",
         "y": [
          18
         ],
         "yaxis": "y"
        },
        {
         "alignmentgroup": "True",
         "hovertemplate": "color=GRC<br>x=%{x}<br>y=%{y}<br>text=%{text}<extra></extra>",
         "legendgroup": "GRC",
         "marker": {
          "color": "#FECB52",
          "pattern": {
           "shape": ""
          }
         },
         "name": "GRC",
         "offsetgroup": "GRC",
         "orientation": "v",
         "showlegend": true,
         "text": [
          16
         ],
         "textposition": "auto",
         "type": "bar",
         "x": [
          "GRC"
         ],
         "xaxis": "x",
         "y": [
          16
         ],
         "yaxis": "y"
        }
       ],
       "layout": {
        "barmode": "relative",
        "legend": {
         "title": {
          "text": "color"
         },
         "tracegroupgap": 0
        },
        "template": {
         "data": {
          "bar": [
           {
            "error_x": {
             "color": "#2a3f5f"
            },
            "error_y": {
             "color": "#2a3f5f"
            },
            "marker": {
             "line": {
              "color": "#E5ECF6",
              "width": 0.5
             },
             "pattern": {
              "fillmode": "overlay",
              "size": 10,
              "solidity": 0.2
             }
            },
            "type": "bar"
           }
          ],
          "barpolar": [
           {
            "marker": {
             "line": {
              "color": "#E5ECF6",
              "width": 0.5
             },
             "pattern": {
              "fillmode": "overlay",
              "size": 10,
              "solidity": 0.2
             }
            },
            "type": "barpolar"
           }
          ],
          "carpet": [
           {
            "aaxis": {
             "endlinecolor": "#2a3f5f",
             "gridcolor": "white",
             "linecolor": "white",
             "minorgridcolor": "white",
             "startlinecolor": "#2a3f5f"
            },
            "baxis": {
             "endlinecolor": "#2a3f5f",
             "gridcolor": "white",
             "linecolor": "white",
             "minorgridcolor": "white",
             "startlinecolor": "#2a3f5f"
            },
            "type": "carpet"
           }
          ],
          "choropleth": [
           {
            "colorbar": {
             "outlinewidth": 0,
             "ticks": ""
            },
            "type": "choropleth"
           }
          ],
          "contour": [
           {
            "colorbar": {
             "outlinewidth": 0,
             "ticks": ""
            },
            "colorscale": [
             [
              0,
              "#0d0887"
             ],
             [
              0.1111111111111111,
              "#46039f"
             ],
             [
              0.2222222222222222,
              "#7201a8"
             ],
             [
              0.3333333333333333,
              "#9c179e"
             ],
             [
              0.4444444444444444,
              "#bd3786"
             ],
             [
              0.5555555555555556,
              "#d8576b"
             ],
             [
              0.6666666666666666,
              "#ed7953"
             ],
             [
              0.7777777777777778,
              "#fb9f3a"
             ],
             [
              0.8888888888888888,
              "#fdca26"
             ],
             [
              1,
              "#f0f921"
             ]
            ],
            "type": "contour"
           }
          ],
          "contourcarpet": [
           {
            "colorbar": {
             "outlinewidth": 0,
             "ticks": ""
            },
            "type": "contourcarpet"
           }
          ],
          "heatmap": [
           {
            "colorbar": {
             "outlinewidth": 0,
             "ticks": ""
            },
            "colorscale": [
             [
              0,
              "#0d0887"
             ],
             [
              0.1111111111111111,
              "#46039f"
             ],
             [
              0.2222222222222222,
              "#7201a8"
             ],
             [
              0.3333333333333333,
              "#9c179e"
             ],
             [
              0.4444444444444444,
              "#bd3786"
             ],
             [
              0.5555555555555556,
              "#d8576b"
             ],
             [
              0.6666666666666666,
              "#ed7953"
             ],
             [
              0.7777777777777778,
              "#fb9f3a"
             ],
             [
              0.8888888888888888,
              "#fdca26"
             ],
             [
              1,
              "#f0f921"
             ]
            ],
            "type": "heatmap"
           }
          ],
          "heatmapgl": [
           {
            "colorbar": {
             "outlinewidth": 0,
             "ticks": ""
            },
            "colorscale": [
             [
              0,
              "#0d0887"
             ],
             [
              0.1111111111111111,
              "#46039f"
             ],
             [
              0.2222222222222222,
              "#7201a8"
             ],
             [
              0.3333333333333333,
              "#9c179e"
             ],
             [
              0.4444444444444444,
              "#bd3786"
             ],
             [
              0.5555555555555556,
              "#d8576b"
             ],
             [
              0.6666666666666666,
              "#ed7953"
             ],
             [
              0.7777777777777778,
              "#fb9f3a"
             ],
             [
              0.8888888888888888,
              "#fdca26"
             ],
             [
              1,
              "#f0f921"
             ]
            ],
            "type": "heatmapgl"
           }
          ],
          "histogram": [
           {
            "marker": {
             "pattern": {
              "fillmode": "overlay",
              "size": 10,
              "solidity": 0.2
             }
            },
            "type": "histogram"
           }
          ],
          "histogram2d": [
           {
            "colorbar": {
             "outlinewidth": 0,
             "ticks": ""
            },
            "colorscale": [
             [
              0,
              "#0d0887"
             ],
             [
              0.1111111111111111,
              "#46039f"
             ],
             [
              0.2222222222222222,
              "#7201a8"
             ],
             [
              0.3333333333333333,
              "#9c179e"
             ],
             [
              0.4444444444444444,
              "#bd3786"
             ],
             [
              0.5555555555555556,
              "#d8576b"
             ],
             [
              0.6666666666666666,
              "#ed7953"
             ],
             [
              0.7777777777777778,
              "#fb9f3a"
             ],
             [
              0.8888888888888888,
              "#fdca26"
             ],
             [
              1,
              "#f0f921"
             ]
            ],
            "type": "histogram2d"
           }
          ],
          "histogram2dcontour": [
           {
            "colorbar": {
             "outlinewidth": 0,
             "ticks": ""
            },
            "colorscale": [
             [
              0,
              "#0d0887"
             ],
             [
              0.1111111111111111,
              "#46039f"
             ],
             [
              0.2222222222222222,
              "#7201a8"
             ],
             [
              0.3333333333333333,
              "#9c179e"
             ],
             [
              0.4444444444444444,
              "#bd3786"
             ],
             [
              0.5555555555555556,
              "#d8576b"
             ],
             [
              0.6666666666666666,
              "#ed7953"
             ],
             [
              0.7777777777777778,
              "#fb9f3a"
             ],
             [
              0.8888888888888888,
              "#fdca26"
             ],
             [
              1,
              "#f0f921"
             ]
            ],
            "type": "histogram2dcontour"
           }
          ],
          "mesh3d": [
           {
            "colorbar": {
             "outlinewidth": 0,
             "ticks": ""
            },
            "type": "mesh3d"
           }
          ],
          "parcoords": [
           {
            "line": {
             "colorbar": {
              "outlinewidth": 0,
              "ticks": ""
             }
            },
            "type": "parcoords"
           }
          ],
          "pie": [
           {
            "automargin": true,
            "type": "pie"
           }
          ],
          "scatter": [
           {
            "fillpattern": {
             "fillmode": "overlay",
             "size": 10,
             "solidity": 0.2
            },
            "type": "scatter"
           }
          ],
          "scatter3d": [
           {
            "line": {
             "colorbar": {
              "outlinewidth": 0,
              "ticks": ""
             }
            },
            "marker": {
             "colorbar": {
              "outlinewidth": 0,
              "ticks": ""
             }
            },
            "type": "scatter3d"
           }
          ],
          "scattercarpet": [
           {
            "marker": {
             "colorbar": {
              "outlinewidth": 0,
              "ticks": ""
             }
            },
            "type": "scattercarpet"
           }
          ],
          "scattergeo": [
           {
            "marker": {
             "colorbar": {
              "outlinewidth": 0,
              "ticks": ""
             }
            },
            "type": "scattergeo"
           }
          ],
          "scattergl": [
           {
            "marker": {
             "colorbar": {
              "outlinewidth": 0,
              "ticks": ""
             }
            },
            "type": "scattergl"
           }
          ],
          "scattermapbox": [
           {
            "marker": {
             "colorbar": {
              "outlinewidth": 0,
              "ticks": ""
             }
            },
            "type": "scattermapbox"
           }
          ],
          "scatterpolar": [
           {
            "marker": {
             "colorbar": {
              "outlinewidth": 0,
              "ticks": ""
             }
            },
            "type": "scatterpolar"
           }
          ],
          "scatterpolargl": [
           {
            "marker": {
             "colorbar": {
              "outlinewidth": 0,
              "ticks": ""
             }
            },
            "type": "scatterpolargl"
           }
          ],
          "scatterternary": [
           {
            "marker": {
             "colorbar": {
              "outlinewidth": 0,
              "ticks": ""
             }
            },
            "type": "scatterternary"
           }
          ],
          "surface": [
           {
            "colorbar": {
             "outlinewidth": 0,
             "ticks": ""
            },
            "colorscale": [
             [
              0,
              "#0d0887"
             ],
             [
              0.1111111111111111,
              "#46039f"
             ],
             [
              0.2222222222222222,
              "#7201a8"
             ],
             [
              0.3333333333333333,
              "#9c179e"
             ],
             [
              0.4444444444444444,
              "#bd3786"
             ],
             [
              0.5555555555555556,
              "#d8576b"
             ],
             [
              0.6666666666666666,
              "#ed7953"
             ],
             [
              0.7777777777777778,
              "#fb9f3a"
             ],
             [
              0.8888888888888888,
              "#fdca26"
             ],
             [
              1,
              "#f0f921"
             ]
            ],
            "type": "surface"
           }
          ],
          "table": [
           {
            "cells": {
             "fill": {
              "color": "#EBF0F8"
             },
             "line": {
              "color": "white"
             }
            },
            "header": {
             "fill": {
              "color": "#C8D4E3"
             },
             "line": {
              "color": "white"
             }
            },
            "type": "table"
           }
          ]
         },
         "layout": {
          "annotationdefaults": {
           "arrowcolor": "#2a3f5f",
           "arrowhead": 0,
           "arrowwidth": 1
          },
          "autotypenumbers": "strict",
          "coloraxis": {
           "colorbar": {
            "outlinewidth": 0,
            "ticks": ""
           }
          },
          "colorscale": {
           "diverging": [
            [
             0,
             "#8e0152"
            ],
            [
             0.1,
             "#c51b7d"
            ],
            [
             0.2,
             "#de77ae"
            ],
            [
             0.3,
             "#f1b6da"
            ],
            [
             0.4,
             "#fde0ef"
            ],
            [
             0.5,
             "#f7f7f7"
            ],
            [
             0.6,
             "#e6f5d0"
            ],
            [
             0.7,
             "#b8e186"
            ],
            [
             0.8,
             "#7fbc41"
            ],
            [
             0.9,
             "#4d9221"
            ],
            [
             1,
             "#276419"
            ]
           ],
           "sequential": [
            [
             0,
             "#0d0887"
            ],
            [
             0.1111111111111111,
             "#46039f"
            ],
            [
             0.2222222222222222,
             "#7201a8"
            ],
            [
             0.3333333333333333,
             "#9c179e"
            ],
            [
             0.4444444444444444,
             "#bd3786"
            ],
            [
             0.5555555555555556,
             "#d8576b"
            ],
            [
             0.6666666666666666,
             "#ed7953"
            ],
            [
             0.7777777777777778,
             "#fb9f3a"
            ],
            [
             0.8888888888888888,
             "#fdca26"
            ],
            [
             1,
             "#f0f921"
            ]
           ],
           "sequentialminus": [
            [
             0,
             "#0d0887"
            ],
            [
             0.1111111111111111,
             "#46039f"
            ],
            [
             0.2222222222222222,
             "#7201a8"
            ],
            [
             0.3333333333333333,
             "#9c179e"
            ],
            [
             0.4444444444444444,
             "#bd3786"
            ],
            [
             0.5555555555555556,
             "#d8576b"
            ],
            [
             0.6666666666666666,
             "#ed7953"
            ],
            [
             0.7777777777777778,
             "#fb9f3a"
            ],
            [
             0.8888888888888888,
             "#fdca26"
            ],
            [
             1,
             "#f0f921"
            ]
           ]
          },
          "colorway": [
           "#636efa",
           "#EF553B",
           "#00cc96",
           "#ab63fa",
           "#FFA15A",
           "#19d3f3",
           "#FF6692",
           "#B6E880",
           "#FF97FF",
           "#FECB52"
          ],
          "font": {
           "color": "#2a3f5f"
          },
          "geo": {
           "bgcolor": "white",
           "lakecolor": "white",
           "landcolor": "#E5ECF6",
           "showlakes": true,
           "showland": true,
           "subunitcolor": "white"
          },
          "hoverlabel": {
           "align": "left"
          },
          "hovermode": "closest",
          "mapbox": {
           "style": "light"
          },
          "paper_bgcolor": "white",
          "plot_bgcolor": "#E5ECF6",
          "polar": {
           "angularaxis": {
            "gridcolor": "white",
            "linecolor": "white",
            "ticks": ""
           },
           "bgcolor": "#E5ECF6",
           "radialaxis": {
            "gridcolor": "white",
            "linecolor": "white",
            "ticks": ""
           }
          },
          "scene": {
           "xaxis": {
            "backgroundcolor": "#E5ECF6",
            "gridcolor": "white",
            "gridwidth": 2,
            "linecolor": "white",
            "showbackground": true,
            "ticks": "",
            "zerolinecolor": "white"
           },
           "yaxis": {
            "backgroundcolor": "#E5ECF6",
            "gridcolor": "white",
            "gridwidth": 2,
            "linecolor": "white",
            "showbackground": true,
            "ticks": "",
            "zerolinecolor": "white"
           },
           "zaxis": {
            "backgroundcolor": "#E5ECF6",
            "gridcolor": "white",
            "gridwidth": 2,
            "linecolor": "white",
            "showbackground": true,
            "ticks": "",
            "zerolinecolor": "white"
           }
          },
          "shapedefaults": {
           "line": {
            "color": "#2a3f5f"
           }
          },
          "ternary": {
           "aaxis": {
            "gridcolor": "white",
            "linecolor": "white",
            "ticks": ""
           },
           "baxis": {
            "gridcolor": "white",
            "linecolor": "white",
            "ticks": ""
           },
           "bgcolor": "#E5ECF6",
           "caxis": {
            "gridcolor": "white",
            "linecolor": "white",
            "ticks": ""
           }
          },
          "title": {
           "x": 0.05
          },
          "xaxis": {
           "automargin": true,
           "gridcolor": "white",
           "linecolor": "white",
           "ticks": "",
           "title": {
            "standoff": 15
           },
           "zerolinecolor": "white",
           "zerolinewidth": 2
          },
          "yaxis": {
           "automargin": true,
           "gridcolor": "white",
           "linecolor": "white",
           "ticks": "",
           "title": {
            "standoff": 15
           },
           "zerolinecolor": "white",
           "zerolinewidth": 2
          }
         }
        },
        "title": {
         "text": "Distribution of Employee Locations"
        },
        "xaxis": {
         "anchor": "y",
         "domain": [
          0,
          1
         ],
         "title": {
          "text": "x"
         }
        },
        "yaxis": {
         "anchor": "x",
         "domain": [
          0,
          1
         ],
         "title": {
          "text": "y"
         }
        }
       }
      }
     },
     "metadata": {},
     "output_type": "display_data"
    }
   ],
   "source": [
    "employ_res = employ_res[:10]\n",
    "\n",
    "fig = px.bar(x = employ_res.index, y = employ_res.values, text = employ_res.values, color = employ_res.index,\n",
    "             title = 'Distribution of Employee Locations')\n",
    "fig.show()"
   ]
  },
  {
   "cell_type": "markdown",
   "metadata": {},
   "source": [
    "WHAT WE KNOW:\n",
    "- Above diagram shows that most of the employees are located in USA (Darker color in the USA on the map), followed by tiny portion of Great Britain."
   ]
  },
  {
   "cell_type": "markdown",
   "metadata": {},
   "source": [
    "#### Employee Residence vs Company Location (Bivariate Analysis)"
   ]
  },
  {
   "cell_type": "code",
   "execution_count": 16,
   "metadata": {},
   "outputs": [
    {
     "data": {
      "application/vnd.plotly.v1+json": {
       "config": {
        "plotlyServerURL": "https://plot.ly"
       },
       "data": [
        {
         "name": "Location of Employee",
         "text": [
          3004,
          167,
          85,
          80,
          71,
          48,
          38,
          18,
          18,
          16
         ],
         "type": "bar",
         "x": [
          "USA",
          "GBR",
          "CAN",
          "ESP",
          "IND",
          "DEU",
          "FRA",
          "PRT",
          "BRA",
          "GRC"
         ],
         "y": [
          3004,
          167,
          85,
          80,
          71,
          48,
          38,
          18,
          18,
          16
         ]
        },
        {
         "name": "Location of Company",
         "text": [
          3040,
          172,
          87,
          77,
          58,
          56,
          34,
          15,
          14,
          14
         ],
         "type": "bar",
         "x": [
          "USA",
          "GBR",
          "CAN",
          "ESP",
          "IND",
          "DEU",
          "FRA",
          "BRA",
          "AUS",
          "GRC"
         ],
         "y": [
          3040,
          172,
          87,
          77,
          58,
          56,
          34,
          15,
          14,
          14
         ]
        }
       ],
       "layout": {
        "barmode": "group",
        "template": {
         "data": {
          "bar": [
           {
            "error_x": {
             "color": "#2a3f5f"
            },
            "error_y": {
             "color": "#2a3f5f"
            },
            "marker": {
             "line": {
              "color": "#E5ECF6",
              "width": 0.5
             },
             "pattern": {
              "fillmode": "overlay",
              "size": 10,
              "solidity": 0.2
             }
            },
            "type": "bar"
           }
          ],
          "barpolar": [
           {
            "marker": {
             "line": {
              "color": "#E5ECF6",
              "width": 0.5
             },
             "pattern": {
              "fillmode": "overlay",
              "size": 10,
              "solidity": 0.2
             }
            },
            "type": "barpolar"
           }
          ],
          "carpet": [
           {
            "aaxis": {
             "endlinecolor": "#2a3f5f",
             "gridcolor": "white",
             "linecolor": "white",
             "minorgridcolor": "white",
             "startlinecolor": "#2a3f5f"
            },
            "baxis": {
             "endlinecolor": "#2a3f5f",
             "gridcolor": "white",
             "linecolor": "white",
             "minorgridcolor": "white",
             "startlinecolor": "#2a3f5f"
            },
            "type": "carpet"
           }
          ],
          "choropleth": [
           {
            "colorbar": {
             "outlinewidth": 0,
             "ticks": ""
            },
            "type": "choropleth"
           }
          ],
          "contour": [
           {
            "colorbar": {
             "outlinewidth": 0,
             "ticks": ""
            },
            "colorscale": [
             [
              0,
              "#0d0887"
             ],
             [
              0.1111111111111111,
              "#46039f"
             ],
             [
              0.2222222222222222,
              "#7201a8"
             ],
             [
              0.3333333333333333,
              "#9c179e"
             ],
             [
              0.4444444444444444,
              "#bd3786"
             ],
             [
              0.5555555555555556,
              "#d8576b"
             ],
             [
              0.6666666666666666,
              "#ed7953"
             ],
             [
              0.7777777777777778,
              "#fb9f3a"
             ],
             [
              0.8888888888888888,
              "#fdca26"
             ],
             [
              1,
              "#f0f921"
             ]
            ],
            "type": "contour"
           }
          ],
          "contourcarpet": [
           {
            "colorbar": {
             "outlinewidth": 0,
             "ticks": ""
            },
            "type": "contourcarpet"
           }
          ],
          "heatmap": [
           {
            "colorbar": {
             "outlinewidth": 0,
             "ticks": ""
            },
            "colorscale": [
             [
              0,
              "#0d0887"
             ],
             [
              0.1111111111111111,
              "#46039f"
             ],
             [
              0.2222222222222222,
              "#7201a8"
             ],
             [
              0.3333333333333333,
              "#9c179e"
             ],
             [
              0.4444444444444444,
              "#bd3786"
             ],
             [
              0.5555555555555556,
              "#d8576b"
             ],
             [
              0.6666666666666666,
              "#ed7953"
             ],
             [
              0.7777777777777778,
              "#fb9f3a"
             ],
             [
              0.8888888888888888,
              "#fdca26"
             ],
             [
              1,
              "#f0f921"
             ]
            ],
            "type": "heatmap"
           }
          ],
          "heatmapgl": [
           {
            "colorbar": {
             "outlinewidth": 0,
             "ticks": ""
            },
            "colorscale": [
             [
              0,
              "#0d0887"
             ],
             [
              0.1111111111111111,
              "#46039f"
             ],
             [
              0.2222222222222222,
              "#7201a8"
             ],
             [
              0.3333333333333333,
              "#9c179e"
             ],
             [
              0.4444444444444444,
              "#bd3786"
             ],
             [
              0.5555555555555556,
              "#d8576b"
             ],
             [
              0.6666666666666666,
              "#ed7953"
             ],
             [
              0.7777777777777778,
              "#fb9f3a"
             ],
             [
              0.8888888888888888,
              "#fdca26"
             ],
             [
              1,
              "#f0f921"
             ]
            ],
            "type": "heatmapgl"
           }
          ],
          "histogram": [
           {
            "marker": {
             "pattern": {
              "fillmode": "overlay",
              "size": 10,
              "solidity": 0.2
             }
            },
            "type": "histogram"
           }
          ],
          "histogram2d": [
           {
            "colorbar": {
             "outlinewidth": 0,
             "ticks": ""
            },
            "colorscale": [
             [
              0,
              "#0d0887"
             ],
             [
              0.1111111111111111,
              "#46039f"
             ],
             [
              0.2222222222222222,
              "#7201a8"
             ],
             [
              0.3333333333333333,
              "#9c179e"
             ],
             [
              0.4444444444444444,
              "#bd3786"
             ],
             [
              0.5555555555555556,
              "#d8576b"
             ],
             [
              0.6666666666666666,
              "#ed7953"
             ],
             [
              0.7777777777777778,
              "#fb9f3a"
             ],
             [
              0.8888888888888888,
              "#fdca26"
             ],
             [
              1,
              "#f0f921"
             ]
            ],
            "type": "histogram2d"
           }
          ],
          "histogram2dcontour": [
           {
            "colorbar": {
             "outlinewidth": 0,
             "ticks": ""
            },
            "colorscale": [
             [
              0,
              "#0d0887"
             ],
             [
              0.1111111111111111,
              "#46039f"
             ],
             [
              0.2222222222222222,
              "#7201a8"
             ],
             [
              0.3333333333333333,
              "#9c179e"
             ],
             [
              0.4444444444444444,
              "#bd3786"
             ],
             [
              0.5555555555555556,
              "#d8576b"
             ],
             [
              0.6666666666666666,
              "#ed7953"
             ],
             [
              0.7777777777777778,
              "#fb9f3a"
             ],
             [
              0.8888888888888888,
              "#fdca26"
             ],
             [
              1,
              "#f0f921"
             ]
            ],
            "type": "histogram2dcontour"
           }
          ],
          "mesh3d": [
           {
            "colorbar": {
             "outlinewidth": 0,
             "ticks": ""
            },
            "type": "mesh3d"
           }
          ],
          "parcoords": [
           {
            "line": {
             "colorbar": {
              "outlinewidth": 0,
              "ticks": ""
             }
            },
            "type": "parcoords"
           }
          ],
          "pie": [
           {
            "automargin": true,
            "type": "pie"
           }
          ],
          "scatter": [
           {
            "fillpattern": {
             "fillmode": "overlay",
             "size": 10,
             "solidity": 0.2
            },
            "type": "scatter"
           }
          ],
          "scatter3d": [
           {
            "line": {
             "colorbar": {
              "outlinewidth": 0,
              "ticks": ""
             }
            },
            "marker": {
             "colorbar": {
              "outlinewidth": 0,
              "ticks": ""
             }
            },
            "type": "scatter3d"
           }
          ],
          "scattercarpet": [
           {
            "marker": {
             "colorbar": {
              "outlinewidth": 0,
              "ticks": ""
             }
            },
            "type": "scattercarpet"
           }
          ],
          "scattergeo": [
           {
            "marker": {
             "colorbar": {
              "outlinewidth": 0,
              "ticks": ""
             }
            },
            "type": "scattergeo"
           }
          ],
          "scattergl": [
           {
            "marker": {
             "colorbar": {
              "outlinewidth": 0,
              "ticks": ""
             }
            },
            "type": "scattergl"
           }
          ],
          "scattermapbox": [
           {
            "marker": {
             "colorbar": {
              "outlinewidth": 0,
              "ticks": ""
             }
            },
            "type": "scattermapbox"
           }
          ],
          "scatterpolar": [
           {
            "marker": {
             "colorbar": {
              "outlinewidth": 0,
              "ticks": ""
             }
            },
            "type": "scatterpolar"
           }
          ],
          "scatterpolargl": [
           {
            "marker": {
             "colorbar": {
              "outlinewidth": 0,
              "ticks": ""
             }
            },
            "type": "scatterpolargl"
           }
          ],
          "scatterternary": [
           {
            "marker": {
             "colorbar": {
              "outlinewidth": 0,
              "ticks": ""
             }
            },
            "type": "scatterternary"
           }
          ],
          "surface": [
           {
            "colorbar": {
             "outlinewidth": 0,
             "ticks": ""
            },
            "colorscale": [
             [
              0,
              "#0d0887"
             ],
             [
              0.1111111111111111,
              "#46039f"
             ],
             [
              0.2222222222222222,
              "#7201a8"
             ],
             [
              0.3333333333333333,
              "#9c179e"
             ],
             [
              0.4444444444444444,
              "#bd3786"
             ],
             [
              0.5555555555555556,
              "#d8576b"
             ],
             [
              0.6666666666666666,
              "#ed7953"
             ],
             [
              0.7777777777777778,
              "#fb9f3a"
             ],
             [
              0.8888888888888888,
              "#fdca26"
             ],
             [
              1,
              "#f0f921"
             ]
            ],
            "type": "surface"
           }
          ],
          "table": [
           {
            "cells": {
             "fill": {
              "color": "#EBF0F8"
             },
             "line": {
              "color": "white"
             }
            },
            "header": {
             "fill": {
              "color": "#C8D4E3"
             },
             "line": {
              "color": "white"
             }
            },
            "type": "table"
           }
          ]
         },
         "layout": {
          "annotationdefaults": {
           "arrowcolor": "#2a3f5f",
           "arrowhead": 0,
           "arrowwidth": 1
          },
          "autotypenumbers": "strict",
          "coloraxis": {
           "colorbar": {
            "outlinewidth": 0,
            "ticks": ""
           }
          },
          "colorscale": {
           "diverging": [
            [
             0,
             "#8e0152"
            ],
            [
             0.1,
             "#c51b7d"
            ],
            [
             0.2,
             "#de77ae"
            ],
            [
             0.3,
             "#f1b6da"
            ],
            [
             0.4,
             "#fde0ef"
            ],
            [
             0.5,
             "#f7f7f7"
            ],
            [
             0.6,
             "#e6f5d0"
            ],
            [
             0.7,
             "#b8e186"
            ],
            [
             0.8,
             "#7fbc41"
            ],
            [
             0.9,
             "#4d9221"
            ],
            [
             1,
             "#276419"
            ]
           ],
           "sequential": [
            [
             0,
             "#0d0887"
            ],
            [
             0.1111111111111111,
             "#46039f"
            ],
            [
             0.2222222222222222,
             "#7201a8"
            ],
            [
             0.3333333333333333,
             "#9c179e"
            ],
            [
             0.4444444444444444,
             "#bd3786"
            ],
            [
             0.5555555555555556,
             "#d8576b"
            ],
            [
             0.6666666666666666,
             "#ed7953"
            ],
            [
             0.7777777777777778,
             "#fb9f3a"
            ],
            [
             0.8888888888888888,
             "#fdca26"
            ],
            [
             1,
             "#f0f921"
            ]
           ],
           "sequentialminus": [
            [
             0,
             "#0d0887"
            ],
            [
             0.1111111111111111,
             "#46039f"
            ],
            [
             0.2222222222222222,
             "#7201a8"
            ],
            [
             0.3333333333333333,
             "#9c179e"
            ],
            [
             0.4444444444444444,
             "#bd3786"
            ],
            [
             0.5555555555555556,
             "#d8576b"
            ],
            [
             0.6666666666666666,
             "#ed7953"
            ],
            [
             0.7777777777777778,
             "#fb9f3a"
            ],
            [
             0.8888888888888888,
             "#fdca26"
            ],
            [
             1,
             "#f0f921"
            ]
           ]
          },
          "colorway": [
           "#636efa",
           "#EF553B",
           "#00cc96",
           "#ab63fa",
           "#FFA15A",
           "#19d3f3",
           "#FF6692",
           "#B6E880",
           "#FF97FF",
           "#FECB52"
          ],
          "font": {
           "color": "#2a3f5f"
          },
          "geo": {
           "bgcolor": "white",
           "lakecolor": "white",
           "landcolor": "#E5ECF6",
           "showlakes": true,
           "showland": true,
           "subunitcolor": "white"
          },
          "hoverlabel": {
           "align": "left"
          },
          "hovermode": "closest",
          "mapbox": {
           "style": "light"
          },
          "paper_bgcolor": "white",
          "plot_bgcolor": "#E5ECF6",
          "polar": {
           "angularaxis": {
            "gridcolor": "white",
            "linecolor": "white",
            "ticks": ""
           },
           "bgcolor": "#E5ECF6",
           "radialaxis": {
            "gridcolor": "white",
            "linecolor": "white",
            "ticks": ""
           }
          },
          "scene": {
           "xaxis": {
            "backgroundcolor": "#E5ECF6",
            "gridcolor": "white",
            "gridwidth": 2,
            "linecolor": "white",
            "showbackground": true,
            "ticks": "",
            "zerolinecolor": "white"
           },
           "yaxis": {
            "backgroundcolor": "#E5ECF6",
            "gridcolor": "white",
            "gridwidth": 2,
            "linecolor": "white",
            "showbackground": true,
            "ticks": "",
            "zerolinecolor": "white"
           },
           "zaxis": {
            "backgroundcolor": "#E5ECF6",
            "gridcolor": "white",
            "gridwidth": 2,
            "linecolor": "white",
            "showbackground": true,
            "ticks": "",
            "zerolinecolor": "white"
           }
          },
          "shapedefaults": {
           "line": {
            "color": "#2a3f5f"
           }
          },
          "ternary": {
           "aaxis": {
            "gridcolor": "white",
            "linecolor": "white",
            "ticks": ""
           },
           "baxis": {
            "gridcolor": "white",
            "linecolor": "white",
            "ticks": ""
           },
           "bgcolor": "#E5ECF6",
           "caxis": {
            "gridcolor": "white",
            "linecolor": "white",
            "ticks": ""
           }
          },
          "title": {
           "x": 0.05
          },
          "xaxis": {
           "automargin": true,
           "gridcolor": "white",
           "linecolor": "white",
           "ticks": "",
           "title": {
            "standoff": 15
           },
           "zerolinecolor": "white",
           "zerolinewidth": 2
          },
          "yaxis": {
           "automargin": true,
           "gridcolor": "white",
           "linecolor": "white",
           "ticks": "",
           "title": {
            "standoff": 15
           },
           "zerolinecolor": "white",
           "zerolinewidth": 2
          }
         }
        },
        "title": {
         "text": "Employee Residence vs Company Location"
        },
        "xaxis": {
         "tickangle": -45
        }
       }
      }
     },
     "metadata": {},
     "output_type": "display_data"
    },
    {
     "data": {
      "text/plain": [
       "<Figure size 1000x800 with 0 Axes>"
      ]
     },
     "metadata": {},
     "output_type": "display_data"
    }
   ],
   "source": [
    "plt.figure(figsize = (10, 8))\n",
    "\n",
    "\n",
    "df_ds['company_location'] = cc.convert(names = df_ds['company_location'], to = 'ISO3')\n",
    "company_res = df_ds['company_location'].value_counts()[:10]\n",
    "# df_employee_loc = cc.convert(names = df_ds['employee_residence'], to = 'ISO3')\n",
    "\n",
    "fig = go.Figure(data = [\n",
    "    go.Bar(name = 'Location of Employee', x = employ_res.index, y = employ_res.values, text = employ_res.values),\n",
    "    go.Bar(name = 'Location of Company', x = company_res.index, y = company_res.values, text = company_res.values)\n",
    "])\n",
    "\n",
    "fig.update_layout(barmode = 'group', xaxis_tickangle = -45,\n",
    "                  title = 'Employee Residence vs Company Location')\n",
    "\n",
    "fig.show()"
   ]
  },
  {
   "cell_type": "markdown",
   "metadata": {},
   "source": [
    "WHAT WE KNOW:\n",
    "- A high `employee_residence` trend is also followed by the `company_location`. "
   ]
  },
  {
   "cell_type": "markdown",
   "metadata": {},
   "source": [
    "## Numerical Data Examination"
   ]
  },
  {
   "cell_type": "markdown",
   "metadata": {},
   "source": [
    "#### Distribution of Job Work Years"
   ]
  },
  {
   "cell_type": "code",
   "execution_count": 17,
   "metadata": {},
   "outputs": [
    {
     "data": {
      "application/vnd.plotly.v1+json": {
       "config": {
        "plotlyServerURL": "https://plot.ly"
       },
       "data": [
        {
         "domain": {
          "x": [
           0,
           1
          ],
          "y": [
           0,
           1
          ]
         },
         "hovertemplate": "label=%{label}<br>value=%{value}<extra></extra>",
         "labels": [
          2023,
          2022,
          2021,
          2020
         ],
         "legendgroup": "",
         "name": "",
         "showlegend": true,
         "type": "pie",
         "values": [
          1785,
          1664,
          230,
          76
         ]
        }
       ],
       "layout": {
        "legend": {
         "tracegroupgap": 0
        },
        "template": {
         "data": {
          "bar": [
           {
            "error_x": {
             "color": "#2a3f5f"
            },
            "error_y": {
             "color": "#2a3f5f"
            },
            "marker": {
             "line": {
              "color": "#E5ECF6",
              "width": 0.5
             },
             "pattern": {
              "fillmode": "overlay",
              "size": 10,
              "solidity": 0.2
             }
            },
            "type": "bar"
           }
          ],
          "barpolar": [
           {
            "marker": {
             "line": {
              "color": "#E5ECF6",
              "width": 0.5
             },
             "pattern": {
              "fillmode": "overlay",
              "size": 10,
              "solidity": 0.2
             }
            },
            "type": "barpolar"
           }
          ],
          "carpet": [
           {
            "aaxis": {
             "endlinecolor": "#2a3f5f",
             "gridcolor": "white",
             "linecolor": "white",
             "minorgridcolor": "white",
             "startlinecolor": "#2a3f5f"
            },
            "baxis": {
             "endlinecolor": "#2a3f5f",
             "gridcolor": "white",
             "linecolor": "white",
             "minorgridcolor": "white",
             "startlinecolor": "#2a3f5f"
            },
            "type": "carpet"
           }
          ],
          "choropleth": [
           {
            "colorbar": {
             "outlinewidth": 0,
             "ticks": ""
            },
            "type": "choropleth"
           }
          ],
          "contour": [
           {
            "colorbar": {
             "outlinewidth": 0,
             "ticks": ""
            },
            "colorscale": [
             [
              0,
              "#0d0887"
             ],
             [
              0.1111111111111111,
              "#46039f"
             ],
             [
              0.2222222222222222,
              "#7201a8"
             ],
             [
              0.3333333333333333,
              "#9c179e"
             ],
             [
              0.4444444444444444,
              "#bd3786"
             ],
             [
              0.5555555555555556,
              "#d8576b"
             ],
             [
              0.6666666666666666,
              "#ed7953"
             ],
             [
              0.7777777777777778,
              "#fb9f3a"
             ],
             [
              0.8888888888888888,
              "#fdca26"
             ],
             [
              1,
              "#f0f921"
             ]
            ],
            "type": "contour"
           }
          ],
          "contourcarpet": [
           {
            "colorbar": {
             "outlinewidth": 0,
             "ticks": ""
            },
            "type": "contourcarpet"
           }
          ],
          "heatmap": [
           {
            "colorbar": {
             "outlinewidth": 0,
             "ticks": ""
            },
            "colorscale": [
             [
              0,
              "#0d0887"
             ],
             [
              0.1111111111111111,
              "#46039f"
             ],
             [
              0.2222222222222222,
              "#7201a8"
             ],
             [
              0.3333333333333333,
              "#9c179e"
             ],
             [
              0.4444444444444444,
              "#bd3786"
             ],
             [
              0.5555555555555556,
              "#d8576b"
             ],
             [
              0.6666666666666666,
              "#ed7953"
             ],
             [
              0.7777777777777778,
              "#fb9f3a"
             ],
             [
              0.8888888888888888,
              "#fdca26"
             ],
             [
              1,
              "#f0f921"
             ]
            ],
            "type": "heatmap"
           }
          ],
          "heatmapgl": [
           {
            "colorbar": {
             "outlinewidth": 0,
             "ticks": ""
            },
            "colorscale": [
             [
              0,
              "#0d0887"
             ],
             [
              0.1111111111111111,
              "#46039f"
             ],
             [
              0.2222222222222222,
              "#7201a8"
             ],
             [
              0.3333333333333333,
              "#9c179e"
             ],
             [
              0.4444444444444444,
              "#bd3786"
             ],
             [
              0.5555555555555556,
              "#d8576b"
             ],
             [
              0.6666666666666666,
              "#ed7953"
             ],
             [
              0.7777777777777778,
              "#fb9f3a"
             ],
             [
              0.8888888888888888,
              "#fdca26"
             ],
             [
              1,
              "#f0f921"
             ]
            ],
            "type": "heatmapgl"
           }
          ],
          "histogram": [
           {
            "marker": {
             "pattern": {
              "fillmode": "overlay",
              "size": 10,
              "solidity": 0.2
             }
            },
            "type": "histogram"
           }
          ],
          "histogram2d": [
           {
            "colorbar": {
             "outlinewidth": 0,
             "ticks": ""
            },
            "colorscale": [
             [
              0,
              "#0d0887"
             ],
             [
              0.1111111111111111,
              "#46039f"
             ],
             [
              0.2222222222222222,
              "#7201a8"
             ],
             [
              0.3333333333333333,
              "#9c179e"
             ],
             [
              0.4444444444444444,
              "#bd3786"
             ],
             [
              0.5555555555555556,
              "#d8576b"
             ],
             [
              0.6666666666666666,
              "#ed7953"
             ],
             [
              0.7777777777777778,
              "#fb9f3a"
             ],
             [
              0.8888888888888888,
              "#fdca26"
             ],
             [
              1,
              "#f0f921"
             ]
            ],
            "type": "histogram2d"
           }
          ],
          "histogram2dcontour": [
           {
            "colorbar": {
             "outlinewidth": 0,
             "ticks": ""
            },
            "colorscale": [
             [
              0,
              "#0d0887"
             ],
             [
              0.1111111111111111,
              "#46039f"
             ],
             [
              0.2222222222222222,
              "#7201a8"
             ],
             [
              0.3333333333333333,
              "#9c179e"
             ],
             [
              0.4444444444444444,
              "#bd3786"
             ],
             [
              0.5555555555555556,
              "#d8576b"
             ],
             [
              0.6666666666666666,
              "#ed7953"
             ],
             [
              0.7777777777777778,
              "#fb9f3a"
             ],
             [
              0.8888888888888888,
              "#fdca26"
             ],
             [
              1,
              "#f0f921"
             ]
            ],
            "type": "histogram2dcontour"
           }
          ],
          "mesh3d": [
           {
            "colorbar": {
             "outlinewidth": 0,
             "ticks": ""
            },
            "type": "mesh3d"
           }
          ],
          "parcoords": [
           {
            "line": {
             "colorbar": {
              "outlinewidth": 0,
              "ticks": ""
             }
            },
            "type": "parcoords"
           }
          ],
          "pie": [
           {
            "automargin": true,
            "type": "pie"
           }
          ],
          "scatter": [
           {
            "fillpattern": {
             "fillmode": "overlay",
             "size": 10,
             "solidity": 0.2
            },
            "type": "scatter"
           }
          ],
          "scatter3d": [
           {
            "line": {
             "colorbar": {
              "outlinewidth": 0,
              "ticks": ""
             }
            },
            "marker": {
             "colorbar": {
              "outlinewidth": 0,
              "ticks": ""
             }
            },
            "type": "scatter3d"
           }
          ],
          "scattercarpet": [
           {
            "marker": {
             "colorbar": {
              "outlinewidth": 0,
              "ticks": ""
             }
            },
            "type": "scattercarpet"
           }
          ],
          "scattergeo": [
           {
            "marker": {
             "colorbar": {
              "outlinewidth": 0,
              "ticks": ""
             }
            },
            "type": "scattergeo"
           }
          ],
          "scattergl": [
           {
            "marker": {
             "colorbar": {
              "outlinewidth": 0,
              "ticks": ""
             }
            },
            "type": "scattergl"
           }
          ],
          "scattermapbox": [
           {
            "marker": {
             "colorbar": {
              "outlinewidth": 0,
              "ticks": ""
             }
            },
            "type": "scattermapbox"
           }
          ],
          "scatterpolar": [
           {
            "marker": {
             "colorbar": {
              "outlinewidth": 0,
              "ticks": ""
             }
            },
            "type": "scatterpolar"
           }
          ],
          "scatterpolargl": [
           {
            "marker": {
             "colorbar": {
              "outlinewidth": 0,
              "ticks": ""
             }
            },
            "type": "scatterpolargl"
           }
          ],
          "scatterternary": [
           {
            "marker": {
             "colorbar": {
              "outlinewidth": 0,
              "ticks": ""
             }
            },
            "type": "scatterternary"
           }
          ],
          "surface": [
           {
            "colorbar": {
             "outlinewidth": 0,
             "ticks": ""
            },
            "colorscale": [
             [
              0,
              "#0d0887"
             ],
             [
              0.1111111111111111,
              "#46039f"
             ],
             [
              0.2222222222222222,
              "#7201a8"
             ],
             [
              0.3333333333333333,
              "#9c179e"
             ],
             [
              0.4444444444444444,
              "#bd3786"
             ],
             [
              0.5555555555555556,
              "#d8576b"
             ],
             [
              0.6666666666666666,
              "#ed7953"
             ],
             [
              0.7777777777777778,
              "#fb9f3a"
             ],
             [
              0.8888888888888888,
              "#fdca26"
             ],
             [
              1,
              "#f0f921"
             ]
            ],
            "type": "surface"
           }
          ],
          "table": [
           {
            "cells": {
             "fill": {
              "color": "#EBF0F8"
             },
             "line": {
              "color": "white"
             }
            },
            "header": {
             "fill": {
              "color": "#C8D4E3"
             },
             "line": {
              "color": "white"
             }
            },
            "type": "table"
           }
          ]
         },
         "layout": {
          "annotationdefaults": {
           "arrowcolor": "#2a3f5f",
           "arrowhead": 0,
           "arrowwidth": 1
          },
          "autotypenumbers": "strict",
          "coloraxis": {
           "colorbar": {
            "outlinewidth": 0,
            "ticks": ""
           }
          },
          "colorscale": {
           "diverging": [
            [
             0,
             "#8e0152"
            ],
            [
             0.1,
             "#c51b7d"
            ],
            [
             0.2,
             "#de77ae"
            ],
            [
             0.3,
             "#f1b6da"
            ],
            [
             0.4,
             "#fde0ef"
            ],
            [
             0.5,
             "#f7f7f7"
            ],
            [
             0.6,
             "#e6f5d0"
            ],
            [
             0.7,
             "#b8e186"
            ],
            [
             0.8,
             "#7fbc41"
            ],
            [
             0.9,
             "#4d9221"
            ],
            [
             1,
             "#276419"
            ]
           ],
           "sequential": [
            [
             0,
             "#0d0887"
            ],
            [
             0.1111111111111111,
             "#46039f"
            ],
            [
             0.2222222222222222,
             "#7201a8"
            ],
            [
             0.3333333333333333,
             "#9c179e"
            ],
            [
             0.4444444444444444,
             "#bd3786"
            ],
            [
             0.5555555555555556,
             "#d8576b"
            ],
            [
             0.6666666666666666,
             "#ed7953"
            ],
            [
             0.7777777777777778,
             "#fb9f3a"
            ],
            [
             0.8888888888888888,
             "#fdca26"
            ],
            [
             1,
             "#f0f921"
            ]
           ],
           "sequentialminus": [
            [
             0,
             "#0d0887"
            ],
            [
             0.1111111111111111,
             "#46039f"
            ],
            [
             0.2222222222222222,
             "#7201a8"
            ],
            [
             0.3333333333333333,
             "#9c179e"
            ],
            [
             0.4444444444444444,
             "#bd3786"
            ],
            [
             0.5555555555555556,
             "#d8576b"
            ],
            [
             0.6666666666666666,
             "#ed7953"
            ],
            [
             0.7777777777777778,
             "#fb9f3a"
            ],
            [
             0.8888888888888888,
             "#fdca26"
            ],
            [
             1,
             "#f0f921"
            ]
           ]
          },
          "colorway": [
           "#636efa",
           "#EF553B",
           "#00cc96",
           "#ab63fa",
           "#FFA15A",
           "#19d3f3",
           "#FF6692",
           "#B6E880",
           "#FF97FF",
           "#FECB52"
          ],
          "font": {
           "color": "#2a3f5f"
          },
          "geo": {
           "bgcolor": "white",
           "lakecolor": "white",
           "landcolor": "#E5ECF6",
           "showlakes": true,
           "showland": true,
           "subunitcolor": "white"
          },
          "hoverlabel": {
           "align": "left"
          },
          "hovermode": "closest",
          "mapbox": {
           "style": "light"
          },
          "paper_bgcolor": "white",
          "plot_bgcolor": "#E5ECF6",
          "polar": {
           "angularaxis": {
            "gridcolor": "white",
            "linecolor": "white",
            "ticks": ""
           },
           "bgcolor": "#E5ECF6",
           "radialaxis": {
            "gridcolor": "white",
            "linecolor": "white",
            "ticks": ""
           }
          },
          "scene": {
           "xaxis": {
            "backgroundcolor": "#E5ECF6",
            "gridcolor": "white",
            "gridwidth": 2,
            "linecolor": "white",
            "showbackground": true,
            "ticks": "",
            "zerolinecolor": "white"
           },
           "yaxis": {
            "backgroundcolor": "#E5ECF6",
            "gridcolor": "white",
            "gridwidth": 2,
            "linecolor": "white",
            "showbackground": true,
            "ticks": "",
            "zerolinecolor": "white"
           },
           "zaxis": {
            "backgroundcolor": "#E5ECF6",
            "gridcolor": "white",
            "gridwidth": 2,
            "linecolor": "white",
            "showbackground": true,
            "ticks": "",
            "zerolinecolor": "white"
           }
          },
          "shapedefaults": {
           "line": {
            "color": "#2a3f5f"
           }
          },
          "ternary": {
           "aaxis": {
            "gridcolor": "white",
            "linecolor": "white",
            "ticks": ""
           },
           "baxis": {
            "gridcolor": "white",
            "linecolor": "white",
            "ticks": ""
           },
           "bgcolor": "#E5ECF6",
           "caxis": {
            "gridcolor": "white",
            "linecolor": "white",
            "ticks": ""
           }
          },
          "title": {
           "x": 0.05
          },
          "xaxis": {
           "automargin": true,
           "gridcolor": "white",
           "linecolor": "white",
           "ticks": "",
           "title": {
            "standoff": 15
           },
           "zerolinecolor": "white",
           "zerolinewidth": 2
          },
          "yaxis": {
           "automargin": true,
           "gridcolor": "white",
           "linecolor": "white",
           "ticks": "",
           "title": {
            "standoff": 15
           },
           "zerolinecolor": "white",
           "zerolinewidth": 2
          }
         }
        },
        "title": {
         "text": "Distribution of Work Years"
        }
       }
      }
     },
     "metadata": {},
     "output_type": "display_data"
    }
   ],
   "source": [
    "work_year = df_ds['work_year'].value_counts()\n",
    "\n",
    "fig = px.pie(values = work_year.values, names = work_year.index, title = 'Distribution of Work Years')\n",
    "\n",
    "fig.show()"
   ]
  },
  {
   "cell_type": "markdown",
   "metadata": {},
   "source": [
    "Why are we doing this analysis in the first place? \n",
    "- According to the pie chart above, it is important to note that since 2020, there has been a huge growth/demand in the Data Science jobs!"
   ]
  },
  {
   "cell_type": "markdown",
   "metadata": {},
   "source": [
    "#### Distribution of Salary + Salary in USD"
   ]
  },
  {
   "cell_type": "code",
   "execution_count": 18,
   "metadata": {},
   "outputs": [
    {
     "data": {
      "application/vnd.plotly.v1+json": {
       "config": {
        "plotlyServerURL": "https://plot.ly"
       },
       "data": [
        {
         "alignmentgroup": "True",
         "hovertemplate": "y=%{y}<extra></extra>",
         "legendgroup": "",
         "marker": {
          "color": "#636efa"
         },
         "name": "",
         "notched": false,
         "offsetgroup": "",
         "orientation": "v",
         "showlegend": false,
         "type": "box",
         "x0": " ",
         "xaxis": "x",
         "y": [
          100000,
          150000,
          120000,
          160000,
          130000,
          200000,
          140000,
          135000,
          145000,
          175000,
          180000,
          170000,
          110000,
          90000,
          80000,
          75000,
          95000,
          250000,
          129300,
          185900,
          115000,
          85000,
          125000,
          165000,
          210000,
          70000,
          225000,
          190000,
          185000,
          155000,
          105000,
          141525,
          50000,
          191475,
          220000,
          60000,
          136000,
          65000,
          230000,
          204500,
          63000,
          153600,
          142200,
          129000,
          144000,
          252000,
          156400,
          205000,
          106800,
          126000,
          169000,
          260000,
          146000,
          128000,
          300000,
          110600,
          113000,
          184000,
          172200,
          247500,
          139500,
          84053,
          235000,
          92350,
          163800,
          73546,
          134000,
          47280,
          109400,
          78000,
          48000,
          81666,
          115934,
          55000,
          20000,
          61566,
          122000,
          240000,
          153000,
          275300,
          162500,
          81500,
          154000,
          104000,
          112000,
          36773,
          105200,
          73880,
          30000,
          90700,
          108000,
          152000,
          239000,
          131300,
          310000,
          231250,
          37824,
          48289,
          138750,
          38631,
          237000,
          167500,
          195000,
          168000,
          168400,
          12000,
          216000,
          90320,
          183500,
          275000,
          106000,
          201000,
          109000,
          186000,
          245000,
          106500,
          198200,
          99000,
          106020,
          215000,
          94000,
          226700,
          72000,
          52533,
          50432,
          203500,
          245100,
          52500,
          124000,
          183000,
          180180,
          67723,
          147100,
          86193,
          49253,
          10000,
          222200,
          133300,
          68293,
          127000,
          40000,
          63040,
          72914,
          192000,
          154600,
          174500,
          299500,
          31520,
          112900,
          102100,
          139000,
          116000,
          206000,
          119000,
          149040,
          199000,
          142000,
          153400,
          113900,
          126500,
          122700,
          84000,
          205600,
          207000,
          297300,
          132000,
          87000,
          197000,
          182000,
          147000,
          196000,
          58000,
          117000,
          164000,
          123000,
          43096,
          54685,
          195400,
          198440,
          98506,
          141300,
          80036,
          191200,
          42026,
          105500,
          85066,
          174000,
          173000,
          110820,
          179820,
          120250,
          193900,
          143860,
          140400,
          151800,
          140250,
          104663,
          54000,
          132320,
          148800,
          148000,
          175100,
          236000,
          249500,
          166000,
          92000,
          105700,
          89306,
          62000,
          76833,
          205300,
          88654,
          132300,
          66000,
          176000,
          265000,
          109371,
          51039,
          78990,
          183310,
          152500,
          137500,
          102000,
          75116,
          138000,
          276000,
          51508,
          60938,
          53654,
          24000,
          128875,
          93700,
          109280,
          98000,
          55410,
          183600,
          189650,
          164996,
          159000,
          167000,
          198800,
          148500,
          149076,
          82365,
          228000,
          121700,
          42533,
          149850,
          162000,
          38000,
          122500,
          241000,
          85500,
          15000,
          240500,
          116100,
          259000,
          187200,
          288000,
          97218,
          60761,
          154545,
          136994,
          48609,
          132100,
          229998,
          184700,
          184100,
          65488,
          83171,
          370000,
          124740,
          130500,
          167580,
          5409,
          107309,
          114000,
          202000,
          8000,
          158000,
          179400,
          93800,
          76814,
          300240,
          200160,
          123400,
          43809,
          42000,
          157000,
          88100,
          195700,
          171600,
          17805,
          93000,
          73000,
          205920,
          87980,
          177000,
          101570,
          144100,
          74540,
          79000,
          89200,
          209100,
          215300,
          77262,
          40777,
          129400,
          194000,
          291500,
          110925,
          150075,
          16904,
          25000,
          166700,
          187500,
          13493,
          165750,
          54094,
          272550,
          64000,
          99100,
          206699,
          30523,
          202900,
          39925,
          246000,
          122600,
          99450,
          124234,
          216200,
          156600,
          70186,
          243900,
          144854,
          192564,
          81000,
          116250,
          253750,
          169200,
          193750,
          375000,
          61300,
          192500,
          118000,
          121523,
          106260,
          160080,
          161000,
          63192,
          220110,
          248100,
          145900,
          115360,
          107000,
          182750,
          350000,
          115573,
          36940,
          119300,
          171000,
          165400,
          85847,
          178800,
          64385,
          69751,
          92700,
          66837,
          57723,
          96578,
          159832,
          121500,
          224000,
          186300,
          102500,
          182500,
          17022,
          110500,
          100500,
          75020,
          213120,
          59102,
          113750,
          159100,
          309400,
          201450,
          115500,
          171250,
          239748,
          172000,
          79833,
          61800,
          188800,
          141600,
          148700,
          125600,
          214000,
          128500,
          289800,
          149600,
          133000,
          203000,
          133800,
          151000,
          138900,
          104300,
          318300,
          143000,
          6072,
          202800,
          59888,
          258000,
          46178,
          238000,
          62726,
          257000,
          202353,
          101228,
          69741,
          221000,
          187000,
          63831,
          86000,
          51962,
          24823,
          143200,
          82528,
          161500,
          130760,
          213660,
          148750,
          219000,
          289076,
          161800,
          59020,
          193000,
          191765,
          90734,
          134236,
          123700,
          210914,
          116704,
          21844,
          71786,
          33808,
          140100,
          177600,
          128058,
          116914,
          95386,
          6270,
          46597,
          137400,
          16228,
          141846,
          12171,
          185800,
          54634,
          82000,
          189500,
          56256,
          61467,
          40481,
          96113,
          39916,
          248700,
          9272,
          139860,
          167100,
          5723,
          188100,
          51321,
          24342,
          22611,
          37825,
          416000,
          40038,
          26005,
          35735,
          124270,
          5679,
          28609,
          146200,
          29944,
          91237,
          18053,
          46809,
          38776,
          148261,
          173762,
          102200,
          22892,
          18907,
          8050,
          18000,
          74000,
          61896,
          87738,
          222640,
          19609,
          45391,
          190200,
          243225,
          412000,
          28369,
          99750,
          68400,
          236900,
          159200,
          179775,
          138350,
          218000,
          145300,
          423000,
          119059,
          45618,
          130800,
          21669,
          182160,
          297500,
          56000,
          46000,
          204100,
          66022,
          47899,
          131752,
          136100,
          118208,
          82280,
          5707,
          19073,
          7500,
          53368,
          114047,
          41689,
          56738,
          104611,
          7799,
          97500,
          42197,
          5882,
          57786,
          45390,
          12901,
          40189,
          212800,
          80041,
          142800,
          45896,
          6359,
          130240,
          325000,
          102663,
          53416,
          20171,
          260500,
          67000,
          53192,
          69000,
          45760,
          172386,
          79197,
          324000,
          28476,
          185100,
          153667,
          104890,
          47282,
          54238,
          270000,
          117104,
          103000,
          52000,
          150260,
          192037,
          266400,
          51519,
          187442,
          95550,
          30428,
          136600,
          167875,
          94564,
          113476,
          103160,
          50180,
          200100,
          70500,
          116150,
          99050,
          192600,
          75774,
          13400,
          77119,
          380000,
          130026,
          65141,
          77364,
          63711,
          155499,
          62649,
          59303,
          82744,
          42028,
          38400,
          82500,
          110037,
          49646,
          10354,
          9466,
          120402,
          405000,
          127221,
          68428,
          74130,
          55685,
          69133,
          67597,
          46759,
          102839,
          51081,
          83864,
          54742,
          33609,
          450000,
          30469,
          69999,
          55475,
          61989,
          192400,
          138600,
          211500,
          65257,
          109024,
          63810,
          21637,
          22800,
          22809,
          133766,
          83000,
          103691,
          99703,
          91000,
          72212,
          65666,
          116976,
          105400,
          49268,
          256000,
          72500,
          137141,
          40570,
          52008,
          66265,
          25532,
          93150,
          221300,
          28368,
          91118,
          111775,
          249260,
          185400,
          28016,
          65013,
          136260,
          77684,
          135446,
          158200,
          36643,
          12103,
          115222,
          165220,
          89294,
          120160,
          124190,
          181940,
          76958,
          95746,
          15966,
          36259,
          120600,
          84900,
          112872,
          136620,
          99360,
          161342,
          242000,
          108800,
          112300,
          100800,
          96282,
          33511,
          208775,
          147800,
          76309,
          35093,
          70139,
          29751,
          60757,
          28399,
          51064,
          82900,
          188000,
          63900,
          21013,
          24740,
          45050,
          60093,
          201036,
          134024,
          172600,
          107900,
          376080,
          206500,
          121600,
          194500,
          115100,
          73900,
          141288,
          94192,
          18238,
          185700,
          136850,
          178500,
          195652,
          83500,
          172309,
          126277,
          60400,
          223250,
          178600,
          353200,
          249300,
          317070,
          170730,
          21461,
          124500,
          423834,
          143865,
          115092,
          208049,
          80481,
          7000,
          42923,
          111000,
          121093,
          136956,
          128750,
          106250,
          188500,
          121904,
          128280,
          106900,
          170500,
          72946,
          54365,
          160288,
          127467,
          72200,
          64980,
          179975,
          86466,
          269000,
          290000,
          172800,
          115447,
          323300,
          152380,
          29453,
          15806,
          123900,
          123405,
          104500,
          210550,
          153300,
          119500,
          146300,
          214618,
          340000,
          71897,
          97750,
          116990,
          82920,
          127599,
          103294,
          34320,
          9289,
          286000,
          114500,
          203100,
          176100,
          231500,
          172500,
          280000,
          280100,
          168100,
          193500,
          65062,
          163196,
          145885,
          217000,
          179170,
          94300,
          116450,
          247300,
          56536,
          283200,
          214200,
          258750,
          189110,
          123600,
          20984,
          25500,
          141000,
          253200,
          342810,
          184590,
          105380,
          64500,
          204620,
          203300,
          110680,
          270703,
          221484,
          212750,
          262000,
          218500,
          199098,
          342300,
          138784,
          170550,
          83270,
          159500,
          130001,
          71907,
          93918,
          222000,
          133200,
          156000,
          304000,
          195895,
          102772,
          157750,
          104650,
          68000,
          181000,
          64200,
          56100,
          208450,
          250500,
          51753,
          150450,
          293000,
          212200,
          20670,
          68318,
          329500,
          269600,
          122900,
          88256,
          152900,
          280700,
          117100,
          149500,
          127075,
          219535,
          146115,
          179000,
          40663,
          153088,
          272000,
          126080,
          13000,
          227200,
          64090,
          243000,
          178000,
          96000,
          105236,
          189750,
          66192,
          179500,
          27317,
          105066,
          131000,
          208000,
          45555,
          17684,
          140700,
          104697,
          213000,
          51716,
          17779,
          79178,
          94560,
          248400,
          56723,
          24165,
          149000,
          31795,
          44365,
          35610,
          58837,
          102640,
          66100,
          255000,
          430967,
          178750,
          197430,
          134760,
          110446,
          33000,
          34672,
          154560,
          123648,
          73742,
          33246,
          75050,
          139600,
          85700,
          98200,
          57000,
          161311,
          144200,
          38154,
          125976,
          188700,
          160395,
          75648,
          156868,
          69344,
          5132,
          236600,
          130050,
          175950,
          57872,
          177500,
          179305,
          142127,
          315000,
          77300,
          45600,
          12608,
          159699,
          230400,
          138938,
          76000,
          103432,
          125404,
          92250,
          97000,
          345600,
          51000,
          127500,
          94500,
          103200,
          36000,
          216100,
          140800,
          145828,
          284000,
          155850,
          102544,
          151410,
          66531,
          125686,
          12767,
          26827,
          23000,
          314100,
          195800,
          262500,
          209450,
          133832,
          241871,
          93919,
          151902,
          19522,
          215050,
          198000,
          209300,
          182200,
          227000,
          55800,
          9727,
          385000,
          213580,
          163625,
          101943,
          16414,
          284310,
          153090,
          225900,
          158677,
          61200,
          13989,
          66970,
          126100,
          25216,
          109006,
          67141,
          175308,
          100706,
          229000,
          37558,
          18314,
          143100,
          180560,
          115440,
          75344,
          58331,
          14307,
          261500,
          134500,
          96100,
          150900,
          196200,
          12888,
          63312,
          107250,
          285800,
          60795,
          141290,
          74178,
          107500,
          12877,
          167200,
          6304,
          17509,
          15897,
          234100,
          223800,
          172100,
          232200,
          94665
         ],
         "y0": " ",
         "yaxis": "y"
        }
       ],
       "layout": {
        "boxmode": "group",
        "legend": {
         "tracegroupgap": 0
        },
        "template": {
         "data": {
          "bar": [
           {
            "error_x": {
             "color": "#2a3f5f"
            },
            "error_y": {
             "color": "#2a3f5f"
            },
            "marker": {
             "line": {
              "color": "#E5ECF6",
              "width": 0.5
             },
             "pattern": {
              "fillmode": "overlay",
              "size": 10,
              "solidity": 0.2
             }
            },
            "type": "bar"
           }
          ],
          "barpolar": [
           {
            "marker": {
             "line": {
              "color": "#E5ECF6",
              "width": 0.5
             },
             "pattern": {
              "fillmode": "overlay",
              "size": 10,
              "solidity": 0.2
             }
            },
            "type": "barpolar"
           }
          ],
          "carpet": [
           {
            "aaxis": {
             "endlinecolor": "#2a3f5f",
             "gridcolor": "white",
             "linecolor": "white",
             "minorgridcolor": "white",
             "startlinecolor": "#2a3f5f"
            },
            "baxis": {
             "endlinecolor": "#2a3f5f",
             "gridcolor": "white",
             "linecolor": "white",
             "minorgridcolor": "white",
             "startlinecolor": "#2a3f5f"
            },
            "type": "carpet"
           }
          ],
          "choropleth": [
           {
            "colorbar": {
             "outlinewidth": 0,
             "ticks": ""
            },
            "type": "choropleth"
           }
          ],
          "contour": [
           {
            "colorbar": {
             "outlinewidth": 0,
             "ticks": ""
            },
            "colorscale": [
             [
              0,
              "#0d0887"
             ],
             [
              0.1111111111111111,
              "#46039f"
             ],
             [
              0.2222222222222222,
              "#7201a8"
             ],
             [
              0.3333333333333333,
              "#9c179e"
             ],
             [
              0.4444444444444444,
              "#bd3786"
             ],
             [
              0.5555555555555556,
              "#d8576b"
             ],
             [
              0.6666666666666666,
              "#ed7953"
             ],
             [
              0.7777777777777778,
              "#fb9f3a"
             ],
             [
              0.8888888888888888,
              "#fdca26"
             ],
             [
              1,
              "#f0f921"
             ]
            ],
            "type": "contour"
           }
          ],
          "contourcarpet": [
           {
            "colorbar": {
             "outlinewidth": 0,
             "ticks": ""
            },
            "type": "contourcarpet"
           }
          ],
          "heatmap": [
           {
            "colorbar": {
             "outlinewidth": 0,
             "ticks": ""
            },
            "colorscale": [
             [
              0,
              "#0d0887"
             ],
             [
              0.1111111111111111,
              "#46039f"
             ],
             [
              0.2222222222222222,
              "#7201a8"
             ],
             [
              0.3333333333333333,
              "#9c179e"
             ],
             [
              0.4444444444444444,
              "#bd3786"
             ],
             [
              0.5555555555555556,
              "#d8576b"
             ],
             [
              0.6666666666666666,
              "#ed7953"
             ],
             [
              0.7777777777777778,
              "#fb9f3a"
             ],
             [
              0.8888888888888888,
              "#fdca26"
             ],
             [
              1,
              "#f0f921"
             ]
            ],
            "type": "heatmap"
           }
          ],
          "heatmapgl": [
           {
            "colorbar": {
             "outlinewidth": 0,
             "ticks": ""
            },
            "colorscale": [
             [
              0,
              "#0d0887"
             ],
             [
              0.1111111111111111,
              "#46039f"
             ],
             [
              0.2222222222222222,
              "#7201a8"
             ],
             [
              0.3333333333333333,
              "#9c179e"
             ],
             [
              0.4444444444444444,
              "#bd3786"
             ],
             [
              0.5555555555555556,
              "#d8576b"
             ],
             [
              0.6666666666666666,
              "#ed7953"
             ],
             [
              0.7777777777777778,
              "#fb9f3a"
             ],
             [
              0.8888888888888888,
              "#fdca26"
             ],
             [
              1,
              "#f0f921"
             ]
            ],
            "type": "heatmapgl"
           }
          ],
          "histogram": [
           {
            "marker": {
             "pattern": {
              "fillmode": "overlay",
              "size": 10,
              "solidity": 0.2
             }
            },
            "type": "histogram"
           }
          ],
          "histogram2d": [
           {
            "colorbar": {
             "outlinewidth": 0,
             "ticks": ""
            },
            "colorscale": [
             [
              0,
              "#0d0887"
             ],
             [
              0.1111111111111111,
              "#46039f"
             ],
             [
              0.2222222222222222,
              "#7201a8"
             ],
             [
              0.3333333333333333,
              "#9c179e"
             ],
             [
              0.4444444444444444,
              "#bd3786"
             ],
             [
              0.5555555555555556,
              "#d8576b"
             ],
             [
              0.6666666666666666,
              "#ed7953"
             ],
             [
              0.7777777777777778,
              "#fb9f3a"
             ],
             [
              0.8888888888888888,
              "#fdca26"
             ],
             [
              1,
              "#f0f921"
             ]
            ],
            "type": "histogram2d"
           }
          ],
          "histogram2dcontour": [
           {
            "colorbar": {
             "outlinewidth": 0,
             "ticks": ""
            },
            "colorscale": [
             [
              0,
              "#0d0887"
             ],
             [
              0.1111111111111111,
              "#46039f"
             ],
             [
              0.2222222222222222,
              "#7201a8"
             ],
             [
              0.3333333333333333,
              "#9c179e"
             ],
             [
              0.4444444444444444,
              "#bd3786"
             ],
             [
              0.5555555555555556,
              "#d8576b"
             ],
             [
              0.6666666666666666,
              "#ed7953"
             ],
             [
              0.7777777777777778,
              "#fb9f3a"
             ],
             [
              0.8888888888888888,
              "#fdca26"
             ],
             [
              1,
              "#f0f921"
             ]
            ],
            "type": "histogram2dcontour"
           }
          ],
          "mesh3d": [
           {
            "colorbar": {
             "outlinewidth": 0,
             "ticks": ""
            },
            "type": "mesh3d"
           }
          ],
          "parcoords": [
           {
            "line": {
             "colorbar": {
              "outlinewidth": 0,
              "ticks": ""
             }
            },
            "type": "parcoords"
           }
          ],
          "pie": [
           {
            "automargin": true,
            "type": "pie"
           }
          ],
          "scatter": [
           {
            "fillpattern": {
             "fillmode": "overlay",
             "size": 10,
             "solidity": 0.2
            },
            "type": "scatter"
           }
          ],
          "scatter3d": [
           {
            "line": {
             "colorbar": {
              "outlinewidth": 0,
              "ticks": ""
             }
            },
            "marker": {
             "colorbar": {
              "outlinewidth": 0,
              "ticks": ""
             }
            },
            "type": "scatter3d"
           }
          ],
          "scattercarpet": [
           {
            "marker": {
             "colorbar": {
              "outlinewidth": 0,
              "ticks": ""
             }
            },
            "type": "scattercarpet"
           }
          ],
          "scattergeo": [
           {
            "marker": {
             "colorbar": {
              "outlinewidth": 0,
              "ticks": ""
             }
            },
            "type": "scattergeo"
           }
          ],
          "scattergl": [
           {
            "marker": {
             "colorbar": {
              "outlinewidth": 0,
              "ticks": ""
             }
            },
            "type": "scattergl"
           }
          ],
          "scattermapbox": [
           {
            "marker": {
             "colorbar": {
              "outlinewidth": 0,
              "ticks": ""
             }
            },
            "type": "scattermapbox"
           }
          ],
          "scatterpolar": [
           {
            "marker": {
             "colorbar": {
              "outlinewidth": 0,
              "ticks": ""
             }
            },
            "type": "scatterpolar"
           }
          ],
          "scatterpolargl": [
           {
            "marker": {
             "colorbar": {
              "outlinewidth": 0,
              "ticks": ""
             }
            },
            "type": "scatterpolargl"
           }
          ],
          "scatterternary": [
           {
            "marker": {
             "colorbar": {
              "outlinewidth": 0,
              "ticks": ""
             }
            },
            "type": "scatterternary"
           }
          ],
          "surface": [
           {
            "colorbar": {
             "outlinewidth": 0,
             "ticks": ""
            },
            "colorscale": [
             [
              0,
              "#0d0887"
             ],
             [
              0.1111111111111111,
              "#46039f"
             ],
             [
              0.2222222222222222,
              "#7201a8"
             ],
             [
              0.3333333333333333,
              "#9c179e"
             ],
             [
              0.4444444444444444,
              "#bd3786"
             ],
             [
              0.5555555555555556,
              "#d8576b"
             ],
             [
              0.6666666666666666,
              "#ed7953"
             ],
             [
              0.7777777777777778,
              "#fb9f3a"
             ],
             [
              0.8888888888888888,
              "#fdca26"
             ],
             [
              1,
              "#f0f921"
             ]
            ],
            "type": "surface"
           }
          ],
          "table": [
           {
            "cells": {
             "fill": {
              "color": "#EBF0F8"
             },
             "line": {
              "color": "white"
             }
            },
            "header": {
             "fill": {
              "color": "#C8D4E3"
             },
             "line": {
              "color": "white"
             }
            },
            "type": "table"
           }
          ]
         },
         "layout": {
          "annotationdefaults": {
           "arrowcolor": "#2a3f5f",
           "arrowhead": 0,
           "arrowwidth": 1
          },
          "autotypenumbers": "strict",
          "coloraxis": {
           "colorbar": {
            "outlinewidth": 0,
            "ticks": ""
           }
          },
          "colorscale": {
           "diverging": [
            [
             0,
             "#8e0152"
            ],
            [
             0.1,
             "#c51b7d"
            ],
            [
             0.2,
             "#de77ae"
            ],
            [
             0.3,
             "#f1b6da"
            ],
            [
             0.4,
             "#fde0ef"
            ],
            [
             0.5,
             "#f7f7f7"
            ],
            [
             0.6,
             "#e6f5d0"
            ],
            [
             0.7,
             "#b8e186"
            ],
            [
             0.8,
             "#7fbc41"
            ],
            [
             0.9,
             "#4d9221"
            ],
            [
             1,
             "#276419"
            ]
           ],
           "sequential": [
            [
             0,
             "#0d0887"
            ],
            [
             0.1111111111111111,
             "#46039f"
            ],
            [
             0.2222222222222222,
             "#7201a8"
            ],
            [
             0.3333333333333333,
             "#9c179e"
            ],
            [
             0.4444444444444444,
             "#bd3786"
            ],
            [
             0.5555555555555556,
             "#d8576b"
            ],
            [
             0.6666666666666666,
             "#ed7953"
            ],
            [
             0.7777777777777778,
             "#fb9f3a"
            ],
            [
             0.8888888888888888,
             "#fdca26"
            ],
            [
             1,
             "#f0f921"
            ]
           ],
           "sequentialminus": [
            [
             0,
             "#0d0887"
            ],
            [
             0.1111111111111111,
             "#46039f"
            ],
            [
             0.2222222222222222,
             "#7201a8"
            ],
            [
             0.3333333333333333,
             "#9c179e"
            ],
            [
             0.4444444444444444,
             "#bd3786"
            ],
            [
             0.5555555555555556,
             "#d8576b"
            ],
            [
             0.6666666666666666,
             "#ed7953"
            ],
            [
             0.7777777777777778,
             "#fb9f3a"
            ],
            [
             0.8888888888888888,
             "#fdca26"
            ],
            [
             1,
             "#f0f921"
            ]
           ]
          },
          "colorway": [
           "#636efa",
           "#EF553B",
           "#00cc96",
           "#ab63fa",
           "#FFA15A",
           "#19d3f3",
           "#FF6692",
           "#B6E880",
           "#FF97FF",
           "#FECB52"
          ],
          "font": {
           "color": "#2a3f5f"
          },
          "geo": {
           "bgcolor": "white",
           "lakecolor": "white",
           "landcolor": "#E5ECF6",
           "showlakes": true,
           "showland": true,
           "subunitcolor": "white"
          },
          "hoverlabel": {
           "align": "left"
          },
          "hovermode": "closest",
          "mapbox": {
           "style": "light"
          },
          "paper_bgcolor": "white",
          "plot_bgcolor": "#E5ECF6",
          "polar": {
           "angularaxis": {
            "gridcolor": "white",
            "linecolor": "white",
            "ticks": ""
           },
           "bgcolor": "#E5ECF6",
           "radialaxis": {
            "gridcolor": "white",
            "linecolor": "white",
            "ticks": ""
           }
          },
          "scene": {
           "xaxis": {
            "backgroundcolor": "#E5ECF6",
            "gridcolor": "white",
            "gridwidth": 2,
            "linecolor": "white",
            "showbackground": true,
            "ticks": "",
            "zerolinecolor": "white"
           },
           "yaxis": {
            "backgroundcolor": "#E5ECF6",
            "gridcolor": "white",
            "gridwidth": 2,
            "linecolor": "white",
            "showbackground": true,
            "ticks": "",
            "zerolinecolor": "white"
           },
           "zaxis": {
            "backgroundcolor": "#E5ECF6",
            "gridcolor": "white",
            "gridwidth": 2,
            "linecolor": "white",
            "showbackground": true,
            "ticks": "",
            "zerolinecolor": "white"
           }
          },
          "shapedefaults": {
           "line": {
            "color": "#2a3f5f"
           }
          },
          "ternary": {
           "aaxis": {
            "gridcolor": "white",
            "linecolor": "white",
            "ticks": ""
           },
           "baxis": {
            "gridcolor": "white",
            "linecolor": "white",
            "ticks": ""
           },
           "bgcolor": "#E5ECF6",
           "caxis": {
            "gridcolor": "white",
            "linecolor": "white",
            "ticks": ""
           }
          },
          "title": {
           "x": 0.05
          },
          "xaxis": {
           "automargin": true,
           "gridcolor": "white",
           "linecolor": "white",
           "ticks": "",
           "title": {
            "standoff": 15
           },
           "zerolinecolor": "white",
           "zerolinewidth": 2
          },
          "yaxis": {
           "automargin": true,
           "gridcolor": "white",
           "linecolor": "white",
           "ticks": "",
           "title": {
            "standoff": 15
           },
           "zerolinecolor": "white",
           "zerolinewidth": 2
          }
         }
        },
        "title": {
         "text": "Distribution of Salary"
        },
        "xaxis": {
         "anchor": "y",
         "domain": [
          0,
          1
         ]
        },
        "yaxis": {
         "anchor": "x",
         "domain": [
          0,
          1
         ],
         "title": {
          "text": "Salary"
         }
        }
       }
      }
     },
     "metadata": {},
     "output_type": "display_data"
    },
    {
     "data": {
      "text/plain": [
       "<Figure size 1200x800 with 0 Axes>"
      ]
     },
     "metadata": {},
     "output_type": "display_data"
    }
   ],
   "source": [
    "plt.figure(figsize=(12, 8))\n",
    "\n",
    "salary = df_ds['salary_in_usd'].value_counts()\n",
    "\n",
    "fig = px.box(y = salary.index, title = 'Distribution of Salary')\n",
    "\n",
    "fig.update_layout(yaxis_title = 'Salary')\n",
    "fig.show()\n",
    "\n",
    "#### *Potential Outliers in the dataset?*"
   ]
  },
  {
   "cell_type": "code",
   "execution_count": 19,
   "metadata": {},
   "outputs": [
    {
     "data": {
      "application/vnd.plotly.v1+json": {
       "config": {
        "plotlyServerURL": "https://plot.ly"
       },
       "data": [
        {
         "alignmentgroup": "True",
         "bingroup": "x",
         "histfunc": "sum",
         "hovertemplate": "x=%{x}<br>sum of y=%{y}<extra></extra>",
         "legendgroup": "",
         "marker": {
          "color": "#636efa",
          "pattern": {
           "shape": ""
          }
         },
         "name": "",
         "offsetgroup": "",
         "orientation": "v",
         "showlegend": false,
         "type": "histogram",
         "x": [
          100000,
          150000,
          120000,
          160000,
          130000,
          200000,
          140000,
          135000,
          145000,
          175000,
          180000,
          170000,
          110000,
          90000,
          80000,
          75000,
          95000,
          250000,
          129300,
          185900,
          115000,
          85000,
          125000,
          165000,
          210000,
          70000,
          225000,
          190000,
          185000,
          155000,
          105000,
          141525,
          50000,
          191475,
          220000,
          60000,
          136000,
          65000,
          230000,
          204500,
          63000,
          153600,
          142200,
          129000,
          144000,
          252000,
          156400,
          205000,
          106800,
          126000,
          169000,
          260000,
          146000,
          128000,
          300000,
          110600,
          113000,
          184000,
          172200,
          247500,
          139500,
          84053,
          235000,
          92350,
          163800,
          73546,
          134000,
          47280,
          109400,
          78000,
          48000,
          81666,
          115934,
          55000,
          20000,
          61566,
          122000,
          240000,
          153000,
          275300,
          162500,
          81500,
          154000,
          104000,
          112000,
          36773,
          105200,
          73880,
          30000,
          90700,
          108000,
          152000,
          239000,
          131300,
          310000,
          231250,
          37824,
          48289,
          138750,
          38631,
          237000,
          167500,
          195000,
          168000,
          168400,
          12000,
          216000,
          90320,
          183500,
          275000,
          106000,
          201000,
          109000,
          186000,
          245000,
          106500,
          198200,
          99000,
          106020,
          215000,
          94000,
          226700,
          72000,
          52533,
          50432,
          203500,
          245100,
          52500,
          124000,
          183000,
          180180,
          67723,
          147100,
          86193,
          49253,
          10000,
          222200,
          133300,
          68293,
          127000,
          40000,
          63040,
          72914,
          192000,
          154600,
          174500,
          299500,
          31520,
          112900,
          102100,
          139000,
          116000,
          206000,
          119000,
          149040,
          199000,
          142000,
          153400,
          113900,
          126500,
          122700,
          84000,
          205600,
          207000,
          297300,
          132000,
          87000,
          197000,
          182000,
          147000,
          196000,
          58000,
          117000,
          164000,
          123000,
          43096,
          54685,
          195400,
          198440,
          98506,
          141300,
          80036,
          191200,
          42026,
          105500,
          85066,
          174000,
          173000,
          110820,
          179820,
          120250,
          193900,
          143860,
          140400,
          151800,
          140250,
          104663,
          54000,
          132320,
          148800,
          148000,
          175100,
          236000,
          249500,
          166000,
          92000,
          105700,
          89306,
          62000,
          76833,
          205300,
          88654,
          132300,
          66000,
          176000,
          265000,
          109371,
          51039,
          78990,
          183310,
          152500,
          137500,
          102000,
          75116,
          138000,
          276000,
          51508,
          60938,
          53654,
          24000,
          128875,
          93700,
          109280,
          98000,
          55410,
          183600,
          189650,
          164996,
          159000,
          167000,
          198800,
          148500,
          149076,
          82365,
          228000,
          121700,
          42533,
          149850,
          162000,
          38000,
          122500,
          241000,
          85500,
          15000,
          240500,
          116100,
          259000,
          187200,
          288000,
          97218,
          60761,
          154545,
          136994,
          48609,
          132100,
          229998,
          184700,
          184100,
          65488,
          83171,
          370000,
          124740,
          130500,
          167580,
          5409,
          107309,
          114000,
          202000,
          8000,
          158000,
          179400,
          93800,
          76814,
          300240,
          200160,
          123400,
          43809,
          42000,
          157000,
          88100,
          195700,
          171600,
          17805,
          93000,
          73000,
          205920,
          87980,
          177000,
          101570,
          144100,
          74540,
          79000,
          89200,
          209100,
          215300,
          77262,
          40777,
          129400,
          194000,
          291500,
          110925,
          150075,
          16904,
          25000,
          166700,
          187500,
          13493,
          165750,
          54094,
          272550,
          64000,
          99100,
          206699,
          30523,
          202900,
          39925,
          246000,
          122600,
          99450,
          124234,
          216200,
          156600,
          70186,
          243900,
          144854,
          192564,
          81000,
          116250,
          253750,
          169200,
          193750,
          375000,
          61300,
          192500,
          118000,
          121523,
          106260,
          160080,
          161000,
          63192,
          220110,
          248100,
          145900,
          115360,
          107000,
          182750,
          350000,
          115573,
          36940,
          119300,
          171000,
          165400,
          85847,
          178800,
          64385,
          69751,
          92700,
          66837,
          57723,
          96578,
          159832,
          121500,
          224000,
          186300,
          102500,
          182500,
          17022,
          110500,
          100500,
          75020,
          213120,
          59102,
          113750,
          159100,
          309400,
          201450,
          115500,
          171250,
          239748,
          172000,
          79833,
          61800,
          188800,
          141600,
          148700,
          125600,
          214000,
          128500,
          289800,
          149600,
          133000,
          203000,
          133800,
          151000,
          138900,
          104300,
          318300,
          143000,
          6072,
          202800,
          59888,
          258000,
          46178,
          238000,
          62726,
          257000,
          202353,
          101228,
          69741,
          221000,
          187000,
          63831,
          86000,
          51962,
          24823,
          143200,
          82528,
          161500,
          130760,
          213660,
          148750,
          219000,
          289076,
          161800,
          59020,
          193000,
          191765,
          90734,
          134236,
          123700,
          210914,
          116704,
          21844,
          71786,
          33808,
          140100,
          177600,
          128058,
          116914,
          95386,
          6270,
          46597,
          137400,
          16228,
          141846,
          12171,
          185800,
          54634,
          82000,
          189500,
          56256,
          61467,
          40481,
          96113,
          39916,
          248700,
          9272,
          139860,
          167100,
          5723,
          188100,
          51321,
          24342,
          22611,
          37825,
          416000,
          40038,
          26005,
          35735,
          124270,
          5679,
          28609,
          146200,
          29944,
          91237,
          18053,
          46809,
          38776,
          148261,
          173762,
          102200,
          22892,
          18907,
          8050,
          18000,
          74000,
          61896,
          87738,
          222640,
          19609,
          45391,
          190200,
          243225,
          412000,
          28369,
          99750,
          68400,
          236900,
          159200,
          179775,
          138350,
          218000,
          145300,
          423000,
          119059,
          45618,
          130800,
          21669,
          182160,
          297500,
          56000,
          46000,
          204100,
          66022,
          47899,
          131752,
          136100,
          118208,
          82280,
          5707,
          19073,
          7500,
          53368,
          114047,
          41689,
          56738,
          104611,
          7799,
          97500,
          42197,
          5882,
          57786,
          45390,
          12901,
          40189,
          212800,
          80041,
          142800,
          45896,
          6359,
          130240,
          325000,
          102663,
          53416,
          20171,
          260500,
          67000,
          53192,
          69000,
          45760,
          172386,
          79197,
          324000,
          28476,
          185100,
          153667,
          104890,
          47282,
          54238,
          270000,
          117104,
          103000,
          52000,
          150260,
          192037,
          266400,
          51519,
          187442,
          95550,
          30428,
          136600,
          167875,
          94564,
          113476,
          103160,
          50180,
          200100,
          70500,
          116150,
          99050,
          192600,
          75774,
          13400,
          77119,
          380000,
          130026,
          65141,
          77364,
          63711,
          155499,
          62649,
          59303,
          82744,
          42028,
          38400,
          82500,
          110037,
          49646,
          10354,
          9466,
          120402,
          405000,
          127221,
          68428,
          74130,
          55685,
          69133,
          67597,
          46759,
          102839,
          51081,
          83864,
          54742,
          33609,
          450000,
          30469,
          69999,
          55475,
          61989,
          192400,
          138600,
          211500,
          65257,
          109024,
          63810,
          21637,
          22800,
          22809,
          133766,
          83000,
          103691,
          99703,
          91000,
          72212,
          65666,
          116976,
          105400,
          49268,
          256000,
          72500,
          137141,
          40570,
          52008,
          66265,
          25532,
          93150,
          221300,
          28368,
          91118,
          111775,
          249260,
          185400,
          28016,
          65013,
          136260,
          77684,
          135446,
          158200,
          36643,
          12103,
          115222,
          165220,
          89294,
          120160,
          124190,
          181940,
          76958,
          95746,
          15966,
          36259,
          120600,
          84900,
          112872,
          136620,
          99360,
          161342,
          242000,
          108800,
          112300,
          100800,
          96282,
          33511,
          208775,
          147800,
          76309,
          35093,
          70139,
          29751,
          60757,
          28399,
          51064,
          82900,
          188000,
          63900,
          21013,
          24740,
          45050,
          60093,
          201036,
          134024,
          172600,
          107900,
          376080,
          206500,
          121600,
          194500,
          115100,
          73900,
          141288,
          94192,
          18238,
          185700,
          136850,
          178500,
          195652,
          83500,
          172309,
          126277,
          60400,
          223250,
          178600,
          353200,
          249300,
          317070,
          170730,
          21461,
          124500,
          423834,
          143865,
          115092,
          208049,
          80481,
          7000,
          42923,
          111000,
          121093,
          136956,
          128750,
          106250,
          188500,
          121904,
          128280,
          106900,
          170500,
          72946,
          54365,
          160288,
          127467,
          72200,
          64980,
          179975,
          86466,
          269000,
          290000,
          172800,
          115447,
          323300,
          152380,
          29453,
          15806,
          123900,
          123405,
          104500,
          210550,
          153300,
          119500,
          146300,
          214618,
          340000,
          71897,
          97750,
          116990,
          82920,
          127599,
          103294,
          34320,
          9289,
          286000,
          114500,
          203100,
          176100,
          231500,
          172500,
          280000,
          280100,
          168100,
          193500,
          65062,
          163196,
          145885,
          217000,
          179170,
          94300,
          116450,
          247300,
          56536,
          283200,
          214200,
          258750,
          189110,
          123600,
          20984,
          25500,
          141000,
          253200,
          342810,
          184590,
          105380,
          64500,
          204620,
          203300,
          110680,
          270703,
          221484,
          212750,
          262000,
          218500,
          199098,
          342300,
          138784,
          170550,
          83270,
          159500,
          130001,
          71907,
          93918,
          222000,
          133200,
          156000,
          304000,
          195895,
          102772,
          157750,
          104650,
          68000,
          181000,
          64200,
          56100,
          208450,
          250500,
          51753,
          150450,
          293000,
          212200,
          20670,
          68318,
          329500,
          269600,
          122900,
          88256,
          152900,
          280700,
          117100,
          149500,
          127075,
          219535,
          146115,
          179000,
          40663,
          153088,
          272000,
          126080,
          13000,
          227200,
          64090,
          243000,
          178000,
          96000,
          105236,
          189750,
          66192,
          179500,
          27317,
          105066,
          131000,
          208000,
          45555,
          17684,
          140700,
          104697,
          213000,
          51716,
          17779,
          79178,
          94560,
          248400,
          56723,
          24165,
          149000,
          31795,
          44365,
          35610,
          58837,
          102640,
          66100,
          255000,
          430967,
          178750,
          197430,
          134760,
          110446,
          33000,
          34672,
          154560,
          123648,
          73742,
          33246,
          75050,
          139600,
          85700,
          98200,
          57000,
          161311,
          144200,
          38154,
          125976,
          188700,
          160395,
          75648,
          156868,
          69344,
          5132,
          236600,
          130050,
          175950,
          57872,
          177500,
          179305,
          142127,
          315000,
          77300,
          45600,
          12608,
          159699,
          230400,
          138938,
          76000,
          103432,
          125404,
          92250,
          97000,
          345600,
          51000,
          127500,
          94500,
          103200,
          36000,
          216100,
          140800,
          145828,
          284000,
          155850,
          102544,
          151410,
          66531,
          125686,
          12767,
          26827,
          23000,
          314100,
          195800,
          262500,
          209450,
          133832,
          241871,
          93919,
          151902,
          19522,
          215050,
          198000,
          209300,
          182200,
          227000,
          55800,
          9727,
          385000,
          213580,
          163625,
          101943,
          16414,
          284310,
          153090,
          225900,
          158677,
          61200,
          13989,
          66970,
          126100,
          25216,
          109006,
          67141,
          175308,
          100706,
          229000,
          37558,
          18314,
          143100,
          180560,
          115440,
          75344,
          58331,
          14307,
          261500,
          134500,
          96100,
          150900,
          196200,
          12888,
          63312,
          107250,
          285800,
          60795,
          141290,
          74178,
          107500,
          12877,
          167200,
          6304,
          17509,
          15897,
          234100,
          223800,
          172100,
          232200,
          94665
         ],
         "xaxis": "x",
         "y": [
          99,
          98,
          91,
          84,
          82,
          64,
          63,
          63,
          54,
          51,
          47,
          45,
          45,
          36,
          36,
          34,
          33,
          33,
          32,
          32,
          32,
          30,
          28,
          27,
          27,
          26,
          25,
          25,
          25,
          24,
          23,
          23,
          23,
          23,
          20,
          20,
          19,
          17,
          17,
          17,
          16,
          15,
          15,
          15,
          14,
          14,
          13,
          13,
          13,
          12,
          12,
          12,
          11,
          11,
          11,
          11,
          11,
          10,
          10,
          10,
          10,
          10,
          9,
          9,
          9,
          9,
          9,
          9,
          9,
          9,
          9,
          9,
          9,
          9,
          8,
          8,
          8,
          8,
          8,
          8,
          8,
          8,
          8,
          8,
          7,
          7,
          7,
          7,
          7,
          7,
          7,
          7,
          7,
          7,
          7,
          7,
          7,
          7,
          7,
          7,
          7,
          6,
          6,
          6,
          6,
          6,
          6,
          6,
          6,
          6,
          6,
          6,
          6,
          6,
          6,
          6,
          6,
          5,
          5,
          5,
          5,
          5,
          5,
          5,
          5,
          5,
          5,
          5,
          5,
          5,
          5,
          5,
          5,
          5,
          5,
          5,
          5,
          5,
          5,
          5,
          5,
          5,
          5,
          5,
          5,
          5,
          5,
          5,
          5,
          5,
          5,
          5,
          5,
          5,
          4,
          4,
          4,
          4,
          4,
          4,
          4,
          4,
          4,
          4,
          4,
          4,
          4,
          4,
          4,
          4,
          4,
          4,
          4,
          4,
          4,
          4,
          4,
          4,
          4,
          4,
          4,
          4,
          4,
          4,
          4,
          4,
          4,
          4,
          4,
          3,
          3,
          3,
          3,
          3,
          3,
          3,
          3,
          3,
          3,
          3,
          3,
          3,
          3,
          3,
          3,
          3,
          3,
          3,
          3,
          3,
          3,
          3,
          3,
          3,
          3,
          3,
          3,
          3,
          3,
          3,
          3,
          3,
          3,
          3,
          3,
          3,
          3,
          3,
          3,
          3,
          3,
          3,
          3,
          3,
          3,
          3,
          3,
          3,
          3,
          3,
          3,
          3,
          3,
          3,
          3,
          3,
          3,
          3,
          3,
          3,
          3,
          3,
          3,
          3,
          3,
          2,
          2,
          2,
          2,
          2,
          2,
          2,
          2,
          2,
          2,
          2,
          2,
          2,
          2,
          2,
          2,
          2,
          2,
          2,
          2,
          2,
          2,
          2,
          2,
          2,
          2,
          2,
          2,
          2,
          2,
          2,
          2,
          2,
          2,
          2,
          2,
          2,
          2,
          2,
          2,
          2,
          2,
          2,
          2,
          2,
          2,
          2,
          2,
          2,
          2,
          2,
          2,
          2,
          2,
          2,
          2,
          2,
          2,
          2,
          2,
          2,
          2,
          2,
          2,
          2,
          2,
          2,
          2,
          2,
          2,
          2,
          2,
          2,
          2,
          2,
          2,
          2,
          2,
          2,
          2,
          2,
          2,
          2,
          2,
          2,
          2,
          2,
          2,
          2,
          2,
          2,
          2,
          2,
          2,
          2,
          2,
          2,
          2,
          2,
          2,
          2,
          2,
          2,
          2,
          2,
          2,
          2,
          2,
          2,
          2,
          2,
          2,
          2,
          2,
          2,
          2,
          2,
          2,
          2,
          2,
          2,
          2,
          2,
          2,
          2,
          2,
          2,
          2,
          2,
          2,
          2,
          2,
          2,
          2,
          2,
          2,
          2,
          2,
          2,
          2,
          2,
          2,
          2,
          2,
          2,
          2,
          2,
          2,
          2,
          2,
          2,
          2,
          2,
          2,
          2,
          2,
          2,
          2,
          2,
          2,
          2,
          2,
          2,
          2,
          2,
          2,
          2,
          2,
          2,
          2,
          2,
          2,
          2,
          2,
          2,
          2,
          2,
          2,
          2,
          2,
          2,
          2,
          2,
          2,
          2,
          2,
          2,
          1,
          1,
          1,
          1,
          1,
          1,
          1,
          1,
          1,
          1,
          1,
          1,
          1,
          1,
          1,
          1,
          1,
          1,
          1,
          1,
          1,
          1,
          1,
          1,
          1,
          1,
          1,
          1,
          1,
          1,
          1,
          1,
          1,
          1,
          1,
          1,
          1,
          1,
          1,
          1,
          1,
          1,
          1,
          1,
          1,
          1,
          1,
          1,
          1,
          1,
          1,
          1,
          1,
          1,
          1,
          1,
          1,
          1,
          1,
          1,
          1,
          1,
          1,
          1,
          1,
          1,
          1,
          1,
          1,
          1,
          1,
          1,
          1,
          1,
          1,
          1,
          1,
          1,
          1,
          1,
          1,
          1,
          1,
          1,
          1,
          1,
          1,
          1,
          1,
          1,
          1,
          1,
          1,
          1,
          1,
          1,
          1,
          1,
          1,
          1,
          1,
          1,
          1,
          1,
          1,
          1,
          1,
          1,
          1,
          1,
          1,
          1,
          1,
          1,
          1,
          1,
          1,
          1,
          1,
          1,
          1,
          1,
          1,
          1,
          1,
          1,
          1,
          1,
          1,
          1,
          1,
          1,
          1,
          1,
          1,
          1,
          1,
          1,
          1,
          1,
          1,
          1,
          1,
          1,
          1,
          1,
          1,
          1,
          1,
          1,
          1,
          1,
          1,
          1,
          1,
          1,
          1,
          1,
          1,
          1,
          1,
          1,
          1,
          1,
          1,
          1,
          1,
          1,
          1,
          1,
          1,
          1,
          1,
          1,
          1,
          1,
          1,
          1,
          1,
          1,
          1,
          1,
          1,
          1,
          1,
          1,
          1,
          1,
          1,
          1,
          1,
          1,
          1,
          1,
          1,
          1,
          1,
          1,
          1,
          1,
          1,
          1,
          1,
          1,
          1,
          1,
          1,
          1,
          1,
          1,
          1,
          1,
          1,
          1,
          1,
          1,
          1,
          1,
          1,
          1,
          1,
          1,
          1,
          1,
          1,
          1,
          1,
          1,
          1,
          1,
          1,
          1,
          1,
          1,
          1,
          1,
          1,
          1,
          1,
          1,
          1,
          1,
          1,
          1,
          1,
          1,
          1,
          1,
          1,
          1,
          1,
          1,
          1,
          1,
          1,
          1,
          1,
          1,
          1,
          1,
          1,
          1,
          1,
          1,
          1,
          1,
          1,
          1,
          1,
          1,
          1,
          1,
          1,
          1,
          1,
          1,
          1,
          1,
          1,
          1,
          1,
          1,
          1,
          1,
          1,
          1,
          1,
          1,
          1,
          1,
          1,
          1,
          1,
          1,
          1,
          1,
          1,
          1,
          1,
          1,
          1,
          1,
          1,
          1,
          1,
          1,
          1,
          1,
          1,
          1,
          1,
          1,
          1,
          1,
          1,
          1,
          1,
          1,
          1,
          1,
          1,
          1,
          1,
          1,
          1,
          1,
          1,
          1,
          1,
          1,
          1,
          1,
          1,
          1,
          1,
          1,
          1,
          1,
          1,
          1,
          1,
          1,
          1,
          1,
          1,
          1,
          1,
          1,
          1,
          1,
          1,
          1,
          1,
          1,
          1,
          1,
          1,
          1,
          1,
          1,
          1,
          1,
          1,
          1,
          1,
          1,
          1,
          1,
          1,
          1,
          1,
          1,
          1,
          1,
          1,
          1,
          1,
          1,
          1,
          1,
          1,
          1,
          1,
          1,
          1,
          1,
          1,
          1,
          1,
          1,
          1,
          1,
          1,
          1,
          1,
          1,
          1,
          1,
          1,
          1,
          1,
          1,
          1,
          1,
          1,
          1,
          1,
          1,
          1,
          1,
          1,
          1,
          1,
          1,
          1,
          1,
          1,
          1,
          1,
          1,
          1,
          1,
          1,
          1,
          1,
          1,
          1,
          1,
          1,
          1,
          1,
          1,
          1,
          1,
          1,
          1,
          1,
          1,
          1,
          1,
          1,
          1,
          1,
          1,
          1,
          1,
          1,
          1,
          1,
          1,
          1,
          1,
          1,
          1,
          1,
          1,
          1,
          1,
          1,
          1,
          1,
          1,
          1,
          1,
          1,
          1,
          1,
          1,
          1,
          1,
          1,
          1,
          1,
          1,
          1,
          1,
          1,
          1,
          1,
          1,
          1,
          1,
          1,
          1,
          1,
          1,
          1,
          1,
          1,
          1,
          1,
          1,
          1,
          1,
          1,
          1,
          1,
          1,
          1,
          1,
          1,
          1,
          1,
          1,
          1,
          1,
          1,
          1,
          1,
          1,
          1,
          1,
          1,
          1,
          1,
          1,
          1,
          1,
          1,
          1,
          1,
          1,
          1,
          1,
          1,
          1,
          1,
          1,
          1,
          1,
          1,
          1,
          1,
          1,
          1,
          1,
          1,
          1,
          1,
          1,
          1,
          1,
          1,
          1,
          1,
          1,
          1,
          1,
          1,
          1,
          1,
          1,
          1,
          1,
          1,
          1,
          1,
          1,
          1,
          1,
          1,
          1,
          1,
          1,
          1,
          1,
          1,
          1,
          1,
          1,
          1,
          1,
          1,
          1,
          1,
          1,
          1,
          1,
          1,
          1,
          1,
          1,
          1,
          1,
          1,
          1,
          1,
          1,
          1,
          1,
          1,
          1,
          1
         ],
         "yaxis": "y"
        }
       ],
       "layout": {
        "barmode": "relative",
        "legend": {
         "tracegroupgap": 0
        },
        "template": {
         "data": {
          "bar": [
           {
            "error_x": {
             "color": "#2a3f5f"
            },
            "error_y": {
             "color": "#2a3f5f"
            },
            "marker": {
             "line": {
              "color": "#E5ECF6",
              "width": 0.5
             },
             "pattern": {
              "fillmode": "overlay",
              "size": 10,
              "solidity": 0.2
             }
            },
            "type": "bar"
           }
          ],
          "barpolar": [
           {
            "marker": {
             "line": {
              "color": "#E5ECF6",
              "width": 0.5
             },
             "pattern": {
              "fillmode": "overlay",
              "size": 10,
              "solidity": 0.2
             }
            },
            "type": "barpolar"
           }
          ],
          "carpet": [
           {
            "aaxis": {
             "endlinecolor": "#2a3f5f",
             "gridcolor": "white",
             "linecolor": "white",
             "minorgridcolor": "white",
             "startlinecolor": "#2a3f5f"
            },
            "baxis": {
             "endlinecolor": "#2a3f5f",
             "gridcolor": "white",
             "linecolor": "white",
             "minorgridcolor": "white",
             "startlinecolor": "#2a3f5f"
            },
            "type": "carpet"
           }
          ],
          "choropleth": [
           {
            "colorbar": {
             "outlinewidth": 0,
             "ticks": ""
            },
            "type": "choropleth"
           }
          ],
          "contour": [
           {
            "colorbar": {
             "outlinewidth": 0,
             "ticks": ""
            },
            "colorscale": [
             [
              0,
              "#0d0887"
             ],
             [
              0.1111111111111111,
              "#46039f"
             ],
             [
              0.2222222222222222,
              "#7201a8"
             ],
             [
              0.3333333333333333,
              "#9c179e"
             ],
             [
              0.4444444444444444,
              "#bd3786"
             ],
             [
              0.5555555555555556,
              "#d8576b"
             ],
             [
              0.6666666666666666,
              "#ed7953"
             ],
             [
              0.7777777777777778,
              "#fb9f3a"
             ],
             [
              0.8888888888888888,
              "#fdca26"
             ],
             [
              1,
              "#f0f921"
             ]
            ],
            "type": "contour"
           }
          ],
          "contourcarpet": [
           {
            "colorbar": {
             "outlinewidth": 0,
             "ticks": ""
            },
            "type": "contourcarpet"
           }
          ],
          "heatmap": [
           {
            "colorbar": {
             "outlinewidth": 0,
             "ticks": ""
            },
            "colorscale": [
             [
              0,
              "#0d0887"
             ],
             [
              0.1111111111111111,
              "#46039f"
             ],
             [
              0.2222222222222222,
              "#7201a8"
             ],
             [
              0.3333333333333333,
              "#9c179e"
             ],
             [
              0.4444444444444444,
              "#bd3786"
             ],
             [
              0.5555555555555556,
              "#d8576b"
             ],
             [
              0.6666666666666666,
              "#ed7953"
             ],
             [
              0.7777777777777778,
              "#fb9f3a"
             ],
             [
              0.8888888888888888,
              "#fdca26"
             ],
             [
              1,
              "#f0f921"
             ]
            ],
            "type": "heatmap"
           }
          ],
          "heatmapgl": [
           {
            "colorbar": {
             "outlinewidth": 0,
             "ticks": ""
            },
            "colorscale": [
             [
              0,
              "#0d0887"
             ],
             [
              0.1111111111111111,
              "#46039f"
             ],
             [
              0.2222222222222222,
              "#7201a8"
             ],
             [
              0.3333333333333333,
              "#9c179e"
             ],
             [
              0.4444444444444444,
              "#bd3786"
             ],
             [
              0.5555555555555556,
              "#d8576b"
             ],
             [
              0.6666666666666666,
              "#ed7953"
             ],
             [
              0.7777777777777778,
              "#fb9f3a"
             ],
             [
              0.8888888888888888,
              "#fdca26"
             ],
             [
              1,
              "#f0f921"
             ]
            ],
            "type": "heatmapgl"
           }
          ],
          "histogram": [
           {
            "marker": {
             "pattern": {
              "fillmode": "overlay",
              "size": 10,
              "solidity": 0.2
             }
            },
            "type": "histogram"
           }
          ],
          "histogram2d": [
           {
            "colorbar": {
             "outlinewidth": 0,
             "ticks": ""
            },
            "colorscale": [
             [
              0,
              "#0d0887"
             ],
             [
              0.1111111111111111,
              "#46039f"
             ],
             [
              0.2222222222222222,
              "#7201a8"
             ],
             [
              0.3333333333333333,
              "#9c179e"
             ],
             [
              0.4444444444444444,
              "#bd3786"
             ],
             [
              0.5555555555555556,
              "#d8576b"
             ],
             [
              0.6666666666666666,
              "#ed7953"
             ],
             [
              0.7777777777777778,
              "#fb9f3a"
             ],
             [
              0.8888888888888888,
              "#fdca26"
             ],
             [
              1,
              "#f0f921"
             ]
            ],
            "type": "histogram2d"
           }
          ],
          "histogram2dcontour": [
           {
            "colorbar": {
             "outlinewidth": 0,
             "ticks": ""
            },
            "colorscale": [
             [
              0,
              "#0d0887"
             ],
             [
              0.1111111111111111,
              "#46039f"
             ],
             [
              0.2222222222222222,
              "#7201a8"
             ],
             [
              0.3333333333333333,
              "#9c179e"
             ],
             [
              0.4444444444444444,
              "#bd3786"
             ],
             [
              0.5555555555555556,
              "#d8576b"
             ],
             [
              0.6666666666666666,
              "#ed7953"
             ],
             [
              0.7777777777777778,
              "#fb9f3a"
             ],
             [
              0.8888888888888888,
              "#fdca26"
             ],
             [
              1,
              "#f0f921"
             ]
            ],
            "type": "histogram2dcontour"
           }
          ],
          "mesh3d": [
           {
            "colorbar": {
             "outlinewidth": 0,
             "ticks": ""
            },
            "type": "mesh3d"
           }
          ],
          "parcoords": [
           {
            "line": {
             "colorbar": {
              "outlinewidth": 0,
              "ticks": ""
             }
            },
            "type": "parcoords"
           }
          ],
          "pie": [
           {
            "automargin": true,
            "type": "pie"
           }
          ],
          "scatter": [
           {
            "fillpattern": {
             "fillmode": "overlay",
             "size": 10,
             "solidity": 0.2
            },
            "type": "scatter"
           }
          ],
          "scatter3d": [
           {
            "line": {
             "colorbar": {
              "outlinewidth": 0,
              "ticks": ""
             }
            },
            "marker": {
             "colorbar": {
              "outlinewidth": 0,
              "ticks": ""
             }
            },
            "type": "scatter3d"
           }
          ],
          "scattercarpet": [
           {
            "marker": {
             "colorbar": {
              "outlinewidth": 0,
              "ticks": ""
             }
            },
            "type": "scattercarpet"
           }
          ],
          "scattergeo": [
           {
            "marker": {
             "colorbar": {
              "outlinewidth": 0,
              "ticks": ""
             }
            },
            "type": "scattergeo"
           }
          ],
          "scattergl": [
           {
            "marker": {
             "colorbar": {
              "outlinewidth": 0,
              "ticks": ""
             }
            },
            "type": "scattergl"
           }
          ],
          "scattermapbox": [
           {
            "marker": {
             "colorbar": {
              "outlinewidth": 0,
              "ticks": ""
             }
            },
            "type": "scattermapbox"
           }
          ],
          "scatterpolar": [
           {
            "marker": {
             "colorbar": {
              "outlinewidth": 0,
              "ticks": ""
             }
            },
            "type": "scatterpolar"
           }
          ],
          "scatterpolargl": [
           {
            "marker": {
             "colorbar": {
              "outlinewidth": 0,
              "ticks": ""
             }
            },
            "type": "scatterpolargl"
           }
          ],
          "scatterternary": [
           {
            "marker": {
             "colorbar": {
              "outlinewidth": 0,
              "ticks": ""
             }
            },
            "type": "scatterternary"
           }
          ],
          "surface": [
           {
            "colorbar": {
             "outlinewidth": 0,
             "ticks": ""
            },
            "colorscale": [
             [
              0,
              "#0d0887"
             ],
             [
              0.1111111111111111,
              "#46039f"
             ],
             [
              0.2222222222222222,
              "#7201a8"
             ],
             [
              0.3333333333333333,
              "#9c179e"
             ],
             [
              0.4444444444444444,
              "#bd3786"
             ],
             [
              0.5555555555555556,
              "#d8576b"
             ],
             [
              0.6666666666666666,
              "#ed7953"
             ],
             [
              0.7777777777777778,
              "#fb9f3a"
             ],
             [
              0.8888888888888888,
              "#fdca26"
             ],
             [
              1,
              "#f0f921"
             ]
            ],
            "type": "surface"
           }
          ],
          "table": [
           {
            "cells": {
             "fill": {
              "color": "#EBF0F8"
             },
             "line": {
              "color": "white"
             }
            },
            "header": {
             "fill": {
              "color": "#C8D4E3"
             },
             "line": {
              "color": "white"
             }
            },
            "type": "table"
           }
          ]
         },
         "layout": {
          "annotationdefaults": {
           "arrowcolor": "#2a3f5f",
           "arrowhead": 0,
           "arrowwidth": 1
          },
          "autotypenumbers": "strict",
          "coloraxis": {
           "colorbar": {
            "outlinewidth": 0,
            "ticks": ""
           }
          },
          "colorscale": {
           "diverging": [
            [
             0,
             "#8e0152"
            ],
            [
             0.1,
             "#c51b7d"
            ],
            [
             0.2,
             "#de77ae"
            ],
            [
             0.3,
             "#f1b6da"
            ],
            [
             0.4,
             "#fde0ef"
            ],
            [
             0.5,
             "#f7f7f7"
            ],
            [
             0.6,
             "#e6f5d0"
            ],
            [
             0.7,
             "#b8e186"
            ],
            [
             0.8,
             "#7fbc41"
            ],
            [
             0.9,
             "#4d9221"
            ],
            [
             1,
             "#276419"
            ]
           ],
           "sequential": [
            [
             0,
             "#0d0887"
            ],
            [
             0.1111111111111111,
             "#46039f"
            ],
            [
             0.2222222222222222,
             "#7201a8"
            ],
            [
             0.3333333333333333,
             "#9c179e"
            ],
            [
             0.4444444444444444,
             "#bd3786"
            ],
            [
             0.5555555555555556,
             "#d8576b"
            ],
            [
             0.6666666666666666,
             "#ed7953"
            ],
            [
             0.7777777777777778,
             "#fb9f3a"
            ],
            [
             0.8888888888888888,
             "#fdca26"
            ],
            [
             1,
             "#f0f921"
            ]
           ],
           "sequentialminus": [
            [
             0,
             "#0d0887"
            ],
            [
             0.1111111111111111,
             "#46039f"
            ],
            [
             0.2222222222222222,
             "#7201a8"
            ],
            [
             0.3333333333333333,
             "#9c179e"
            ],
            [
             0.4444444444444444,
             "#bd3786"
            ],
            [
             0.5555555555555556,
             "#d8576b"
            ],
            [
             0.6666666666666666,
             "#ed7953"
            ],
            [
             0.7777777777777778,
             "#fb9f3a"
            ],
            [
             0.8888888888888888,
             "#fdca26"
            ],
            [
             1,
             "#f0f921"
            ]
           ]
          },
          "colorway": [
           "#636efa",
           "#EF553B",
           "#00cc96",
           "#ab63fa",
           "#FFA15A",
           "#19d3f3",
           "#FF6692",
           "#B6E880",
           "#FF97FF",
           "#FECB52"
          ],
          "font": {
           "color": "#2a3f5f"
          },
          "geo": {
           "bgcolor": "white",
           "lakecolor": "white",
           "landcolor": "#E5ECF6",
           "showlakes": true,
           "showland": true,
           "subunitcolor": "white"
          },
          "hoverlabel": {
           "align": "left"
          },
          "hovermode": "closest",
          "mapbox": {
           "style": "light"
          },
          "paper_bgcolor": "white",
          "plot_bgcolor": "#E5ECF6",
          "polar": {
           "angularaxis": {
            "gridcolor": "white",
            "linecolor": "white",
            "ticks": ""
           },
           "bgcolor": "#E5ECF6",
           "radialaxis": {
            "gridcolor": "white",
            "linecolor": "white",
            "ticks": ""
           }
          },
          "scene": {
           "xaxis": {
            "backgroundcolor": "#E5ECF6",
            "gridcolor": "white",
            "gridwidth": 2,
            "linecolor": "white",
            "showbackground": true,
            "ticks": "",
            "zerolinecolor": "white"
           },
           "yaxis": {
            "backgroundcolor": "#E5ECF6",
            "gridcolor": "white",
            "gridwidth": 2,
            "linecolor": "white",
            "showbackground": true,
            "ticks": "",
            "zerolinecolor": "white"
           },
           "zaxis": {
            "backgroundcolor": "#E5ECF6",
            "gridcolor": "white",
            "gridwidth": 2,
            "linecolor": "white",
            "showbackground": true,
            "ticks": "",
            "zerolinecolor": "white"
           }
          },
          "shapedefaults": {
           "line": {
            "color": "#2a3f5f"
           }
          },
          "ternary": {
           "aaxis": {
            "gridcolor": "white",
            "linecolor": "white",
            "ticks": ""
           },
           "baxis": {
            "gridcolor": "white",
            "linecolor": "white",
            "ticks": ""
           },
           "bgcolor": "#E5ECF6",
           "caxis": {
            "gridcolor": "white",
            "linecolor": "white",
            "ticks": ""
           }
          },
          "title": {
           "x": 0.05
          },
          "xaxis": {
           "automargin": true,
           "gridcolor": "white",
           "linecolor": "white",
           "ticks": "",
           "title": {
            "standoff": 15
           },
           "zerolinecolor": "white",
           "zerolinewidth": 2
          },
          "yaxis": {
           "automargin": true,
           "gridcolor": "white",
           "linecolor": "white",
           "ticks": "",
           "title": {
            "standoff": 15
           },
           "zerolinecolor": "white",
           "zerolinewidth": 2
          }
         }
        },
        "title": {
         "text": "Distribution of Salary in USD"
        },
        "xaxis": {
         "anchor": "y",
         "domain": [
          0,
          1
         ],
         "title": {
          "text": "Salary"
         }
        },
        "yaxis": {
         "anchor": "x",
         "domain": [
          0,
          1
         ],
         "title": {
          "text": "Count"
         }
        }
       }
      }
     },
     "metadata": {},
     "output_type": "display_data"
    },
    {
     "data": {
      "text/plain": [
       "<Figure size 1200x800 with 0 Axes>"
      ]
     },
     "metadata": {},
     "output_type": "display_data"
    }
   ],
   "source": [
    "plt.figure(figsize=(12, 8))\n",
    "\n",
    "salary = df_ds['salary_in_usd'].value_counts()\n",
    "\n",
    "fig = px.histogram(x = salary.index, y = salary.values, \n",
    "                   title = 'Distribution of Salary in USD')\n",
    "fig.update_layout(xaxis_title = 'Salary', yaxis_title = 'Count')\n",
    "fig.show()"
   ]
  },
  {
   "cell_type": "markdown",
   "metadata": {},
   "source": [
    "WHAT WE KNOW:\n",
    "- The box plot and the histogram tells us that most of the salary lie between $120k - $150k. "
   ]
  },
  {
   "cell_type": "markdown",
   "metadata": {},
   "source": [
    "#### Remote Ratio of Employees\n",
    "\n",
    "- 100 = On-site\n",
    "- 50 = Hybrid\n",
    "- 0 = Fully-Remote\n",
    "\n",
    "We convert these ratios to corresponding meanings: "
   ]
  },
  {
   "cell_type": "code",
   "execution_count": 20,
   "metadata": {},
   "outputs": [
    {
     "data": {
      "text/plain": [
       "remote_ratio\n",
       "0      1923\n",
       "100    1643\n",
       "50      189\n",
       "Name: count, dtype: int64"
      ]
     },
     "execution_count": 20,
     "metadata": {},
     "output_type": "execute_result"
    }
   ],
   "source": [
    "df_ds['remote_ratio'].value_counts()"
   ]
  },
  {
   "cell_type": "code",
   "execution_count": 21,
   "metadata": {},
   "outputs": [],
   "source": [
    "df_ds['remote_ratio'] = df_ds['remote_ratio'].replace(100, 'Fully Remote')\n",
    "df_ds['remote_ratio'] = df_ds['remote_ratio'].replace(50, 'Hybrid')\n",
    "df_ds['remote_ratio'] = df_ds['remote_ratio'].replace(0, 'No Remote')"
   ]
  },
  {
   "cell_type": "code",
   "execution_count": 22,
   "metadata": {},
   "outputs": [
    {
     "data": {
      "application/vnd.plotly.v1+json": {
       "config": {
        "plotlyServerURL": "https://plot.ly"
       },
       "data": [
        {
         "alignmentgroup": "True",
         "hovertemplate": "color=No Remote<br>x=%{x}<br>y=%{y}<br>text=%{text}<extra></extra>",
         "legendgroup": "No Remote",
         "marker": {
          "color": "#636efa",
          "pattern": {
           "shape": ""
          }
         },
         "name": "No Remote",
         "offsetgroup": "No Remote",
         "orientation": "v",
         "showlegend": true,
         "text": [
          1923
         ],
         "textposition": "auto",
         "type": "bar",
         "x": [
          "No Remote"
         ],
         "xaxis": "x",
         "y": [
          1923
         ],
         "yaxis": "y"
        },
        {
         "alignmentgroup": "True",
         "hovertemplate": "color=Fully Remote<br>x=%{x}<br>y=%{y}<br>text=%{text}<extra></extra>",
         "legendgroup": "Fully Remote",
         "marker": {
          "color": "#EF553B",
          "pattern": {
           "shape": ""
          }
         },
         "name": "Fully Remote",
         "offsetgroup": "Fully Remote",
         "orientation": "v",
         "showlegend": true,
         "text": [
          1643
         ],
         "textposition": "auto",
         "type": "bar",
         "x": [
          "Fully Remote"
         ],
         "xaxis": "x",
         "y": [
          1643
         ],
         "yaxis": "y"
        },
        {
         "alignmentgroup": "True",
         "hovertemplate": "color=Hybrid<br>x=%{x}<br>y=%{y}<br>text=%{text}<extra></extra>",
         "legendgroup": "Hybrid",
         "marker": {
          "color": "#00cc96",
          "pattern": {
           "shape": ""
          }
         },
         "name": "Hybrid",
         "offsetgroup": "Hybrid",
         "orientation": "v",
         "showlegend": true,
         "text": [
          189
         ],
         "textposition": "auto",
         "type": "bar",
         "x": [
          "Hybrid"
         ],
         "xaxis": "x",
         "y": [
          189
         ],
         "yaxis": "y"
        }
       ],
       "layout": {
        "barmode": "relative",
        "legend": {
         "title": {
          "text": "color"
         },
         "tracegroupgap": 0
        },
        "template": {
         "data": {
          "bar": [
           {
            "error_x": {
             "color": "#2a3f5f"
            },
            "error_y": {
             "color": "#2a3f5f"
            },
            "marker": {
             "line": {
              "color": "#E5ECF6",
              "width": 0.5
             },
             "pattern": {
              "fillmode": "overlay",
              "size": 10,
              "solidity": 0.2
             }
            },
            "type": "bar"
           }
          ],
          "barpolar": [
           {
            "marker": {
             "line": {
              "color": "#E5ECF6",
              "width": 0.5
             },
             "pattern": {
              "fillmode": "overlay",
              "size": 10,
              "solidity": 0.2
             }
            },
            "type": "barpolar"
           }
          ],
          "carpet": [
           {
            "aaxis": {
             "endlinecolor": "#2a3f5f",
             "gridcolor": "white",
             "linecolor": "white",
             "minorgridcolor": "white",
             "startlinecolor": "#2a3f5f"
            },
            "baxis": {
             "endlinecolor": "#2a3f5f",
             "gridcolor": "white",
             "linecolor": "white",
             "minorgridcolor": "white",
             "startlinecolor": "#2a3f5f"
            },
            "type": "carpet"
           }
          ],
          "choropleth": [
           {
            "colorbar": {
             "outlinewidth": 0,
             "ticks": ""
            },
            "type": "choropleth"
           }
          ],
          "contour": [
           {
            "colorbar": {
             "outlinewidth": 0,
             "ticks": ""
            },
            "colorscale": [
             [
              0,
              "#0d0887"
             ],
             [
              0.1111111111111111,
              "#46039f"
             ],
             [
              0.2222222222222222,
              "#7201a8"
             ],
             [
              0.3333333333333333,
              "#9c179e"
             ],
             [
              0.4444444444444444,
              "#bd3786"
             ],
             [
              0.5555555555555556,
              "#d8576b"
             ],
             [
              0.6666666666666666,
              "#ed7953"
             ],
             [
              0.7777777777777778,
              "#fb9f3a"
             ],
             [
              0.8888888888888888,
              "#fdca26"
             ],
             [
              1,
              "#f0f921"
             ]
            ],
            "type": "contour"
           }
          ],
          "contourcarpet": [
           {
            "colorbar": {
             "outlinewidth": 0,
             "ticks": ""
            },
            "type": "contourcarpet"
           }
          ],
          "heatmap": [
           {
            "colorbar": {
             "outlinewidth": 0,
             "ticks": ""
            },
            "colorscale": [
             [
              0,
              "#0d0887"
             ],
             [
              0.1111111111111111,
              "#46039f"
             ],
             [
              0.2222222222222222,
              "#7201a8"
             ],
             [
              0.3333333333333333,
              "#9c179e"
             ],
             [
              0.4444444444444444,
              "#bd3786"
             ],
             [
              0.5555555555555556,
              "#d8576b"
             ],
             [
              0.6666666666666666,
              "#ed7953"
             ],
             [
              0.7777777777777778,
              "#fb9f3a"
             ],
             [
              0.8888888888888888,
              "#fdca26"
             ],
             [
              1,
              "#f0f921"
             ]
            ],
            "type": "heatmap"
           }
          ],
          "heatmapgl": [
           {
            "colorbar": {
             "outlinewidth": 0,
             "ticks": ""
            },
            "colorscale": [
             [
              0,
              "#0d0887"
             ],
             [
              0.1111111111111111,
              "#46039f"
             ],
             [
              0.2222222222222222,
              "#7201a8"
             ],
             [
              0.3333333333333333,
              "#9c179e"
             ],
             [
              0.4444444444444444,
              "#bd3786"
             ],
             [
              0.5555555555555556,
              "#d8576b"
             ],
             [
              0.6666666666666666,
              "#ed7953"
             ],
             [
              0.7777777777777778,
              "#fb9f3a"
             ],
             [
              0.8888888888888888,
              "#fdca26"
             ],
             [
              1,
              "#f0f921"
             ]
            ],
            "type": "heatmapgl"
           }
          ],
          "histogram": [
           {
            "marker": {
             "pattern": {
              "fillmode": "overlay",
              "size": 10,
              "solidity": 0.2
             }
            },
            "type": "histogram"
           }
          ],
          "histogram2d": [
           {
            "colorbar": {
             "outlinewidth": 0,
             "ticks": ""
            },
            "colorscale": [
             [
              0,
              "#0d0887"
             ],
             [
              0.1111111111111111,
              "#46039f"
             ],
             [
              0.2222222222222222,
              "#7201a8"
             ],
             [
              0.3333333333333333,
              "#9c179e"
             ],
             [
              0.4444444444444444,
              "#bd3786"
             ],
             [
              0.5555555555555556,
              "#d8576b"
             ],
             [
              0.6666666666666666,
              "#ed7953"
             ],
             [
              0.7777777777777778,
              "#fb9f3a"
             ],
             [
              0.8888888888888888,
              "#fdca26"
             ],
             [
              1,
              "#f0f921"
             ]
            ],
            "type": "histogram2d"
           }
          ],
          "histogram2dcontour": [
           {
            "colorbar": {
             "outlinewidth": 0,
             "ticks": ""
            },
            "colorscale": [
             [
              0,
              "#0d0887"
             ],
             [
              0.1111111111111111,
              "#46039f"
             ],
             [
              0.2222222222222222,
              "#7201a8"
             ],
             [
              0.3333333333333333,
              "#9c179e"
             ],
             [
              0.4444444444444444,
              "#bd3786"
             ],
             [
              0.5555555555555556,
              "#d8576b"
             ],
             [
              0.6666666666666666,
              "#ed7953"
             ],
             [
              0.7777777777777778,
              "#fb9f3a"
             ],
             [
              0.8888888888888888,
              "#fdca26"
             ],
             [
              1,
              "#f0f921"
             ]
            ],
            "type": "histogram2dcontour"
           }
          ],
          "mesh3d": [
           {
            "colorbar": {
             "outlinewidth": 0,
             "ticks": ""
            },
            "type": "mesh3d"
           }
          ],
          "parcoords": [
           {
            "line": {
             "colorbar": {
              "outlinewidth": 0,
              "ticks": ""
             }
            },
            "type": "parcoords"
           }
          ],
          "pie": [
           {
            "automargin": true,
            "type": "pie"
           }
          ],
          "scatter": [
           {
            "fillpattern": {
             "fillmode": "overlay",
             "size": 10,
             "solidity": 0.2
            },
            "type": "scatter"
           }
          ],
          "scatter3d": [
           {
            "line": {
             "colorbar": {
              "outlinewidth": 0,
              "ticks": ""
             }
            },
            "marker": {
             "colorbar": {
              "outlinewidth": 0,
              "ticks": ""
             }
            },
            "type": "scatter3d"
           }
          ],
          "scattercarpet": [
           {
            "marker": {
             "colorbar": {
              "outlinewidth": 0,
              "ticks": ""
             }
            },
            "type": "scattercarpet"
           }
          ],
          "scattergeo": [
           {
            "marker": {
             "colorbar": {
              "outlinewidth": 0,
              "ticks": ""
             }
            },
            "type": "scattergeo"
           }
          ],
          "scattergl": [
           {
            "marker": {
             "colorbar": {
              "outlinewidth": 0,
              "ticks": ""
             }
            },
            "type": "scattergl"
           }
          ],
          "scattermapbox": [
           {
            "marker": {
             "colorbar": {
              "outlinewidth": 0,
              "ticks": ""
             }
            },
            "type": "scattermapbox"
           }
          ],
          "scatterpolar": [
           {
            "marker": {
             "colorbar": {
              "outlinewidth": 0,
              "ticks": ""
             }
            },
            "type": "scatterpolar"
           }
          ],
          "scatterpolargl": [
           {
            "marker": {
             "colorbar": {
              "outlinewidth": 0,
              "ticks": ""
             }
            },
            "type": "scatterpolargl"
           }
          ],
          "scatterternary": [
           {
            "marker": {
             "colorbar": {
              "outlinewidth": 0,
              "ticks": ""
             }
            },
            "type": "scatterternary"
           }
          ],
          "surface": [
           {
            "colorbar": {
             "outlinewidth": 0,
             "ticks": ""
            },
            "colorscale": [
             [
              0,
              "#0d0887"
             ],
             [
              0.1111111111111111,
              "#46039f"
             ],
             [
              0.2222222222222222,
              "#7201a8"
             ],
             [
              0.3333333333333333,
              "#9c179e"
             ],
             [
              0.4444444444444444,
              "#bd3786"
             ],
             [
              0.5555555555555556,
              "#d8576b"
             ],
             [
              0.6666666666666666,
              "#ed7953"
             ],
             [
              0.7777777777777778,
              "#fb9f3a"
             ],
             [
              0.8888888888888888,
              "#fdca26"
             ],
             [
              1,
              "#f0f921"
             ]
            ],
            "type": "surface"
           }
          ],
          "table": [
           {
            "cells": {
             "fill": {
              "color": "#EBF0F8"
             },
             "line": {
              "color": "white"
             }
            },
            "header": {
             "fill": {
              "color": "#C8D4E3"
             },
             "line": {
              "color": "white"
             }
            },
            "type": "table"
           }
          ]
         },
         "layout": {
          "annotationdefaults": {
           "arrowcolor": "#2a3f5f",
           "arrowhead": 0,
           "arrowwidth": 1
          },
          "autotypenumbers": "strict",
          "coloraxis": {
           "colorbar": {
            "outlinewidth": 0,
            "ticks": ""
           }
          },
          "colorscale": {
           "diverging": [
            [
             0,
             "#8e0152"
            ],
            [
             0.1,
             "#c51b7d"
            ],
            [
             0.2,
             "#de77ae"
            ],
            [
             0.3,
             "#f1b6da"
            ],
            [
             0.4,
             "#fde0ef"
            ],
            [
             0.5,
             "#f7f7f7"
            ],
            [
             0.6,
             "#e6f5d0"
            ],
            [
             0.7,
             "#b8e186"
            ],
            [
             0.8,
             "#7fbc41"
            ],
            [
             0.9,
             "#4d9221"
            ],
            [
             1,
             "#276419"
            ]
           ],
           "sequential": [
            [
             0,
             "#0d0887"
            ],
            [
             0.1111111111111111,
             "#46039f"
            ],
            [
             0.2222222222222222,
             "#7201a8"
            ],
            [
             0.3333333333333333,
             "#9c179e"
            ],
            [
             0.4444444444444444,
             "#bd3786"
            ],
            [
             0.5555555555555556,
             "#d8576b"
            ],
            [
             0.6666666666666666,
             "#ed7953"
            ],
            [
             0.7777777777777778,
             "#fb9f3a"
            ],
            [
             0.8888888888888888,
             "#fdca26"
            ],
            [
             1,
             "#f0f921"
            ]
           ],
           "sequentialminus": [
            [
             0,
             "#0d0887"
            ],
            [
             0.1111111111111111,
             "#46039f"
            ],
            [
             0.2222222222222222,
             "#7201a8"
            ],
            [
             0.3333333333333333,
             "#9c179e"
            ],
            [
             0.4444444444444444,
             "#bd3786"
            ],
            [
             0.5555555555555556,
             "#d8576b"
            ],
            [
             0.6666666666666666,
             "#ed7953"
            ],
            [
             0.7777777777777778,
             "#fb9f3a"
            ],
            [
             0.8888888888888888,
             "#fdca26"
            ],
            [
             1,
             "#f0f921"
            ]
           ]
          },
          "colorway": [
           "#636efa",
           "#EF553B",
           "#00cc96",
           "#ab63fa",
           "#FFA15A",
           "#19d3f3",
           "#FF6692",
           "#B6E880",
           "#FF97FF",
           "#FECB52"
          ],
          "font": {
           "color": "#2a3f5f"
          },
          "geo": {
           "bgcolor": "white",
           "lakecolor": "white",
           "landcolor": "#E5ECF6",
           "showlakes": true,
           "showland": true,
           "subunitcolor": "white"
          },
          "hoverlabel": {
           "align": "left"
          },
          "hovermode": "closest",
          "mapbox": {
           "style": "light"
          },
          "paper_bgcolor": "white",
          "plot_bgcolor": "#E5ECF6",
          "polar": {
           "angularaxis": {
            "gridcolor": "white",
            "linecolor": "white",
            "ticks": ""
           },
           "bgcolor": "#E5ECF6",
           "radialaxis": {
            "gridcolor": "white",
            "linecolor": "white",
            "ticks": ""
           }
          },
          "scene": {
           "xaxis": {
            "backgroundcolor": "#E5ECF6",
            "gridcolor": "white",
            "gridwidth": 2,
            "linecolor": "white",
            "showbackground": true,
            "ticks": "",
            "zerolinecolor": "white"
           },
           "yaxis": {
            "backgroundcolor": "#E5ECF6",
            "gridcolor": "white",
            "gridwidth": 2,
            "linecolor": "white",
            "showbackground": true,
            "ticks": "",
            "zerolinecolor": "white"
           },
           "zaxis": {
            "backgroundcolor": "#E5ECF6",
            "gridcolor": "white",
            "gridwidth": 2,
            "linecolor": "white",
            "showbackground": true,
            "ticks": "",
            "zerolinecolor": "white"
           }
          },
          "shapedefaults": {
           "line": {
            "color": "#2a3f5f"
           }
          },
          "ternary": {
           "aaxis": {
            "gridcolor": "white",
            "linecolor": "white",
            "ticks": ""
           },
           "baxis": {
            "gridcolor": "white",
            "linecolor": "white",
            "ticks": ""
           },
           "bgcolor": "#E5ECF6",
           "caxis": {
            "gridcolor": "white",
            "linecolor": "white",
            "ticks": ""
           }
          },
          "title": {
           "x": 0.05
          },
          "xaxis": {
           "automargin": true,
           "gridcolor": "white",
           "linecolor": "white",
           "ticks": "",
           "title": {
            "standoff": 15
           },
           "zerolinecolor": "white",
           "zerolinewidth": 2
          },
          "yaxis": {
           "automargin": true,
           "gridcolor": "white",
           "linecolor": "white",
           "ticks": "",
           "title": {
            "standoff": 15
           },
           "zerolinecolor": "white",
           "zerolinewidth": 2
          }
         }
        },
        "title": {
         "text": "Distribution of Remote Employees"
        },
        "xaxis": {
         "anchor": "y",
         "domain": [
          0,
          1
         ],
         "title": {
          "text": "Remote Type"
         }
        },
        "yaxis": {
         "anchor": "x",
         "domain": [
          0,
          1
         ],
         "title": {
          "text": "Count"
         }
        }
       }
      }
     },
     "metadata": {},
     "output_type": "display_data"
    }
   ],
   "source": [
    "employee_remote = df_ds['remote_ratio'].value_counts()\n",
    "# remote_type = ['Fully Remote', 'On-Site', 'Hybrid']\n",
    "\n",
    "\n",
    "fig = px.bar(x = employee_remote.index, y = employee_remote.values, text = employee_remote.values, color = employee_remote.index,\n",
    "              title = 'Distribution of Remote Employees')\n",
    "\n",
    "fig.update_layout(xaxis_title = 'Remote Type', yaxis_title = 'Count')\n",
    "fig.show()"
   ]
  },
  {
   "cell_type": "markdown",
   "metadata": {},
   "source": [
    "WHAT WE KNOW:\n",
    "- From this we know that most employees are working On-Site, while some numbers of employees work remotely. Only marginal portion of employees work hybrid."
   ]
  },
  {
   "cell_type": "markdown",
   "metadata": {},
   "source": [
    "## Bivariate Analysis"
   ]
  },
  {
   "cell_type": "markdown",
   "metadata": {},
   "source": [
    "#### Looking at the Salary:"
   ]
  },
  {
   "cell_type": "markdown",
   "metadata": {},
   "source": [
    "#### 1. What is the top 15 highest paying jobs in data science job fields?"
   ]
  },
  {
   "cell_type": "code",
   "execution_count": 23,
   "metadata": {},
   "outputs": [
    {
     "data": {
      "application/vnd.plotly.v1+json": {
       "config": {
        "plotlyServerURL": "https://plot.ly"
       },
       "data": [
        {
         "alignmentgroup": "True",
         "hovertemplate": "x=%{x}<br>y=%{y}<br>text=%{text}<br>color=%{marker.color}<extra></extra>",
         "legendgroup": "",
         "marker": {
          "color": [
           450000,
           430967,
           423834,
           423000,
           416000,
           412000,
           405000,
           380000,
           376080,
           375000,
           375000,
           353200,
           350000,
           342810,
           342300
          ],
          "coloraxis": "coloraxis",
          "pattern": {
           "shape": ""
          }
         },
         "name": "",
         "offsetgroup": "",
         "orientation": "v",
         "showlegend": false,
         "text": [
          450000,
          430967,
          423834,
          423000,
          416000,
          412000,
          405000,
          380000,
          376080,
          375000,
          375000,
          353200,
          350000,
          342810,
          342300
         ],
         "textposition": "auto",
         "type": "bar",
         "x": [
          "Research Scientist",
          "Data Analyst",
          "AI Scientist",
          "Applied Machine Learning Scientist",
          "Principal Data Scientist",
          "Data Scientist",
          "Data Analytics Lead",
          "Applied Data Scientist",
          "Data Architect",
          "Data Science Tech Lead",
          "Machine Learning Software Engineer",
          "Director of Data Science",
          "Applied Scientist",
          "Computer Vision Engineer",
          "Machine Learning Engineer"
         ],
         "xaxis": "x",
         "y": [
          450000,
          430967,
          423834,
          423000,
          416000,
          412000,
          405000,
          380000,
          376080,
          375000,
          375000,
          353200,
          350000,
          342810,
          342300
         ],
         "yaxis": "y"
        }
       ],
       "layout": {
        "barmode": "relative",
        "coloraxis": {
         "colorbar": {
          "title": {
           "text": "color"
          }
         },
         "colorscale": [
          [
           0,
           "#0d0887"
          ],
          [
           0.1111111111111111,
           "#46039f"
          ],
          [
           0.2222222222222222,
           "#7201a8"
          ],
          [
           0.3333333333333333,
           "#9c179e"
          ],
          [
           0.4444444444444444,
           "#bd3786"
          ],
          [
           0.5555555555555556,
           "#d8576b"
          ],
          [
           0.6666666666666666,
           "#ed7953"
          ],
          [
           0.7777777777777778,
           "#fb9f3a"
          ],
          [
           0.8888888888888888,
           "#fdca26"
          ],
          [
           1,
           "#f0f921"
          ]
         ]
        },
        "legend": {
         "tracegroupgap": 0
        },
        "template": {
         "data": {
          "bar": [
           {
            "error_x": {
             "color": "#2a3f5f"
            },
            "error_y": {
             "color": "#2a3f5f"
            },
            "marker": {
             "line": {
              "color": "#E5ECF6",
              "width": 0.5
             },
             "pattern": {
              "fillmode": "overlay",
              "size": 10,
              "solidity": 0.2
             }
            },
            "type": "bar"
           }
          ],
          "barpolar": [
           {
            "marker": {
             "line": {
              "color": "#E5ECF6",
              "width": 0.5
             },
             "pattern": {
              "fillmode": "overlay",
              "size": 10,
              "solidity": 0.2
             }
            },
            "type": "barpolar"
           }
          ],
          "carpet": [
           {
            "aaxis": {
             "endlinecolor": "#2a3f5f",
             "gridcolor": "white",
             "linecolor": "white",
             "minorgridcolor": "white",
             "startlinecolor": "#2a3f5f"
            },
            "baxis": {
             "endlinecolor": "#2a3f5f",
             "gridcolor": "white",
             "linecolor": "white",
             "minorgridcolor": "white",
             "startlinecolor": "#2a3f5f"
            },
            "type": "carpet"
           }
          ],
          "choropleth": [
           {
            "colorbar": {
             "outlinewidth": 0,
             "ticks": ""
            },
            "type": "choropleth"
           }
          ],
          "contour": [
           {
            "colorbar": {
             "outlinewidth": 0,
             "ticks": ""
            },
            "colorscale": [
             [
              0,
              "#0d0887"
             ],
             [
              0.1111111111111111,
              "#46039f"
             ],
             [
              0.2222222222222222,
              "#7201a8"
             ],
             [
              0.3333333333333333,
              "#9c179e"
             ],
             [
              0.4444444444444444,
              "#bd3786"
             ],
             [
              0.5555555555555556,
              "#d8576b"
             ],
             [
              0.6666666666666666,
              "#ed7953"
             ],
             [
              0.7777777777777778,
              "#fb9f3a"
             ],
             [
              0.8888888888888888,
              "#fdca26"
             ],
             [
              1,
              "#f0f921"
             ]
            ],
            "type": "contour"
           }
          ],
          "contourcarpet": [
           {
            "colorbar": {
             "outlinewidth": 0,
             "ticks": ""
            },
            "type": "contourcarpet"
           }
          ],
          "heatmap": [
           {
            "colorbar": {
             "outlinewidth": 0,
             "ticks": ""
            },
            "colorscale": [
             [
              0,
              "#0d0887"
             ],
             [
              0.1111111111111111,
              "#46039f"
             ],
             [
              0.2222222222222222,
              "#7201a8"
             ],
             [
              0.3333333333333333,
              "#9c179e"
             ],
             [
              0.4444444444444444,
              "#bd3786"
             ],
             [
              0.5555555555555556,
              "#d8576b"
             ],
             [
              0.6666666666666666,
              "#ed7953"
             ],
             [
              0.7777777777777778,
              "#fb9f3a"
             ],
             [
              0.8888888888888888,
              "#fdca26"
             ],
             [
              1,
              "#f0f921"
             ]
            ],
            "type": "heatmap"
           }
          ],
          "heatmapgl": [
           {
            "colorbar": {
             "outlinewidth": 0,
             "ticks": ""
            },
            "colorscale": [
             [
              0,
              "#0d0887"
             ],
             [
              0.1111111111111111,
              "#46039f"
             ],
             [
              0.2222222222222222,
              "#7201a8"
             ],
             [
              0.3333333333333333,
              "#9c179e"
             ],
             [
              0.4444444444444444,
              "#bd3786"
             ],
             [
              0.5555555555555556,
              "#d8576b"
             ],
             [
              0.6666666666666666,
              "#ed7953"
             ],
             [
              0.7777777777777778,
              "#fb9f3a"
             ],
             [
              0.8888888888888888,
              "#fdca26"
             ],
             [
              1,
              "#f0f921"
             ]
            ],
            "type": "heatmapgl"
           }
          ],
          "histogram": [
           {
            "marker": {
             "pattern": {
              "fillmode": "overlay",
              "size": 10,
              "solidity": 0.2
             }
            },
            "type": "histogram"
           }
          ],
          "histogram2d": [
           {
            "colorbar": {
             "outlinewidth": 0,
             "ticks": ""
            },
            "colorscale": [
             [
              0,
              "#0d0887"
             ],
             [
              0.1111111111111111,
              "#46039f"
             ],
             [
              0.2222222222222222,
              "#7201a8"
             ],
             [
              0.3333333333333333,
              "#9c179e"
             ],
             [
              0.4444444444444444,
              "#bd3786"
             ],
             [
              0.5555555555555556,
              "#d8576b"
             ],
             [
              0.6666666666666666,
              "#ed7953"
             ],
             [
              0.7777777777777778,
              "#fb9f3a"
             ],
             [
              0.8888888888888888,
              "#fdca26"
             ],
             [
              1,
              "#f0f921"
             ]
            ],
            "type": "histogram2d"
           }
          ],
          "histogram2dcontour": [
           {
            "colorbar": {
             "outlinewidth": 0,
             "ticks": ""
            },
            "colorscale": [
             [
              0,
              "#0d0887"
             ],
             [
              0.1111111111111111,
              "#46039f"
             ],
             [
              0.2222222222222222,
              "#7201a8"
             ],
             [
              0.3333333333333333,
              "#9c179e"
             ],
             [
              0.4444444444444444,
              "#bd3786"
             ],
             [
              0.5555555555555556,
              "#d8576b"
             ],
             [
              0.6666666666666666,
              "#ed7953"
             ],
             [
              0.7777777777777778,
              "#fb9f3a"
             ],
             [
              0.8888888888888888,
              "#fdca26"
             ],
             [
              1,
              "#f0f921"
             ]
            ],
            "type": "histogram2dcontour"
           }
          ],
          "mesh3d": [
           {
            "colorbar": {
             "outlinewidth": 0,
             "ticks": ""
            },
            "type": "mesh3d"
           }
          ],
          "parcoords": [
           {
            "line": {
             "colorbar": {
              "outlinewidth": 0,
              "ticks": ""
             }
            },
            "type": "parcoords"
           }
          ],
          "pie": [
           {
            "automargin": true,
            "type": "pie"
           }
          ],
          "scatter": [
           {
            "fillpattern": {
             "fillmode": "overlay",
             "size": 10,
             "solidity": 0.2
            },
            "type": "scatter"
           }
          ],
          "scatter3d": [
           {
            "line": {
             "colorbar": {
              "outlinewidth": 0,
              "ticks": ""
             }
            },
            "marker": {
             "colorbar": {
              "outlinewidth": 0,
              "ticks": ""
             }
            },
            "type": "scatter3d"
           }
          ],
          "scattercarpet": [
           {
            "marker": {
             "colorbar": {
              "outlinewidth": 0,
              "ticks": ""
             }
            },
            "type": "scattercarpet"
           }
          ],
          "scattergeo": [
           {
            "marker": {
             "colorbar": {
              "outlinewidth": 0,
              "ticks": ""
             }
            },
            "type": "scattergeo"
           }
          ],
          "scattergl": [
           {
            "marker": {
             "colorbar": {
              "outlinewidth": 0,
              "ticks": ""
             }
            },
            "type": "scattergl"
           }
          ],
          "scattermapbox": [
           {
            "marker": {
             "colorbar": {
              "outlinewidth": 0,
              "ticks": ""
             }
            },
            "type": "scattermapbox"
           }
          ],
          "scatterpolar": [
           {
            "marker": {
             "colorbar": {
              "outlinewidth": 0,
              "ticks": ""
             }
            },
            "type": "scatterpolar"
           }
          ],
          "scatterpolargl": [
           {
            "marker": {
             "colorbar": {
              "outlinewidth": 0,
              "ticks": ""
             }
            },
            "type": "scatterpolargl"
           }
          ],
          "scatterternary": [
           {
            "marker": {
             "colorbar": {
              "outlinewidth": 0,
              "ticks": ""
             }
            },
            "type": "scatterternary"
           }
          ],
          "surface": [
           {
            "colorbar": {
             "outlinewidth": 0,
             "ticks": ""
            },
            "colorscale": [
             [
              0,
              "#0d0887"
             ],
             [
              0.1111111111111111,
              "#46039f"
             ],
             [
              0.2222222222222222,
              "#7201a8"
             ],
             [
              0.3333333333333333,
              "#9c179e"
             ],
             [
              0.4444444444444444,
              "#bd3786"
             ],
             [
              0.5555555555555556,
              "#d8576b"
             ],
             [
              0.6666666666666666,
              "#ed7953"
             ],
             [
              0.7777777777777778,
              "#fb9f3a"
             ],
             [
              0.8888888888888888,
              "#fdca26"
             ],
             [
              1,
              "#f0f921"
             ]
            ],
            "type": "surface"
           }
          ],
          "table": [
           {
            "cells": {
             "fill": {
              "color": "#EBF0F8"
             },
             "line": {
              "color": "white"
             }
            },
            "header": {
             "fill": {
              "color": "#C8D4E3"
             },
             "line": {
              "color": "white"
             }
            },
            "type": "table"
           }
          ]
         },
         "layout": {
          "annotationdefaults": {
           "arrowcolor": "#2a3f5f",
           "arrowhead": 0,
           "arrowwidth": 1
          },
          "autotypenumbers": "strict",
          "coloraxis": {
           "colorbar": {
            "outlinewidth": 0,
            "ticks": ""
           }
          },
          "colorscale": {
           "diverging": [
            [
             0,
             "#8e0152"
            ],
            [
             0.1,
             "#c51b7d"
            ],
            [
             0.2,
             "#de77ae"
            ],
            [
             0.3,
             "#f1b6da"
            ],
            [
             0.4,
             "#fde0ef"
            ],
            [
             0.5,
             "#f7f7f7"
            ],
            [
             0.6,
             "#e6f5d0"
            ],
            [
             0.7,
             "#b8e186"
            ],
            [
             0.8,
             "#7fbc41"
            ],
            [
             0.9,
             "#4d9221"
            ],
            [
             1,
             "#276419"
            ]
           ],
           "sequential": [
            [
             0,
             "#0d0887"
            ],
            [
             0.1111111111111111,
             "#46039f"
            ],
            [
             0.2222222222222222,
             "#7201a8"
            ],
            [
             0.3333333333333333,
             "#9c179e"
            ],
            [
             0.4444444444444444,
             "#bd3786"
            ],
            [
             0.5555555555555556,
             "#d8576b"
            ],
            [
             0.6666666666666666,
             "#ed7953"
            ],
            [
             0.7777777777777778,
             "#fb9f3a"
            ],
            [
             0.8888888888888888,
             "#fdca26"
            ],
            [
             1,
             "#f0f921"
            ]
           ],
           "sequentialminus": [
            [
             0,
             "#0d0887"
            ],
            [
             0.1111111111111111,
             "#46039f"
            ],
            [
             0.2222222222222222,
             "#7201a8"
            ],
            [
             0.3333333333333333,
             "#9c179e"
            ],
            [
             0.4444444444444444,
             "#bd3786"
            ],
            [
             0.5555555555555556,
             "#d8576b"
            ],
            [
             0.6666666666666666,
             "#ed7953"
            ],
            [
             0.7777777777777778,
             "#fb9f3a"
            ],
            [
             0.8888888888888888,
             "#fdca26"
            ],
            [
             1,
             "#f0f921"
            ]
           ]
          },
          "colorway": [
           "#636efa",
           "#EF553B",
           "#00cc96",
           "#ab63fa",
           "#FFA15A",
           "#19d3f3",
           "#FF6692",
           "#B6E880",
           "#FF97FF",
           "#FECB52"
          ],
          "font": {
           "color": "#2a3f5f"
          },
          "geo": {
           "bgcolor": "white",
           "lakecolor": "white",
           "landcolor": "#E5ECF6",
           "showlakes": true,
           "showland": true,
           "subunitcolor": "white"
          },
          "hoverlabel": {
           "align": "left"
          },
          "hovermode": "closest",
          "mapbox": {
           "style": "light"
          },
          "paper_bgcolor": "white",
          "plot_bgcolor": "#E5ECF6",
          "polar": {
           "angularaxis": {
            "gridcolor": "white",
            "linecolor": "white",
            "ticks": ""
           },
           "bgcolor": "#E5ECF6",
           "radialaxis": {
            "gridcolor": "white",
            "linecolor": "white",
            "ticks": ""
           }
          },
          "scene": {
           "xaxis": {
            "backgroundcolor": "#E5ECF6",
            "gridcolor": "white",
            "gridwidth": 2,
            "linecolor": "white",
            "showbackground": true,
            "ticks": "",
            "zerolinecolor": "white"
           },
           "yaxis": {
            "backgroundcolor": "#E5ECF6",
            "gridcolor": "white",
            "gridwidth": 2,
            "linecolor": "white",
            "showbackground": true,
            "ticks": "",
            "zerolinecolor": "white"
           },
           "zaxis": {
            "backgroundcolor": "#E5ECF6",
            "gridcolor": "white",
            "gridwidth": 2,
            "linecolor": "white",
            "showbackground": true,
            "ticks": "",
            "zerolinecolor": "white"
           }
          },
          "shapedefaults": {
           "line": {
            "color": "#2a3f5f"
           }
          },
          "ternary": {
           "aaxis": {
            "gridcolor": "white",
            "linecolor": "white",
            "ticks": ""
           },
           "baxis": {
            "gridcolor": "white",
            "linecolor": "white",
            "ticks": ""
           },
           "bgcolor": "#E5ECF6",
           "caxis": {
            "gridcolor": "white",
            "linecolor": "white",
            "ticks": ""
           }
          },
          "title": {
           "x": 0.05
          },
          "xaxis": {
           "automargin": true,
           "gridcolor": "white",
           "linecolor": "white",
           "ticks": "",
           "title": {
            "standoff": 15
           },
           "zerolinecolor": "white",
           "zerolinewidth": 2
          },
          "yaxis": {
           "automargin": true,
           "gridcolor": "white",
           "linecolor": "white",
           "ticks": "",
           "title": {
            "standoff": 15
           },
           "zerolinecolor": "white",
           "zerolinewidth": 2
          }
         }
        },
        "title": {
         "text": "Highest Paying Job in DS Field"
        },
        "xaxis": {
         "anchor": "y",
         "domain": [
          0,
          1
         ],
         "title": {
          "text": "Job titles"
         }
        },
        "yaxis": {
         "anchor": "x",
         "domain": [
          0,
          1
         ],
         "title": {
          "text": "Salary in USD"
         }
        }
       }
      }
     },
     "metadata": {},
     "output_type": "display_data"
    }
   ],
   "source": [
    "highest_payment = df_ds.groupby('job_title')['salary_in_usd'].max().sort_values(ascending=False)[:15]\n",
    "\n",
    "fig = px.bar(x = highest_payment.index, y = highest_payment.values, text = highest_payment.values, color = highest_payment, \n",
    "             title = 'Highest Paying Job in DS Field')\n",
    "fig.update_layout(xaxis_title = 'Job titles', yaxis_title = 'Salary in USD')\n"
   ]
  },
  {
   "cell_type": "markdown",
   "metadata": {},
   "source": [
    "WHAT WE KNOW:\n",
    "- The highest paying data science job is: Research Scientist > Data Analyst > AI Scientist"
   ]
  },
  {
   "cell_type": "markdown",
   "metadata": {},
   "source": [
    "#### 2. Salary based on the work year? (Progressive chart?)"
   ]
  },
  {
   "cell_type": "code",
   "execution_count": 24,
   "metadata": {},
   "outputs": [],
   "source": [
    "df_ds_2023 = df_ds[df_ds['work_year'] == 2023]\n",
    "df_ds_2022 = df_ds[df_ds['work_year'] == 2022]\n",
    "df_ds_2021 = df_ds[df_ds['work_year'] == 2021]\n",
    "df_ds_2020 = df_ds[df_ds['work_year'] == 2020]\n",
    "\n",
    "year_salary = pd.DataFrame(columns = ['2020', '2021', '2022', '2023'])"
   ]
  },
  {
   "cell_type": "code",
   "execution_count": 25,
   "metadata": {},
   "outputs": [],
   "source": [
    "year_salary['2020'] = [df_ds_2020['salary_in_usd'].mean()]\n",
    "year_salary['2021'] = [df_ds_2021['salary_in_usd'].mean()]\n",
    "year_salary['2022'] = [df_ds_2022['salary_in_usd'].mean()]\n",
    "year_salary['2023'] = [df_ds_2023['salary_in_usd'].mean()]\n",
    "\n",
    "\n",
    "hist_data = [df_ds_2020['salary_in_usd'], df_ds_2021['salary_in_usd'], \n",
    "            df_ds_2022['salary_in_usd'], df_ds_2023['salary_in_usd']]\n",
    "group_labels = ['2020 salary', '2021 salary', '2022 salary', '2023 salary']\n"
   ]
  },
  {
   "cell_type": "code",
   "execution_count": 26,
   "metadata": {},
   "outputs": [
    {
     "data": {
      "application/vnd.plotly.v1+json": {
       "config": {
        "plotlyServerURL": "https://plot.ly"
       },
       "data": [
        {
         "alignmentgroup": "True",
         "hovertemplate": "color=2020<br>x=%{x}<br>y=%{y}<extra></extra>",
         "legendgroup": "2020",
         "marker": {
          "color": "#636efa",
          "pattern": {
           "shape": ""
          }
         },
         "name": "2020",
         "offsetgroup": "2020",
         "orientation": "v",
         "showlegend": true,
         "textposition": "auto",
         "type": "bar",
         "x": [
          "2020"
         ],
         "xaxis": "x",
         "y": [
          92302.63157894737
         ],
         "yaxis": "y"
        },
        {
         "alignmentgroup": "True",
         "hovertemplate": "color=2021<br>x=%{x}<br>y=%{y}<extra></extra>",
         "legendgroup": "2021",
         "marker": {
          "color": "#EF553B",
          "pattern": {
           "shape": ""
          }
         },
         "name": "2021",
         "offsetgroup": "2021",
         "orientation": "v",
         "showlegend": true,
         "textposition": "auto",
         "type": "bar",
         "x": [
          "2021"
         ],
         "xaxis": "x",
         "y": [
          94087.20869565217
         ],
         "yaxis": "y"
        },
        {
         "alignmentgroup": "True",
         "hovertemplate": "color=2022<br>x=%{x}<br>y=%{y}<extra></extra>",
         "legendgroup": "2022",
         "marker": {
          "color": "#00cc96",
          "pattern": {
           "shape": ""
          }
         },
         "name": "2022",
         "offsetgroup": "2022",
         "orientation": "v",
         "showlegend": true,
         "textposition": "auto",
         "type": "bar",
         "x": [
          "2022"
         ],
         "xaxis": "x",
         "y": [
          133338.62079326922
         ],
         "yaxis": "y"
        },
        {
         "alignmentgroup": "True",
         "hovertemplate": "color=2023<br>x=%{x}<br>y=%{y}<extra></extra>",
         "legendgroup": "2023",
         "marker": {
          "color": "#ab63fa",
          "pattern": {
           "shape": ""
          }
         },
         "name": "2023",
         "offsetgroup": "2023",
         "orientation": "v",
         "showlegend": true,
         "textposition": "auto",
         "type": "bar",
         "x": [
          "2023"
         ],
         "xaxis": "x",
         "y": [
          149045.54117647058
         ],
         "yaxis": "y"
        }
       ],
       "layout": {
        "barmode": "relative",
        "legend": {
         "title": {
          "text": "color"
         },
         "tracegroupgap": 0
        },
        "template": {
         "data": {
          "bar": [
           {
            "error_x": {
             "color": "#2a3f5f"
            },
            "error_y": {
             "color": "#2a3f5f"
            },
            "marker": {
             "line": {
              "color": "#E5ECF6",
              "width": 0.5
             },
             "pattern": {
              "fillmode": "overlay",
              "size": 10,
              "solidity": 0.2
             }
            },
            "type": "bar"
           }
          ],
          "barpolar": [
           {
            "marker": {
             "line": {
              "color": "#E5ECF6",
              "width": 0.5
             },
             "pattern": {
              "fillmode": "overlay",
              "size": 10,
              "solidity": 0.2
             }
            },
            "type": "barpolar"
           }
          ],
          "carpet": [
           {
            "aaxis": {
             "endlinecolor": "#2a3f5f",
             "gridcolor": "white",
             "linecolor": "white",
             "minorgridcolor": "white",
             "startlinecolor": "#2a3f5f"
            },
            "baxis": {
             "endlinecolor": "#2a3f5f",
             "gridcolor": "white",
             "linecolor": "white",
             "minorgridcolor": "white",
             "startlinecolor": "#2a3f5f"
            },
            "type": "carpet"
           }
          ],
          "choropleth": [
           {
            "colorbar": {
             "outlinewidth": 0,
             "ticks": ""
            },
            "type": "choropleth"
           }
          ],
          "contour": [
           {
            "colorbar": {
             "outlinewidth": 0,
             "ticks": ""
            },
            "colorscale": [
             [
              0,
              "#0d0887"
             ],
             [
              0.1111111111111111,
              "#46039f"
             ],
             [
              0.2222222222222222,
              "#7201a8"
             ],
             [
              0.3333333333333333,
              "#9c179e"
             ],
             [
              0.4444444444444444,
              "#bd3786"
             ],
             [
              0.5555555555555556,
              "#d8576b"
             ],
             [
              0.6666666666666666,
              "#ed7953"
             ],
             [
              0.7777777777777778,
              "#fb9f3a"
             ],
             [
              0.8888888888888888,
              "#fdca26"
             ],
             [
              1,
              "#f0f921"
             ]
            ],
            "type": "contour"
           }
          ],
          "contourcarpet": [
           {
            "colorbar": {
             "outlinewidth": 0,
             "ticks": ""
            },
            "type": "contourcarpet"
           }
          ],
          "heatmap": [
           {
            "colorbar": {
             "outlinewidth": 0,
             "ticks": ""
            },
            "colorscale": [
             [
              0,
              "#0d0887"
             ],
             [
              0.1111111111111111,
              "#46039f"
             ],
             [
              0.2222222222222222,
              "#7201a8"
             ],
             [
              0.3333333333333333,
              "#9c179e"
             ],
             [
              0.4444444444444444,
              "#bd3786"
             ],
             [
              0.5555555555555556,
              "#d8576b"
             ],
             [
              0.6666666666666666,
              "#ed7953"
             ],
             [
              0.7777777777777778,
              "#fb9f3a"
             ],
             [
              0.8888888888888888,
              "#fdca26"
             ],
             [
              1,
              "#f0f921"
             ]
            ],
            "type": "heatmap"
           }
          ],
          "heatmapgl": [
           {
            "colorbar": {
             "outlinewidth": 0,
             "ticks": ""
            },
            "colorscale": [
             [
              0,
              "#0d0887"
             ],
             [
              0.1111111111111111,
              "#46039f"
             ],
             [
              0.2222222222222222,
              "#7201a8"
             ],
             [
              0.3333333333333333,
              "#9c179e"
             ],
             [
              0.4444444444444444,
              "#bd3786"
             ],
             [
              0.5555555555555556,
              "#d8576b"
             ],
             [
              0.6666666666666666,
              "#ed7953"
             ],
             [
              0.7777777777777778,
              "#fb9f3a"
             ],
             [
              0.8888888888888888,
              "#fdca26"
             ],
             [
              1,
              "#f0f921"
             ]
            ],
            "type": "heatmapgl"
           }
          ],
          "histogram": [
           {
            "marker": {
             "pattern": {
              "fillmode": "overlay",
              "size": 10,
              "solidity": 0.2
             }
            },
            "type": "histogram"
           }
          ],
          "histogram2d": [
           {
            "colorbar": {
             "outlinewidth": 0,
             "ticks": ""
            },
            "colorscale": [
             [
              0,
              "#0d0887"
             ],
             [
              0.1111111111111111,
              "#46039f"
             ],
             [
              0.2222222222222222,
              "#7201a8"
             ],
             [
              0.3333333333333333,
              "#9c179e"
             ],
             [
              0.4444444444444444,
              "#bd3786"
             ],
             [
              0.5555555555555556,
              "#d8576b"
             ],
             [
              0.6666666666666666,
              "#ed7953"
             ],
             [
              0.7777777777777778,
              "#fb9f3a"
             ],
             [
              0.8888888888888888,
              "#fdca26"
             ],
             [
              1,
              "#f0f921"
             ]
            ],
            "type": "histogram2d"
           }
          ],
          "histogram2dcontour": [
           {
            "colorbar": {
             "outlinewidth": 0,
             "ticks": ""
            },
            "colorscale": [
             [
              0,
              "#0d0887"
             ],
             [
              0.1111111111111111,
              "#46039f"
             ],
             [
              0.2222222222222222,
              "#7201a8"
             ],
             [
              0.3333333333333333,
              "#9c179e"
             ],
             [
              0.4444444444444444,
              "#bd3786"
             ],
             [
              0.5555555555555556,
              "#d8576b"
             ],
             [
              0.6666666666666666,
              "#ed7953"
             ],
             [
              0.7777777777777778,
              "#fb9f3a"
             ],
             [
              0.8888888888888888,
              "#fdca26"
             ],
             [
              1,
              "#f0f921"
             ]
            ],
            "type": "histogram2dcontour"
           }
          ],
          "mesh3d": [
           {
            "colorbar": {
             "outlinewidth": 0,
             "ticks": ""
            },
            "type": "mesh3d"
           }
          ],
          "parcoords": [
           {
            "line": {
             "colorbar": {
              "outlinewidth": 0,
              "ticks": ""
             }
            },
            "type": "parcoords"
           }
          ],
          "pie": [
           {
            "automargin": true,
            "type": "pie"
           }
          ],
          "scatter": [
           {
            "fillpattern": {
             "fillmode": "overlay",
             "size": 10,
             "solidity": 0.2
            },
            "type": "scatter"
           }
          ],
          "scatter3d": [
           {
            "line": {
             "colorbar": {
              "outlinewidth": 0,
              "ticks": ""
             }
            },
            "marker": {
             "colorbar": {
              "outlinewidth": 0,
              "ticks": ""
             }
            },
            "type": "scatter3d"
           }
          ],
          "scattercarpet": [
           {
            "marker": {
             "colorbar": {
              "outlinewidth": 0,
              "ticks": ""
             }
            },
            "type": "scattercarpet"
           }
          ],
          "scattergeo": [
           {
            "marker": {
             "colorbar": {
              "outlinewidth": 0,
              "ticks": ""
             }
            },
            "type": "scattergeo"
           }
          ],
          "scattergl": [
           {
            "marker": {
             "colorbar": {
              "outlinewidth": 0,
              "ticks": ""
             }
            },
            "type": "scattergl"
           }
          ],
          "scattermapbox": [
           {
            "marker": {
             "colorbar": {
              "outlinewidth": 0,
              "ticks": ""
             }
            },
            "type": "scattermapbox"
           }
          ],
          "scatterpolar": [
           {
            "marker": {
             "colorbar": {
              "outlinewidth": 0,
              "ticks": ""
             }
            },
            "type": "scatterpolar"
           }
          ],
          "scatterpolargl": [
           {
            "marker": {
             "colorbar": {
              "outlinewidth": 0,
              "ticks": ""
             }
            },
            "type": "scatterpolargl"
           }
          ],
          "scatterternary": [
           {
            "marker": {
             "colorbar": {
              "outlinewidth": 0,
              "ticks": ""
             }
            },
            "type": "scatterternary"
           }
          ],
          "surface": [
           {
            "colorbar": {
             "outlinewidth": 0,
             "ticks": ""
            },
            "colorscale": [
             [
              0,
              "#0d0887"
             ],
             [
              0.1111111111111111,
              "#46039f"
             ],
             [
              0.2222222222222222,
              "#7201a8"
             ],
             [
              0.3333333333333333,
              "#9c179e"
             ],
             [
              0.4444444444444444,
              "#bd3786"
             ],
             [
              0.5555555555555556,
              "#d8576b"
             ],
             [
              0.6666666666666666,
              "#ed7953"
             ],
             [
              0.7777777777777778,
              "#fb9f3a"
             ],
             [
              0.8888888888888888,
              "#fdca26"
             ],
             [
              1,
              "#f0f921"
             ]
            ],
            "type": "surface"
           }
          ],
          "table": [
           {
            "cells": {
             "fill": {
              "color": "#EBF0F8"
             },
             "line": {
              "color": "white"
             }
            },
            "header": {
             "fill": {
              "color": "#C8D4E3"
             },
             "line": {
              "color": "white"
             }
            },
            "type": "table"
           }
          ]
         },
         "layout": {
          "annotationdefaults": {
           "arrowcolor": "#2a3f5f",
           "arrowhead": 0,
           "arrowwidth": 1
          },
          "autotypenumbers": "strict",
          "coloraxis": {
           "colorbar": {
            "outlinewidth": 0,
            "ticks": ""
           }
          },
          "colorscale": {
           "diverging": [
            [
             0,
             "#8e0152"
            ],
            [
             0.1,
             "#c51b7d"
            ],
            [
             0.2,
             "#de77ae"
            ],
            [
             0.3,
             "#f1b6da"
            ],
            [
             0.4,
             "#fde0ef"
            ],
            [
             0.5,
             "#f7f7f7"
            ],
            [
             0.6,
             "#e6f5d0"
            ],
            [
             0.7,
             "#b8e186"
            ],
            [
             0.8,
             "#7fbc41"
            ],
            [
             0.9,
             "#4d9221"
            ],
            [
             1,
             "#276419"
            ]
           ],
           "sequential": [
            [
             0,
             "#0d0887"
            ],
            [
             0.1111111111111111,
             "#46039f"
            ],
            [
             0.2222222222222222,
             "#7201a8"
            ],
            [
             0.3333333333333333,
             "#9c179e"
            ],
            [
             0.4444444444444444,
             "#bd3786"
            ],
            [
             0.5555555555555556,
             "#d8576b"
            ],
            [
             0.6666666666666666,
             "#ed7953"
            ],
            [
             0.7777777777777778,
             "#fb9f3a"
            ],
            [
             0.8888888888888888,
             "#fdca26"
            ],
            [
             1,
             "#f0f921"
            ]
           ],
           "sequentialminus": [
            [
             0,
             "#0d0887"
            ],
            [
             0.1111111111111111,
             "#46039f"
            ],
            [
             0.2222222222222222,
             "#7201a8"
            ],
            [
             0.3333333333333333,
             "#9c179e"
            ],
            [
             0.4444444444444444,
             "#bd3786"
            ],
            [
             0.5555555555555556,
             "#d8576b"
            ],
            [
             0.6666666666666666,
             "#ed7953"
            ],
            [
             0.7777777777777778,
             "#fb9f3a"
            ],
            [
             0.8888888888888888,
             "#fdca26"
            ],
            [
             1,
             "#f0f921"
            ]
           ]
          },
          "colorway": [
           "#636efa",
           "#EF553B",
           "#00cc96",
           "#ab63fa",
           "#FFA15A",
           "#19d3f3",
           "#FF6692",
           "#B6E880",
           "#FF97FF",
           "#FECB52"
          ],
          "font": {
           "color": "#2a3f5f"
          },
          "geo": {
           "bgcolor": "white",
           "lakecolor": "white",
           "landcolor": "#E5ECF6",
           "showlakes": true,
           "showland": true,
           "subunitcolor": "white"
          },
          "hoverlabel": {
           "align": "left"
          },
          "hovermode": "closest",
          "mapbox": {
           "style": "light"
          },
          "paper_bgcolor": "white",
          "plot_bgcolor": "#E5ECF6",
          "polar": {
           "angularaxis": {
            "gridcolor": "white",
            "linecolor": "white",
            "ticks": ""
           },
           "bgcolor": "#E5ECF6",
           "radialaxis": {
            "gridcolor": "white",
            "linecolor": "white",
            "ticks": ""
           }
          },
          "scene": {
           "xaxis": {
            "backgroundcolor": "#E5ECF6",
            "gridcolor": "white",
            "gridwidth": 2,
            "linecolor": "white",
            "showbackground": true,
            "ticks": "",
            "zerolinecolor": "white"
           },
           "yaxis": {
            "backgroundcolor": "#E5ECF6",
            "gridcolor": "white",
            "gridwidth": 2,
            "linecolor": "white",
            "showbackground": true,
            "ticks": "",
            "zerolinecolor": "white"
           },
           "zaxis": {
            "backgroundcolor": "#E5ECF6",
            "gridcolor": "white",
            "gridwidth": 2,
            "linecolor": "white",
            "showbackground": true,
            "ticks": "",
            "zerolinecolor": "white"
           }
          },
          "shapedefaults": {
           "line": {
            "color": "#2a3f5f"
           }
          },
          "ternary": {
           "aaxis": {
            "gridcolor": "white",
            "linecolor": "white",
            "ticks": ""
           },
           "baxis": {
            "gridcolor": "white",
            "linecolor": "white",
            "ticks": ""
           },
           "bgcolor": "#E5ECF6",
           "caxis": {
            "gridcolor": "white",
            "linecolor": "white",
            "ticks": ""
           }
          },
          "title": {
           "x": 0.05
          },
          "xaxis": {
           "automargin": true,
           "gridcolor": "white",
           "linecolor": "white",
           "ticks": "",
           "title": {
            "standoff": 15
           },
           "zerolinecolor": "white",
           "zerolinewidth": 2
          },
          "yaxis": {
           "automargin": true,
           "gridcolor": "white",
           "linecolor": "white",
           "ticks": "",
           "title": {
            "standoff": 15
           },
           "zerolinecolor": "white",
           "zerolinewidth": 2
          }
         }
        },
        "title": {
         "text": "Average Salary based on Work Year"
        },
        "xaxis": {
         "anchor": "y",
         "domain": [
          0,
          1
         ],
         "title": {
          "text": "Work Year"
         }
        },
        "yaxis": {
         "anchor": "x",
         "domain": [
          0,
          1
         ],
         "title": {
          "text": "Mean Salary (k)"
         }
        }
       }
      }
     },
     "metadata": {},
     "output_type": "display_data"
    },
    {
     "data": {
      "application/vnd.plotly.v1+json": {
       "config": {
        "plotlyServerURL": "https://plot.ly"
       },
       "data": [
        {
         "legendgroup": "2020 salary",
         "marker": {
          "color": "rgb(31, 119, 180)"
         },
         "mode": "lines",
         "name": "2020 salary",
         "showlegend": true,
         "type": "scatter",
         "x": [
          5707,
          6595.586,
          7484.1720000000005,
          8372.758,
          9261.344000000001,
          10149.93,
          11038.516,
          11927.101999999999,
          12815.688,
          13704.274000000001,
          14592.86,
          15481.446,
          16370.032,
          17258.618000000002,
          18147.203999999998,
          19035.79,
          19924.376,
          20812.962,
          21701.548000000003,
          22590.134,
          23478.72,
          24367.306,
          25255.892,
          26144.478,
          27033.064,
          27921.65,
          28810.236,
          29698.822,
          30587.408,
          31475.994,
          32364.58,
          33253.166,
          34141.752,
          35030.338,
          35918.924,
          36807.509999999995,
          37696.096000000005,
          38584.682,
          39473.268,
          40361.854,
          41250.44,
          42139.026,
          43027.612,
          43916.198,
          44804.784,
          45693.37,
          46581.956,
          47470.542,
          48359.128,
          49247.714,
          50136.3,
          51024.886,
          51913.472,
          52802.058,
          53690.644,
          54579.23,
          55467.816,
          56356.402,
          57244.988,
          58133.574,
          59022.16,
          59910.746,
          60799.332,
          61687.918,
          62576.504,
          63465.09,
          64353.676,
          65242.262,
          66130.848,
          67019.43400000001,
          67908.01999999999,
          68796.606,
          69685.19200000001,
          70573.77799999999,
          71462.364,
          72350.95,
          73239.536,
          74128.122,
          75016.708,
          75905.294,
          76793.88,
          77682.466,
          78571.052,
          79459.638,
          80348.224,
          81236.81,
          82125.396,
          83013.982,
          83902.568,
          84791.154,
          85679.74,
          86568.326,
          87456.912,
          88345.498,
          89234.084,
          90122.67,
          91011.256,
          91899.842,
          92788.428,
          93677.014,
          94565.6,
          95454.186,
          96342.772,
          97231.358,
          98119.944,
          99008.53,
          99897.116,
          100785.702,
          101674.288,
          102562.874,
          103451.46,
          104340.046,
          105228.632,
          106117.218,
          107005.804,
          107894.39,
          108782.976,
          109671.562,
          110560.148,
          111448.734,
          112337.32,
          113225.906,
          114114.492,
          115003.078,
          115891.664,
          116780.25,
          117668.836,
          118557.422,
          119446.008,
          120334.594,
          121223.18,
          122111.766,
          123000.352,
          123888.938,
          124777.524,
          125666.11,
          126554.696,
          127443.282,
          128331.868,
          129220.454,
          130109.04,
          130997.626,
          131886.212,
          132774.798,
          133663.38400000002,
          134551.97,
          135440.55599999998,
          136329.142,
          137217.728,
          138106.314,
          138994.9,
          139883.486,
          140772.072,
          141660.658,
          142549.244,
          143437.83,
          144326.416,
          145215.002,
          146103.588,
          146992.174,
          147880.76,
          148769.346,
          149657.932,
          150546.518,
          151435.104,
          152323.69,
          153212.276,
          154100.862,
          154989.448,
          155878.034,
          156766.62,
          157655.206,
          158543.792,
          159432.378,
          160320.964,
          161209.55,
          162098.136,
          162986.722,
          163875.308,
          164763.894,
          165652.48,
          166541.066,
          167429.652,
          168318.238,
          169206.824,
          170095.41,
          170983.996,
          171872.582,
          172761.168,
          173649.754,
          174538.34,
          175426.926,
          176315.512,
          177204.098,
          178092.684,
          178981.27,
          179869.856,
          180758.442,
          181647.028,
          182535.614,
          183424.2,
          184312.786,
          185201.372,
          186089.958,
          186978.544,
          187867.13,
          188755.716,
          189644.302,
          190532.888,
          191421.474,
          192310.06,
          193198.646,
          194087.232,
          194975.818,
          195864.404,
          196752.99,
          197641.576,
          198530.162,
          199418.748,
          200307.334,
          201195.92,
          202084.506,
          202973.092,
          203861.678,
          204750.264,
          205638.85,
          206527.436,
          207416.022,
          208304.608,
          209193.194,
          210081.78,
          210970.366,
          211858.952,
          212747.538,
          213636.124,
          214524.71,
          215413.296,
          216301.882,
          217190.468,
          218079.054,
          218967.64,
          219856.226,
          220744.812,
          221633.398,
          222521.984,
          223410.57,
          224299.156,
          225187.742,
          226076.328,
          226964.914,
          227853.5,
          228742.086,
          229630.672,
          230519.258,
          231407.844,
          232296.43,
          233185.016,
          234073.602,
          234962.188,
          235850.774,
          236739.36,
          237627.946,
          238516.532,
          239405.118,
          240293.704,
          241182.29,
          242070.876,
          242959.462,
          243848.048,
          244736.634,
          245625.22,
          246513.806,
          247402.392,
          248290.978,
          249179.564,
          250068.15,
          250956.736,
          251845.322,
          252733.908,
          253622.494,
          254511.08,
          255399.666,
          256288.252,
          257176.838,
          258065.424,
          258954.01,
          259842.596,
          260731.182,
          261619.768,
          262508.354,
          263396.94,
          264285.526,
          265174.11199999996,
          266062.698,
          266951.284,
          267839.87,
          268728.456,
          269617.042,
          270505.628,
          271394.214,
          272282.8,
          273171.386,
          274059.972,
          274948.558,
          275837.144,
          276725.73,
          277614.316,
          278502.902,
          279391.488,
          280280.074,
          281168.66,
          282057.246,
          282945.832,
          283834.418,
          284723.004,
          285611.59,
          286500.176,
          287388.762,
          288277.348,
          289165.934,
          290054.52,
          290943.106,
          291831.692,
          292720.278,
          293608.864,
          294497.45,
          295386.036,
          296274.622,
          297163.208,
          298051.794,
          298940.38,
          299828.966,
          300717.552,
          301606.138,
          302494.724,
          303383.31,
          304271.896,
          305160.482,
          306049.068,
          306937.654,
          307826.24,
          308714.826,
          309603.412,
          310491.998,
          311380.584,
          312269.17,
          313157.756,
          314046.342,
          314934.928,
          315823.514,
          316712.1,
          317600.686,
          318489.272,
          319377.858,
          320266.444,
          321155.03,
          322043.616,
          322932.202,
          323820.788,
          324709.374,
          325597.96,
          326486.546,
          327375.132,
          328263.718,
          329152.304,
          330040.89,
          330929.476,
          331818.062,
          332706.648,
          333595.234,
          334483.82,
          335372.406,
          336260.992,
          337149.578,
          338038.164,
          338926.75,
          339815.336,
          340703.922,
          341592.508,
          342481.094,
          343369.68,
          344258.266,
          345146.852,
          346035.438,
          346924.024,
          347812.61,
          348701.196,
          349589.782,
          350478.368,
          351366.954,
          352255.54,
          353144.126,
          354032.712,
          354921.298,
          355809.884,
          356698.47,
          357587.056,
          358475.642,
          359364.228,
          360252.814,
          361141.4,
          362029.986,
          362918.572,
          363807.158,
          364695.744,
          365584.33,
          366472.916,
          367361.502,
          368250.088,
          369138.674,
          370027.26,
          370915.846,
          371804.432,
          372693.018,
          373581.604,
          374470.19,
          375358.776,
          376247.362,
          377135.948,
          378024.534,
          378913.12,
          379801.706,
          380690.292,
          381578.878,
          382467.464,
          383356.05,
          384244.636,
          385133.222,
          386021.808,
          386910.394,
          387798.98,
          388687.566,
          389576.152,
          390464.738,
          391353.324,
          392241.91,
          393130.496,
          394019.082,
          394907.668,
          395796.254,
          396684.84,
          397573.426,
          398462.012,
          399350.598,
          400239.184,
          401127.77,
          402016.356,
          402904.942,
          403793.528,
          404682.114,
          405570.7,
          406459.286,
          407347.872,
          408236.458,
          409125.044,
          410013.63,
          410902.216,
          411790.802,
          412679.388,
          413567.974,
          414456.56,
          415345.146,
          416233.732,
          417122.318,
          418010.904,
          418899.49,
          419788.076,
          420676.662,
          421565.248,
          422453.834,
          423342.42,
          424231.006,
          425119.592,
          426008.178,
          426896.764,
          427785.35,
          428673.936,
          429562.522,
          430451.108,
          431339.694,
          432228.28,
          433116.866,
          434005.452,
          434894.038,
          435782.624,
          436671.21,
          437559.796,
          438448.382,
          439336.968,
          440225.554,
          441114.14,
          442002.726,
          442891.312,
          443779.898,
          444668.484,
          445557.07,
          446445.656,
          447334.242,
          448222.828,
          449111.414
         ],
         "xaxis": "x",
         "y": [
          0.000003613166933279068,
          0.000003683631432681828,
          0.0000037539685488800895,
          0.000003824129916336246,
          0.000003894067112715837,
          0.000003963731735648876,
          0.000004033075479652359,
          0.000004102050213033207,
          0.000004170608054590156,
          0.000004238701449932859,
          0.00000430628324723624,
          0.000004373306772248783,
          0.00000443972590237377,
          0.000004505495139643796,
          0.000004570569682410165,
          0.000004634905495570438,
          0.00000469845937915971,
          0.0000047611890351334394,
          0.0000048230531321727586,
          0.00000488401136834627,
          0.000004944024531466132,
          0.0000050030545569802944,
          0.000005061064583247243,
          0.0000051180190040446885,
          0.000005173883518168977,
          0.0000052286251759880145,
          0.00000528221242281686,
          0.000005334615138992059,
          0.00000538580467652831,
          0.000005435753892248843,
          0.000005484437177289511,
          0.0000055318304828855776,
          0.0000055779113423596056,
          0.00000562265888923906,
          0.000005666053871442712,
          0.000005708078661486077,
          0.000005748717262667587,
          0.000005787955311209393,
          0.0000058257800743389865,
          0.000005862180444310928,
          0.000005897146928380995,
          0.000005930671634758932,
          0.000005962748254579629,
          0.0000059933720399469184,
          0.000006022539778118282,
          0.00000605024976191334,
          0.000006076501756443481,
          0.000006101296962274401,
          0.000006124637975147783,
          0.000006146528742402604,
          0.000006166974516250515,
          0.0000061859818040734354,
          0.000006203558315924887,
          0.000006219712909429196,
          0.00000623445553228515,
          0.000006247797162592128,
          0.0000062597497472275974,
          0.000006270326138514952,
          0.000006279540029429728,
          0.000006287405887600476,
          0.000006293938888367559,
          0.000006299154847169308,
          0.000006303070151529684,
          0.000006305701692925239,
          0.0000063070667988114815,
          0.000006307183165089753,
          0.000006306068789295371,
          0.000006303741904785997,
          0.000006300220916206068,
          0.000006295524336498607,
          0.000006289670725729515,
          0.000006282678631982393,
          0.000006274566534572794,
          0.000006265352789820796,
          0.000006255055579609324,
          0.000006243692862942744,
          0.000006231282330706273,
          0.0000062178413638115366,
          0.000006203386994897368,
          0.0000061879358737375155,
          0.000006171504236488767,
          0.0000061541078788938545,
          0.000006135762133533718,
          0.000006116481851203207,
          0.000006096281386463402,
          0.000006075174587402259,
          0.000006053174789613721,
          0.000006030294814383635,
          0.0000060065469710488385,
          0.0000059819430634742846,
          0.000005956494400571272,
          0.000005930211810758898,
          0.000005903105660250039,
          0.000005875185875023084,
          0.0000058464619663212814,
          0.0000058169430595029205,
          0.0000057866379260481,
          0.000005755555018511054,
          0.000005723702508191751,
          0.0000056910883252861924,
          0.0000056577202012619,
          0.000005623605713193764,
          0.000005588752329785148,
          0.000005553167458790819,
          0.000005516858495551266,
          0.000005479832872342507,
          0.000005442098108241988,
          0.000005403661859208871,
          0.00000536453196807675,
          0.000005324716514158048,
          0.000005284223862162232,
          0.000005243062710134479,
          0.0000052012421361275875,
          0.000005158771643327574,
          0.00000511566120336251,
          0.000005071921297534884,
          0.000005027562955729602,
          0.00000498259779276318,
          0.000004937038041954101,
          0.000004890896585709973,
          0.000004844186982943806,
          0.000004796923493149395,
          0.0000047491210969841196,
          0.000004700795513226834,
          0.000004651963211998139,
          0.000004602641424150738,
          0.000004552848146758168,
          0.000004502602144651258,
          0.00000445192294797261,
          0.000004400830845740633,
          0.000004349346875435639,
          0.000004297492808641402,
          0.000004245291132796034,
          0.000004192765029126176,
          0.000004139938346858127,
          0.000004086835573818358,
          0.0000040334818035542075,
          0.000003979902699122868,
          0.0000039261244537133365,
          0.0000038721737482814055,
          0.000003818077706392369,
          0.000003763863846479289,
          0.0000037095600317368915,
          0.000003655194417882002,
          0.0000036007953990210245,
          0.000003546391551873254,
          0.0000034920115786056722,
          0.000003437684248540433,
          0.000003383438339000329,
          0.0000033293025755602388,
          0.0000032753055719738234,
          0.000003221475770044667,
          0.000003167841379709541,
          0.000003114430319598512,
          0.0000030612701583325076,
          0.0000030083880568133635,
          0.00000295581071175456,
          0.000002903564300692887,
          0.000002851674428712087,
          0.000002800166077099157,
          0.0000027490635541428337,
          0.000002698390448271275,
          0.000002648169583712922,
          0.0000025984229788504157,
          0.000002549171807422674,
          0.0000025004363627148935,
          0.0000024522360248601927,
          0.0000024045892313601625,
          0.0000023575134509147746,
          0.000002311025160634933,
          0.0000022651398266936624,
          0.000002219871888454407,
          0.000002175234746097588,
          0.0000021312407517490665,
          0.000002087901204097086,
          0.000002045226346467303,
          0.000002003225368308904,
          0.0000019619064100288224,
          0.0000019212765710953013,
          0.0000018813419213171948,
          0.0000018421075151910652,
          0.000001803577409194537,
          0.0000017657546818916959,
          0.000001728641456704489,
          0.0000016922389271931154,
          0.0000016565473846785855,
          0.0000016215662480317079,
          0.0000015872940954449982,
          0.0000015537286979973308,
          0.000001520867054815661,
          0.0000014887054296337138,
          0.0000014572393885444335,
          0.0000014264638387408867,
          0.000001396373068039549,
          0.0000013669607849802162,
          0.0000013382201592982866,
          0.0000013101438625678026,
          0.000001282724108817402,
          0.0000012559526949261192,
          0.0000012298210406118673,
          0.0000012043202278322919,
          0.0000011794410394254322,
          0.0000011551739968263159,
          0.0000011315093967051415,
          0.0000011084373463828242,
          0.0000010859477978907268,
          0.0000010640305805528265,
          0.0000010426754319806282,
          0.0000010218720273836568,
          0.0000010016100071111515,
          9.818790023537675e-7,
          9.626686589473688e-7,
          9.439686592344221e-7,
          9.257687419519396e-7,
          9.080587201282912e-7,
          8.908284969843998e-7,
          8.740680798478223e-7,
          8.577675921008846e-7,
          8.419172831962661e-7,
          8.265075367852481e-7,
          8.115288770150875e-7,
          7.969719730625895e-7,
          7.828276419809408e-7,
          7.690868499461124e-7,
          7.557407119975604e-7,
          7.427804903756386e-7,
          7.301975915648685e-7,
          7.179835621580867e-7,
          7.061300836614637e-7,
          6.946289663643353e-7,
          6.83472142400877e-7,
          6.726516581326935e-7,
          6.621596659825099e-7,
          6.519884158492946e-7,
          6.42130246234346e-7,
          6.325775752061431e-7,
          6.233228913291275e-7,
          6.143587446780881e-7,
          6.056777380554881e-7,
          5.972725185239392e-7,
          5.89135769360197e-7,
          5.81260202530464e-7,
          5.736385517796321e-7,
          5.66263566419344e-7,
          5.591280058914774e-7,
          5.522246351749874e-7,
          5.455462210949622e-7,
          5.390855295833846e-7,
          5.328353239315129e-7,
          5.267883640640463e-7,
          5.209374068554211e-7,
          5.152752074987665e-7,
          5.097945219282718e-7,
          5.044881102861121e-7,
          4.993487414156477e-7,
          4.943691983534755e-7,
          4.89542284784095e-7,
          4.848608324125435e-7,
          4.80317709202393e-7,
          4.759058284190424e-7,
          4.7161815841135623e-7,
          4.6744773305837317e-7,
          4.6338766280218156e-7,
          4.5943114618303176e-7,
          4.555714817884911e-7,
          4.518020805248726e-7,
          4.4811647811633447e-7,
          4.445083477349919e-7,
          4.4097151266405476e-7,
          4.3749995889546094e-7,
          4.340878475636786e-7,
          4.307295271183015e-7,
          4.2741954513973803e-7,
          4.2415265970469336e-7,
          4.2092385021121654e-7,
          4.177283275768185e-7,
          4.145615437275197e-7,
          4.11419200300632e-7,
          4.082972564895375e-7,
          4.051919359647314e-7,
          4.020997328117935e-7,
          3.9901741643378646e-7,
          3.9594203537274204e-7,
          3.928709200123511e-7,
          3.898016841316565e-7,
          3.867322252874206e-7,
          3.836607240108139e-7,
          3.8058564181212647e-7,
          3.7750571799523944e-7,
          3.7441996529160075e-7,
          3.713276643313309e-7,
          3.6822835697680906e-7,
          3.651218385516016e-7,
          3.6200814900483556e-7,
          3.5888756305805856e-7,
          3.5576057938819053e-7,
          3.526279089063559e-7,
          3.494904621981149e-7,
          3.46349336195884e-7,
          3.4320580015908155e-7,
          3.400612810417755e-7,
          3.3691734833127526e-7,
          3.3377569844420554e-7,
          3.30638138769112e-7,
          3.275065714465552e-7,
          3.243829769789416e-7,
          3.212693977630501e-7,
          3.181679216382621e-7,
          3.1508066554301923e-7,
          3.120097593708885e-7,
          3.0895733011594736e-7,
          3.059254863949213e-7,
          3.029163034307412e-7,
          2.999318085788484e-7,
          2.9697396747378977e-7,
          2.9404467086938165e-7,
          2.9114572224103016e-7,
          2.8827882621371564e-7,
          2.8544557787372666e-7,
          2.82647453016458e-7,
          2.7988579937658906e-7,
          2.771618288806809e-7,
          2.7447661095579467e-7,
          2.7183106692113835e-7,
          2.692259654830466e-7,
          2.666619193468453e-7,
          2.641393829523783e-7,
          2.6165865133322367e-7,
          2.5921986009295195e-7,
          2.5682298648520956e-7,
          2.5446785157798486e-7,
          2.5215412347619326e-7,
          2.4988132157069495e-7,
          2.476488217761236e-7,
          2.4545586271442655e-7,
          2.433015527958937e-7,
          2.411848781446414e-7,
          2.3910471131110965e-7,
          2.3705982071009362e-7,
          2.3504888071921596e-7,
          2.3307048236956443e-7,
          2.311231445574658e-7,
          2.2920532570408092e-7,
          2.2731543578766945e-7,
          2.2545184867200042e-7,
          2.2361291465348527e-7,
          2.2179697314916114e-7,
          2.2000236544767408e-7,
          2.18227447445877e-7,
          2.1647060229456687e-7,
          2.1473025287822907e-7,
          2.1300487405540092e-7,
          2.1129300458842767e-7,
          2.0959325869390734e-7,
          2.0790433714800504e-7,
          2.0622503788404507e-7,
          2.0455426602331168e-7,
          2.0289104328380796e-7,
          2.0123451671579523e-7,
          1.9958396671722902e-7,
          1.979388142867178e-7,
          1.9629862747629404e-7,
          1.9466312701110453e-7,
          1.93032191048052e-7,
          1.9140585905041583e-7,
          1.8978433476055045e-7,
          1.8816798825782103e-7,
          1.8655735709401933e-7,
          1.8495314650352713e-7,
          1.8335622869047246e-7,
          1.8176764119999984e-7,
          1.8018858438554216e-7,
          1.7862041798861178e-7,
          1.7706465685208717e-7,
          1.7552296579225404e-7,
          1.7399715365893943e-7,
          1.72489166616927e-7,
          1.7100108068546372e-7,
          1.6953509357603157e-7,
          1.6809351587165398e-7,
          1.6667876159383258e-7,
          1.652933382057405e-7,
          1.639398361025411e-7,
          1.6262091764164628e-7,
          1.6133930576735714e-7,
          1.6009777228567245e-7,
          1.5889912584606643e-7,
          1.57746199687762e-7,
          1.5664183920844417e-7,
          1.555888894134734e-7,
          1.5459018230349223e-7,
          1.536485242578544e-7,
          1.5276668347057865e-7,
          1.519473774945234e-7,
          1.511932609482254e-7,
          1.5050691343834692e-7,
          1.498908277489428e-7,
          1.4934739834681648e-7,
          1.4887891025008186e-7,
          1.4848752830471543e-7,
          1.481752869113769e-7,
          1.4794408024211335e-7,
          1.4779565298377e-7,
          1.477315916420054e-7,
          1.477533164367934e-7,
          1.4786207381718041e-7,
          1.4805892961989587e-7,
          1.4834476289318063e-7,
          1.487202604039398e-7,
          1.491859118430445e-7,
          1.497420057403274e-7,
          1.5038862609755348e-7,
          1.5112564974441022e-7,
          1.5195274441937817e-7,
          1.5286936757421393e-7,
          1.538747658977274e-7,
          1.5496797555157349e-7,
          1.561478231079163e-7,
          1.5741292717607468e-7,
          1.5876170070263823e-7,
          1.601923539270455e-7,
          1.6170289797227765e-7,
          1.63291149048122e-7,
          1.649547332424235e-7,
          1.6669109187387823e-7,
          1.6849748737821858e-7,
          1.7037100969812076e-7,
          1.7230858314582308e-7,
          1.7430697370627625e-7,
          1.7636279674767405e-7,
          1.7847252510541305e-7,
          1.806324975049177e-7,
          1.8283892728833818e-7,
          1.8508791140986941e-7,
          1.8737543966436915e-7,
          1.8969740411403588e-7,
          1.9204960867817614e-7,
          1.944277788514964e-7,
          1.9682757151693193e-7,
          1.992445848197357e-7,
          2.0167436807039682e-7,
          2.041124316449399e-7,
          2.0655425685224708e-7,
          2.0899530573924067e-7,
          2.114310308060738e-7,
          2.138568846048431e-7,
          2.1626832919680661e-7,
          2.186608454446025e-7,
          2.2102994211753373e-7,
          2.2337116478959676e-7,
          2.2568010451156327e-7,
          2.2795240624007965e-7,
          2.30183777008403e-7,
          2.323699938250394e-7,
          2.3450691128818493e-7,
          2.365904689054698e-7,
          2.3861669811007187e-7,
          2.405817289657815e-7,
          2.4248179655505967e-7,
          2.4431324704553307e-7,
          2.460725434316839e-7,
          2.4775627094975233e-7,
          2.493611421650225e-7,
          2.5088400173174095e-7,
          2.52321830826904e-7,
          2.5367175126003135e-7,
          2.549310292618405e-7,
          2.560970789554283e-7,
          2.571674655141613e-7,
          2.581399080109793e-7,
          2.5901228196421594e-7,
          2.597826215853604e-7,
          2.604491217344011e-7,
          2.61010139588539e-7,
          2.6146419603011545e-7,
          2.6180997675959157e-7,
          2.620463331393358e-7,
          2.6217228277384236e-7,
          2.62187009831811e-7,
          2.6208986511528793e-7,
          2.618803658807979e-7,
          2.6155819541710135e-7,
          2.6112320238389425e-7,
          2.605753999154437e-7,
          2.5991496449282305e-7,
          2.5914223458808823e-7,
          2.582577090834308e-7,
          2.5726204546805513e-7,
          2.561560578152726e-7,
          2.549407145420831e-7,
          2.536171359533375e-7,
          2.521865915724401e-7,
          2.5065049726047734e-7,
          2.4901041212563075e-7,
          2.4726803522477696e-7,
          2.4542520205927347e-7,
          2.434838808670958e-7,
          2.414461687137243e-7,
          2.3931428738447014e-7,
          2.3709057908129165e-7
         ],
         "yaxis": "y"
        },
        {
         "legendgroup": "2021 salary",
         "marker": {
          "color": "rgb(255, 127, 14)"
         },
         "mode": "lines",
         "name": "2021 salary",
         "showlegend": true,
         "type": "scatter",
         "x": [
          5409,
          6244.182,
          7079.364,
          7914.546,
          8749.728,
          9584.91,
          10420.092,
          11255.274000000001,
          12090.456,
          12925.637999999999,
          13760.82,
          14596.002,
          15431.184,
          16266.366,
          17101.548000000003,
          17936.73,
          18771.912,
          19607.093999999997,
          20442.275999999998,
          21277.458,
          22112.64,
          22947.822,
          23783.004,
          24618.186,
          25453.368,
          26288.55,
          27123.732,
          27958.914,
          28794.096,
          29629.278,
          30464.46,
          31299.642,
          32134.824,
          32970.006,
          33805.187999999995,
          34640.369999999995,
          35475.551999999996,
          36310.734,
          37145.916,
          37981.098,
          38816.28,
          39651.462,
          40486.644,
          41321.826,
          42157.008,
          42992.19,
          43827.372,
          44662.554,
          45497.736,
          46332.918,
          47168.1,
          48003.282,
          48838.464,
          49673.646,
          50508.828,
          51344.01,
          52179.192,
          53014.374,
          53849.556,
          54684.738,
          55519.92,
          56355.102,
          57190.284,
          58025.466,
          58860.648,
          59695.83,
          60531.012,
          61366.194,
          62201.376,
          63036.558,
          63871.74,
          64706.922,
          65542.10399999999,
          66377.286,
          67212.468,
          68047.65,
          68882.832,
          69718.014,
          70553.196,
          71388.378,
          72223.56,
          73058.742,
          73893.924,
          74729.106,
          75564.288,
          76399.47,
          77234.652,
          78069.834,
          78905.016,
          79740.198,
          80575.38,
          81410.562,
          82245.744,
          83080.926,
          83916.108,
          84751.29,
          85586.472,
          86421.654,
          87256.836,
          88092.018,
          88927.2,
          89762.382,
          90597.564,
          91432.746,
          92267.928,
          93103.11,
          93938.292,
          94773.474,
          95608.656,
          96443.838,
          97279.02,
          98114.202,
          98949.384,
          99784.566,
          100619.748,
          101454.93,
          102290.112,
          103125.294,
          103960.476,
          104795.658,
          105630.84,
          106466.022,
          107301.204,
          108136.386,
          108971.568,
          109806.75,
          110641.932,
          111477.114,
          112312.296,
          113147.478,
          113982.66,
          114817.842,
          115653.024,
          116488.206,
          117323.388,
          118158.57,
          118993.752,
          119828.934,
          120664.116,
          121499.298,
          122334.48,
          123169.662,
          124004.844,
          124840.026,
          125675.208,
          126510.39,
          127345.572,
          128180.754,
          129015.936,
          129851.118,
          130686.3,
          131521.48200000002,
          132356.664,
          133191.84600000002,
          134027.028,
          134862.21000000002,
          135697.392,
          136532.574,
          137367.756,
          138202.938,
          139038.12,
          139873.302,
          140708.484,
          141543.666,
          142378.848,
          143214.03,
          144049.212,
          144884.394,
          145719.576,
          146554.758,
          147389.94,
          148225.122,
          149060.304,
          149895.486,
          150730.668,
          151565.85,
          152401.032,
          153236.214,
          154071.396,
          154906.578,
          155741.76,
          156576.942,
          157412.124,
          158247.306,
          159082.488,
          159917.67,
          160752.852,
          161588.034,
          162423.216,
          163258.398,
          164093.58,
          164928.762,
          165763.944,
          166599.126,
          167434.308,
          168269.49,
          169104.672,
          169939.854,
          170775.036,
          171610.218,
          172445.4,
          173280.582,
          174115.764,
          174950.946,
          175786.128,
          176621.31,
          177456.492,
          178291.674,
          179126.856,
          179962.038,
          180797.22,
          181632.402,
          182467.584,
          183302.766,
          184137.948,
          184973.13,
          185808.312,
          186643.494,
          187478.676,
          188313.858,
          189149.04,
          189984.222,
          190819.404,
          191654.586,
          192489.768,
          193324.95,
          194160.132,
          194995.314,
          195830.496,
          196665.678,
          197500.86,
          198336.042,
          199171.224,
          200006.406,
          200841.588,
          201676.77,
          202511.952,
          203347.134,
          204182.316,
          205017.498,
          205852.68,
          206687.862,
          207523.044,
          208358.226,
          209193.408,
          210028.59,
          210863.772,
          211698.954,
          212534.136,
          213369.318,
          214204.5,
          215039.682,
          215874.864,
          216710.046,
          217545.228,
          218380.41,
          219215.592,
          220050.774,
          220885.956,
          221721.138,
          222556.32,
          223391.502,
          224226.684,
          225061.866,
          225897.048,
          226732.23,
          227567.412,
          228402.594,
          229237.776,
          230072.958,
          230908.14,
          231743.322,
          232578.504,
          233413.686,
          234248.868,
          235084.05,
          235919.232,
          236754.414,
          237589.596,
          238424.778,
          239259.96,
          240095.142,
          240930.324,
          241765.506,
          242600.688,
          243435.87,
          244271.052,
          245106.234,
          245941.416,
          246776.598,
          247611.78,
          248446.962,
          249282.144,
          250117.326,
          250952.508,
          251787.69,
          252622.872,
          253458.054,
          254293.236,
          255128.418,
          255963.6,
          256798.782,
          257633.964,
          258469.146,
          259304.328,
          260139.51,
          260974.692,
          261809.874,
          262645.056,
          263480.238,
          264315.42000000004,
          265150.602,
          265985.784,
          266820.966,
          267656.148,
          268491.33,
          269326.512,
          270161.694,
          270996.876,
          271832.058,
          272667.24,
          273502.422,
          274337.604,
          275172.786,
          276007.968,
          276843.15,
          277678.332,
          278513.514,
          279348.696,
          280183.878,
          281019.06,
          281854.242,
          282689.424,
          283524.606,
          284359.788,
          285194.97,
          286030.152,
          286865.334,
          287700.516,
          288535.698,
          289370.88,
          290206.062,
          291041.244,
          291876.426,
          292711.608,
          293546.79,
          294381.972,
          295217.154,
          296052.336,
          296887.518,
          297722.7,
          298557.882,
          299393.064,
          300228.246,
          301063.428,
          301898.61,
          302733.792,
          303568.974,
          304404.156,
          305239.338,
          306074.52,
          306909.702,
          307744.884,
          308580.066,
          309415.248,
          310250.43,
          311085.612,
          311920.794,
          312755.976,
          313591.158,
          314426.34,
          315261.522,
          316096.704,
          316931.886,
          317767.068,
          318602.25,
          319437.432,
          320272.614,
          321107.796,
          321942.978,
          322778.16,
          323613.342,
          324448.524,
          325283.706,
          326118.888,
          326954.07,
          327789.252,
          328624.434,
          329459.616,
          330294.798,
          331129.98,
          331965.162,
          332800.344,
          333635.526,
          334470.708,
          335305.89,
          336141.072,
          336976.254,
          337811.436,
          338646.618,
          339481.8,
          340316.982,
          341152.164,
          341987.346,
          342822.528,
          343657.71,
          344492.892,
          345328.074,
          346163.256,
          346998.438,
          347833.62,
          348668.802,
          349503.984,
          350339.166,
          351174.348,
          352009.53,
          352844.712,
          353679.894,
          354515.076,
          355350.258,
          356185.44,
          357020.622,
          357855.804,
          358690.986,
          359526.168,
          360361.35,
          361196.532,
          362031.714,
          362866.896,
          363702.078,
          364537.26,
          365372.442,
          366207.624,
          367042.806,
          367877.988,
          368713.17,
          369548.352,
          370383.534,
          371218.716,
          372053.898,
          372889.08,
          373724.262,
          374559.444,
          375394.626,
          376229.808,
          377064.99,
          377900.172,
          378735.354,
          379570.536,
          380405.718,
          381240.9,
          382076.082,
          382911.264,
          383746.446,
          384581.628,
          385416.81,
          386251.992,
          387087.174,
          387922.356,
          388757.538,
          389592.72,
          390427.902,
          391263.084,
          392098.266,
          392933.448,
          393768.63,
          394603.812,
          395438.994,
          396274.176,
          397109.358,
          397944.54,
          398779.722,
          399614.904,
          400450.086,
          401285.268,
          402120.45,
          402955.632,
          403790.814,
          404625.996,
          405461.178,
          406296.36,
          407131.542,
          407966.724,
          408801.906,
          409637.088,
          410472.27,
          411307.452,
          412142.634,
          412977.816,
          413812.998,
          414648.18,
          415483.362,
          416318.544,
          417153.726,
          417988.908,
          418824.09,
          419659.272,
          420494.454,
          421329.636,
          422164.818
         ],
         "xaxis": "x",
         "y": [
          0.0000033445264940689194,
          0.0000034348190059621468,
          0.000003524602852856333,
          0.000003613760650228085,
          0.0000037021785339039106,
          0.000003789746698829241,
          0.0000038763599104833385,
          0.000003961917984728656,
          0.0000040463262321354795,
          0.000004129495863117981,
          0.0000042113443505530735,
          0.000004291795746925384,
          0.0000043707809534461,
          0.0000044482379390261,
          0.000004524111907439959,
          0.000004598355411491721,
          0.000004670928413480846,
          0.0000047417982917612055,
          0.000004810939793682799,
          0.000004878334935698098,
          0.00000494397285189782,
          0.000005007849592708993,
          0.000005069967875935038,
          0.000005130336792740068,
          0.000005188971471570731,
          0.000005245892703366856,
          0.000005301126531730757,
          0.000005354703812003121,
          0.000005406659743426369,
          0.000005457033378763777,
          0.000005505867115881455,
          0.000005553206175890954,
          0.000005599098072491487,
          0.000005643592077143565,
          0.000005686738684651073,
          0.000005728589083628016,
          0.000005769194636181323,
          0.000005808606370955689,
          0.000005846874493462015,
          0.000005884047917353468,
          0.000005920173820023801,
          0.0000059552972255880644,
          0.00000598946061796862,
          0.00000602270358645553,
          0.0000060550625057436455,
          0.0000060865702520744105,
          0.0000061172559567325376,
          0.000006147144797771707,
          0.00000617625783047257,
          0.000006204611856675871,
          0.000006232219332785913,
          0.000006259088315910172,
          0.000006285222447290364,
          0.000006310620971894008,
          0.0000063352787927734955,
          0.0000063591865585651884,
          0.000006382330782294883,
          0.00000640469398947911,
          0.000006426254893364505,
          0.000006446988595030665,
          0.000006466866805993726,
          0.000006485858090889184,
          0.000006503928127780968,
          0.000006521039983638376,
          0.000006537154402541894,
          0.000006552230104220278,
          0.000006566224090583412,
          0.0000065790919579954126,
          0.000006590788213127859,
          0.000006601266590342188,
          0.000006610480368668952,
          0.0000066183826865802245,
          0.00000662492685288379,
          0.000006630066652205485,
          0.000006633756643663882,
          0.000006635952451479175,
          0.000006636611046393157,
          0.000006635691016908127,
          0.000006633152829477908,
          0.000006628959076902519,
          0.000006623074714289077,
          0.000006615467282043337,
          0.000006606107115449951,
          0.000006594967540482704,
          0.000006582025055560611,
          0.000006567259499030381,
          0.000006550654202211306,
          0.0000065321961278853366,
          0.000006511875994153772,
          0.000006489688383612523,
          0.0000064656318378221934,
          0.000006439708937067069,
          0.000006411926365409778,
          0.000006382294961057356,
          0.000006350829752059314,
          0.0000063175499773617555,
          0.000006282479093242977,
          0.000006245644765157178,
          0.000006207078845014652,
          0.000006166817333929218,
          0.0000061249003304688214,
          0.000006081371964452149,
          0.000006036280316344979,
          0.000005989677322324185,
          0.000005941618665095884,
          0.000005892163650577299,
          0.0000058413750705798585,
          0.000005789319051663885,
          0.0000057360648903731616,
          0.000005681684875100875,
          0.000005626254094886237,
          0.000005569850235494192,
          0.000005512553363187776,
          0.000005454445696664748,
          0.0000053956113676953115,
          0.000005336136171066893,
          0.0000052761073045136226,
          0.0000052156130993821904,
          0.0000051547427428614115,
          0.0000050935859926789425,
          0.0000050322328852456426,
          0.0000049707734383031695,
          0.000004909297349205055,
          0.00000484789369003286,
          0.000004786650600817339,
          0.000004725654982198252,
          0.000004664992188915185,
          0.000004604745725573774,
          0.000004544996946177047,
          0.000004485824758948124,
          0.000004427305337998989,
          0.000004369511843417606,
          0.000004312514151353407,
          0.00000425637859567723,
          0.0000042011677227760034,
          0.000004146940061014032,
          0.000004093749906351767,
          0.0000040416471255583905,
          0.000003990676978386984,
          0.000003940879959999822,
          0.00000389229166483726,
          0.0000038449426730163,
          0.000003798858460225296,
          0.0000037540593319496634,
          0.0000037105603827208904,
          0.0000036683714809282738,
          0.0000036274972795708972,
          0.000003587937253157945,
          0.000003549685760789012,
          0.000003512732135265336,
          0.000003477060797898448,
          0.0000034426513984968257,
          0.0000034094789798253817,
          0.0000033775141656490728,
          0.0000033467233712920085,
          0.0000033170690354694883,
          0.000003288509871984099,
          0.0000032610011397201353,
          0.000003234494929224883,
          0.00000320894046403271,
          0.000003184284414769409,
          0.000003160471223972004,
          0.000003137443439473678,
          0.000003115142054136424,
          0.00000309350684966597,
          0.0000030724767422150574,
          0.000003051990127473092,
          0.000003031985222952486,
          0.0000030124004052146007,
          0.000002993174539831258,
          0.0000029742473019502035,
          0.0000029555594854246087,
          0.000002937053298576357,
          0.0000029186726447893593,
          0.000002900363386271487,
          0.0000028820735894798244,
          0.000002863753750872682,
          0.0000028453570018310974,
          0.0000028268392917803152,
          0.000002808159548736278,
          0.0000027892798167012333,
          0.0000027701653695337568,
          0.000002750784801120242,
          0.000002731110091874498,
          0.0000027111166517877814,
          0.0000026907833404412176,
          0.0000026700924645742416,
          0.000002649029753974505,
          0.000002627584316615122,
          0.0000026057485741125344,
          0.0000025835181787112633,
          0.0000025608919131193356,
          0.0000025378715746193135,
          0.000002514461844963636,
          0.000002490670147629059,
          0.000002466506494053115,
          0.000002441983320505433,
          0.0000024171153172585963,
          0.000002391919251717757,
          0.0000023664137871452543,
          0.000002340619298577607,
          0.000002314557687477842,
          0.00000228825219659744,
          0.000002261727226440732,
          0.0000022350081546314185,
          0.0000022081211593777287,
          0.0000021810930481213412,
          0.0000021539510923367126,
          0.000002126722869324416,
          0.0000020994361117153638,
          0.00000207211856527491,
          0.0000020447978554678598,
          0.0000020175013631195084,
          0.000001990256109385284,
          0.000001963088650124005,
          0.0000019360249796585857,
          0.000001909090443804378,
          0.0000018823096619504599,
          0.0000018557064578940264,
          0.0000018293037990531747,
          0.0000018031237436198068,
          0.0000017771873951620558,
          0.000001751514864145229,
          0.0000017261252358115182,
          0.000001701036543841647,
          0.000001676265749215883,
          0.0000016518287236969456,
          0.0000016277402373726372,
          0.0000016040139497207656,
          0.0000015806624036921835,
          0.0000015576970223485038,
          0.0000015351281076381355,
          0.0000015129648409466441,
          0.0000014912152851135717,
          0.000001469886387666859,
          0.0000014489839850861696,
          0.0000014285128079669014,
          0.0000014084764870158925,
          0.0000013888775598668137,
          0.000001369717478756817,
          0.0000013509966191551618,
          0.0000013327142894784157,
          0.0000013148687420645458,
          0.000001297457185609228,
          0.0000012804757992915075,
          0.00000126391974883199,
          0.000001247783204735195,
          0.000001232059362968052,
          0.0000012167404683192924,
          0.0000012018178406695814,
          0.000001187281904380304,
          0.0000011731222209802255,
          0.0000011593275252946591,
          0.0000011458857651218057,
          0.0000011327841445166245,
          0.0000011200091706945404,
          0.0000011075467045168688,
          0.0000010953820144675259,
          0.0000010834998339778354,
          0.0000010718844219037498,
          0.0000010605196259086959,
          0.0000010493889484563934,
          0.0000010384756150723934,
          0.0000010277626444913716,
          0.0000010172329202703316,
          0.0000010068692634163214,
          9.96654505551685e-7,
          9.865715621205948e-7,
          9.766035051280832e-7,
          9.667336348970513e-7,
          9.56945550330013e-7,
          9.472232171704579e-7,
          9.375510337736078e-7,
          9.279138939176915e-7,
          9.182972462143077e-7,
          9.086871497094684e-7,
          8.990703253051039e-7,
          8.8943420267329e-7,
          8.797669623818016e-7,
          8.700575729989256e-7,
          8.602958229969597e-7,
          8.504723473268854e-7,
          8.405786485903587e-7,
          8.306071127886643e-7,
          8.205510196809946e-7,
          8.104045478353773e-7,
          8.001627745043417e-7,
          7.898216705031612e-7,
          7.793780903108101e-7,
          7.688297576520132e-7,
          7.581752468526406e-7,
          7.474139602897414e-7,
          7.365461022816294e-7,
          7.255726497822677e-7,
          7.14495320257891e-7,
          7.033165371320773e-7,
          6.920393931888004e-7,
          6.806676123210498e-7,
          6.69205510006128e-7,
          6.576579528775934e-7,
          6.460303177486808e-7,
          6.343284504231064e-7,
          6.225586246070701e-7,
          6.107275012112757e-7,
          5.988420883046634e-7,
          5.869097019525835e-7,
          5.749379281419867e-7,
          5.629345859653548e-7,
          5.509076922040761e-7,
          5.388654274212194e-7,
          5.26816103643715e-7,
          5.147681336851854e-7,
          5.027300021335265e-7,
          4.907102380020986e-7,
          4.787173890204143e-7,
          4.667599975197129e-7,
          4.548465778510108e-7,
          4.4298559525820744e-7,
          4.311854461167666e-7,
          4.194544394393307e-7,
          4.078007795434277e-7,
          3.962325497730325e-7,
          3.847576971651507e-7,
          3.73384017954495e-7,
          3.621191438137074e-7,
          3.5097052873301737e-7,
          3.399454364516686e-7,
          3.2905092836341586e-7,
          3.182938518297737e-7,
          3.076808288470473e-7,
          2.9721824502628295e-7,
          2.8691223885874735e-7,
          2.76768691253179e-7,
          2.667932153444439e-7,
          2.5699114658621467e-7,
          2.4736753315250084e-7,
          2.3792712668419562e-7,
          2.286743734269149e-7,
          2.1961340581523439e-7,
          2.1074803456578695e-7,
          2.0208174134742516e-7,
          1.9361767210077737e-7,
          1.8535863108190319e-7,
          1.7730707570544847e-7,
          1.6946511226166388e-7,
          1.6183449257899777e-7,
          1.5441661169971578e-7,
          1.4721250663031376e-7,
          1.4022285622141794e-7,
          1.33447982223652e-7,
          1.268878515566534e-7,
          1.205420798183161e-7,
          1.1440993605051682e-7,
          1.0849034876633222e-7,
          1.0278191323216924e-7,
          9.72828999866002e-8,
          9.199126456612093e-8,
          8.69046583967886e-8,
          8.202044079985017e-8,
          7.733569204926406e-8,
          7.284722740953234e-8,
          6.855161207367694e-8,
          6.444517691357429e-8,
          6.052403494834079e-8,
          5.6784098431067904e-8,
          5.322109645002716e-8,
          4.983059293749556e-8,
          4.6608004977641786e-8,
          4.354862130441093e-8,
          4.0647620881068034e-8,
          3.790009145492364e-8,
          3.5301047983749456e-8,
          3.2845450834385056e-8,
          3.052822365899842e-8,
          2.834427086025142e-8,
          2.6288494563180536e-8,
          2.4355811018780367e-8,
          2.2541166371997762e-8,
          2.083955173495985e-8,
          1.9246017514673658e-8,
          1.775568695302573e-8,
          1.6363768845557564e-8,
          1.5065569414100328e-8,
          1.3856503316801458e-8,
          1.2732103787281868e-8,
          1.1688031902522762e-8,
          1.0720084986524813e-8,
          9.824204163724183e-9,
          8.996481082537265e-9,
          8.233163835171315e-9,
          7.530662104948285e-9,
          6.88555157679691e-9,
          6.294577650256643e-9,
          5.754658497280422e-9,
          5.262887509321348e-9,
          4.816535179632674e-9,
          4.413050467417429e-9,
          4.0500616904407655e-9,
          3.725376991994553e-9,
          3.436984426701785e-9,
          3.183051707608211e-9,
          2.9619256543649955e-9,
          2.7721313791077728e-9,
          2.612371242929019e-9,
          2.481523611677968e-9,
          2.3786414352576703e-9,
          2.30295066968382e-9,
          2.2538485559830027e-9,
          2.230901764604267e-9,
          2.233844408461103e-9,
          2.2625759220787064e-9,
          2.3171587986609587e-9,
          2.397816171282688e-9,
          2.5049292189247824e-9,
          2.639034372773264e-9,
          2.80082029316907e-9,
          2.9911245828930895e-9,
          3.210930198171754e-9,
          3.4613615149600058e-9,
          3.743680004769243e-9,
          4.0592794716242895e-9,
          4.4096807997151615e-9,
          4.796526160023129e-9,
          5.221572623693006e-9,
          5.686685130257253e-9,
          6.1938287600258e-9,
          6.745060262091545e-9,
          7.3425187924824656e-9,
          7.988415821057641e-9,
          8.685024170792584e-9,
          9.434666159154046e-9,
          1.0239700818297316e-8,
          1.1102510178835773e-8,
          1.2025484610876569e-8,
          1.301100722587133e-8,
          1.4061437353509202e-8,
          1.5179093119341416e-8,
          1.6366233160951064e-8,
          1.7625037533204755e-8,
          1.8957587866291268e-8,
          2.0365846853774475e-8,
          2.185163716158975e-8,
          2.341661986266419e-8,
          2.5062272515459105e-8,
          2.678986701805982e-8,
          2.8600447382271308e-8,
          3.0494807584348546e-8,
          3.247346966028829e-8,
          3.453666222385953e-8,
          3.6684299594536494e-8,
          3.891596173005766e-8,
          4.1230875164261774e-8,
          4.362789515499994e-8,
          4.610548924910448e-8,
          4.866172247149692e-8,
          5.1294244343387283e-8,
          5.400027793008334e-8,
          5.677661111207916e-8,
          5.96195902638103e-8,
          6.252511651269848e-8,
          6.548864473689888e-8,
          6.850518544352153e-8,
          7.156930965011866e-8,
          7.467515687103025e-8,
          7.781644628687028e-8,
          8.098649115023788e-8,
          8.417821645382227e-8,
          8.738417985871637e-8,
          9.059659585119449e-8,
          9.380736306577966e-8,
          9.700809468141462e-8,
          1.0019015176633099e-7,
          1.0334467941610446e-7,
          1.064626454987938e-7,
          1.095348817913295e-7,
          1.1255212726285677e-7,
          1.1550507323387546e-7,
          1.1838441011516055e-7,
          1.2118087540790674e-7,
          1.2388530262667416e-7,
          1.2648867078979208e-7,
          1.2898215410820532e-7,
          1.3135717149353406e-7,
          1.3360543549958792e-7,
          1.35719000308852e-7,
          1.376903083766868e-7,
          1.3951223535119163e-7,
          1.411781328959057e-7,
          1.4268186905569465e-7,
          1.4401786582323302e-7,
          1.4518113358427027e-7,
          1.461673021441995e-7,
          1.4697264806606044e-7,
          1.4759411808074934e-7,
          1.4802934836352576e-7,
          1.4827667950656024e-7,
          1.4833516705484055e-7,
          1.4820458751184775e-7,
          1.4788543976156805e-7,
          1.4737894189417405e-7
         ],
         "yaxis": "y"
        },
        {
         "legendgroup": "2022 salary",
         "marker": {
          "color": "rgb(44, 160, 44)"
         },
         "mode": "lines",
         "name": "2022 salary",
         "showlegend": true,
         "type": "scatter",
         "x": [
          5132,
          5983.67,
          6835.34,
          7687.01,
          8538.68,
          9390.35,
          10242.02,
          11093.689999999999,
          11945.36,
          12797.029999999999,
          13648.7,
          14500.37,
          15352.04,
          16203.71,
          17055.379999999997,
          17907.05,
          18758.72,
          19610.39,
          20462.059999999998,
          21313.73,
          22165.4,
          23017.07,
          23868.74,
          24720.41,
          25572.08,
          26423.75,
          27275.42,
          28127.09,
          28978.76,
          29830.43,
          30682.1,
          31533.77,
          32385.44,
          33237.11,
          34088.78,
          34940.45,
          35792.119999999995,
          36643.79,
          37495.46,
          38347.13,
          39198.8,
          40050.47,
          40902.14,
          41753.81,
          42605.48,
          43457.15,
          44308.82,
          45160.49,
          46012.16,
          46863.83,
          47715.5,
          48567.17,
          49418.84,
          50270.51,
          51122.18,
          51973.85,
          52825.52,
          53677.19,
          54528.86,
          55380.53,
          56232.2,
          57083.87,
          57935.54,
          58787.21,
          59638.88,
          60490.55,
          61342.22,
          62193.89,
          63045.56,
          63897.23,
          64748.9,
          65600.57,
          66452.23999999999,
          67303.91,
          68155.58,
          69007.25,
          69858.92,
          70710.59,
          71562.26,
          72413.93,
          73265.6,
          74117.27,
          74968.94,
          75820.61,
          76672.28,
          77523.95,
          78375.62,
          79227.29,
          80078.96,
          80930.63,
          81782.3,
          82633.97,
          83485.64,
          84337.31,
          85188.98,
          86040.65,
          86892.32,
          87743.99,
          88595.66,
          89447.33,
          90299,
          91150.67,
          92002.34,
          92854.01,
          93705.68,
          94557.35,
          95409.02,
          96260.69,
          97112.36,
          97964.03,
          98815.7,
          99667.37,
          100519.04,
          101370.71,
          102222.38,
          103074.05,
          103925.72,
          104777.39,
          105629.06,
          106480.73,
          107332.4,
          108184.07,
          109035.74,
          109887.41,
          110739.08,
          111590.75,
          112442.42,
          113294.09,
          114145.76,
          114997.43,
          115849.1,
          116700.77,
          117552.44,
          118404.11,
          119255.78,
          120107.45,
          120959.12,
          121810.79,
          122662.46,
          123514.13,
          124365.8,
          125217.47,
          126069.14,
          126920.81,
          127772.48,
          128624.15,
          129475.82,
          130327.49,
          131179.16,
          132030.83000000002,
          132882.5,
          133734.16999999998,
          134585.84,
          135437.51,
          136289.18,
          137140.85,
          137992.52,
          138844.19,
          139695.86,
          140547.53,
          141399.2,
          142250.87,
          143102.54,
          143954.21,
          144805.88,
          145657.55,
          146509.22,
          147360.89,
          148212.56,
          149064.23,
          149915.9,
          150767.57,
          151619.24,
          152470.91,
          153322.58,
          154174.25,
          155025.92,
          155877.59,
          156729.26,
          157580.93,
          158432.6,
          159284.27,
          160135.94,
          160987.61,
          161839.28,
          162690.95,
          163542.62,
          164394.29,
          165245.96,
          166097.63,
          166949.3,
          167800.97,
          168652.64,
          169504.31,
          170355.98,
          171207.65,
          172059.32,
          172910.99,
          173762.66,
          174614.33,
          175466,
          176317.67,
          177169.34,
          178021.01,
          178872.68,
          179724.35,
          180576.02,
          181427.69,
          182279.36,
          183131.03,
          183982.7,
          184834.37,
          185686.04,
          186537.71,
          187389.38,
          188241.05,
          189092.72,
          189944.39,
          190796.06,
          191647.73,
          192499.4,
          193351.07,
          194202.74,
          195054.41,
          195906.08,
          196757.75,
          197609.42,
          198461.09,
          199312.76,
          200164.43,
          201016.1,
          201867.77,
          202719.44,
          203571.11,
          204422.78,
          205274.45,
          206126.12,
          206977.79,
          207829.46,
          208681.13,
          209532.8,
          210384.47,
          211236.14,
          212087.81,
          212939.48,
          213791.15,
          214642.82,
          215494.49,
          216346.16,
          217197.83,
          218049.5,
          218901.17,
          219752.84,
          220604.51,
          221456.18,
          222307.85,
          223159.52,
          224011.19,
          224862.86,
          225714.53,
          226566.2,
          227417.87,
          228269.54,
          229121.21,
          229972.88,
          230824.55,
          231676.22,
          232527.89,
          233379.56,
          234231.23,
          235082.9,
          235934.57,
          236786.24,
          237637.91,
          238489.58,
          239341.25,
          240192.92,
          241044.59,
          241896.26,
          242747.93,
          243599.6,
          244451.27,
          245302.94,
          246154.61,
          247006.28,
          247857.95,
          248709.62,
          249561.29,
          250412.96,
          251264.63,
          252116.3,
          252967.97,
          253819.64,
          254671.31,
          255522.98,
          256374.65,
          257226.32,
          258077.99,
          258929.66,
          259781.33,
          260633,
          261484.67,
          262336.33999999997,
          263188.01,
          264039.68,
          264891.35,
          265743.02,
          266594.69,
          267446.36,
          268298.03,
          269149.7,
          270001.37,
          270853.04,
          271704.71,
          272556.38,
          273408.05,
          274259.72,
          275111.39,
          275963.06,
          276814.73,
          277666.4,
          278518.07,
          279369.74,
          280221.41,
          281073.08,
          281924.75,
          282776.42,
          283628.09,
          284479.76,
          285331.43,
          286183.1,
          287034.77,
          287886.44,
          288738.11,
          289589.78,
          290441.45,
          291293.12,
          292144.79,
          292996.46,
          293848.13,
          294699.8,
          295551.47,
          296403.14,
          297254.81,
          298106.48,
          298958.15,
          299809.82,
          300661.49,
          301513.16,
          302364.83,
          303216.5,
          304068.17,
          304919.84,
          305771.51,
          306623.18,
          307474.85,
          308326.52,
          309178.19,
          310029.86,
          310881.53,
          311733.2,
          312584.87,
          313436.54,
          314288.21,
          315139.88,
          315991.55,
          316843.22,
          317694.89,
          318546.56,
          319398.23,
          320249.9,
          321101.57,
          321953.24,
          322804.91,
          323656.58,
          324508.25,
          325359.92,
          326211.59,
          327063.26,
          327914.93,
          328766.6,
          329618.27,
          330469.94,
          331321.61,
          332173.28,
          333024.95,
          333876.62,
          334728.29,
          335579.96,
          336431.63,
          337283.3,
          338134.97,
          338986.64,
          339838.31,
          340689.98,
          341541.65,
          342393.32,
          343244.99,
          344096.66,
          344948.33,
          345800,
          346651.67,
          347503.34,
          348355.01,
          349206.68,
          350058.35,
          350910.02,
          351761.69,
          352613.36,
          353465.03,
          354316.7,
          355168.37,
          356020.04,
          356871.71,
          357723.38,
          358575.05,
          359426.72,
          360278.39,
          361130.06,
          361981.73,
          362833.4,
          363685.07,
          364536.74,
          365388.41,
          366240.08,
          367091.75,
          367943.42,
          368795.09,
          369646.76,
          370498.43,
          371350.1,
          372201.77,
          373053.44,
          373905.11,
          374756.78,
          375608.45,
          376460.12,
          377311.79,
          378163.46,
          379015.13,
          379866.8,
          380718.47,
          381570.14,
          382421.81,
          383273.48,
          384125.15,
          384976.82,
          385828.49,
          386680.16,
          387531.83,
          388383.5,
          389235.17,
          390086.84,
          390938.51,
          391790.18,
          392641.85,
          393493.52,
          394345.19,
          395196.86,
          396048.53,
          396900.2,
          397751.87,
          398603.54,
          399455.21,
          400306.88,
          401158.55,
          402010.22,
          402861.89,
          403713.56,
          404565.23,
          405416.9,
          406268.57,
          407120.24,
          407971.91,
          408823.58,
          409675.25,
          410526.92,
          411378.59,
          412230.26,
          413081.93,
          413933.6,
          414785.27,
          415636.94,
          416488.61,
          417340.28,
          418191.95,
          419043.62,
          419895.29,
          420746.96,
          421598.63,
          422450.3,
          423301.97,
          424153.64,
          425005.31,
          425856.98,
          426708.65,
          427560.32,
          428411.99,
          429263.66,
          430115.33
         ],
         "xaxis": "x",
         "y": [
          5.983045344329537e-7,
          6.297472478942151e-7,
          6.615811327747923e-7,
          6.937736467616835e-7,
          7.263002628967222e-7,
          7.591451227577184e-7,
          7.923014848271411e-7,
          8.257719538308102e-7,
          8.59568482848336e-7,
          8.937121462999393e-7,
          9.282326882820845e-7,
          9.631678569359193e-7,
          9.985625413719684e-7,
          0.000001034467732942459,
          0.0000010709393371719935,
          0.000001108036866282871,
          0.0000011458220448732385,
          0.0000011843573628570345,
          0.000001223704610228029,
          0.0000012639234275846948,
          0.000001305069904707784,
          0.0000013471952569158511,
          0.0000013903446055670117,
          0.0000014345558850849228,
          0.0000014798588944397621,
          0.0000015262745062975199,
          0.0000015738140422523895,
          0.0000016224788178592343,
          0.0000016722598567549136,
          0.0000017231377691458948,
          0.000001775082786465264,
          0.0000018280549411557431,
          0.0000018820043783728935,
          0.000001936871784947979,
          0.0000019925889201923098,
          0.0000020490792330243394,
          0.000002106258550390522,
          0.0000021640358229404824,
          0.000002222313915303312,
          0.000002280990429977658,
          0.0000023399585556749003,
          0.0000023991079328258296,
          0.0000024583255307645805,
          0.0000025174965327439047,
          0.0000025765052263284916,
          0.0000026352358977964662,
          0.00000269357372990854,
          0.000002751405702757663,
          0.0000028086214973869196,
          0.00000286511440147744,
          0.0000029207822156937026,
          0.0000029755281582822526,
          0.000003029261764309242,
          0.000003081899774562726,
          0.0000031333670077110933,
          0.0000031835972078738683,
          0.0000032325338584005193,
          0.0000032801309514345553,
          0.000003326353701827908,
          0.0000033711791932128274,
          0.000003414596943579943,
          0.000003456609377573756,
          0.000003497232192917469,
          0.0000035364946089146294,
          0.0000035744394858314,
          0.0000036111233051140464,
          0.0000036466160018057145,
          0.000003681000642148844,
          0.0000037143729411507223,
          0.0000037468406167987193,
          0.000003778522579596832,
          0.000003809547958119417,
          0.000003840054963313591,
          0.000003870189596317442,
          0.000003900104206594951,
          0.0000039299559092365014,
          0.000003959904872360727,
          0.000003990112487714779,
          0.000004020739439846374,
          0.000004051943691646441,
          0.000004083878406667738,
          0.000004116689831421321,
          0.000004150515163829582,
          0.000004185480437128243,
          0.0000042216984516866195,
          0.00000425926679033761,
          0.000004298265955728103,
          0.0000043387576707296095,
          0.00000438078338487152,
          0.000004424363030849006,
          0.000004469494075166923,
          0.0000045161509056894714,
          0.0000045642845960636495,
          0.0000046138230825118225,
          0.000004664671782244672,
          0.000004716714674698668,
          0.000004769815857010768,
          0.000004823821573754179,
          0.000004878562708219246,
          0.000004933857708772933,
          0.000004989515909488565,
          0.000005045341189805945,
          0.000005101135904003248,
          0.0000051567049983188256,
          0.000005211860222232685,
          0.000005266424331260751,
          0.000005320235172138017,
          0.000005373149537892188,
          0.000005425046680361297,
          0.000005475831371389739,
          0.0000055254364113072025,
          0.000005573824494277824,
          0.000005620989354474919,
          0.000005666956134425242,
          0.0000057117809367854464,
          0.000005755549542660129,
          0.0000057983753026593065,
          0.000005840396230484305,
          0.000005881771352140025,
          0.000005922676386139397,
          0.0000059632988505371095,
          0.000006003832710630099,
          0.000006044472696082742,
          0.000006085408427584748,
          0.000006126818500546635,
          0.000006168864676537103,
          0.000006211686332064151,
          0.000006255395308922822,
          0.000006300071300846693,
          0.000006345757897899334,
          0.000006392459393337201,
          0.000006440138438071214,
          0.000006488714605950283,
          0.000006538063909535979,
          0.000006588019281535139,
          0.0000066383720123295055,
          0.000006688874109804018,
          0.000006739241524628416,
          0.000006789158162950989,
          0.000006838280589701957,
          0.000006886243309906291,
          0.000006932664502974313,
          0.0000069771520762033846,
          0.000007019309898858972,
          0.0000070587440772990445,
          0.000007095069134587623,
          0.000007127913964745868,
          0.000007156927441905734,
          0.000007181783577761274,
          0.000007202186136357035,
          0.0000072178726328377704,
          0.000007228617661687092,
          0.000007234235519539592,
          0.000007234582107211949,
          0.00000722955611450473,
          0.000007219099508994347,
          0.0000072031973659161445,
          0.000007181877089895369,
          0.0000071552070903581905,
          0.000007123294980714244,
          0.000007086285376727253,
          0.000007044357371876268,
          0.000006997721767073949,
          0.000006946618129064079,
          0.000006891311746484051,
          0.000006832090545326653,
          0.000006769262016817992,
          0.000006703150201011887,
          0.000006634092759178288,
          0.000006562438157806683,
          0.000006488542977209082,
          0.000006412769348689191,
          0.000006335482516388816,
          0.0000062570485134977255,
          0.000006177831937710338,
          0.000006098193807738921,
          0.0000060184894813727905,
          0.0000059390666159574345,
          0.00000586026315413033,
          0.0000057824053210069686,
          0.000005705805623527453,
          0.000005630760848080018,
          0.000005557550058513631,
          0.000005486432602933681,
          0.0000054176461439371935,
          0.000005351404732893629,
          0.0000052878969542492365,
          0.000005227284170386758,
          0.000005169698901117097,
          0.0000051152433742526544,
          0.000005063988284815794,
          0.0000050159718002008376,
          0.000004971198847028644,
          0.000004929640712536863,
          0.000004891234989213637,
          0.000004855885886122414,
          0.000004823464924124274,
          0.000004793812025164099,
          0.000004766736998142523,
          0.000004742021415864877,
          0.000004719420869371063,
          0.000004698667577833463,
          0.0000046794733243976295,
          0.000004661532681052214,
          0.000004644526479055754,
          0.0000046281254758091324,
          0.000004611994164498187,
          0.000004595794669476753,
          0.000004579190668304547,
          0.000004561851280657625,
          0.000004543454865002867,
          0.000004523692665947464,
          0.000004502272258473255,
          0.000004478920739735369,
          0.000004453387624605962,
          0.000004425447407504195,
          0.000004394901760077219,
          0.0000043615813417717544,
          0.000004325347208040009,
          0.000004286091808639806,
          0.000004243739575998316,
          0.00000419824711072324,
          0.000004149602977887712,
          0.0000040978271335460745,
          0.000004042970005949024,
          0.000003985111260048248,
          0.000003924358277077794,
          0.0000038608443832787654,
          0.0000037947268632268176,
          0.0000037261847937996294,
          0.0000036554167346636902,
          0.000003582638310377761,
          0.000003508079717905772,
          0.000003431983191626312,
          0.0000033546004559170734,
          0.0000032761901931831675,
          0.0000031970155528630962,
          0.0000031173417245510703,
          0.000003037433595961113,
          0.000002957553514053067,
          0.000002877959165254713,
          0.00000279890158834548,
          0.000002720623331208195,
          0.000002643356760296888,
          0.0000025673225293051494,
          0.000002492728211151412,
          0.0000024197670950426094,
          0.0000023486171480614194,
          0.000002279440138491364,
          0.0000022123809160054566,
          0.000002147566841968717,
          0.00000208510736151959,
          0.00000202509370787849,
          0.000001967598728557619,
          0.000001912676822875094,
          0.000001860363980450073,
          0.0000018106779111907185,
          0.0000017636182586672334,
          0.0000017191668906401148,
          0.0000016772882628047239,
          0.0000016379298543986197,
          0.0000016010226770510267,
          0.000001566481860960729,
          0.0000015342073249842165,
          0.0000015040845393061,
          0.0000014759853908639265,
          0.0000014497691624407737,
          0.0000014252836361850306,
          0.0000014023663311690841,
          0.000001380845882411023,
          0.0000013605435655640808,
          0.0000013412749672953808,
          0.0000013228517963576594,
          0.000001305083824688161,
          0.0000012877809417828098,
          0.0000012707552993640837,
          0.0000012538235172881695,
          0.0000012368089160326848,
          0.0000012195437362781863,
          0.0000012018713023320974,
          0.0000011836480836909568,
          0.000001164745608096353,
          0.0000011450521801445593,
          0.0000011244743619234925,
          0.000001102938176257386,
          0.0000010803899988450286,
          0.000001056797112711064,
          0.000001032147906712085,
          0.0000010064517090508155,
          9.797382565091549e-7,
          9.520568100417494e-7,
          9.234749370904056e-7,
          8.940769901098055e-7,
          8.639623189812781e-7,
          8.332432619215916e-7,
          8.020429649083598e-7,
          7.704930833503657e-7,
          7.387314216103498e-7,
          7.068995659985022e-7,
          6.751405650339238e-7,
          6.435967072306448e-7,
          6.12407441584126e-7,
          5.81707479551663e-7,
          5.516251099201286e-7,
          5.222807498532199e-7,
          4.937857469418209e-7,
          4.6624143858144767e-7,
          4.39738466794115e-7,
          4.143563389972102e-7,
          3.901632184607265e-7,
          3.672159225019748e-7,
          3.455601020053121e-7,
          3.252305727281495e-7,
          3.062517671078272e-7,
          2.8863827490365134e-7,
          2.723954419254442e-7,
          2.5751999819614365e-7,
          2.440006900101764e-7,
          2.3181889428698038e-7,
          2.2094919816094005e-7,
          2.1135993166187548e-7,
          2.0301364638644648e-7,
          1.9586753800898774e-7,
          1.898738151132572e-7,
          1.8498002095113846e-7,
          1.8112931818685822e-7,
          1.7826074933824008e-7,
          1.7630948739190982e-7,
          1.7520709190105803e-7,
          1.7488178576875946e-7,
          1.7525876691445205e-7,
          1.7626056719196057e-7,
          1.778074683845585e-7,
          1.7981798198446038e-7,
          1.8220939593151987e-7,
          1.848983877136395e-7,
          1.878016994011481e-7,
          1.9083686647947655e-7,
          1.9392298892984619e-7,
          1.9698153004104642e-7,
          1.9993712604851885e-7,
          2.027183879931957e-7,
          2.0525867624349102e-7,
          2.0749682796589565e-7,
          2.0937781846411724e-7,
          2.1085333869979776e-7,
          2.11882273393521e-7,
          2.124310667880959e-7,
          2.124739663184721e-7,
          2.1199313793760507e-7,
          2.1097865054775315e-7,
          2.0942833073029632e-7,
          2.0734749260531494e-7,
          2.0474855104546146e-7,
          2.0165052949283976e-7,
          1.9807847617898194e-7,
          1.9406280454695523e-7,
          1.8963857506835438e-7,
          1.8484473641167316e-7,
          1.7972334405511263e-7,
          1.7431877397564697e-7,
          1.6867694803983225e-7,
          1.6284458624322411e-7,
          1.5686849908266042e-7,
          1.5079493119796341e-7,
          1.4466896509122803e-7,
          1.3853399132762973e-7,
          1.3243124924190068e-7,
          1.2639943991108793e-7,
          1.204744110861036e-7,
          1.1468891196629426e-7,
          1.0907241419984091e-7,
          1.0365099432755048e-7,
          9.844727206970393e-8,
          9.348039837901019e-8,
          8.876608702578712e-8,
          8.43166836091181e-8,
          8.014126625414453e-8,
          7.624577280732276e-8,
          7.26331500203444e-8,
          6.930352096023442e-8,
          6.625436764019932e-8,
          6.348072658011154e-8,
          6.097539563088828e-8,
          5.872915089622013e-8,
          5.673097293108924e-8,
          5.496828157343967e-8,
          5.342717876877113e-8,
          5.2092698583955484e-8,
          5.09490632932869e-8,
          4.997994398276186e-8,
          4.916872359147268e-8,
          4.849875973091415e-8,
          4.795364403652811e-8,
          4.7517454254683935e-8,
          4.717499479518848e-8,
          4.691202112381029e-8,
          4.6715443165445656e-8,
          4.657350286385159e-8,
          4.647592121739904e-8,
          4.641401049191079e-8,
          4.638074790132654e-8,
          4.637080783467662e-8,
          4.6380550673983665e-8,
          4.6407967363601466e-8,
          4.645258012065548e-8,
          4.65153009758004e-8,
          4.659825115587444e-8,
          4.670454561493045e-8,
          4.683804823654947e-8,
          4.700310431873207e-8,
          4.720425786688242e-8,
          4.744596191975949e-8,
          4.773229058416181e-8,
          4.80666616315709e-8,
          4.845157839875222e-8,
          4.8888399329658505e-8,
          4.9377142804056135e-8,
          4.991633393606212e-8,
          5.05028988205868e-8,
          5.113211029435245e-8,
          5.179758770579921e-8,
          5.249135150654602e-8,
          5.320393174275083e-8,
          5.3924527797065587e-8,
          5.4641215070870166e-8,
          5.534119276039073e-8,
          5.601106552363124e-8,
          5.663715070631638e-8,
          5.72058019350094e-8,
          5.77037393256147e-8,
          5.81183763163627e-8,
          5.843813322539633e-8,
          5.865272805167074e-8,
          5.875343576965441e-8,
          5.8733308387590715e-8,
          5.858734930981273e-8,
          5.831263702076594e-8,
          5.790839473968156e-8,
          5.7376004422658004e-8,
          5.6718965252560944e-8,
          5.59427984951636e-8,
          5.505490225236233e-8,
          5.4064361153937173e-8,
          5.298171734782006e-8,
          5.181871023249497e-8,
          5.058799319040311e-8,
          4.930283610475552e-8,
          4.7976822661584185e-8,
          4.662355135300995e-8,
          4.5256348716411973e-8,
          4.388800268768408e-8,
          4.253052304475328e-8,
          4.1194934807775714e-8,
          3.989110918923045e-8,
          3.8627635299509334e-8,
          3.741173436337049e-8,
          3.624921674243281e-8,
          3.5144480640260804e-8,
          3.410055003811949e-8,
          3.311914821509473e-8,
          3.220080218384417e-8,
          3.134497255334653e-8,
          3.0550202735048214e-8,
          2.9814281052444546e-8,
          2.9134409201049043e-8,
          2.8507370631701708e-8,
          2.7929692782537053e-8,
          2.7397797643186504e-8,
          2.6908135871591382e-8,
          2.6457300566142108e-8,
          2.6042117786403695e-8,
          2.565971197423783e-8,
          2.5307545512166814e-8,
          2.498343272603116e-8,
          2.4685529654791685e-8,
          2.441230183526773e-8,
          2.4162473151644544e-8,
          2.3934959452170995e-8,
          2.3728791118403592e-8,
          2.354302907240038e-8,
          2.3376678818494758e-8,
          2.322860704012444e-8,
          2.3097465017237317e-8,
          2.2981622711291043e-8,
          2.2879116803977088e-8,
          2.278761529867957e-8,
          2.270440053031175e-8,
          2.262637161212908e-8,
          2.2550066511204237e-8,
          2.2471703121143875e-8,
          2.2387237923537406e-8,
          2.2292440128038112e-8,
          2.218297858053012e-8,
          2.2054518250391575e-8,
          2.190282276678445e-8,
          2.172385927956515e-8,
          2.1513901876004897e-8,
          2.126962988707838e-8,
          2.0988217657833956e-8
         ],
         "yaxis": "y"
        },
        {
         "legendgroup": "2023 salary",
         "marker": {
          "color": "rgb(214, 39, 40)"
         },
         "mode": "lines",
         "name": "2023 salary",
         "showlegend": true,
         "type": "scatter",
         "x": [
          7000,
          7833.668,
          8667.336,
          9501.004,
          10334.672,
          11168.34,
          12002.008,
          12835.676,
          13669.344000000001,
          14503.011999999999,
          15336.68,
          16170.348,
          17004.016,
          17837.684,
          18671.352,
          19505.02,
          20338.688000000002,
          21172.356,
          22006.023999999998,
          22839.692,
          23673.36,
          24507.028,
          25340.696,
          26174.364,
          27008.032,
          27841.7,
          28675.368,
          29509.036,
          30342.704,
          31176.372,
          32010.04,
          32843.708,
          33677.376000000004,
          34511.044,
          35344.712,
          36178.380000000005,
          37012.047999999995,
          37845.716,
          38679.384,
          39513.051999999996,
          40346.72,
          41180.388,
          42014.056,
          42847.724,
          43681.392,
          44515.06,
          45348.728,
          46182.396,
          47016.064,
          47849.732,
          48683.4,
          49517.068,
          50350.736,
          51184.404,
          52018.072,
          52851.74,
          53685.408,
          54519.076,
          55352.744,
          56186.412,
          57020.08,
          57853.748,
          58687.416,
          59521.084,
          60354.752,
          61188.42,
          62022.088,
          62855.756,
          63689.424,
          64523.092,
          65356.76,
          66190.428,
          67024.09599999999,
          67857.764,
          68691.432,
          69525.1,
          70358.768,
          71192.436,
          72026.10399999999,
          72859.772,
          73693.44,
          74527.108,
          75360.776,
          76194.444,
          77028.112,
          77861.78,
          78695.448,
          79529.116,
          80362.784,
          81196.452,
          82030.12,
          82863.788,
          83697.456,
          84531.124,
          85364.792,
          86198.46,
          87032.128,
          87865.796,
          88699.464,
          89533.132,
          90366.8,
          91200.468,
          92034.136,
          92867.804,
          93701.472,
          94535.14,
          95368.808,
          96202.476,
          97036.144,
          97869.812,
          98703.48,
          99537.148,
          100370.816,
          101204.484,
          102038.152,
          102871.82,
          103705.488,
          104539.156,
          105372.824,
          106206.492,
          107040.16,
          107873.828,
          108707.496,
          109541.164,
          110374.832,
          111208.5,
          112042.168,
          112875.836,
          113709.504,
          114543.172,
          115376.84,
          116210.508,
          117044.176,
          117877.844,
          118711.512,
          119545.18,
          120378.848,
          121212.516,
          122046.184,
          122879.852,
          123713.52,
          124547.188,
          125380.856,
          126214.524,
          127048.192,
          127881.86,
          128715.528,
          129549.196,
          130382.864,
          131216.532,
          132050.2,
          132883.86800000002,
          133717.536,
          134551.204,
          135384.872,
          136218.53999999998,
          137052.20799999998,
          137885.876,
          138719.544,
          139553.212,
          140386.88,
          141220.548,
          142054.216,
          142887.884,
          143721.552,
          144555.22,
          145388.888,
          146222.556,
          147056.224,
          147889.892,
          148723.56,
          149557.228,
          150390.896,
          151224.564,
          152058.232,
          152891.9,
          153725.568,
          154559.236,
          155392.904,
          156226.572,
          157060.24,
          157893.908,
          158727.576,
          159561.244,
          160394.912,
          161228.58,
          162062.248,
          162895.916,
          163729.584,
          164563.252,
          165396.92,
          166230.588,
          167064.256,
          167897.924,
          168731.592,
          169565.26,
          170398.928,
          171232.596,
          172066.264,
          172899.932,
          173733.6,
          174567.268,
          175400.936,
          176234.604,
          177068.272,
          177901.94,
          178735.608,
          179569.276,
          180402.944,
          181236.612,
          182070.28,
          182903.948,
          183737.616,
          184571.284,
          185404.952,
          186238.62,
          187072.288,
          187905.956,
          188739.624,
          189573.292,
          190406.96,
          191240.628,
          192074.296,
          192907.964,
          193741.632,
          194575.3,
          195408.968,
          196242.636,
          197076.304,
          197909.972,
          198743.64,
          199577.308,
          200410.976,
          201244.644,
          202078.312,
          202911.98,
          203745.648,
          204579.316,
          205412.984,
          206246.652,
          207080.32,
          207913.988,
          208747.656,
          209581.324,
          210414.992,
          211248.66,
          212082.328,
          212915.996,
          213749.664,
          214583.332,
          215417,
          216250.668,
          217084.336,
          217918.004,
          218751.672,
          219585.34,
          220419.008,
          221252.676,
          222086.344,
          222920.012,
          223753.68,
          224587.348,
          225421.016,
          226254.684,
          227088.352,
          227922.02,
          228755.688,
          229589.356,
          230423.024,
          231256.692,
          232090.36,
          232924.028,
          233757.696,
          234591.364,
          235425.032,
          236258.7,
          237092.368,
          237926.036,
          238759.704,
          239593.372,
          240427.04,
          241260.708,
          242094.376,
          242928.044,
          243761.712,
          244595.38,
          245429.048,
          246262.716,
          247096.384,
          247930.052,
          248763.72,
          249597.388,
          250431.056,
          251264.724,
          252098.392,
          252932.06,
          253765.728,
          254599.396,
          255433.064,
          256266.732,
          257100.4,
          257934.068,
          258767.736,
          259601.404,
          260435.072,
          261268.74,
          262102.408,
          262936.076,
          263769.744,
          264603.412,
          265437.07999999996,
          266270.748,
          267104.41599999997,
          267938.08400000003,
          268771.752,
          269605.42,
          270439.088,
          271272.756,
          272106.424,
          272940.092,
          273773.76,
          274607.428,
          275441.096,
          276274.764,
          277108.432,
          277942.1,
          278775.768,
          279609.436,
          280443.104,
          281276.772,
          282110.44,
          282944.108,
          283777.776,
          284611.444,
          285445.112,
          286278.78,
          287112.448,
          287946.116,
          288779.784,
          289613.452,
          290447.12,
          291280.788,
          292114.456,
          292948.124,
          293781.792,
          294615.46,
          295449.128,
          296282.796,
          297116.464,
          297950.132,
          298783.8,
          299617.468,
          300451.136,
          301284.804,
          302118.472,
          302952.14,
          303785.808,
          304619.476,
          305453.144,
          306286.812,
          307120.48,
          307954.148,
          308787.816,
          309621.484,
          310455.152,
          311288.82,
          312122.488,
          312956.156,
          313789.824,
          314623.492,
          315457.16,
          316290.828,
          317124.496,
          317958.164,
          318791.832,
          319625.5,
          320459.168,
          321292.836,
          322126.504,
          322960.172,
          323793.84,
          324627.508,
          325461.176,
          326294.844,
          327128.512,
          327962.18,
          328795.848,
          329629.516,
          330463.184,
          331296.852,
          332130.52,
          332964.188,
          333797.856,
          334631.524,
          335465.192,
          336298.86,
          337132.528,
          337966.196,
          338799.864,
          339633.532,
          340467.2,
          341300.868,
          342134.536,
          342968.204,
          343801.872,
          344635.54,
          345469.208,
          346302.876,
          347136.544,
          347970.212,
          348803.88,
          349637.548,
          350471.216,
          351304.884,
          352138.552,
          352972.22,
          353805.888,
          354639.556,
          355473.224,
          356306.892,
          357140.56,
          357974.228,
          358807.896,
          359641.564,
          360475.232,
          361308.9,
          362142.568,
          362976.236,
          363809.904,
          364643.572,
          365477.24,
          366310.908,
          367144.576,
          367978.244,
          368811.912,
          369645.58,
          370479.248,
          371312.916,
          372146.584,
          372980.252,
          373813.92,
          374647.588,
          375481.256,
          376314.924,
          377148.592,
          377982.26,
          378815.928,
          379649.596,
          380483.264,
          381316.932,
          382150.6,
          382984.268,
          383817.936,
          384651.604,
          385485.272,
          386318.94,
          387152.608,
          387986.276,
          388819.944,
          389653.612,
          390487.28,
          391320.948,
          392154.616,
          392988.284,
          393821.952,
          394655.62,
          395489.288,
          396322.956,
          397156.624,
          397990.292,
          398823.96,
          399657.628,
          400491.296,
          401324.964,
          402158.632,
          402992.3,
          403825.968,
          404659.636,
          405493.304,
          406326.972,
          407160.64,
          407994.308,
          408827.976,
          409661.644,
          410495.312,
          411328.98,
          412162.648,
          412996.316,
          413829.984,
          414663.652,
          415497.32,
          416330.988,
          417164.656,
          417998.324,
          418831.992,
          419665.66,
          420499.328,
          421332.996,
          422166.664,
          423000.332
         ],
         "xaxis": "x",
         "y": [
          2.711557405182177e-7,
          2.857534634809637e-7,
          3.0053946171309006e-7,
          3.154949434707176e-7,
          3.306055891615028e-7,
          3.4586227069525717e-7,
          3.6126170271351697e-7,
          3.7680700767592117e-7,
          3.925081780813698e-7,
          4.083824208996289e-7,
          4.244543715499462e-7,
          4.407561674373045e-7,
          4.573273740805762e-7,
          4.742147601633497e-7,
          4.914719213218017e-7,
          5.091587560607823e-7,
          5.273408007613802e-7,
          5.460884342111996e-7,
          5.654759653548006e-7,
          5.855806209331443e-7,
          6.064814522723934e-7,
          6.28258182618787e-7,
          6.509900180350735e-7,
          6.747544459266186e-7,
          6.996260457195131e-7,
          7.256753360521509e-7,
          7.529676820671785e-7,
          7.815622850195111e-7,
          8.115112744828109e-7,
          8.428589209898445e-7,
          8.756409840455376e-7,
          9.098842071796505e-7,
          9.456059681453155e-7,
          9.828140886132224e-7,
          0.0000010215068038582922,
          0.000001061672889089033,
          0.000001103291935331863,
          0.0000011463347642546565,
          0.0000011907639680918525,
          0.0000012365345580068319,
          0.0000012835947018753133,
          0.000001331886530664461,
          0.0000013813469913697677,
          0.0000014319087238948827,
          0.0000014835009393388964,
          0.000001536050277896011,
          0.000001589481625957398,
          0.0000016437188740018236,
          0.0000016986855994162054,
          0.0000017543056614307903,
          0.0000018105036987980392,
          0.0000018672055245897228,
          0.0000019243384164195057,
          0.0000019818313043966925,
          0.0000020396148630531333,
          0.0000020976215172305154,
          0.0000021557853753415654,
          0.0000022140421064047762,
          0.0000022723287796880543,
          0.0000023305836875835146,
          0.0000023887461733970075,
          0.00000244675648601072,
          0.0000025045556828345444,
          0.000002562085601089746,
          0.000002619288915288269,
          0.0000026761092958260926,
          0.0000027324916799742595,
          0.00000278838266232187,
          0.0000028437310070268627,
          0.000002898488279200336,
          0.000002952609587548991,
          0.000003006054425197156,
          0.0000030587875905803263,
          0.000003110780165625001,
          0.0000031620105242764017,
          0.000003212465340971151,
          0.000003262140566020329,
          0.000003311042333198219,
          0.00000335918776422013,
          0.0000034066056353091204,
          0.0000034533368727321735,
          0.0000034994348470281145,
          0.000003544965439614341,
          0.0000035900068604708256,
          0.0000036346492015416475,
          0.0000036789937172166776,
          0.0000037231518305804697,
          0.0000037672438718287338,
          0.0000038113975631288843,
          0.000003855746271992404,
          0.000003900427062682578,
          0.000003945578582048794,
          0.000003991338822218259,
          0.00000403784280756116,
          0.000004085220257082973,
          0.0000041335932757208335,
          0.000004183074128815018,
          0.00000423376315321333,
          0.0000042857468560310734,
          0.000004339096248063832,
          0.000004393865453328206,
          0.000004450090629332657,
          0.000004507789224654305,
          0.000004566959591461201,
          0.000004627580961056198,
          0.0000046896137806354166,
          0.00000475300039958041,
          0.000004817666084070645,
          0.000004883520329934136,
          0.000004950458435755895,
          0.000005018363291601664,
          0.0000050871073335197235,
          0.00000515655461042087,
          0.000005226562908121879,
          0.0000052969858753055874,
          0.000005367675097882547,
          0.0000054384820716340876,
          0.000005509260027917556,
          0.000005579865573409226,
          0.000005650160112083463,
          0.000005720011025580269,
          0.000005789292596486238,
          0.000005857886667508372,
          0.0000059256830377533105,
          0.000005992579605031774,
          0.000006058482270031981,
          0.00000612330462413874,
          0.000006186967447450602,
          0.000006249398047075187,
          0.000006310529468021668,
          0.000006370299609988592,
          0.000006428650283145522,
          0.000006485526234759995,
          0.000006540874176399998,
          0.000006594641838643463,
          0.000006646777076966363,
          0.000006697227048974102,
          0.000006745937479590189,
          0.000006792852027406197,
          0.00000683791176227258,
          0.0000068810547614797076,
          0.000006922215829607822,
          0.000006961326345327743,
          0.000006998314237084589,
          0.000007033104088626099,
          0.000007065617374645343,
          0.000007095772826268882,
          0.000007123486925600098,
          0.000007148674527882472,
          0.0000071712496089542966,
          0.000007191126134411839,
          0.000007208219045212042,
          0.00000722244535228152,
          0.00000723372533006543,
          0.000007241983795891565,
          0.000007247151458634634,
          0.000007249166316572225,
          0.0000072479750806956336,
          0.000007243534596259879,
          0.000007235813232235581,
          0.000007224792205764073,
          0.000007210466806912905,
          0.0000071928474881627196,
          0.0000071719607832617694,
          0.000007147850021476894,
          0.00000712057580589322,
          0.0000070902162282787885,
          0.0000070568667980757216,
          0.000007020640069206244,
          0.000006981664955420655,
          0.000006940085732677072,
          0.0000068960607352733345,
          0.00000684976076089757,
          0.000006801367208131559,
          0.000006751069977949398,
          0.0000066990651781188095,
          0.000006645552675874303,
          0.00000659073354955218,
          0.000006534807493865033,
          0.000006477970235990813,
          0.000006420411020555398,
          0.000006362310220850433,
          0.000006303837131244417,
          0.000006245147991775543,
          0.000006186384290459987,
          0.00000612767138205857,
          0.000006069117454108649,
          0.000006010812862170879,
          0.000005952829846710234,
          0.0000058952226340977566,
          0.000005838027914167015,
          0.000005781265676868578,
          0.0000057249403811214136,
          0.000005669042420232551,
          0.000005613549840497661,
          0.0000055584302630361024,
          0.000005503642953753674,
          0.00000544914098272877,
          0.0000053948734124050235,
          0.000005340787453827018,
          0.000005286830531802166,
          0.000005232952203291531,
          0.000005179105878452136,
          0.000005125250300441067,
          0.000005071350748172631,
          0.000005017379935459562,
          0.00000496331859009432,
          0.000004909155707122802,
          0.0000048548884814867694,
          0.000004800521935993738,
          0.000004746068270848339,
          0.000004691545970370402,
          0.000004636978710689544,
          0.000004582394118821204,
          0.000004527822438331786,
          0.000004473295159574402,
          0.0000044188436730903575,
          0.000004364498003164309,
          0.000004310285674722347,
          0.00000425623076089165,
          0.0000042023531508006,
          0.000004148668067878329,
          0.000004095185858367336,
          0.00000404191205841273,
          0.0000039888477363907475,
          0.000003935990095570838,
          0.0000038833333112484745,
          0.000003830869566603269,
          0.0000037785902431448333,
          0.0000037264872150674506,
          0.000003674554192418293,
          0.000003622788055881797,
          0.0000035711901262746832,
          0.0000035197673145105914,
          0.0000034685331026997974,
          0.00000341750831396864,
          0.0000033667216371960957,
          0.0000033162098827785797,
          0.000003266017956300218,
          0.000003216198548124362,
          0.0000031668115479399164,
          0.000003117923203717302,
          0.000003069605053909429,
          0.0000030219326696900422,
          0.0000029749842502410767,
          0.0000029288391183619897,
          0.0000028835761658480003,
          0.000002839272298144482,
          0.000002796000925805417,
          0.0000027538305464288077,
          0.0000027128234552596094,
          0.000002673034615858415,
          0.0000026345107144960954,
          0.000002597289413649987,
          0.000002561398811553656,
          0.000002526857106586764,
          0.000002493672457756373,
          0.0000024618430259356944,
          0.000002431357175158201,
          0.0000024021938093036337,
          0.0000023743228170747332,
          0.00000234770559728287,
          0.0000023222956370939143,
          0.0000022980391179139466,
          0.0000022748755268344134,
          0.0000022527382557722438,
          0.000002231555175353028,
          0.0000022112491758947483,
          0.0000021917386732427695,
          0.0000021729380823783153,
          0.0000021547582663890762,
          0.00000213710697230076,
          0.0000021198892682169114,
          0.0000021030079980506005,
          0.000002086364270763041,
          0.000002069858000422016,
          0.0000020533885115904383,
          0.000002036855221644523,
          0.000002020158407748986,
          0.0000020032000615759623,
          0.0000019858848296732292,
          0.000001968121031920933,
          0.0000019498217450317302,
          0.0000019309059328146783,
          0.00000191129960019782,
          0.00000189093694402156,
          0.000001869761470578637,
          0.0000018477270479476718,
          0.000001824798860459787,
          0.0000018009542332129779,
          0.0000017761832964126546,
          0.0000017504894624219392,
          0.0000017238896926498723,
          0.0000016964145366430276,
          0.000001668107931785277,
          0.0000016390267586293162,
          0.000001609240153836417,
          0.0000015788285897270642,
          0.0000015478827362834415,
          0.0000015165021278407776,
          0.0000014847936624235745,
          0.0000014528699665175454,
          0.0000014208476618467386,
          0.0000013888455733208294,
          0.0000013569829186472894,
          0.000001325377520136607,
          0.0000012941440779844854,
          0.0000012633925418603203,
          0.0000012332266140789959,
          0.0000012037424131345245,
          0.000001175027321113607,
          0.0000011471590326927872,
          0.0000011202048172779457,
          0.0000010942209995972684,
          0.0000010692526579342907,
          0.0000010453335333961719,
          0.0000010224861383454747,
          0.0000010007220475426595,
          9.800423517793494e-7,
          9.604382509194936e-7,
          9.418917613572155e-7,
          9.24376511956001e-7,
          9.078586025257226e-7,
          8.922974997566975e-7,
          8.776469471685062e-7,
          8.638558679240866e-7,
          8.508692421668938e-7,
          8.386289437090519e-7,
          8.270745242747192e-7,
          8.161439369322739e-7,
          8.057741936860752e-7,
          7.959019553144939e-7,
          7.864640543251297e-7,
          7.773979542644388e-7,
          7.686421505058569e-7,
          7.601365190137259e-7,
          7.518226204311228e-7,
          7.436439671845758e-7,
          7.355462611754048e-7,
          7.274776090928823e-7,
          7.193887215094893e-7,
          7.112331007838125e-7,
          7.029672214881742e-7,
          6.945507056823518e-7,
          6.859464939542677e-7,
          6.771210118191407e-7,
          6.680443298746703e-7,
          6.586903151039114e-7,
          6.49036769937302e-7,
          6.390655551539405e-7,
          6.287626924280114e-7,
          6.181184423042257e-7,
          6.071273535984565e-7,
          5.957882806393022e-7,
          5.841043653578175e-7,
          5.720829819557746e-7,
          5.59735642695091e-7,
          5.470778642097524e-7,
          5.34128994606212e-7,
          5.209120024529819e-7,
          5.074532295341592e-7,
          4.937821099314242e-7,
          4.799308585877974e-7,
          4.6593413298494314e-7,
          4.5182867193134564e-7,
          4.376529157149639e-7,
          4.2344661202945725e-7,
          4.0925041215011266e-7,
          3.9510546182892904e-7,
          3.810529913137018e-7,
          3.6713390878877304e-7,
          3.5338840139953415e-7,
          3.3985554787033887e-7,
          3.2657294656479637e-7,
          3.13576362673677e-7,
          3.008993980502609e-7,
          2.885731870440967e-7,
          2.766261215068053e-7,
          2.650836079504179e-7,
          2.5396785962084805e-7,
          2.432977259966242e-7,
          2.3308856192651116e-7,
          2.233521382705446e-7,
          2.1409659550080987e-7,
          2.0532644124711253e-7,
          1.9704259223786461e-7,
          1.8924246049101848e-7,
          1.8192008296050514e-7,
          1.750662931509177e-7,
          1.6866893249127064e-7,
          1.6271309852473264e-7,
          1.5718142624507206e-7,
          1.5205439821371513e-7,
          1.4731067844621776e-7,
          1.4292746448619602e-7,
          1.3888085160990695e-7,
          1.35146202745492e-7,
          1.3169851746456892e-7,
          1.28512793323924e-7,
          1.2556437291106175e-7,
          1.2282927018419798e-7,
          1.202844700947505e-7,
          1.1790819603333825e-7,
          1.15680140338257e-7,
          1.1358165393319351e-7,
          1.115958920986978e-7,
          1.0970791440596363e-7,
          1.0790473792475626e-7,
          1.061753439304896e-7,
          1.0451063944757714e-7,
          1.0290337604589564e-7,
          1.0134802932362387e-7,
          9.984064343355579e-8,
          9.837864581443084e-8,
          9.696063795051683e-8,
          9.558616848251755e-8,
          9.425549531659119e-8,
          9.296934351706818e-8,
          9.172866571920807e-8,
          9.053441156380549e-8,
          8.938731224415486e-8,
          8.828768568183656e-8,
          8.723526713006093e-8,
          8.622906916532991e-8,
          8.526727409694514e-8,
          8.434716082908612e-8,
          8.346506718300327e-8,
          8.261638765913577e-8,
          8.179560562181995e-8,
          8.099635795226871e-8,
          8.021152936553581e-8,
          7.943337284759901e-8,
          7.865365205854682e-8,
          7.786380108137246e-8,
          7.705509658202653e-8,
          7.621883728879e-8,
          7.534652569594849e-8,
          7.44300470413487e-8,
          7.346184088824994e-8,
          7.243506104341086e-8,
          7.134372004680256e-8,
          7.018281505243038e-8,
          6.894843256169978e-8,
          6.763783014712629e-8,
          6.624949399179764e-8,
          6.478317174679555e-8,
          6.3239880854553e-8,
          6.162189308311843e-8,
          5.993269654975712e-8,
          5.817693697073882e-8,
          5.6360340249540736e-8,
          5.4489618803515284e-8,
          5.257236422818796e-8,
          5.06169290107912e-8,
          4.863230003517285e-8,
          4.6627966576038204e-8,
          4.4613785370630945e-8,
          4.2599845190863494e-8,
          4.05963331298747e-8,
          3.861340457566602e-8,
          3.6661058582401245e-8,
          3.474902007819504e-8,
          3.2886630076902746e-8,
          3.10827447995892e-8,
          2.934564436657786e-8,
          2.7682951499398838e-8,
          2.6101560478003135e-8,
          2.4607576435157325e-8,
          2.3206264938217835e-8,
          2.1902011708240395e-8,
          2.0698292255954862e-8,
          1.9597651170672684e-8,
          1.8601690777784795e-8,
          1.771106887847559e-8,
          1.6925505296349395e-8,
          1.6243796974261486e-8,
          1.5663841385132996e-8,
          1.5182668037440647e-8,
          1.4796477864407656e-8,
          1.450069028132396e-8,
          1.4289997674425768e-8,
          1.4158427044944345e-8,
          1.4099408472061355e-8,
          1.4105849978627422e-8,
          1.4170218284978839e-8,
          1.4284624821675384e-8,
          1.4440916245356889e-8,
          1.4630768568116632e-8,
          1.484578387563818e-8,
          1.507758847928374e-8,
          1.5317931229143144e-8,
          1.55587806155544e-8,
          1.5792419212281675e-8,
          1.601153397122482e-8,
          1.6209300871117197e-8,
          1.6379462454781964e-8,
          1.6516396863327113e-8,
          1.6615177091687118e-8,
          1.667161934695522e-8,
          1.6682319586037323e-8
         ],
         "yaxis": "y"
        },
        {
         "legendgroup": "2020 salary",
         "marker": {
          "color": "rgb(31, 119, 180)",
          "symbol": "line-ns-open"
         },
         "mode": "markers",
         "name": "2020 salary",
         "showlegend": false,
         "type": "scatter",
         "x": [
          15000,
          95000,
          13493,
          13493,
          22809,
          49268,
          117104,
          54742,
          20000,
          59303,
          70000,
          68428,
          450000,
          46759,
          74130,
          103000,
          250000,
          10000,
          138000,
          45760,
          79833,
          50180,
          106000,
          112872,
          15966,
          76958,
          188000,
          105000,
          70139,
          6072,
          33511,
          91000,
          42000,
          115000,
          260000,
          109024,
          79833,
          150000,
          72000,
          190000,
          35735,
          135000,
          125000,
          51321,
          40481,
          39916,
          87000,
          85000,
          8000,
          41689,
          114047,
          5707,
          56000,
          6072,
          47899,
          98000,
          325000,
          45896,
          42197,
          62726,
          21669,
          110000,
          120000,
          60000,
          148261,
          38776,
          91237,
          62726,
          190200,
          118000,
          138350,
          130800,
          45618,
          412000,
          105000,
          100000
         ],
         "xaxis": "x",
         "y": [
          "2020 salary",
          "2020 salary",
          "2020 salary",
          "2020 salary",
          "2020 salary",
          "2020 salary",
          "2020 salary",
          "2020 salary",
          "2020 salary",
          "2020 salary",
          "2020 salary",
          "2020 salary",
          "2020 salary",
          "2020 salary",
          "2020 salary",
          "2020 salary",
          "2020 salary",
          "2020 salary",
          "2020 salary",
          "2020 salary",
          "2020 salary",
          "2020 salary",
          "2020 salary",
          "2020 salary",
          "2020 salary",
          "2020 salary",
          "2020 salary",
          "2020 salary",
          "2020 salary",
          "2020 salary",
          "2020 salary",
          "2020 salary",
          "2020 salary",
          "2020 salary",
          "2020 salary",
          "2020 salary",
          "2020 salary",
          "2020 salary",
          "2020 salary",
          "2020 salary",
          "2020 salary",
          "2020 salary",
          "2020 salary",
          "2020 salary",
          "2020 salary",
          "2020 salary",
          "2020 salary",
          "2020 salary",
          "2020 salary",
          "2020 salary",
          "2020 salary",
          "2020 salary",
          "2020 salary",
          "2020 salary",
          "2020 salary",
          "2020 salary",
          "2020 salary",
          "2020 salary",
          "2020 salary",
          "2020 salary",
          "2020 salary",
          "2020 salary",
          "2020 salary",
          "2020 salary",
          "2020 salary",
          "2020 salary",
          "2020 salary",
          "2020 salary",
          "2020 salary",
          "2020 salary",
          "2020 salary",
          "2020 salary",
          "2020 salary",
          "2020 salary",
          "2020 salary",
          "2020 salary"
         ],
         "yaxis": "y2"
        },
        {
         "legendgroup": "2021 salary",
         "marker": {
          "color": "rgb(255, 127, 14)",
          "symbol": "line-ns-open"
         },
         "mode": "markers",
         "name": "2021 salary",
         "showlegend": false,
         "type": "scatter",
         "x": [
          150000,
          30000,
          66970,
          54094,
          16904,
          115000,
          20000,
          45555,
          5409,
          75050,
          42028,
          20000,
          15000,
          45390,
          19073,
          50000,
          12171,
          250000,
          51064,
          109000,
          102839,
          69999,
          150000,
          240000,
          135000,
          80000,
          220000,
          77364,
          63711,
          90000,
          100000,
          24000,
          38400,
          82500,
          49646,
          40570,
          20000,
          9466,
          120000,
          10354,
          110037,
          50000,
          200000,
          60000,
          200000,
          100000,
          100000,
          82744,
          62649,
          82528,
          170000,
          150000,
          55000,
          250000,
          80000,
          130026,
          63831,
          85000,
          230000,
          125000,
          120000,
          127221,
          144000,
          13400,
          75774,
          150000,
          153000,
          90000,
          90000,
          60000,
          50000,
          12000,
          5409,
          270000,
          54238,
          47282,
          153667,
          28476,
          110000,
          82528,
          59102,
          80000,
          140000,
          79197,
          170000,
          80000,
          100000,
          53192,
          235000,
          150000,
          225000,
          76833,
          88654,
          103160,
          113476,
          94564,
          30428,
          150000,
          115000,
          187442,
          51519,
          36259,
          150000,
          95746,
          70000,
          89294,
          29751,
          276000,
          160000,
          200000,
          174000,
          93000,
          28399,
          60757,
          90000,
          170000,
          96282,
          12103,
          36643,
          72212,
          99703,
          165000,
          80000,
          103691,
          21637,
          63810,
          110000,
          180000,
          200000,
          200000,
          256000,
          110000,
          72500,
          185000,
          69741,
          100000,
          112000,
          20171,
          55000,
          58000,
          100000,
          77684,
          85000,
          76833,
          105000,
          65013,
          28016,
          111775,
          93150,
          160000,
          25532,
          66265,
          16904,
          63831,
          141846,
          16228,
          71786,
          135000,
          24823,
          54094,
          24342,
          9272,
          147000,
          96113,
          174000,
          21844,
          69741,
          50000,
          26005,
          90734,
          22611,
          5679,
          81000,
          40038,
          90000,
          61467,
          195000,
          37825,
          416000,
          225000,
          56256,
          33808,
          116914,
          46597,
          88654,
          28609,
          88654,
          66022,
          56738,
          24823,
          120000,
          20000,
          200000,
          160000,
          50000,
          40189,
          12901,
          165000,
          5882,
          185000,
          90734,
          140000,
          87738,
          61896,
          12000,
          76833,
          74000,
          152000,
          18000,
          130000,
          18907,
          59102,
          173762,
          46809,
          18053,
          115000,
          235000,
          19609,
          12000,
          75000,
          62000,
          73000,
          45391,
          168000,
          119059,
          423000,
          28369,
          165000,
          151000,
          94665
         ],
         "xaxis": "x",
         "y": [
          "2021 salary",
          "2021 salary",
          "2021 salary",
          "2021 salary",
          "2021 salary",
          "2021 salary",
          "2021 salary",
          "2021 salary",
          "2021 salary",
          "2021 salary",
          "2021 salary",
          "2021 salary",
          "2021 salary",
          "2021 salary",
          "2021 salary",
          "2021 salary",
          "2021 salary",
          "2021 salary",
          "2021 salary",
          "2021 salary",
          "2021 salary",
          "2021 salary",
          "2021 salary",
          "2021 salary",
          "2021 salary",
          "2021 salary",
          "2021 salary",
          "2021 salary",
          "2021 salary",
          "2021 salary",
          "2021 salary",
          "2021 salary",
          "2021 salary",
          "2021 salary",
          "2021 salary",
          "2021 salary",
          "2021 salary",
          "2021 salary",
          "2021 salary",
          "2021 salary",
          "2021 salary",
          "2021 salary",
          "2021 salary",
          "2021 salary",
          "2021 salary",
          "2021 salary",
          "2021 salary",
          "2021 salary",
          "2021 salary",
          "2021 salary",
          "2021 salary",
          "2021 salary",
          "2021 salary",
          "2021 salary",
          "2021 salary",
          "2021 salary",
          "2021 salary",
          "2021 salary",
          "2021 salary",
          "2021 salary",
          "2021 salary",
          "2021 salary",
          "2021 salary",
          "2021 salary",
          "2021 salary",
          "2021 salary",
          "2021 salary",
          "2021 salary",
          "2021 salary",
          "2021 salary",
          "2021 salary",
          "2021 salary",
          "2021 salary",
          "2021 salary",
          "2021 salary",
          "2021 salary",
          "2021 salary",
          "2021 salary",
          "2021 salary",
          "2021 salary",
          "2021 salary",
          "2021 salary",
          "2021 salary",
          "2021 salary",
          "2021 salary",
          "2021 salary",
          "2021 salary",
          "2021 salary",
          "2021 salary",
          "2021 salary",
          "2021 salary",
          "2021 salary",
          "2021 salary",
          "2021 salary",
          "2021 salary",
          "2021 salary",
          "2021 salary",
          "2021 salary",
          "2021 salary",
          "2021 salary",
          "2021 salary",
          "2021 salary",
          "2021 salary",
          "2021 salary",
          "2021 salary",
          "2021 salary",
          "2021 salary",
          "2021 salary",
          "2021 salary",
          "2021 salary",
          "2021 salary",
          "2021 salary",
          "2021 salary",
          "2021 salary",
          "2021 salary",
          "2021 salary",
          "2021 salary",
          "2021 salary",
          "2021 salary",
          "2021 salary",
          "2021 salary",
          "2021 salary",
          "2021 salary",
          "2021 salary",
          "2021 salary",
          "2021 salary",
          "2021 salary",
          "2021 salary",
          "2021 salary",
          "2021 salary",
          "2021 salary",
          "2021 salary",
          "2021 salary",
          "2021 salary",
          "2021 salary",
          "2021 salary",
          "2021 salary",
          "2021 salary",
          "2021 salary",
          "2021 salary",
          "2021 salary",
          "2021 salary",
          "2021 salary",
          "2021 salary",
          "2021 salary",
          "2021 salary",
          "2021 salary",
          "2021 salary",
          "2021 salary",
          "2021 salary",
          "2021 salary",
          "2021 salary",
          "2021 salary",
          "2021 salary",
          "2021 salary",
          "2021 salary",
          "2021 salary",
          "2021 salary",
          "2021 salary",
          "2021 salary",
          "2021 salary",
          "2021 salary",
          "2021 salary",
          "2021 salary",
          "2021 salary",
          "2021 salary",
          "2021 salary",
          "2021 salary",
          "2021 salary",
          "2021 salary",
          "2021 salary",
          "2021 salary",
          "2021 salary",
          "2021 salary",
          "2021 salary",
          "2021 salary",
          "2021 salary",
          "2021 salary",
          "2021 salary",
          "2021 salary",
          "2021 salary",
          "2021 salary",
          "2021 salary",
          "2021 salary",
          "2021 salary",
          "2021 salary",
          "2021 salary",
          "2021 salary",
          "2021 salary",
          "2021 salary",
          "2021 salary",
          "2021 salary",
          "2021 salary",
          "2021 salary",
          "2021 salary",
          "2021 salary",
          "2021 salary",
          "2021 salary",
          "2021 salary",
          "2021 salary",
          "2021 salary",
          "2021 salary",
          "2021 salary",
          "2021 salary",
          "2021 salary",
          "2021 salary",
          "2021 salary",
          "2021 salary",
          "2021 salary",
          "2021 salary",
          "2021 salary",
          "2021 salary",
          "2021 salary",
          "2021 salary",
          "2021 salary",
          "2021 salary",
          "2021 salary",
          "2021 salary",
          "2021 salary",
          "2021 salary",
          "2021 salary",
          "2021 salary",
          "2021 salary",
          "2021 salary",
          "2021 salary",
          "2021 salary",
          "2021 salary",
          "2021 salary",
          "2021 salary",
          "2021 salary"
         ],
         "yaxis": "y2"
        },
        {
         "legendgroup": "2022 salary",
         "marker": {
          "color": "rgb(44, 160, 44)",
          "symbol": "line-ns-open"
         },
         "mode": "markers",
         "name": "2022 salary",
         "showlegend": false,
         "type": "scatter",
         "x": [
          20984,
          300000,
          56536,
          88256,
          275000,
          59888,
          73546,
          172309,
          130000,
          34320,
          9289,
          106000,
          192000,
          168000,
          85000,
          375000,
          180000,
          23000,
          155000,
          84053,
          48000,
          6304,
          15897,
          110000,
          25216,
          18314,
          100000,
          133000,
          14307,
          130000,
          13989,
          125000,
          175000,
          155000,
          153600,
          106800,
          150000,
          140000,
          122000,
          94500,
          170000,
          130000,
          145000,
          128000,
          145000,
          100000,
          175000,
          120000,
          145000,
          115000,
          150000,
          150000,
          100000,
          150000,
          127500,
          126500,
          51000,
          260000,
          175000,
          40000,
          40000,
          250000,
          63000,
          210000,
          160000,
          272550,
          198200,
          94560,
          52533,
          220000,
          146000,
          150000,
          100000,
          248400,
          183600,
          150000,
          150000,
          40000,
          56723,
          120000,
          95000,
          160000,
          135000,
          24165,
          216000,
          144000,
          85000,
          65000,
          149000,
          119000,
          140000,
          120000,
          150000,
          110000,
          246000,
          201000,
          190000,
          155000,
          235000,
          185000,
          190000,
          160000,
          100000,
          130000,
          115000,
          92350,
          67723,
          105000,
          70000,
          204500,
          142200,
          192000,
          164000,
          185900,
          129300,
          130000,
          75000,
          175000,
          120000,
          167500,
          106500,
          75000,
          60000,
          184000,
          142000,
          145000,
          100000,
          10000,
          31795,
          44365,
          175000,
          120000,
          175000,
          120000,
          200000,
          145000,
          92350,
          73880,
          145000,
          100000,
          192000,
          164000,
          310000,
          239000,
          120000,
          95000,
          145000,
          135000,
          100000,
          78000,
          73546,
          36773,
          160000,
          120000,
          190000,
          150000,
          35610,
          125000,
          120000,
          95000,
          150000,
          100000,
          47280,
          37824,
          115934,
          81666,
          175000,
          140000,
          120000,
          95000,
          249500,
          149850,
          122500,
          100000,
          249500,
          149850,
          55000,
          48000,
          249500,
          149850,
          58837,
          190000,
          120000,
          127000,
          104000,
          210000,
          150000,
          210000,
          150000,
          210000,
          130000,
          182750,
          161500,
          102640,
          66100,
          210000,
          150000,
          198800,
          122600,
          130000,
          80000,
          136000,
          104000,
          150000,
          100000,
          160000,
          135000,
          216000,
          144000,
          159000,
          130000,
          115934,
          81666,
          215000,
          150000,
          246000,
          201000,
          187000,
          153000,
          255000,
          185000,
          430967,
          55410,
          50432,
          39925,
          169000,
          110600,
          60938,
          140000,
          120000,
          75000,
          60000,
          10000,
          50000,
          134000,
          124000,
          166700,
          119000,
          124234,
          74540,
          100000,
          65000,
          200000,
          12000,
          220000,
          146000,
          68293,
          36773,
          110000,
          70000,
          50000,
          120000,
          95000,
          150000,
          100000,
          47280,
          37824,
          190000,
          135000,
          128000,
          81500,
          173000,
          110000,
          192000,
          120000,
          115934,
          81666,
          120000,
          95000,
          190000,
          194000,
          129400,
          201000,
          89200,
          165000,
          125000,
          230000,
          196000,
          130000,
          90000,
          150000,
          100000,
          230000,
          150000,
          153600,
          106800,
          130000,
          100000,
          216000,
          144000,
          180000,
          120000,
          160000,
          135000,
          192500,
          140000,
          152500,
          130000,
          65000,
          55000,
          178750,
          160000,
          63040,
          52533,
          165000,
          135000,
          170000,
          125000,
          105000,
          70000,
          130000,
          95000,
          203500,
          152000,
          197430,
          134760,
          120000,
          197000,
          99000,
          220000,
          162000,
          110446,
          79178,
          70186,
          51716,
          149040,
          113900,
          171000,
          13000,
          100000,
          78000,
          120000,
          95000,
          110000,
          70000,
          50000,
          185900,
          129300,
          150000,
          100000,
          230000,
          154600,
          204500,
          142200,
          160000,
          75000,
          47280,
          37824,
          213000,
          152000,
          140000,
          120000,
          110000,
          70000,
          227200,
          168000,
          64090,
          60938,
          243000,
          183000,
          175000,
          150000,
          130000,
          90000,
          165000,
          124000,
          178000,
          132000,
          300000,
          130000,
          169000,
          110600,
          116000,
          96000,
          92350,
          70186,
          105000,
          70000,
          105236,
          194000,
          129400,
          190000,
          135000,
          100000,
          70000,
          189750,
          140250,
          130000,
          100000,
          160000,
          109000,
          250000,
          150000,
          206000,
          160000,
          135000,
          120000,
          115573,
          73546,
          160000,
          135000,
          150000,
          100000,
          120000,
          95000,
          68293,
          42026,
          191200,
          130000,
          191200,
          130000,
          66192,
          50000,
          230000,
          154600,
          120000,
          95000,
          140000,
          120000,
          169000,
          110600,
          80000,
          185900,
          129300,
          135000,
          110000,
          155000,
          140000,
          205000,
          150000,
          179500,
          134000,
          180000,
          120000,
          185900,
          129300,
          175000,
          145000,
          235000,
          175000,
          27317,
          160000,
          90000,
          68293,
          36773,
          145000,
          115000,
          165000,
          135000,
          168400,
          105200,
          86193,
          49253,
          200000,
          160000,
          47280,
          37824,
          198800,
          122600,
          100000,
          105066,
          130000,
          100000,
          104663,
          73880,
          125000,
          110000,
          165000,
          124000,
          148000,
          107000,
          150000,
          100000,
          160000,
          135000,
          120000,
          95000,
          153600,
          106800,
          100000,
          65000,
          120000,
          95000,
          63040,
          36773,
          310000,
          239000,
          299500,
          245100,
          168000,
          130000,
          136000,
          104000,
          161000,
          118000,
          205000,
          184000,
          185900,
          129300,
          247500,
          172200,
          68293,
          177000,
          131000,
          205000,
          184000,
          146000,
          102000,
          169000,
          110600,
          230000,
          196000,
          135000,
          100000,
          80000,
          65000,
          135000,
          100000,
          61566,
          43096,
          175000,
          135000,
          80000,
          231250,
          138750,
          193750,
          116250,
          231250,
          138750,
          231250,
          138750,
          231250,
          138750,
          193750,
          116250,
          208000,
          127000,
          300000,
          196000,
          204500,
          142200,
          185900,
          129300,
          47280,
          37824,
          204500,
          142200,
          205000,
          185000,
          185900,
          129300,
          247500,
          172200,
          160000,
          135000,
          150000,
          100000,
          110000,
          95000,
          185900,
          129300,
          205000,
          184000,
          17684,
          375000,
          191200,
          130000,
          225000,
          156400,
          169000,
          110600,
          204500,
          142200,
          104663,
          80036,
          185900,
          129300,
          140700,
          93800,
          350000,
          135000,
          115934,
          81666,
          12000,
          104697,
          33000,
          34672,
          201000,
          119000,
          175000,
          150000,
          154560,
          123648,
          130000,
          100000,
          170000,
          145000,
          135000,
          100000,
          247500,
          172200,
          177500,
          134000,
          185900,
          129300,
          192564,
          144854,
          130000,
          105000,
          179305,
          142127,
          315000,
          225000,
          243900,
          156600,
          206000,
          160000,
          109000,
          79000,
          160000,
          109000,
          89306,
          182500,
          128500,
          160000,
          90000,
          77300,
          45600,
          127000,
          110000,
          210000,
          136000,
          12608,
          170000,
          140000,
          247500,
          172200,
          225000,
          184100,
          130000,
          90000,
          120000,
          100000,
          85000,
          78000,
          161000,
          110000,
          136000,
          104000,
          47280,
          37824,
          205000,
          160000,
          169000,
          110600,
          61566,
          49253,
          160000,
          130000,
          245000,
          180000,
          135000,
          100000,
          220000,
          150000,
          198440,
          144000,
          240000,
          170000,
          198440,
          144000,
          150000,
          100000,
          120000,
          95000,
          57872,
          64000,
          39925,
          187200,
          116100,
          150000,
          127000,
          275000,
          166000,
          159699,
          138938,
          76000,
          166700,
          119000,
          130000,
          100000,
          103432,
          92350,
          80000,
          52500,
          236000,
          182000,
          180000,
          140000,
          225000,
          156400,
          135000,
          100000,
          204500,
          142200,
          240000,
          125404,
          300000,
          130000,
          195000,
          175000,
          155000,
          110000,
          123000,
          92250,
          170000,
          150000,
          180000,
          100000,
          97000,
          90000,
          200000,
          160000,
          210000,
          180000,
          260000,
          180000,
          210000,
          157000,
          180000,
          100000,
          80000,
          52500,
          128000,
          81500,
          105000,
          70000,
          175000,
          122500,
          171000,
          117000,
          202800,
          104300,
          50432,
          36773,
          197000,
          99000,
          160000,
          110000,
          185900,
          129300,
          30000,
          78000,
          48000,
          170000,
          130000,
          150000,
          95000,
          78000,
          42000,
          345600,
          230400,
          145000,
          115000,
          78000,
          48000,
          175950,
          130050,
          205600,
          105700,
          236600,
          89200,
          84000,
          54000,
          80000,
          200000,
          73742,
          165000,
          33246,
          185900,
          129300,
          169000,
          110600,
          225000,
          184100,
          185900,
          129300,
          225000,
          156400,
          185900,
          129300,
          108000,
          8000,
          155000,
          38000,
          85000,
          65000,
          155000,
          38000,
          110820,
          92350,
          153600,
          106800,
          185000,
          50000,
          185900,
          129300,
          155000,
          38000,
          168000,
          130000,
          123400,
          88100,
          120000,
          55000,
          185900,
          129300,
          191200,
          130000,
          169000,
          110600,
          150000,
          120000,
          139000,
          122000,
          185900,
          129300,
          139600,
          85700,
          185000,
          50000,
          185900,
          129300,
          225000,
          156400,
          200000,
          175000,
          185900,
          129300,
          148500,
          98200,
          115000,
          95000,
          225000,
          66000,
          185000,
          50000,
          47280,
          37824,
          134000,
          98000,
          105000,
          62000,
          57000,
          161311,
          144200,
          115360,
          83171,
          38154,
          73546,
          42026,
          170000,
          150000,
          180000,
          160000,
          108000,
          200000,
          150000,
          125976,
          188700,
          160395,
          115934,
          81666,
          300000,
          225000,
          198440,
          144000,
          191475,
          141525,
          50432,
          36773,
          75648,
          156868,
          200000,
          198440,
          144000,
          69344,
          5132,
          90000,
          126080,
          84053,
          200000,
          180000,
          108000,
          85000,
          210000,
          180000,
          165000,
          132000,
          130000,
          110000,
          45050,
          135000,
          178800,
          132100,
          20000,
          140000,
          110000,
          160000,
          85000,
          250000,
          63000,
          187200,
          116100,
          10000,
          200000,
          145000,
          229998,
          154545,
          215000,
          159000,
          229998,
          154545,
          50000,
          183000,
          99750,
          68400,
          236900,
          159200,
          243225,
          179775,
          175000,
          150000,
          210000,
          180000,
          148000,
          128000,
          190000,
          135000,
          130000,
          110000,
          191475,
          141525,
          160000,
          85000,
          218000,
          145300,
          195400,
          131300,
          105000,
          191475,
          141525,
          207000,
          153000,
          191475,
          141525,
          110000,
          99000,
          191475,
          141525,
          191475,
          141525,
          191475,
          141525,
          200000,
          135000,
          207000,
          153000,
          191475,
          141525,
          191475,
          141525,
          191475,
          141525,
          195700,
          130500,
          130000,
          84000,
          100000,
          60000,
          80036,
          67723,
          141300,
          102100,
          50432,
          36773,
          150000,
          102200,
          22892,
          144000,
          113000,
          31520,
          195400,
          131300,
          195400,
          131300,
          195400,
          131300,
          190000,
          135000,
          135000,
          80000,
          8050,
          160000,
          85000,
          178800,
          132100,
          60000,
          63040,
          50000,
          140000,
          105000,
          80036,
          67723,
          190000,
          140000,
          100000,
          60000,
          180000,
          165000,
          108000,
          190000,
          135000,
          179400,
          154000,
          193900,
          129300,
          222640,
          182160,
          150000,
          100000,
          122500,
          100000,
          297500,
          260000,
          193000,
          93000,
          73000,
          100000,
          60000,
          7799,
          136994,
          101570,
          250000,
          63000,
          134000,
          98000,
          191475,
          141525,
          57786,
          136000,
          112000,
          172000,
          140000,
          215000,
          164000,
          300000,
          130000,
          250000,
          63000,
          180000,
          150000,
          250000,
          63000,
          191475,
          141525,
          97500,
          212800,
          142800,
          73546,
          50000,
          6359,
          151800,
          130240,
          165000,
          140250,
          135000,
          115000,
          179400,
          154000,
          191475,
          141525,
          191475,
          141525,
          191475,
          141525,
          75000,
          84053,
          73546,
          98506,
          86193,
          84053,
          73546,
          191475,
          141525,
          191475,
          141525,
          102663,
          80041,
          191475,
          141525,
          104611,
          82280,
          191475,
          141525,
          191475,
          141525,
          115000,
          31520,
          81000,
          66000,
          46000,
          80000,
          200000,
          180000,
          200000,
          204100,
          136100,
          250000,
          63000,
          118208,
          110820,
          191475,
          141525,
          191475,
          141525,
          191475,
          141525,
          95000,
          70000,
          75000,
          7500,
          113000,
          170000,
          130000,
          113000,
          140000,
          53368,
          175000,
          140000,
          29944,
          250000,
          63000,
          160000,
          119300,
          145000,
          105000,
          90000,
          146200,
          124270,
          225000,
          160000,
          54634,
          185800,
          137400,
          245000,
          180000,
          203500,
          152000,
          250000,
          63000,
          186000,
          148800,
          95386,
          128058,
          82000,
          110000,
          173000,
          203500,
          152000,
          186000,
          148800,
          6270,
          158000,
          134000,
          170000,
          120000,
          200000,
          150000,
          216200,
          144100,
          115573,
          89306,
          250000,
          63000,
          135000,
          85000,
          135000,
          85000,
          206000,
          175100,
          189650,
          164996,
          149040,
          113900,
          154000,
          126000,
          200000,
          150000,
          195700,
          130500,
          170000,
          135000,
          98506,
          73880,
          117000,
          99450,
          200000,
          135000,
          193900,
          129300,
          55410,
          86193,
          61566,
          175000,
          130000,
          188100,
          139860,
          248700,
          167100,
          5723,
          123400,
          88100,
          50432,
          245000,
          205000,
          141300,
          102100,
          141300,
          102100,
          50000,
          84053,
          61566,
          250000,
          63000,
          189500,
          140100,
          177600,
          131300,
          24000,
          24000,
          250000,
          63000,
          202900,
          131300,
          145000,
          115000,
          115000,
          193900,
          129300,
          180000,
          140000,
          216200,
          144100,
          216000,
          144000,
          150000,
          53416,
          50000,
          84053,
          131752,
          48000,
          260500,
          175100,
          210000,
          100000,
          55000,
          130000,
          77119,
          52008,
          30523,
          206699,
          99100,
          200000,
          54000,
          250000,
          63000,
          250000,
          63000,
          250000,
          63000,
          130000,
          100000,
          80000,
          160000,
          100000,
          221300,
          148700,
          30000,
          28368,
          91118,
          61566,
          60938,
          249260,
          185400,
          170000,
          130000,
          80036,
          128875,
          93700,
          180000,
          100000,
          136260,
          109280,
          160000,
          92000,
          200000,
          160000,
          135446,
          104663,
          117000,
          99450,
          129000,
          86000,
          160000,
          119300,
          100000,
          25000,
          65257,
          200000,
          180000,
          153000,
          210000,
          100000,
          150075,
          110925,
          22800,
          160000,
          92000,
          202900,
          131300,
          15000,
          175000,
          135000,
          133766,
          83000,
          92350,
          67723,
          186000,
          148800,
          112900,
          90320,
          240000,
          160000,
          300000,
          200000,
          65666,
          200000,
          116976,
          92350,
          120000,
          112900,
          90320,
          145000,
          105400,
          110820,
          92350,
          215300,
          158200,
          209100,
          154600,
          115934,
          81666,
          175000,
          155000,
          84053,
          164000,
          132000,
          170000,
          123000,
          189650,
          164996,
          52533,
          52533,
          115222,
          165400,
          132320,
          208775,
          147800,
          136994,
          101570,
          128875,
          93700,
          76309,
          35093,
          183600,
          100800,
          49253,
          36940,
          42026,
          31520,
          84053,
          73546,
          98506,
          86193,
          84053,
          73546,
          189650,
          164996,
          42026,
          31520,
          92350,
          73880,
          215300,
          140400,
          63040,
          47280,
          260000,
          180000,
          67723,
          43096,
          63040,
          47280,
          73880,
          55410,
          60000,
          82900,
          63900,
          160000,
          112300,
          241000,
          159000,
          180000,
          80000,
          58000,
          58000,
          136000,
          108800,
          242000,
          200000,
          61566,
          36940,
          73880,
          49253,
          165220,
          120160,
          124190,
          90320,
          181940,
          132320,
          220110,
          160080,
          180000,
          120000,
          126500,
          106260,
          116000,
          99000,
          155000,
          120600,
          130000,
          90000,
          170000,
          150000,
          102100,
          84900,
          136620,
          99360,
          110820,
          98506,
          146000,
          123000,
          49253,
          43096,
          130000,
          110000,
          170000,
          135000,
          161342,
          137141,
          167000,
          123000,
          73880,
          61566,
          211500,
          138600,
          192400,
          90700,
          130000,
          61300,
          130000,
          61300,
          160000,
          113000,
          150000,
          95550,
          167000,
          115500,
          112900,
          90320,
          112900,
          90320,
          165400,
          132320,
          243900,
          156600,
          136600,
          109280,
          128875,
          93700,
          224000,
          167875,
          175000,
          135000,
          209100,
          154600,
          180000,
          160000,
          205300,
          140400,
          176000,
          144000,
          200100,
          160000,
          70500,
          54000,
          205300,
          140400,
          205300,
          184700,
          175100,
          140250,
          116150,
          99050,
          145000,
          130000,
          112900,
          90320,
          85000,
          75000,
          214000,
          192600,
          266400,
          213120,
          155000,
          115000,
          141300,
          102100,
          115934,
          81666,
          206699,
          99100,
          130000,
          110500,
          61566,
          43096,
          80000,
          60000,
          192564,
          144854,
          230000,
          150000,
          150260,
          109280,
          170000,
          150000,
          160000,
          130000,
          67000,
          52000,
          154000,
          126000,
          129000,
          99000,
          210000,
          140000,
          210000,
          140000,
          210000,
          140000,
          100000,
          69000,
          210000,
          140000,
          150075,
          110925,
          100000,
          25000,
          126500,
          106260,
          220110,
          160080,
          105000,
          100000,
          170000,
          135000,
          230000,
          140000,
          135000,
          50000,
          220000,
          140000,
          172386,
          86193,
          220000,
          120000,
          200000,
          120000,
          120000,
          65000,
          324000,
          216000,
          210000,
          100000,
          185100,
          104890,
          105000,
          80000,
          76814,
          192037,
          120000,
          17805,
          30523,
          55685,
          52533,
          17805,
          75000,
          157000,
          69133,
          65000,
          68293,
          67597,
          10000,
          20000,
          200000,
          51081,
          78000,
          135000,
          115000,
          83864,
          40000,
          31520,
          59888,
          89306,
          83171,
          165000,
          153000,
          100000,
          76814,
          33609,
          75000,
          30469,
          55475,
          61989,
          152500,
          120000,
          135000,
          405000,
          380000,
          120402,
          177000,
          65141,
          48000,
          20000,
          150000,
          100000,
          100000,
          144000,
          155499,
          100000,
          120000,
          84053,
          125000,
          21013
         ],
         "xaxis": "x",
         "y": [
          "2022 salary",
          "2022 salary",
          "2022 salary",
          "2022 salary",
          "2022 salary",
          "2022 salary",
          "2022 salary",
          "2022 salary",
          "2022 salary",
          "2022 salary",
          "2022 salary",
          "2022 salary",
          "2022 salary",
          "2022 salary",
          "2022 salary",
          "2022 salary",
          "2022 salary",
          "2022 salary",
          "2022 salary",
          "2022 salary",
          "2022 salary",
          "2022 salary",
          "2022 salary",
          "2022 salary",
          "2022 salary",
          "2022 salary",
          "2022 salary",
          "2022 salary",
          "2022 salary",
          "2022 salary",
          "2022 salary",
          "2022 salary",
          "2022 salary",
          "2022 salary",
          "2022 salary",
          "2022 salary",
          "2022 salary",
          "2022 salary",
          "2022 salary",
          "2022 salary",
          "2022 salary",
          "2022 salary",
          "2022 salary",
          "2022 salary",
          "2022 salary",
          "2022 salary",
          "2022 salary",
          "2022 salary",
          "2022 salary",
          "2022 salary",
          "2022 salary",
          "2022 salary",
          "2022 salary",
          "2022 salary",
          "2022 salary",
          "2022 salary",
          "2022 salary",
          "2022 salary",
          "2022 salary",
          "2022 salary",
          "2022 salary",
          "2022 salary",
          "2022 salary",
          "2022 salary",
          "2022 salary",
          "2022 salary",
          "2022 salary",
          "2022 salary",
          "2022 salary",
          "2022 salary",
          "2022 salary",
          "2022 salary",
          "2022 salary",
          "2022 salary",
          "2022 salary",
          "2022 salary",
          "2022 salary",
          "2022 salary",
          "2022 salary",
          "2022 salary",
          "2022 salary",
          "2022 salary",
          "2022 salary",
          "2022 salary",
          "2022 salary",
          "2022 salary",
          "2022 salary",
          "2022 salary",
          "2022 salary",
          "2022 salary",
          "2022 salary",
          "2022 salary",
          "2022 salary",
          "2022 salary",
          "2022 salary",
          "2022 salary",
          "2022 salary",
          "2022 salary",
          "2022 salary",
          "2022 salary",
          "2022 salary",
          "2022 salary",
          "2022 salary",
          "2022 salary",
          "2022 salary",
          "2022 salary",
          "2022 salary",
          "2022 salary",
          "2022 salary",
          "2022 salary",
          "2022 salary",
          "2022 salary",
          "2022 salary",
          "2022 salary",
          "2022 salary",
          "2022 salary",
          "2022 salary",
          "2022 salary",
          "2022 salary",
          "2022 salary",
          "2022 salary",
          "2022 salary",
          "2022 salary",
          "2022 salary",
          "2022 salary",
          "2022 salary",
          "2022 salary",
          "2022 salary",
          "2022 salary",
          "2022 salary",
          "2022 salary",
          "2022 salary",
          "2022 salary",
          "2022 salary",
          "2022 salary",
          "2022 salary",
          "2022 salary",
          "2022 salary",
          "2022 salary",
          "2022 salary",
          "2022 salary",
          "2022 salary",
          "2022 salary",
          "2022 salary",
          "2022 salary",
          "2022 salary",
          "2022 salary",
          "2022 salary",
          "2022 salary",
          "2022 salary",
          "2022 salary",
          "2022 salary",
          "2022 salary",
          "2022 salary",
          "2022 salary",
          "2022 salary",
          "2022 salary",
          "2022 salary",
          "2022 salary",
          "2022 salary",
          "2022 salary",
          "2022 salary",
          "2022 salary",
          "2022 salary",
          "2022 salary",
          "2022 salary",
          "2022 salary",
          "2022 salary",
          "2022 salary",
          "2022 salary",
          "2022 salary",
          "2022 salary",
          "2022 salary",
          "2022 salary",
          "2022 salary",
          "2022 salary",
          "2022 salary",
          "2022 salary",
          "2022 salary",
          "2022 salary",
          "2022 salary",
          "2022 salary",
          "2022 salary",
          "2022 salary",
          "2022 salary",
          "2022 salary",
          "2022 salary",
          "2022 salary",
          "2022 salary",
          "2022 salary",
          "2022 salary",
          "2022 salary",
          "2022 salary",
          "2022 salary",
          "2022 salary",
          "2022 salary",
          "2022 salary",
          "2022 salary",
          "2022 salary",
          "2022 salary",
          "2022 salary",
          "2022 salary",
          "2022 salary",
          "2022 salary",
          "2022 salary",
          "2022 salary",
          "2022 salary",
          "2022 salary",
          "2022 salary",
          "2022 salary",
          "2022 salary",
          "2022 salary",
          "2022 salary",
          "2022 salary",
          "2022 salary",
          "2022 salary",
          "2022 salary",
          "2022 salary",
          "2022 salary",
          "2022 salary",
          "2022 salary",
          "2022 salary",
          "2022 salary",
          "2022 salary",
          "2022 salary",
          "2022 salary",
          "2022 salary",
          "2022 salary",
          "2022 salary",
          "2022 salary",
          "2022 salary",
          "2022 salary",
          "2022 salary",
          "2022 salary",
          "2022 salary",
          "2022 salary",
          "2022 salary",
          "2022 salary",
          "2022 salary",
          "2022 salary",
          "2022 salary",
          "2022 salary",
          "2022 salary",
          "2022 salary",
          "2022 salary",
          "2022 salary",
          "2022 salary",
          "2022 salary",
          "2022 salary",
          "2022 salary",
          "2022 salary",
          "2022 salary",
          "2022 salary",
          "2022 salary",
          "2022 salary",
          "2022 salary",
          "2022 salary",
          "2022 salary",
          "2022 salary",
          "2022 salary",
          "2022 salary",
          "2022 salary",
          "2022 salary",
          "2022 salary",
          "2022 salary",
          "2022 salary",
          "2022 salary",
          "2022 salary",
          "2022 salary",
          "2022 salary",
          "2022 salary",
          "2022 salary",
          "2022 salary",
          "2022 salary",
          "2022 salary",
          "2022 salary",
          "2022 salary",
          "2022 salary",
          "2022 salary",
          "2022 salary",
          "2022 salary",
          "2022 salary",
          "2022 salary",
          "2022 salary",
          "2022 salary",
          "2022 salary",
          "2022 salary",
          "2022 salary",
          "2022 salary",
          "2022 salary",
          "2022 salary",
          "2022 salary",
          "2022 salary",
          "2022 salary",
          "2022 salary",
          "2022 salary",
          "2022 salary",
          "2022 salary",
          "2022 salary",
          "2022 salary",
          "2022 salary",
          "2022 salary",
          "2022 salary",
          "2022 salary",
          "2022 salary",
          "2022 salary",
          "2022 salary",
          "2022 salary",
          "2022 salary",
          "2022 salary",
          "2022 salary",
          "2022 salary",
          "2022 salary",
          "2022 salary",
          "2022 salary",
          "2022 salary",
          "2022 salary",
          "2022 salary",
          "2022 salary",
          "2022 salary",
          "2022 salary",
          "2022 salary",
          "2022 salary",
          "2022 salary",
          "2022 salary",
          "2022 salary",
          "2022 salary",
          "2022 salary",
          "2022 salary",
          "2022 salary",
          "2022 salary",
          "2022 salary",
          "2022 salary",
          "2022 salary",
          "2022 salary",
          "2022 salary",
          "2022 salary",
          "2022 salary",
          "2022 salary",
          "2022 salary",
          "2022 salary",
          "2022 salary",
          "2022 salary",
          "2022 salary",
          "2022 salary",
          "2022 salary",
          "2022 salary",
          "2022 salary",
          "2022 salary",
          "2022 salary",
          "2022 salary",
          "2022 salary",
          "2022 salary",
          "2022 salary",
          "2022 salary",
          "2022 salary",
          "2022 salary",
          "2022 salary",
          "2022 salary",
          "2022 salary",
          "2022 salary",
          "2022 salary",
          "2022 salary",
          "2022 salary",
          "2022 salary",
          "2022 salary",
          "2022 salary",
          "2022 salary",
          "2022 salary",
          "2022 salary",
          "2022 salary",
          "2022 salary",
          "2022 salary",
          "2022 salary",
          "2022 salary",
          "2022 salary",
          "2022 salary",
          "2022 salary",
          "2022 salary",
          "2022 salary",
          "2022 salary",
          "2022 salary",
          "2022 salary",
          "2022 salary",
          "2022 salary",
          "2022 salary",
          "2022 salary",
          "2022 salary",
          "2022 salary",
          "2022 salary",
          "2022 salary",
          "2022 salary",
          "2022 salary",
          "2022 salary",
          "2022 salary",
          "2022 salary",
          "2022 salary",
          "2022 salary",
          "2022 salary",
          "2022 salary",
          "2022 salary",
          "2022 salary",
          "2022 salary",
          "2022 salary",
          "2022 salary",
          "2022 salary",
          "2022 salary",
          "2022 salary",
          "2022 salary",
          "2022 salary",
          "2022 salary",
          "2022 salary",
          "2022 salary",
          "2022 salary",
          "2022 salary",
          "2022 salary",
          "2022 salary",
          "2022 salary",
          "2022 salary",
          "2022 salary",
          "2022 salary",
          "2022 salary",
          "2022 salary",
          "2022 salary",
          "2022 salary",
          "2022 salary",
          "2022 salary",
          "2022 salary",
          "2022 salary",
          "2022 salary",
          "2022 salary",
          "2022 salary",
          "2022 salary",
          "2022 salary",
          "2022 salary",
          "2022 salary",
          "2022 salary",
          "2022 salary",
          "2022 salary",
          "2022 salary",
          "2022 salary",
          "2022 salary",
          "2022 salary",
          "2022 salary",
          "2022 salary",
          "2022 salary",
          "2022 salary",
          "2022 salary",
          "2022 salary",
          "2022 salary",
          "2022 salary",
          "2022 salary",
          "2022 salary",
          "2022 salary",
          "2022 salary",
          "2022 salary",
          "2022 salary",
          "2022 salary",
          "2022 salary",
          "2022 salary",
          "2022 salary",
          "2022 salary",
          "2022 salary",
          "2022 salary",
          "2022 salary",
          "2022 salary",
          "2022 salary",
          "2022 salary",
          "2022 salary",
          "2022 salary",
          "2022 salary",
          "2022 salary",
          "2022 salary",
          "2022 salary",
          "2022 salary",
          "2022 salary",
          "2022 salary",
          "2022 salary",
          "2022 salary",
          "2022 salary",
          "2022 salary",
          "2022 salary",
          "2022 salary",
          "2022 salary",
          "2022 salary",
          "2022 salary",
          "2022 salary",
          "2022 salary",
          "2022 salary",
          "2022 salary",
          "2022 salary",
          "2022 salary",
          "2022 salary",
          "2022 salary",
          "2022 salary",
          "2022 salary",
          "2022 salary",
          "2022 salary",
          "2022 salary",
          "2022 salary",
          "2022 salary",
          "2022 salary",
          "2022 salary",
          "2022 salary",
          "2022 salary",
          "2022 salary",
          "2022 salary",
          "2022 salary",
          "2022 salary",
          "2022 salary",
          "2022 salary",
          "2022 salary",
          "2022 salary",
          "2022 salary",
          "2022 salary",
          "2022 salary",
          "2022 salary",
          "2022 salary",
          "2022 salary",
          "2022 salary",
          "2022 salary",
          "2022 salary",
          "2022 salary",
          "2022 salary",
          "2022 salary",
          "2022 salary",
          "2022 salary",
          "2022 salary",
          "2022 salary",
          "2022 salary",
          "2022 salary",
          "2022 salary",
          "2022 salary",
          "2022 salary",
          "2022 salary",
          "2022 salary",
          "2022 salary",
          "2022 salary",
          "2022 salary",
          "2022 salary",
          "2022 salary",
          "2022 salary",
          "2022 salary",
          "2022 salary",
          "2022 salary",
          "2022 salary",
          "2022 salary",
          "2022 salary",
          "2022 salary",
          "2022 salary",
          "2022 salary",
          "2022 salary",
          "2022 salary",
          "2022 salary",
          "2022 salary",
          "2022 salary",
          "2022 salary",
          "2022 salary",
          "2022 salary",
          "2022 salary",
          "2022 salary",
          "2022 salary",
          "2022 salary",
          "2022 salary",
          "2022 salary",
          "2022 salary",
          "2022 salary",
          "2022 salary",
          "2022 salary",
          "2022 salary",
          "2022 salary",
          "2022 salary",
          "2022 salary",
          "2022 salary",
          "2022 salary",
          "2022 salary",
          "2022 salary",
          "2022 salary",
          "2022 salary",
          "2022 salary",
          "2022 salary",
          "2022 salary",
          "2022 salary",
          "2022 salary",
          "2022 salary",
          "2022 salary",
          "2022 salary",
          "2022 salary",
          "2022 salary",
          "2022 salary",
          "2022 salary",
          "2022 salary",
          "2022 salary",
          "2022 salary",
          "2022 salary",
          "2022 salary",
          "2022 salary",
          "2022 salary",
          "2022 salary",
          "2022 salary",
          "2022 salary",
          "2022 salary",
          "2022 salary",
          "2022 salary",
          "2022 salary",
          "2022 salary",
          "2022 salary",
          "2022 salary",
          "2022 salary",
          "2022 salary",
          "2022 salary",
          "2022 salary",
          "2022 salary",
          "2022 salary",
          "2022 salary",
          "2022 salary",
          "2022 salary",
          "2022 salary",
          "2022 salary",
          "2022 salary",
          "2022 salary",
          "2022 salary",
          "2022 salary",
          "2022 salary",
          "2022 salary",
          "2022 salary",
          "2022 salary",
          "2022 salary",
          "2022 salary",
          "2022 salary",
          "2022 salary",
          "2022 salary",
          "2022 salary",
          "2022 salary",
          "2022 salary",
          "2022 salary",
          "2022 salary",
          "2022 salary",
          "2022 salary",
          "2022 salary",
          "2022 salary",
          "2022 salary",
          "2022 salary",
          "2022 salary",
          "2022 salary",
          "2022 salary",
          "2022 salary",
          "2022 salary",
          "2022 salary",
          "2022 salary",
          "2022 salary",
          "2022 salary",
          "2022 salary",
          "2022 salary",
          "2022 salary",
          "2022 salary",
          "2022 salary",
          "2022 salary",
          "2022 salary",
          "2022 salary",
          "2022 salary",
          "2022 salary",
          "2022 salary",
          "2022 salary",
          "2022 salary",
          "2022 salary",
          "2022 salary",
          "2022 salary",
          "2022 salary",
          "2022 salary",
          "2022 salary",
          "2022 salary",
          "2022 salary",
          "2022 salary",
          "2022 salary",
          "2022 salary",
          "2022 salary",
          "2022 salary",
          "2022 salary",
          "2022 salary",
          "2022 salary",
          "2022 salary",
          "2022 salary",
          "2022 salary",
          "2022 salary",
          "2022 salary",
          "2022 salary",
          "2022 salary",
          "2022 salary",
          "2022 salary",
          "2022 salary",
          "2022 salary",
          "2022 salary",
          "2022 salary",
          "2022 salary",
          "2022 salary",
          "2022 salary",
          "2022 salary",
          "2022 salary",
          "2022 salary",
          "2022 salary",
          "2022 salary",
          "2022 salary",
          "2022 salary",
          "2022 salary",
          "2022 salary",
          "2022 salary",
          "2022 salary",
          "2022 salary",
          "2022 salary",
          "2022 salary",
          "2022 salary",
          "2022 salary",
          "2022 salary",
          "2022 salary",
          "2022 salary",
          "2022 salary",
          "2022 salary",
          "2022 salary",
          "2022 salary",
          "2022 salary",
          "2022 salary",
          "2022 salary",
          "2022 salary",
          "2022 salary",
          "2022 salary",
          "2022 salary",
          "2022 salary",
          "2022 salary",
          "2022 salary",
          "2022 salary",
          "2022 salary",
          "2022 salary",
          "2022 salary",
          "2022 salary",
          "2022 salary",
          "2022 salary",
          "2022 salary",
          "2022 salary",
          "2022 salary",
          "2022 salary",
          "2022 salary",
          "2022 salary",
          "2022 salary",
          "2022 salary",
          "2022 salary",
          "2022 salary",
          "2022 salary",
          "2022 salary",
          "2022 salary",
          "2022 salary",
          "2022 salary",
          "2022 salary",
          "2022 salary",
          "2022 salary",
          "2022 salary",
          "2022 salary",
          "2022 salary",
          "2022 salary",
          "2022 salary",
          "2022 salary",
          "2022 salary",
          "2022 salary",
          "2022 salary",
          "2022 salary",
          "2022 salary",
          "2022 salary",
          "2022 salary",
          "2022 salary",
          "2022 salary",
          "2022 salary",
          "2022 salary",
          "2022 salary",
          "2022 salary",
          "2022 salary",
          "2022 salary",
          "2022 salary",
          "2022 salary",
          "2022 salary",
          "2022 salary",
          "2022 salary",
          "2022 salary",
          "2022 salary",
          "2022 salary",
          "2022 salary",
          "2022 salary",
          "2022 salary",
          "2022 salary",
          "2022 salary",
          "2022 salary",
          "2022 salary",
          "2022 salary",
          "2022 salary",
          "2022 salary",
          "2022 salary",
          "2022 salary",
          "2022 salary",
          "2022 salary",
          "2022 salary",
          "2022 salary",
          "2022 salary",
          "2022 salary",
          "2022 salary",
          "2022 salary",
          "2022 salary",
          "2022 salary",
          "2022 salary",
          "2022 salary",
          "2022 salary",
          "2022 salary",
          "2022 salary",
          "2022 salary",
          "2022 salary",
          "2022 salary",
          "2022 salary",
          "2022 salary",
          "2022 salary",
          "2022 salary",
          "2022 salary",
          "2022 salary",
          "2022 salary",
          "2022 salary",
          "2022 salary",
          "2022 salary",
          "2022 salary",
          "2022 salary",
          "2022 salary",
          "2022 salary",
          "2022 salary",
          "2022 salary",
          "2022 salary",
          "2022 salary",
          "2022 salary",
          "2022 salary",
          "2022 salary",
          "2022 salary",
          "2022 salary",
          "2022 salary",
          "2022 salary",
          "2022 salary",
          "2022 salary",
          "2022 salary",
          "2022 salary",
          "2022 salary",
          "2022 salary",
          "2022 salary",
          "2022 salary",
          "2022 salary",
          "2022 salary",
          "2022 salary",
          "2022 salary",
          "2022 salary",
          "2022 salary",
          "2022 salary",
          "2022 salary",
          "2022 salary",
          "2022 salary",
          "2022 salary",
          "2022 salary",
          "2022 salary",
          "2022 salary",
          "2022 salary",
          "2022 salary",
          "2022 salary",
          "2022 salary",
          "2022 salary",
          "2022 salary",
          "2022 salary",
          "2022 salary",
          "2022 salary",
          "2022 salary",
          "2022 salary",
          "2022 salary",
          "2022 salary",
          "2022 salary",
          "2022 salary",
          "2022 salary",
          "2022 salary",
          "2022 salary",
          "2022 salary",
          "2022 salary",
          "2022 salary",
          "2022 salary",
          "2022 salary",
          "2022 salary",
          "2022 salary",
          "2022 salary",
          "2022 salary",
          "2022 salary",
          "2022 salary",
          "2022 salary",
          "2022 salary",
          "2022 salary",
          "2022 salary",
          "2022 salary",
          "2022 salary",
          "2022 salary",
          "2022 salary",
          "2022 salary",
          "2022 salary",
          "2022 salary",
          "2022 salary",
          "2022 salary",
          "2022 salary",
          "2022 salary",
          "2022 salary",
          "2022 salary",
          "2022 salary",
          "2022 salary",
          "2022 salary",
          "2022 salary",
          "2022 salary",
          "2022 salary",
          "2022 salary",
          "2022 salary",
          "2022 salary",
          "2022 salary",
          "2022 salary",
          "2022 salary",
          "2022 salary",
          "2022 salary",
          "2022 salary",
          "2022 salary",
          "2022 salary",
          "2022 salary",
          "2022 salary",
          "2022 salary",
          "2022 salary",
          "2022 salary",
          "2022 salary",
          "2022 salary",
          "2022 salary",
          "2022 salary",
          "2022 salary",
          "2022 salary",
          "2022 salary",
          "2022 salary",
          "2022 salary",
          "2022 salary",
          "2022 salary",
          "2022 salary",
          "2022 salary",
          "2022 salary",
          "2022 salary",
          "2022 salary",
          "2022 salary",
          "2022 salary",
          "2022 salary",
          "2022 salary",
          "2022 salary",
          "2022 salary",
          "2022 salary",
          "2022 salary",
          "2022 salary",
          "2022 salary",
          "2022 salary",
          "2022 salary",
          "2022 salary",
          "2022 salary",
          "2022 salary",
          "2022 salary",
          "2022 salary",
          "2022 salary",
          "2022 salary",
          "2022 salary",
          "2022 salary",
          "2022 salary",
          "2022 salary",
          "2022 salary",
          "2022 salary",
          "2022 salary",
          "2022 salary",
          "2022 salary",
          "2022 salary",
          "2022 salary",
          "2022 salary",
          "2022 salary",
          "2022 salary",
          "2022 salary",
          "2022 salary",
          "2022 salary",
          "2022 salary",
          "2022 salary",
          "2022 salary",
          "2022 salary",
          "2022 salary",
          "2022 salary",
          "2022 salary",
          "2022 salary",
          "2022 salary",
          "2022 salary",
          "2022 salary",
          "2022 salary",
          "2022 salary",
          "2022 salary",
          "2022 salary",
          "2022 salary",
          "2022 salary",
          "2022 salary",
          "2022 salary",
          "2022 salary",
          "2022 salary",
          "2022 salary",
          "2022 salary",
          "2022 salary",
          "2022 salary",
          "2022 salary",
          "2022 salary",
          "2022 salary",
          "2022 salary",
          "2022 salary",
          "2022 salary",
          "2022 salary",
          "2022 salary",
          "2022 salary",
          "2022 salary",
          "2022 salary",
          "2022 salary",
          "2022 salary",
          "2022 salary",
          "2022 salary",
          "2022 salary",
          "2022 salary",
          "2022 salary",
          "2022 salary",
          "2022 salary",
          "2022 salary",
          "2022 salary",
          "2022 salary",
          "2022 salary",
          "2022 salary",
          "2022 salary",
          "2022 salary",
          "2022 salary",
          "2022 salary",
          "2022 salary",
          "2022 salary",
          "2022 salary",
          "2022 salary",
          "2022 salary",
          "2022 salary",
          "2022 salary",
          "2022 salary",
          "2022 salary",
          "2022 salary",
          "2022 salary",
          "2022 salary",
          "2022 salary",
          "2022 salary",
          "2022 salary",
          "2022 salary",
          "2022 salary",
          "2022 salary",
          "2022 salary",
          "2022 salary",
          "2022 salary",
          "2022 salary",
          "2022 salary",
          "2022 salary",
          "2022 salary",
          "2022 salary",
          "2022 salary",
          "2022 salary",
          "2022 salary",
          "2022 salary",
          "2022 salary",
          "2022 salary",
          "2022 salary",
          "2022 salary",
          "2022 salary",
          "2022 salary",
          "2022 salary",
          "2022 salary",
          "2022 salary",
          "2022 salary",
          "2022 salary",
          "2022 salary",
          "2022 salary",
          "2022 salary",
          "2022 salary",
          "2022 salary",
          "2022 salary",
          "2022 salary",
          "2022 salary",
          "2022 salary",
          "2022 salary",
          "2022 salary",
          "2022 salary",
          "2022 salary",
          "2022 salary",
          "2022 salary",
          "2022 salary",
          "2022 salary",
          "2022 salary",
          "2022 salary",
          "2022 salary",
          "2022 salary",
          "2022 salary",
          "2022 salary",
          "2022 salary",
          "2022 salary",
          "2022 salary",
          "2022 salary",
          "2022 salary",
          "2022 salary",
          "2022 salary",
          "2022 salary",
          "2022 salary",
          "2022 salary",
          "2022 salary",
          "2022 salary",
          "2022 salary",
          "2022 salary",
          "2022 salary",
          "2022 salary",
          "2022 salary",
          "2022 salary",
          "2022 salary",
          "2022 salary",
          "2022 salary",
          "2022 salary",
          "2022 salary",
          "2022 salary",
          "2022 salary",
          "2022 salary",
          "2022 salary",
          "2022 salary",
          "2022 salary",
          "2022 salary",
          "2022 salary",
          "2022 salary",
          "2022 salary",
          "2022 salary",
          "2022 salary",
          "2022 salary",
          "2022 salary",
          "2022 salary",
          "2022 salary",
          "2022 salary",
          "2022 salary",
          "2022 salary",
          "2022 salary",
          "2022 salary",
          "2022 salary",
          "2022 salary",
          "2022 salary",
          "2022 salary",
          "2022 salary",
          "2022 salary",
          "2022 salary",
          "2022 salary",
          "2022 salary",
          "2022 salary",
          "2022 salary",
          "2022 salary",
          "2022 salary",
          "2022 salary",
          "2022 salary",
          "2022 salary",
          "2022 salary",
          "2022 salary",
          "2022 salary",
          "2022 salary",
          "2022 salary",
          "2022 salary",
          "2022 salary",
          "2022 salary",
          "2022 salary",
          "2022 salary",
          "2022 salary",
          "2022 salary",
          "2022 salary",
          "2022 salary",
          "2022 salary",
          "2022 salary",
          "2022 salary",
          "2022 salary",
          "2022 salary",
          "2022 salary",
          "2022 salary",
          "2022 salary",
          "2022 salary",
          "2022 salary",
          "2022 salary",
          "2022 salary",
          "2022 salary",
          "2022 salary",
          "2022 salary",
          "2022 salary",
          "2022 salary",
          "2022 salary",
          "2022 salary",
          "2022 salary",
          "2022 salary",
          "2022 salary",
          "2022 salary",
          "2022 salary",
          "2022 salary",
          "2022 salary",
          "2022 salary",
          "2022 salary",
          "2022 salary",
          "2022 salary",
          "2022 salary",
          "2022 salary",
          "2022 salary",
          "2022 salary",
          "2022 salary",
          "2022 salary",
          "2022 salary",
          "2022 salary",
          "2022 salary",
          "2022 salary",
          "2022 salary",
          "2022 salary",
          "2022 salary",
          "2022 salary",
          "2022 salary",
          "2022 salary",
          "2022 salary",
          "2022 salary",
          "2022 salary",
          "2022 salary",
          "2022 salary",
          "2022 salary",
          "2022 salary",
          "2022 salary",
          "2022 salary",
          "2022 salary",
          "2022 salary",
          "2022 salary",
          "2022 salary",
          "2022 salary",
          "2022 salary",
          "2022 salary",
          "2022 salary",
          "2022 salary",
          "2022 salary",
          "2022 salary",
          "2022 salary",
          "2022 salary",
          "2022 salary",
          "2022 salary",
          "2022 salary",
          "2022 salary",
          "2022 salary",
          "2022 salary",
          "2022 salary",
          "2022 salary",
          "2022 salary",
          "2022 salary",
          "2022 salary",
          "2022 salary",
          "2022 salary",
          "2022 salary",
          "2022 salary",
          "2022 salary",
          "2022 salary",
          "2022 salary",
          "2022 salary",
          "2022 salary",
          "2022 salary",
          "2022 salary",
          "2022 salary",
          "2022 salary",
          "2022 salary",
          "2022 salary",
          "2022 salary",
          "2022 salary",
          "2022 salary",
          "2022 salary",
          "2022 salary",
          "2022 salary",
          "2022 salary",
          "2022 salary",
          "2022 salary",
          "2022 salary",
          "2022 salary",
          "2022 salary",
          "2022 salary",
          "2022 salary",
          "2022 salary",
          "2022 salary",
          "2022 salary",
          "2022 salary",
          "2022 salary",
          "2022 salary",
          "2022 salary",
          "2022 salary",
          "2022 salary",
          "2022 salary",
          "2022 salary",
          "2022 salary",
          "2022 salary",
          "2022 salary",
          "2022 salary",
          "2022 salary",
          "2022 salary",
          "2022 salary",
          "2022 salary",
          "2022 salary",
          "2022 salary",
          "2022 salary",
          "2022 salary",
          "2022 salary",
          "2022 salary",
          "2022 salary",
          "2022 salary",
          "2022 salary",
          "2022 salary",
          "2022 salary",
          "2022 salary",
          "2022 salary",
          "2022 salary",
          "2022 salary",
          "2022 salary",
          "2022 salary",
          "2022 salary",
          "2022 salary",
          "2022 salary",
          "2022 salary",
          "2022 salary",
          "2022 salary",
          "2022 salary",
          "2022 salary",
          "2022 salary",
          "2022 salary",
          "2022 salary",
          "2022 salary",
          "2022 salary",
          "2022 salary",
          "2022 salary",
          "2022 salary",
          "2022 salary",
          "2022 salary",
          "2022 salary",
          "2022 salary",
          "2022 salary",
          "2022 salary",
          "2022 salary",
          "2022 salary",
          "2022 salary",
          "2022 salary",
          "2022 salary",
          "2022 salary",
          "2022 salary",
          "2022 salary",
          "2022 salary",
          "2022 salary",
          "2022 salary",
          "2022 salary",
          "2022 salary",
          "2022 salary",
          "2022 salary",
          "2022 salary",
          "2022 salary",
          "2022 salary",
          "2022 salary",
          "2022 salary",
          "2022 salary",
          "2022 salary",
          "2022 salary",
          "2022 salary",
          "2022 salary",
          "2022 salary",
          "2022 salary",
          "2022 salary",
          "2022 salary",
          "2022 salary",
          "2022 salary",
          "2022 salary",
          "2022 salary",
          "2022 salary",
          "2022 salary",
          "2022 salary",
          "2022 salary",
          "2022 salary",
          "2022 salary",
          "2022 salary",
          "2022 salary",
          "2022 salary",
          "2022 salary",
          "2022 salary",
          "2022 salary",
          "2022 salary",
          "2022 salary",
          "2022 salary",
          "2022 salary",
          "2022 salary",
          "2022 salary",
          "2022 salary",
          "2022 salary",
          "2022 salary",
          "2022 salary",
          "2022 salary",
          "2022 salary",
          "2022 salary",
          "2022 salary",
          "2022 salary",
          "2022 salary",
          "2022 salary",
          "2022 salary",
          "2022 salary",
          "2022 salary",
          "2022 salary",
          "2022 salary",
          "2022 salary",
          "2022 salary",
          "2022 salary",
          "2022 salary",
          "2022 salary",
          "2022 salary",
          "2022 salary",
          "2022 salary",
          "2022 salary",
          "2022 salary",
          "2022 salary",
          "2022 salary",
          "2022 salary",
          "2022 salary",
          "2022 salary",
          "2022 salary",
          "2022 salary",
          "2022 salary",
          "2022 salary",
          "2022 salary",
          "2022 salary",
          "2022 salary",
          "2022 salary",
          "2022 salary",
          "2022 salary",
          "2022 salary",
          "2022 salary",
          "2022 salary",
          "2022 salary",
          "2022 salary",
          "2022 salary",
          "2022 salary",
          "2022 salary",
          "2022 salary",
          "2022 salary",
          "2022 salary",
          "2022 salary",
          "2022 salary",
          "2022 salary",
          "2022 salary",
          "2022 salary",
          "2022 salary",
          "2022 salary",
          "2022 salary",
          "2022 salary",
          "2022 salary",
          "2022 salary",
          "2022 salary",
          "2022 salary",
          "2022 salary",
          "2022 salary",
          "2022 salary",
          "2022 salary",
          "2022 salary",
          "2022 salary",
          "2022 salary",
          "2022 salary",
          "2022 salary",
          "2022 salary",
          "2022 salary",
          "2022 salary",
          "2022 salary",
          "2022 salary",
          "2022 salary",
          "2022 salary",
          "2022 salary",
          "2022 salary",
          "2022 salary",
          "2022 salary",
          "2022 salary",
          "2022 salary",
          "2022 salary",
          "2022 salary",
          "2022 salary",
          "2022 salary",
          "2022 salary",
          "2022 salary",
          "2022 salary",
          "2022 salary",
          "2022 salary",
          "2022 salary",
          "2022 salary",
          "2022 salary",
          "2022 salary",
          "2022 salary",
          "2022 salary",
          "2022 salary",
          "2022 salary",
          "2022 salary",
          "2022 salary",
          "2022 salary",
          "2022 salary",
          "2022 salary",
          "2022 salary",
          "2022 salary",
          "2022 salary",
          "2022 salary",
          "2022 salary",
          "2022 salary",
          "2022 salary",
          "2022 salary",
          "2022 salary",
          "2022 salary",
          "2022 salary",
          "2022 salary",
          "2022 salary",
          "2022 salary",
          "2022 salary",
          "2022 salary",
          "2022 salary",
          "2022 salary",
          "2022 salary",
          "2022 salary",
          "2022 salary",
          "2022 salary",
          "2022 salary",
          "2022 salary",
          "2022 salary",
          "2022 salary",
          "2022 salary",
          "2022 salary",
          "2022 salary",
          "2022 salary",
          "2022 salary",
          "2022 salary",
          "2022 salary",
          "2022 salary",
          "2022 salary",
          "2022 salary",
          "2022 salary",
          "2022 salary",
          "2022 salary",
          "2022 salary",
          "2022 salary",
          "2022 salary",
          "2022 salary",
          "2022 salary",
          "2022 salary",
          "2022 salary",
          "2022 salary",
          "2022 salary",
          "2022 salary",
          "2022 salary",
          "2022 salary",
          "2022 salary",
          "2022 salary",
          "2022 salary",
          "2022 salary",
          "2022 salary",
          "2022 salary",
          "2022 salary",
          "2022 salary",
          "2022 salary",
          "2022 salary",
          "2022 salary",
          "2022 salary",
          "2022 salary",
          "2022 salary",
          "2022 salary",
          "2022 salary",
          "2022 salary",
          "2022 salary",
          "2022 salary",
          "2022 salary",
          "2022 salary",
          "2022 salary",
          "2022 salary",
          "2022 salary",
          "2022 salary",
          "2022 salary",
          "2022 salary",
          "2022 salary",
          "2022 salary",
          "2022 salary",
          "2022 salary",
          "2022 salary",
          "2022 salary",
          "2022 salary",
          "2022 salary",
          "2022 salary",
          "2022 salary",
          "2022 salary",
          "2022 salary",
          "2022 salary",
          "2022 salary",
          "2022 salary",
          "2022 salary",
          "2022 salary",
          "2022 salary",
          "2022 salary",
          "2022 salary",
          "2022 salary",
          "2022 salary",
          "2022 salary",
          "2022 salary",
          "2022 salary",
          "2022 salary",
          "2022 salary",
          "2022 salary",
          "2022 salary",
          "2022 salary",
          "2022 salary",
          "2022 salary",
          "2022 salary",
          "2022 salary",
          "2022 salary",
          "2022 salary",
          "2022 salary",
          "2022 salary",
          "2022 salary",
          "2022 salary",
          "2022 salary",
          "2022 salary",
          "2022 salary",
          "2022 salary",
          "2022 salary",
          "2022 salary",
          "2022 salary",
          "2022 salary",
          "2022 salary",
          "2022 salary",
          "2022 salary",
          "2022 salary",
          "2022 salary",
          "2022 salary",
          "2022 salary",
          "2022 salary",
          "2022 salary",
          "2022 salary",
          "2022 salary",
          "2022 salary",
          "2022 salary",
          "2022 salary",
          "2022 salary",
          "2022 salary",
          "2022 salary",
          "2022 salary",
          "2022 salary",
          "2022 salary",
          "2022 salary",
          "2022 salary",
          "2022 salary",
          "2022 salary",
          "2022 salary",
          "2022 salary",
          "2022 salary",
          "2022 salary",
          "2022 salary",
          "2022 salary",
          "2022 salary",
          "2022 salary",
          "2022 salary",
          "2022 salary",
          "2022 salary",
          "2022 salary",
          "2022 salary",
          "2022 salary",
          "2022 salary"
         ],
         "yaxis": "y2"
        },
        {
         "legendgroup": "2023 salary",
         "marker": {
          "color": "rgb(214, 39, 40)",
          "symbol": "line-ns-open"
         },
         "mode": "markers",
         "name": "2023 salary",
         "showlegend": false,
         "type": "scatter",
         "x": [
          85847,
          30000,
          25500,
          175000,
          120000,
          222200,
          136000,
          219000,
          141000,
          147100,
          90700,
          130000,
          100000,
          213660,
          130760,
          147100,
          90700,
          170000,
          150000,
          150000,
          110000,
          275000,
          174000,
          230000,
          143200,
          225000,
          156400,
          200000,
          130000,
          90000,
          72000,
          253200,
          90700,
          342810,
          184590,
          162500,
          130000,
          105380,
          64500,
          100000,
          30000,
          204620,
          110680,
          270703,
          221484,
          212750,
          185000,
          262000,
          245000,
          275300,
          183500,
          218500,
          199098,
          203300,
          123600,
          189110,
          139000,
          258750,
          185000,
          231500,
          166000,
          172500,
          110500,
          238000,
          176000,
          237000,
          201450,
          309400,
          159100,
          115000,
          81500,
          237000,
          201450,
          280000,
          210000,
          280100,
          168100,
          193500,
          139000,
          65062,
          150000,
          69751,
          96578,
          185900,
          129300,
          225000,
          175000,
          185000,
          140000,
          48289,
          38631,
          105000,
          70000,
          163196,
          145885,
          217000,
          185000,
          202800,
          104300,
          145000,
          65000,
          165000,
          132300,
          179170,
          94300,
          152500,
          116450,
          247300,
          133800,
          203000,
          133000,
          220000,
          150000,
          120000,
          289800,
          214000,
          179820,
          143860,
          283200,
          188800,
          289800,
          214200,
          185900,
          129300,
          252000,
          129000,
          155000,
          140000,
          161800,
          141600,
          342300,
          176100,
          100000,
          70000,
          85000,
          65000,
          138784,
          83270,
          75000,
          70000,
          204500,
          138900,
          318300,
          212200,
          95000,
          75000,
          195000,
          160000,
          230000,
          143200,
          100000,
          70000,
          105000,
          20670,
          46178,
          42533,
          145000,
          115000,
          168400,
          105200,
          309400,
          159100,
          190000,
          150000,
          162500,
          130000,
          150000,
          120000,
          145000,
          120000,
          222200,
          136000,
          54685,
          42533,
          241000,
          155000,
          220000,
          190000,
          66837,
          54685,
          85066,
          57723,
          85000,
          75000,
          160000,
          140000,
          300000,
          250000,
          228000,
          186000,
          190000,
          170000,
          230000,
          200000,
          180000,
          115000,
          200000,
          115000,
          53654,
          220000,
          205000,
          180000,
          130000,
          200000,
          150000,
          215000,
          170000,
          247500,
          172200,
          224000,
          176000,
          120000,
          75000,
          17022,
          68318,
          75020,
          140000,
          120000,
          128000,
          81500,
          145000,
          115000,
          185000,
          140000,
          329500,
          269600,
          100000,
          80000,
          250000,
          162500,
          200000,
          145000,
          100000,
          145000,
          115000,
          203500,
          152000,
          239000,
          122900,
          237000,
          145000,
          191765,
          134236,
          190000,
          112000,
          85000,
          65000,
          135000,
          105500,
          293000,
          185000,
          80000,
          70000,
          220000,
          160000,
          175000,
          145000,
          200000,
          148500,
          48289,
          38631,
          240500,
          123700,
          152900,
          117100,
          173000,
          113000,
          260000,
          136000,
          175000,
          110000,
          260000,
          136000,
          130000,
          110000,
          205000,
          184000,
          149500,
          127075,
          195000,
          160000,
          219535,
          146115,
          170000,
          135000,
          175000,
          145000,
          199000,
          162000,
          222200,
          136000,
          221000,
          153000,
          187000,
          128000,
          210000,
          136000,
          175000,
          100000,
          179000,
          109000,
          245000,
          180000,
          142000,
          75000,
          198800,
          105200,
          125000,
          112000,
          210000,
          155000,
          115000,
          86000,
          165000,
          140000,
          139000,
          106000,
          40663,
          50000,
          280700,
          150450,
          51753,
          250500,
          159500,
          145000,
          115000,
          140000,
          120000,
          130001,
          71907,
          93918,
          51962,
          175000,
          135000,
          85000,
          65000,
          257000,
          147000,
          222000,
          175000,
          203000,
          133200,
          213660,
          130760,
          221000,
          147000,
          100000,
          80000,
          185900,
          129300,
          238000,
          156000,
          304000,
          199000,
          48289,
          150000,
          130000,
          140000,
          110000,
          90000,
          75000,
          195895,
          102772,
          240000,
          183600,
          130000,
          80000,
          250000,
          150000,
          160000,
          120000,
          289076,
          202353,
          145000,
          120000,
          155000,
          106000,
          200000,
          160000,
          157750,
          104650,
          180000,
          140000,
          200000,
          145000,
          68000,
          60000,
          48289,
          38631,
          85000,
          65000,
          125000,
          90000,
          105000,
          90000,
          179820,
          143860,
          135000,
          105500,
          155000,
          125000,
          241000,
          181000,
          252000,
          154000,
          180000,
          155000,
          191765,
          134236,
          175000,
          145000,
          237000,
          145000,
          155000,
          125000,
          80000,
          70000,
          146000,
          75000,
          64200,
          56100,
          170000,
          130000,
          208450,
          170550,
          125000,
          100000,
          135000,
          120000,
          200000,
          170000,
          171250,
          113750,
          222200,
          136000,
          260000,
          136000,
          153600,
          100500,
          205000,
          184000,
          115000,
          95000,
          182500,
          121500,
          203100,
          114500,
          72914,
          54685,
          252000,
          129000,
          92700,
          61800,
          160000,
          130000,
          258000,
          190000,
          170000,
          135000,
          167500,
          106500,
          195000,
          160000,
          146000,
          75000,
          286000,
          207000,
          100000,
          80000,
          223250,
          178600,
          353200,
          249300,
          230000,
          220000,
          297300,
          198200,
          210000,
          151800,
          200000,
          170000,
          317070,
          170730,
          128000,
          81500,
          21461,
          108000,
          60000,
          134000,
          124000,
          171250,
          113750,
          165000,
          132300,
          225000,
          175000,
          230000,
          124500,
          247500,
          172200,
          175000,
          145000,
          148700,
          125600,
          145000,
          115000,
          200000,
          150000,
          160000,
          120000,
          185000,
          120250,
          275300,
          183000,
          170000,
          125000,
          167500,
          106500,
          250000,
          200000,
          135000,
          423834,
          216000,
          184000,
          180000,
          165000,
          185900,
          129300,
          145000,
          120000,
          143865,
          115092,
          130000,
          90000,
          173000,
          132000,
          208049,
          128500,
          179820,
          143860,
          167500,
          106500,
          275300,
          183500,
          149600,
          102000,
          145000,
          100000,
          190000,
          95000,
          153600,
          106800,
          96578,
          80481,
          128000,
          85000,
          151000,
          140000,
          275300,
          183500,
          220000,
          170000,
          135000,
          105500,
          100000,
          80000,
          7000,
          42923,
          160000,
          145000,
          154000,
          143000,
          78990,
          51039,
          190000,
          120000,
          85066,
          51039,
          109371,
          72914,
          150000,
          111000,
          265000,
          235000,
          121093,
          160000,
          130000,
          75000,
          60400,
          85000,
          75000,
          252000,
          129000,
          92700,
          61800,
          60093,
          83500,
          52500,
          201036,
          134024,
          165000,
          140000,
          62000,
          58000,
          172000,
          115000,
          125000,
          90000,
          163800,
          126000,
          237000,
          145000,
          90000,
          90000,
          139500,
          109400,
          258000,
          190000,
          145000,
          120000,
          205600,
          105700,
          252000,
          129000,
          239748,
          159832,
          186300,
          102500,
          165000,
          132300,
          190000,
          126000,
          149040,
          113900,
          153600,
          106800,
          172600,
          107900,
          180180,
          106020,
          376080,
          213120,
          153600,
          100500,
          206500,
          121600,
          260000,
          225000,
          194500,
          115500,
          170000,
          90000,
          95000,
          70000,
          275000,
          160000,
          115934,
          81666,
          175000,
          120000,
          150000,
          120000,
          200000,
          175000,
          206000,
          130000,
          138000,
          92000,
          65000,
          48000,
          110000,
          75000,
          130000,
          87000,
          160000,
          112000,
          162500,
          130000,
          299500,
          245100,
          145000,
          100000,
          147100,
          90700,
          115100,
          73900,
          168400,
          105200,
          210000,
          160000,
          145000,
          100000,
          222200,
          136000,
          100000,
          85000,
          85066,
          57723,
          200000,
          145000,
          140000,
          95000,
          185000,
          120250,
          130000,
          205000,
          140000,
          297300,
          198200,
          141288,
          94192,
          184000,
          143000,
          70000,
          55000,
          275300,
          183500,
          75000,
          65000,
          160000,
          147000,
          149040,
          113900,
          75020,
          180180,
          106020,
          17022,
          70000,
          80000,
          18238,
          250000,
          150000,
          139500,
          109400,
          105000,
          70000,
          210914,
          116704,
          150000,
          100000,
          146000,
          75000,
          75000,
          60000,
          185700,
          165000,
          160000,
          130000,
          169000,
          110600,
          193000,
          136850,
          139500,
          109400,
          276000,
          178500,
          59020,
          48289,
          75116,
          48289,
          195652,
          101228,
          136956,
          101228,
          252000,
          129000,
          163800,
          126000,
          260000,
          110000,
          170000,
          130000,
          247500,
          172200,
          239748,
          159832,
          163800,
          126000,
          128750,
          106250,
          252000,
          129000,
          299500,
          245100,
          155000,
          140000,
          167500,
          106500,
          188500,
          117000,
          250000,
          138000,
          130000,
          100000,
          123405,
          140000,
          120000,
          160000,
          135000,
          104500,
          70000,
          90000,
          70000,
          153600,
          106800,
          125000,
          90000,
          185000,
          125000,
          127000,
          94000,
          210550,
          153300,
          200000,
          150000,
          161500,
          119500,
          175000,
          145000,
          175000,
          148750,
          105000,
          85000,
          215000,
          146300,
          214618,
          72000,
          60000,
          153400,
          122700,
          260000,
          175000,
          186300,
          123900,
          340000,
          150000,
          153400,
          122700,
          250000,
          175000,
          64385,
          185900,
          121700,
          153600,
          106800,
          50000,
          100000,
          247500,
          172200,
          310000,
          239000,
          125000,
          110000,
          150000,
          100000,
          149076,
          82365,
          146000,
          75000,
          139500,
          109400,
          139500,
          109400,
          149600,
          102000,
          97218,
          48609,
          252000,
          129000,
          95000,
          85500,
          185900,
          121700,
          150000,
          100000,
          145000,
          125000,
          150000,
          97750,
          201000,
          122000,
          252000,
          129000,
          120000,
          75000,
          116990,
          82920,
          185900,
          129300,
          200000,
          125000,
          201000,
          122000,
          204500,
          142200,
          155000,
          140000,
          205920,
          171600,
          121500,
          78000,
          154000,
          116000,
          190000,
          136000,
          78990,
          43809,
          180000,
          110000,
          275300,
          183000,
          170000,
          140000,
          154000,
          116000,
          160000,
          130000,
          200000,
          120000,
          175000,
          160000,
          127599,
          103294,
          153600,
          106800,
          85000,
          75000,
          225000,
          156400,
          150000,
          120000,
          163800,
          126000,
          145000,
          90000,
          204500,
          142200,
          95000,
          85500,
          167500,
          106500,
          163800,
          126000,
          155000,
          140000,
          250000,
          200000,
          260000,
          186000,
          160000,
          130000,
          200000,
          150000,
          48289,
          38631,
          150000,
          120000,
          30000,
          185000,
          125000,
          75116,
          175000,
          130000,
          122000,
          93800,
          150000,
          90000,
          165000,
          112000,
          220000,
          71897,
          64385,
          204500,
          142200,
          15806,
          200000,
          175000,
          185900,
          129300,
          185900,
          121700,
          204500,
          142200,
          40000,
          29453,
          180180,
          106020,
          136000,
          104000,
          125000,
          110000,
          153400,
          122700,
          310000,
          239000,
          152380,
          121904,
          185900,
          129300,
          247500,
          172200,
          168400,
          105200,
          128280,
          106900,
          140000,
          100000,
          107309,
          85847,
          275000,
          174000,
          139500,
          109400,
          139500,
          109400,
          170500,
          85000,
          72946,
          54365,
          160288,
          127467,
          80000,
          65000,
          124740,
          65488,
          72200,
          64980,
          153600,
          106800,
          179975,
          86466,
          120000,
          90000,
          51039,
          42533,
          149076,
          82365,
          169000,
          110600,
          175000,
          120000,
          230000,
          180000,
          153600,
          106800,
          140000,
          120000,
          205920,
          171600,
          165000,
          125000,
          265000,
          185000,
          130000,
          38631,
          95000,
          85500,
          147100,
          90700,
          167580,
          87980,
          202000,
          135000,
          163800,
          126000,
          163800,
          126000,
          104000,
          65000,
          230000,
          148000,
          269000,
          158000,
          197000,
          106000,
          150000,
          100000,
          290000,
          210000,
          192000,
          172800,
          300240,
          200160,
          300240,
          200160,
          175000,
          140000,
          169000,
          100000,
          370000,
          245000,
          115447,
          110000,
          80000,
          55000,
          48000,
          95000,
          85000,
          137500,
          81500,
          323300,
          184700,
          186000,
          153088,
          190000,
          160000,
          200000,
          150000,
          190000,
          183310,
          240000,
          180000,
          200000,
          150000,
          299500,
          245100,
          144000,
          66000,
          148500,
          126277,
          228000,
          120000,
          180000,
          90000,
          126500,
          78000,
          180000,
          160000,
          272000,
          170000,
          80000,
          60000,
          259000,
          146000,
          200000,
          160000,
          310000,
          239000,
          142000,
          95000,
          155000,
          139500,
          140000,
          120000,
          259000,
          146000,
          109371,
          72914,
          17779,
          19522,
          247500,
          172200,
          225000,
          156400,
          139500,
          109400,
          125000,
          90000,
          107309,
          75116,
          185900,
          129300,
          139500,
          109400,
          120000,
          75000,
          169000,
          110600,
          288000,
          140000,
          288000,
          140000,
          120000,
          90000,
          72914,
          60761,
          215050,
          156400,
          198000,
          114000,
          75000,
          60000,
          204500,
          142200,
          209300,
          182200,
          140000,
          120000,
          48609,
          120000,
          60000,
          147100,
          90700,
          230000,
          170000,
          227000,
          108000,
          180000,
          160000,
          180000,
          160000,
          180000,
          130000,
          55800,
          51508,
          60000,
          50000,
          226700,
          133300,
          252000,
          129000,
          151902,
          9727,
          80000,
          52500,
          250000,
          162500,
          85000,
          75000,
          153600,
          106800,
          165000,
          124000,
          115934,
          81666,
          167580,
          87980,
          250000,
          63000,
          253750,
          169200,
          253750,
          169200,
          170000,
          120000,
          124740,
          65488,
          213580,
          163625,
          12000,
          101943,
          16414,
          220000,
          170000,
          235000,
          210000,
          180000,
          115000,
          200000,
          115000,
          231250,
          138750,
          284310,
          153090,
          160000,
          75000,
          125000,
          105000,
          109371,
          85066,
          55000,
          48000,
          100000,
          225900,
          156400,
          250000,
          162500,
          318300,
          188800,
          385000,
          60000,
          110000,
          95000,
          145000,
          135000,
          180180,
          106020,
          93919,
          51962,
          241871,
          133832,
          170000,
          90000,
          210914,
          116704,
          192500,
          140000,
          149076,
          82365,
          36000,
          175000,
          148750,
          370000,
          200000,
          235000,
          185000,
          121523,
          97218,
          216100,
          140800,
          145828,
          121523,
          53654,
          110000,
          128000,
          81500,
          66837,
          63192,
          60761,
          54685,
          284000,
          236000,
          248100,
          145900,
          155850,
          102544,
          151410,
          115360,
          66531,
          59020,
          125686,
          100000,
          12767,
          250000,
          162500,
          185000,
          120250,
          26827,
          85000,
          70000,
          135000,
          100000,
          155000,
          140000,
          204500,
          142200,
          226700,
          133300,
          225000,
          156400,
          163800,
          126000,
          163800,
          126000,
          220000,
          150000,
          145000,
          115000,
          204500,
          138900,
          162500,
          130000,
          150000,
          107000,
          175000,
          110000,
          226700,
          133300,
          252000,
          129000,
          150000,
          125000,
          252000,
          129000,
          225000,
          156400,
          110000,
          265000,
          182750,
          130000,
          100000,
          153600,
          106800,
          137500,
          81500,
          314100,
          195800,
          205000,
          180000,
          165000,
          144000,
          160000,
          100000,
          200000,
          145000,
          150000,
          100000,
          199000,
          112000,
          105000,
          70000,
          130000,
          180180,
          106020,
          160000,
          135000,
          183000,
          134000,
          220000,
          150000,
          350000,
          262500,
          122000,
          94000,
          276000,
          184000,
          310000,
          239000,
          225000,
          156400,
          180000,
          150000,
          228000,
          152000,
          209450,
          158677,
          175000,
          145000,
          240000,
          170000,
          103200,
          61200,
          63312,
          237000,
          145000,
          240000,
          139000,
          174500,
          113000,
          130000,
          87000,
          160000,
          108000,
          165000,
          107250,
          300000,
          119000,
          285800,
          154600,
          60795,
          30000,
          220000,
          195000,
          168400,
          105200,
          206000,
          160000,
          200000,
          175000,
          231250,
          138750,
          153000,
          94000,
          240500,
          123700,
          160000,
          90000,
          124234,
          74540,
          109000,
          79000,
          50000,
          275300,
          183500,
          275300,
          183500,
          160000,
          125600,
          170000,
          120000,
          225000,
          140000,
          141290,
          74178,
          150000,
          120000,
          85000,
          75000,
          220000,
          160000,
          205600,
          107500,
          120000,
          95000,
          185900,
          129300,
          160000,
          130000,
          12888,
          250000,
          175000,
          136000,
          104000,
          80000,
          52500,
          110000,
          84000,
          125000,
          110000,
          90000,
          80000,
          200000,
          135000,
          120000,
          130000,
          75000,
          252000,
          129000,
          150000,
          100000,
          226700,
          133300,
          190000,
          165000,
          170000,
          150000,
          150000,
          130000,
          225000,
          156400,
          200000,
          80000,
          12877,
          17509,
          257000,
          134000,
          77262,
          38631,
          205600,
          105700,
          140000,
          110000,
          299500,
          245100,
          210000,
          151800,
          53654,
          51508,
          40777,
          51508,
          40777,
          160000,
          135000,
          120000,
          95000,
          250000,
          63000,
          237000,
          145000,
          130000,
          90000,
          120000,
          100000,
          174500,
          113000,
          183310,
          183310,
          145000,
          102500,
          210000,
          185000,
          174500,
          113000,
          122000,
          94000,
          220000,
          146000,
          300000,
          130000,
          24740,
          145000,
          128000,
          182000,
          140000,
          122000,
          94000,
          77262,
          38631,
          300000,
          200000,
          135000,
          105500,
          252000,
          129000,
          136000,
          104000,
          168000,
          130000,
          78990,
          43809,
          120000,
          95000,
          153400,
          122700,
          185000,
          160000,
          205000,
          185000,
          204500,
          142200,
          145000,
          87000,
          50000,
          234100,
          203500,
          223800,
          172100,
          180000,
          150000,
          232200,
          167200,
          197000,
          106000,
          180000,
          145000,
          225000,
          200000,
          170000,
          114000,
          291500,
          180000,
          196200,
          150900,
          168400,
          105200,
          95000,
          80000,
          116000,
          72000,
          207000,
          167000,
          145000,
          135000,
          105000,
          70000,
          180000,
          115000,
          133800,
          96100,
          120000,
          80000,
          140000,
          100000,
          150000,
          120000,
          140000,
          115000,
          297300,
          198200,
          297300,
          198200,
          202000,
          135000,
          110000,
          84000,
          219000,
          230000,
          196000,
          140000,
          110000,
          150000,
          100000,
          160000,
          110000,
          185900,
          129300,
          126100,
          72000,
          170000,
          150000,
          175000,
          140000,
          240500,
          137500,
          187500,
          165000,
          72914,
          210000,
          165750,
          225000,
          165750,
          109006,
          67141,
          135000,
          115000,
          275000,
          175000,
          170000,
          140000,
          175308,
          100706,
          235000,
          135000,
          310000,
          229000,
          289076,
          202353,
          69751,
          37558,
          120000,
          100000,
          226700,
          133300,
          125000,
          85000,
          130000,
          80000,
          120000,
          100000,
          231250,
          138750,
          199000,
          162000,
          160000,
          135000,
          200000,
          150000,
          160000,
          120000,
          250000,
          200000,
          150000,
          120000,
          150000,
          100000,
          272550,
          198200,
          182000,
          140000,
          200000,
          160000,
          204500,
          142200,
          120000,
          105000,
          187500,
          175000,
          204500,
          142200,
          155000,
          64000,
          235000,
          185000,
          174500,
          113000,
          143100,
          113000,
          184000,
          142000,
          140000,
          120000,
          174500,
          113000,
          180560,
          115440,
          140000,
          120000,
          248100,
          145900,
          120000,
          110000,
          291500,
          180000,
          75344,
          63192,
          161800,
          141600,
          58331,
          46178,
          166000,
          128000,
          170000,
          110000,
          160000,
          75000,
          236000,
          182000,
          150000,
          100000,
          261500,
          134500,
          130000,
          90000,
          160000,
          135000
         ],
         "xaxis": "x",
         "y": [
          "2023 salary",
          "2023 salary",
          "2023 salary",
          "2023 salary",
          "2023 salary",
          "2023 salary",
          "2023 salary",
          "2023 salary",
          "2023 salary",
          "2023 salary",
          "2023 salary",
          "2023 salary",
          "2023 salary",
          "2023 salary",
          "2023 salary",
          "2023 salary",
          "2023 salary",
          "2023 salary",
          "2023 salary",
          "2023 salary",
          "2023 salary",
          "2023 salary",
          "2023 salary",
          "2023 salary",
          "2023 salary",
          "2023 salary",
          "2023 salary",
          "2023 salary",
          "2023 salary",
          "2023 salary",
          "2023 salary",
          "2023 salary",
          "2023 salary",
          "2023 salary",
          "2023 salary",
          "2023 salary",
          "2023 salary",
          "2023 salary",
          "2023 salary",
          "2023 salary",
          "2023 salary",
          "2023 salary",
          "2023 salary",
          "2023 salary",
          "2023 salary",
          "2023 salary",
          "2023 salary",
          "2023 salary",
          "2023 salary",
          "2023 salary",
          "2023 salary",
          "2023 salary",
          "2023 salary",
          "2023 salary",
          "2023 salary",
          "2023 salary",
          "2023 salary",
          "2023 salary",
          "2023 salary",
          "2023 salary",
          "2023 salary",
          "2023 salary",
          "2023 salary",
          "2023 salary",
          "2023 salary",
          "2023 salary",
          "2023 salary",
          "2023 salary",
          "2023 salary",
          "2023 salary",
          "2023 salary",
          "2023 salary",
          "2023 salary",
          "2023 salary",
          "2023 salary",
          "2023 salary",
          "2023 salary",
          "2023 salary",
          "2023 salary",
          "2023 salary",
          "2023 salary",
          "2023 salary",
          "2023 salary",
          "2023 salary",
          "2023 salary",
          "2023 salary",
          "2023 salary",
          "2023 salary",
          "2023 salary",
          "2023 salary",
          "2023 salary",
          "2023 salary",
          "2023 salary",
          "2023 salary",
          "2023 salary",
          "2023 salary",
          "2023 salary",
          "2023 salary",
          "2023 salary",
          "2023 salary",
          "2023 salary",
          "2023 salary",
          "2023 salary",
          "2023 salary",
          "2023 salary",
          "2023 salary",
          "2023 salary",
          "2023 salary",
          "2023 salary",
          "2023 salary",
          "2023 salary",
          "2023 salary",
          "2023 salary",
          "2023 salary",
          "2023 salary",
          "2023 salary",
          "2023 salary",
          "2023 salary",
          "2023 salary",
          "2023 salary",
          "2023 salary",
          "2023 salary",
          "2023 salary",
          "2023 salary",
          "2023 salary",
          "2023 salary",
          "2023 salary",
          "2023 salary",
          "2023 salary",
          "2023 salary",
          "2023 salary",
          "2023 salary",
          "2023 salary",
          "2023 salary",
          "2023 salary",
          "2023 salary",
          "2023 salary",
          "2023 salary",
          "2023 salary",
          "2023 salary",
          "2023 salary",
          "2023 salary",
          "2023 salary",
          "2023 salary",
          "2023 salary",
          "2023 salary",
          "2023 salary",
          "2023 salary",
          "2023 salary",
          "2023 salary",
          "2023 salary",
          "2023 salary",
          "2023 salary",
          "2023 salary",
          "2023 salary",
          "2023 salary",
          "2023 salary",
          "2023 salary",
          "2023 salary",
          "2023 salary",
          "2023 salary",
          "2023 salary",
          "2023 salary",
          "2023 salary",
          "2023 salary",
          "2023 salary",
          "2023 salary",
          "2023 salary",
          "2023 salary",
          "2023 salary",
          "2023 salary",
          "2023 salary",
          "2023 salary",
          "2023 salary",
          "2023 salary",
          "2023 salary",
          "2023 salary",
          "2023 salary",
          "2023 salary",
          "2023 salary",
          "2023 salary",
          "2023 salary",
          "2023 salary",
          "2023 salary",
          "2023 salary",
          "2023 salary",
          "2023 salary",
          "2023 salary",
          "2023 salary",
          "2023 salary",
          "2023 salary",
          "2023 salary",
          "2023 salary",
          "2023 salary",
          "2023 salary",
          "2023 salary",
          "2023 salary",
          "2023 salary",
          "2023 salary",
          "2023 salary",
          "2023 salary",
          "2023 salary",
          "2023 salary",
          "2023 salary",
          "2023 salary",
          "2023 salary",
          "2023 salary",
          "2023 salary",
          "2023 salary",
          "2023 salary",
          "2023 salary",
          "2023 salary",
          "2023 salary",
          "2023 salary",
          "2023 salary",
          "2023 salary",
          "2023 salary",
          "2023 salary",
          "2023 salary",
          "2023 salary",
          "2023 salary",
          "2023 salary",
          "2023 salary",
          "2023 salary",
          "2023 salary",
          "2023 salary",
          "2023 salary",
          "2023 salary",
          "2023 salary",
          "2023 salary",
          "2023 salary",
          "2023 salary",
          "2023 salary",
          "2023 salary",
          "2023 salary",
          "2023 salary",
          "2023 salary",
          "2023 salary",
          "2023 salary",
          "2023 salary",
          "2023 salary",
          "2023 salary",
          "2023 salary",
          "2023 salary",
          "2023 salary",
          "2023 salary",
          "2023 salary",
          "2023 salary",
          "2023 salary",
          "2023 salary",
          "2023 salary",
          "2023 salary",
          "2023 salary",
          "2023 salary",
          "2023 salary",
          "2023 salary",
          "2023 salary",
          "2023 salary",
          "2023 salary",
          "2023 salary",
          "2023 salary",
          "2023 salary",
          "2023 salary",
          "2023 salary",
          "2023 salary",
          "2023 salary",
          "2023 salary",
          "2023 salary",
          "2023 salary",
          "2023 salary",
          "2023 salary",
          "2023 salary",
          "2023 salary",
          "2023 salary",
          "2023 salary",
          "2023 salary",
          "2023 salary",
          "2023 salary",
          "2023 salary",
          "2023 salary",
          "2023 salary",
          "2023 salary",
          "2023 salary",
          "2023 salary",
          "2023 salary",
          "2023 salary",
          "2023 salary",
          "2023 salary",
          "2023 salary",
          "2023 salary",
          "2023 salary",
          "2023 salary",
          "2023 salary",
          "2023 salary",
          "2023 salary",
          "2023 salary",
          "2023 salary",
          "2023 salary",
          "2023 salary",
          "2023 salary",
          "2023 salary",
          "2023 salary",
          "2023 salary",
          "2023 salary",
          "2023 salary",
          "2023 salary",
          "2023 salary",
          "2023 salary",
          "2023 salary",
          "2023 salary",
          "2023 salary",
          "2023 salary",
          "2023 salary",
          "2023 salary",
          "2023 salary",
          "2023 salary",
          "2023 salary",
          "2023 salary",
          "2023 salary",
          "2023 salary",
          "2023 salary",
          "2023 salary",
          "2023 salary",
          "2023 salary",
          "2023 salary",
          "2023 salary",
          "2023 salary",
          "2023 salary",
          "2023 salary",
          "2023 salary",
          "2023 salary",
          "2023 salary",
          "2023 salary",
          "2023 salary",
          "2023 salary",
          "2023 salary",
          "2023 salary",
          "2023 salary",
          "2023 salary",
          "2023 salary",
          "2023 salary",
          "2023 salary",
          "2023 salary",
          "2023 salary",
          "2023 salary",
          "2023 salary",
          "2023 salary",
          "2023 salary",
          "2023 salary",
          "2023 salary",
          "2023 salary",
          "2023 salary",
          "2023 salary",
          "2023 salary",
          "2023 salary",
          "2023 salary",
          "2023 salary",
          "2023 salary",
          "2023 salary",
          "2023 salary",
          "2023 salary",
          "2023 salary",
          "2023 salary",
          "2023 salary",
          "2023 salary",
          "2023 salary",
          "2023 salary",
          "2023 salary",
          "2023 salary",
          "2023 salary",
          "2023 salary",
          "2023 salary",
          "2023 salary",
          "2023 salary",
          "2023 salary",
          "2023 salary",
          "2023 salary",
          "2023 salary",
          "2023 salary",
          "2023 salary",
          "2023 salary",
          "2023 salary",
          "2023 salary",
          "2023 salary",
          "2023 salary",
          "2023 salary",
          "2023 salary",
          "2023 salary",
          "2023 salary",
          "2023 salary",
          "2023 salary",
          "2023 salary",
          "2023 salary",
          "2023 salary",
          "2023 salary",
          "2023 salary",
          "2023 salary",
          "2023 salary",
          "2023 salary",
          "2023 salary",
          "2023 salary",
          "2023 salary",
          "2023 salary",
          "2023 salary",
          "2023 salary",
          "2023 salary",
          "2023 salary",
          "2023 salary",
          "2023 salary",
          "2023 salary",
          "2023 salary",
          "2023 salary",
          "2023 salary",
          "2023 salary",
          "2023 salary",
          "2023 salary",
          "2023 salary",
          "2023 salary",
          "2023 salary",
          "2023 salary",
          "2023 salary",
          "2023 salary",
          "2023 salary",
          "2023 salary",
          "2023 salary",
          "2023 salary",
          "2023 salary",
          "2023 salary",
          "2023 salary",
          "2023 salary",
          "2023 salary",
          "2023 salary",
          "2023 salary",
          "2023 salary",
          "2023 salary",
          "2023 salary",
          "2023 salary",
          "2023 salary",
          "2023 salary",
          "2023 salary",
          "2023 salary",
          "2023 salary",
          "2023 salary",
          "2023 salary",
          "2023 salary",
          "2023 salary",
          "2023 salary",
          "2023 salary",
          "2023 salary",
          "2023 salary",
          "2023 salary",
          "2023 salary",
          "2023 salary",
          "2023 salary",
          "2023 salary",
          "2023 salary",
          "2023 salary",
          "2023 salary",
          "2023 salary",
          "2023 salary",
          "2023 salary",
          "2023 salary",
          "2023 salary",
          "2023 salary",
          "2023 salary",
          "2023 salary",
          "2023 salary",
          "2023 salary",
          "2023 salary",
          "2023 salary",
          "2023 salary",
          "2023 salary",
          "2023 salary",
          "2023 salary",
          "2023 salary",
          "2023 salary",
          "2023 salary",
          "2023 salary",
          "2023 salary",
          "2023 salary",
          "2023 salary",
          "2023 salary",
          "2023 salary",
          "2023 salary",
          "2023 salary",
          "2023 salary",
          "2023 salary",
          "2023 salary",
          "2023 salary",
          "2023 salary",
          "2023 salary",
          "2023 salary",
          "2023 salary",
          "2023 salary",
          "2023 salary",
          "2023 salary",
          "2023 salary",
          "2023 salary",
          "2023 salary",
          "2023 salary",
          "2023 salary",
          "2023 salary",
          "2023 salary",
          "2023 salary",
          "2023 salary",
          "2023 salary",
          "2023 salary",
          "2023 salary",
          "2023 salary",
          "2023 salary",
          "2023 salary",
          "2023 salary",
          "2023 salary",
          "2023 salary",
          "2023 salary",
          "2023 salary",
          "2023 salary",
          "2023 salary",
          "2023 salary",
          "2023 salary",
          "2023 salary",
          "2023 salary",
          "2023 salary",
          "2023 salary",
          "2023 salary",
          "2023 salary",
          "2023 salary",
          "2023 salary",
          "2023 salary",
          "2023 salary",
          "2023 salary",
          "2023 salary",
          "2023 salary",
          "2023 salary",
          "2023 salary",
          "2023 salary",
          "2023 salary",
          "2023 salary",
          "2023 salary",
          "2023 salary",
          "2023 salary",
          "2023 salary",
          "2023 salary",
          "2023 salary",
          "2023 salary",
          "2023 salary",
          "2023 salary",
          "2023 salary",
          "2023 salary",
          "2023 salary",
          "2023 salary",
          "2023 salary",
          "2023 salary",
          "2023 salary",
          "2023 salary",
          "2023 salary",
          "2023 salary",
          "2023 salary",
          "2023 salary",
          "2023 salary",
          "2023 salary",
          "2023 salary",
          "2023 salary",
          "2023 salary",
          "2023 salary",
          "2023 salary",
          "2023 salary",
          "2023 salary",
          "2023 salary",
          "2023 salary",
          "2023 salary",
          "2023 salary",
          "2023 salary",
          "2023 salary",
          "2023 salary",
          "2023 salary",
          "2023 salary",
          "2023 salary",
          "2023 salary",
          "2023 salary",
          "2023 salary",
          "2023 salary",
          "2023 salary",
          "2023 salary",
          "2023 salary",
          "2023 salary",
          "2023 salary",
          "2023 salary",
          "2023 salary",
          "2023 salary",
          "2023 salary",
          "2023 salary",
          "2023 salary",
          "2023 salary",
          "2023 salary",
          "2023 salary",
          "2023 salary",
          "2023 salary",
          "2023 salary",
          "2023 salary",
          "2023 salary",
          "2023 salary",
          "2023 salary",
          "2023 salary",
          "2023 salary",
          "2023 salary",
          "2023 salary",
          "2023 salary",
          "2023 salary",
          "2023 salary",
          "2023 salary",
          "2023 salary",
          "2023 salary",
          "2023 salary",
          "2023 salary",
          "2023 salary",
          "2023 salary",
          "2023 salary",
          "2023 salary",
          "2023 salary",
          "2023 salary",
          "2023 salary",
          "2023 salary",
          "2023 salary",
          "2023 salary",
          "2023 salary",
          "2023 salary",
          "2023 salary",
          "2023 salary",
          "2023 salary",
          "2023 salary",
          "2023 salary",
          "2023 salary",
          "2023 salary",
          "2023 salary",
          "2023 salary",
          "2023 salary",
          "2023 salary",
          "2023 salary",
          "2023 salary",
          "2023 salary",
          "2023 salary",
          "2023 salary",
          "2023 salary",
          "2023 salary",
          "2023 salary",
          "2023 salary",
          "2023 salary",
          "2023 salary",
          "2023 salary",
          "2023 salary",
          "2023 salary",
          "2023 salary",
          "2023 salary",
          "2023 salary",
          "2023 salary",
          "2023 salary",
          "2023 salary",
          "2023 salary",
          "2023 salary",
          "2023 salary",
          "2023 salary",
          "2023 salary",
          "2023 salary",
          "2023 salary",
          "2023 salary",
          "2023 salary",
          "2023 salary",
          "2023 salary",
          "2023 salary",
          "2023 salary",
          "2023 salary",
          "2023 salary",
          "2023 salary",
          "2023 salary",
          "2023 salary",
          "2023 salary",
          "2023 salary",
          "2023 salary",
          "2023 salary",
          "2023 salary",
          "2023 salary",
          "2023 salary",
          "2023 salary",
          "2023 salary",
          "2023 salary",
          "2023 salary",
          "2023 salary",
          "2023 salary",
          "2023 salary",
          "2023 salary",
          "2023 salary",
          "2023 salary",
          "2023 salary",
          "2023 salary",
          "2023 salary",
          "2023 salary",
          "2023 salary",
          "2023 salary",
          "2023 salary",
          "2023 salary",
          "2023 salary",
          "2023 salary",
          "2023 salary",
          "2023 salary",
          "2023 salary",
          "2023 salary",
          "2023 salary",
          "2023 salary",
          "2023 salary",
          "2023 salary",
          "2023 salary",
          "2023 salary",
          "2023 salary",
          "2023 salary",
          "2023 salary",
          "2023 salary",
          "2023 salary",
          "2023 salary",
          "2023 salary",
          "2023 salary",
          "2023 salary",
          "2023 salary",
          "2023 salary",
          "2023 salary",
          "2023 salary",
          "2023 salary",
          "2023 salary",
          "2023 salary",
          "2023 salary",
          "2023 salary",
          "2023 salary",
          "2023 salary",
          "2023 salary",
          "2023 salary",
          "2023 salary",
          "2023 salary",
          "2023 salary",
          "2023 salary",
          "2023 salary",
          "2023 salary",
          "2023 salary",
          "2023 salary",
          "2023 salary",
          "2023 salary",
          "2023 salary",
          "2023 salary",
          "2023 salary",
          "2023 salary",
          "2023 salary",
          "2023 salary",
          "2023 salary",
          "2023 salary",
          "2023 salary",
          "2023 salary",
          "2023 salary",
          "2023 salary",
          "2023 salary",
          "2023 salary",
          "2023 salary",
          "2023 salary",
          "2023 salary",
          "2023 salary",
          "2023 salary",
          "2023 salary",
          "2023 salary",
          "2023 salary",
          "2023 salary",
          "2023 salary",
          "2023 salary",
          "2023 salary",
          "2023 salary",
          "2023 salary",
          "2023 salary",
          "2023 salary",
          "2023 salary",
          "2023 salary",
          "2023 salary",
          "2023 salary",
          "2023 salary",
          "2023 salary",
          "2023 salary",
          "2023 salary",
          "2023 salary",
          "2023 salary",
          "2023 salary",
          "2023 salary",
          "2023 salary",
          "2023 salary",
          "2023 salary",
          "2023 salary",
          "2023 salary",
          "2023 salary",
          "2023 salary",
          "2023 salary",
          "2023 salary",
          "2023 salary",
          "2023 salary",
          "2023 salary",
          "2023 salary",
          "2023 salary",
          "2023 salary",
          "2023 salary",
          "2023 salary",
          "2023 salary",
          "2023 salary",
          "2023 salary",
          "2023 salary",
          "2023 salary",
          "2023 salary",
          "2023 salary",
          "2023 salary",
          "2023 salary",
          "2023 salary",
          "2023 salary",
          "2023 salary",
          "2023 salary",
          "2023 salary",
          "2023 salary",
          "2023 salary",
          "2023 salary",
          "2023 salary",
          "2023 salary",
          "2023 salary",
          "2023 salary",
          "2023 salary",
          "2023 salary",
          "2023 salary",
          "2023 salary",
          "2023 salary",
          "2023 salary",
          "2023 salary",
          "2023 salary",
          "2023 salary",
          "2023 salary",
          "2023 salary",
          "2023 salary",
          "2023 salary",
          "2023 salary",
          "2023 salary",
          "2023 salary",
          "2023 salary",
          "2023 salary",
          "2023 salary",
          "2023 salary",
          "2023 salary",
          "2023 salary",
          "2023 salary",
          "2023 salary",
          "2023 salary",
          "2023 salary",
          "2023 salary",
          "2023 salary",
          "2023 salary",
          "2023 salary",
          "2023 salary",
          "2023 salary",
          "2023 salary",
          "2023 salary",
          "2023 salary",
          "2023 salary",
          "2023 salary",
          "2023 salary",
          "2023 salary",
          "2023 salary",
          "2023 salary",
          "2023 salary",
          "2023 salary",
          "2023 salary",
          "2023 salary",
          "2023 salary",
          "2023 salary",
          "2023 salary",
          "2023 salary",
          "2023 salary",
          "2023 salary",
          "2023 salary",
          "2023 salary",
          "2023 salary",
          "2023 salary",
          "2023 salary",
          "2023 salary",
          "2023 salary",
          "2023 salary",
          "2023 salary",
          "2023 salary",
          "2023 salary",
          "2023 salary",
          "2023 salary",
          "2023 salary",
          "2023 salary",
          "2023 salary",
          "2023 salary",
          "2023 salary",
          "2023 salary",
          "2023 salary",
          "2023 salary",
          "2023 salary",
          "2023 salary",
          "2023 salary",
          "2023 salary",
          "2023 salary",
          "2023 salary",
          "2023 salary",
          "2023 salary",
          "2023 salary",
          "2023 salary",
          "2023 salary",
          "2023 salary",
          "2023 salary",
          "2023 salary",
          "2023 salary",
          "2023 salary",
          "2023 salary",
          "2023 salary",
          "2023 salary",
          "2023 salary",
          "2023 salary",
          "2023 salary",
          "2023 salary",
          "2023 salary",
          "2023 salary",
          "2023 salary",
          "2023 salary",
          "2023 salary",
          "2023 salary",
          "2023 salary",
          "2023 salary",
          "2023 salary",
          "2023 salary",
          "2023 salary",
          "2023 salary",
          "2023 salary",
          "2023 salary",
          "2023 salary",
          "2023 salary",
          "2023 salary",
          "2023 salary",
          "2023 salary",
          "2023 salary",
          "2023 salary",
          "2023 salary",
          "2023 salary",
          "2023 salary",
          "2023 salary",
          "2023 salary",
          "2023 salary",
          "2023 salary",
          "2023 salary",
          "2023 salary",
          "2023 salary",
          "2023 salary",
          "2023 salary",
          "2023 salary",
          "2023 salary",
          "2023 salary",
          "2023 salary",
          "2023 salary",
          "2023 salary",
          "2023 salary",
          "2023 salary",
          "2023 salary",
          "2023 salary",
          "2023 salary",
          "2023 salary",
          "2023 salary",
          "2023 salary",
          "2023 salary",
          "2023 salary",
          "2023 salary",
          "2023 salary",
          "2023 salary",
          "2023 salary",
          "2023 salary",
          "2023 salary",
          "2023 salary",
          "2023 salary",
          "2023 salary",
          "2023 salary",
          "2023 salary",
          "2023 salary",
          "2023 salary",
          "2023 salary",
          "2023 salary",
          "2023 salary",
          "2023 salary",
          "2023 salary",
          "2023 salary",
          "2023 salary",
          "2023 salary",
          "2023 salary",
          "2023 salary",
          "2023 salary",
          "2023 salary",
          "2023 salary",
          "2023 salary",
          "2023 salary",
          "2023 salary",
          "2023 salary",
          "2023 salary",
          "2023 salary",
          "2023 salary",
          "2023 salary",
          "2023 salary",
          "2023 salary",
          "2023 salary",
          "2023 salary",
          "2023 salary",
          "2023 salary",
          "2023 salary",
          "2023 salary",
          "2023 salary",
          "2023 salary",
          "2023 salary",
          "2023 salary",
          "2023 salary",
          "2023 salary",
          "2023 salary",
          "2023 salary",
          "2023 salary",
          "2023 salary",
          "2023 salary",
          "2023 salary",
          "2023 salary",
          "2023 salary",
          "2023 salary",
          "2023 salary",
          "2023 salary",
          "2023 salary",
          "2023 salary",
          "2023 salary",
          "2023 salary",
          "2023 salary",
          "2023 salary",
          "2023 salary",
          "2023 salary",
          "2023 salary",
          "2023 salary",
          "2023 salary",
          "2023 salary",
          "2023 salary",
          "2023 salary",
          "2023 salary",
          "2023 salary",
          "2023 salary",
          "2023 salary",
          "2023 salary",
          "2023 salary",
          "2023 salary",
          "2023 salary",
          "2023 salary",
          "2023 salary",
          "2023 salary",
          "2023 salary",
          "2023 salary",
          "2023 salary",
          "2023 salary",
          "2023 salary",
          "2023 salary",
          "2023 salary",
          "2023 salary",
          "2023 salary",
          "2023 salary",
          "2023 salary",
          "2023 salary",
          "2023 salary",
          "2023 salary",
          "2023 salary",
          "2023 salary",
          "2023 salary",
          "2023 salary",
          "2023 salary",
          "2023 salary",
          "2023 salary",
          "2023 salary",
          "2023 salary",
          "2023 salary",
          "2023 salary",
          "2023 salary",
          "2023 salary",
          "2023 salary",
          "2023 salary",
          "2023 salary",
          "2023 salary",
          "2023 salary",
          "2023 salary",
          "2023 salary",
          "2023 salary",
          "2023 salary",
          "2023 salary",
          "2023 salary",
          "2023 salary",
          "2023 salary",
          "2023 salary",
          "2023 salary",
          "2023 salary",
          "2023 salary",
          "2023 salary",
          "2023 salary",
          "2023 salary",
          "2023 salary",
          "2023 salary",
          "2023 salary",
          "2023 salary",
          "2023 salary",
          "2023 salary",
          "2023 salary",
          "2023 salary",
          "2023 salary",
          "2023 salary",
          "2023 salary",
          "2023 salary",
          "2023 salary",
          "2023 salary",
          "2023 salary",
          "2023 salary",
          "2023 salary",
          "2023 salary",
          "2023 salary",
          "2023 salary",
          "2023 salary",
          "2023 salary",
          "2023 salary",
          "2023 salary",
          "2023 salary",
          "2023 salary",
          "2023 salary",
          "2023 salary",
          "2023 salary",
          "2023 salary",
          "2023 salary",
          "2023 salary",
          "2023 salary",
          "2023 salary",
          "2023 salary",
          "2023 salary",
          "2023 salary",
          "2023 salary",
          "2023 salary",
          "2023 salary",
          "2023 salary",
          "2023 salary",
          "2023 salary",
          "2023 salary",
          "2023 salary",
          "2023 salary",
          "2023 salary",
          "2023 salary",
          "2023 salary",
          "2023 salary",
          "2023 salary",
          "2023 salary",
          "2023 salary",
          "2023 salary",
          "2023 salary",
          "2023 salary",
          "2023 salary",
          "2023 salary",
          "2023 salary",
          "2023 salary",
          "2023 salary",
          "2023 salary",
          "2023 salary",
          "2023 salary",
          "2023 salary",
          "2023 salary",
          "2023 salary",
          "2023 salary",
          "2023 salary",
          "2023 salary",
          "2023 salary",
          "2023 salary",
          "2023 salary",
          "2023 salary",
          "2023 salary",
          "2023 salary",
          "2023 salary",
          "2023 salary",
          "2023 salary",
          "2023 salary",
          "2023 salary",
          "2023 salary",
          "2023 salary",
          "2023 salary",
          "2023 salary",
          "2023 salary",
          "2023 salary",
          "2023 salary",
          "2023 salary",
          "2023 salary",
          "2023 salary",
          "2023 salary",
          "2023 salary",
          "2023 salary",
          "2023 salary",
          "2023 salary",
          "2023 salary",
          "2023 salary",
          "2023 salary",
          "2023 salary",
          "2023 salary",
          "2023 salary",
          "2023 salary",
          "2023 salary",
          "2023 salary",
          "2023 salary",
          "2023 salary",
          "2023 salary",
          "2023 salary",
          "2023 salary",
          "2023 salary",
          "2023 salary",
          "2023 salary",
          "2023 salary",
          "2023 salary",
          "2023 salary",
          "2023 salary",
          "2023 salary",
          "2023 salary",
          "2023 salary",
          "2023 salary",
          "2023 salary",
          "2023 salary",
          "2023 salary",
          "2023 salary",
          "2023 salary",
          "2023 salary",
          "2023 salary",
          "2023 salary",
          "2023 salary",
          "2023 salary",
          "2023 salary",
          "2023 salary",
          "2023 salary",
          "2023 salary",
          "2023 salary",
          "2023 salary",
          "2023 salary",
          "2023 salary",
          "2023 salary",
          "2023 salary",
          "2023 salary",
          "2023 salary",
          "2023 salary",
          "2023 salary",
          "2023 salary",
          "2023 salary",
          "2023 salary",
          "2023 salary",
          "2023 salary",
          "2023 salary",
          "2023 salary",
          "2023 salary",
          "2023 salary",
          "2023 salary",
          "2023 salary",
          "2023 salary",
          "2023 salary",
          "2023 salary",
          "2023 salary",
          "2023 salary",
          "2023 salary",
          "2023 salary",
          "2023 salary",
          "2023 salary",
          "2023 salary",
          "2023 salary",
          "2023 salary",
          "2023 salary",
          "2023 salary",
          "2023 salary",
          "2023 salary",
          "2023 salary",
          "2023 salary",
          "2023 salary",
          "2023 salary",
          "2023 salary",
          "2023 salary",
          "2023 salary",
          "2023 salary",
          "2023 salary",
          "2023 salary",
          "2023 salary",
          "2023 salary",
          "2023 salary",
          "2023 salary",
          "2023 salary",
          "2023 salary",
          "2023 salary",
          "2023 salary",
          "2023 salary",
          "2023 salary",
          "2023 salary",
          "2023 salary",
          "2023 salary",
          "2023 salary",
          "2023 salary",
          "2023 salary",
          "2023 salary",
          "2023 salary",
          "2023 salary",
          "2023 salary",
          "2023 salary",
          "2023 salary",
          "2023 salary",
          "2023 salary",
          "2023 salary",
          "2023 salary",
          "2023 salary",
          "2023 salary",
          "2023 salary",
          "2023 salary",
          "2023 salary",
          "2023 salary",
          "2023 salary",
          "2023 salary",
          "2023 salary",
          "2023 salary",
          "2023 salary",
          "2023 salary",
          "2023 salary",
          "2023 salary",
          "2023 salary",
          "2023 salary",
          "2023 salary",
          "2023 salary",
          "2023 salary",
          "2023 salary",
          "2023 salary",
          "2023 salary",
          "2023 salary",
          "2023 salary",
          "2023 salary",
          "2023 salary",
          "2023 salary",
          "2023 salary",
          "2023 salary",
          "2023 salary",
          "2023 salary",
          "2023 salary",
          "2023 salary",
          "2023 salary",
          "2023 salary",
          "2023 salary",
          "2023 salary",
          "2023 salary",
          "2023 salary",
          "2023 salary",
          "2023 salary",
          "2023 salary",
          "2023 salary",
          "2023 salary",
          "2023 salary",
          "2023 salary",
          "2023 salary",
          "2023 salary",
          "2023 salary",
          "2023 salary",
          "2023 salary",
          "2023 salary",
          "2023 salary",
          "2023 salary",
          "2023 salary",
          "2023 salary",
          "2023 salary",
          "2023 salary",
          "2023 salary",
          "2023 salary",
          "2023 salary",
          "2023 salary",
          "2023 salary",
          "2023 salary",
          "2023 salary",
          "2023 salary",
          "2023 salary",
          "2023 salary",
          "2023 salary",
          "2023 salary",
          "2023 salary",
          "2023 salary",
          "2023 salary",
          "2023 salary",
          "2023 salary",
          "2023 salary",
          "2023 salary",
          "2023 salary",
          "2023 salary",
          "2023 salary",
          "2023 salary",
          "2023 salary",
          "2023 salary",
          "2023 salary",
          "2023 salary",
          "2023 salary",
          "2023 salary",
          "2023 salary",
          "2023 salary",
          "2023 salary",
          "2023 salary",
          "2023 salary",
          "2023 salary",
          "2023 salary",
          "2023 salary",
          "2023 salary",
          "2023 salary",
          "2023 salary",
          "2023 salary",
          "2023 salary",
          "2023 salary",
          "2023 salary",
          "2023 salary",
          "2023 salary",
          "2023 salary",
          "2023 salary",
          "2023 salary",
          "2023 salary",
          "2023 salary",
          "2023 salary",
          "2023 salary",
          "2023 salary",
          "2023 salary",
          "2023 salary",
          "2023 salary",
          "2023 salary",
          "2023 salary",
          "2023 salary",
          "2023 salary",
          "2023 salary",
          "2023 salary",
          "2023 salary",
          "2023 salary",
          "2023 salary",
          "2023 salary",
          "2023 salary",
          "2023 salary",
          "2023 salary",
          "2023 salary",
          "2023 salary",
          "2023 salary",
          "2023 salary",
          "2023 salary",
          "2023 salary",
          "2023 salary",
          "2023 salary",
          "2023 salary",
          "2023 salary",
          "2023 salary",
          "2023 salary",
          "2023 salary",
          "2023 salary",
          "2023 salary",
          "2023 salary",
          "2023 salary",
          "2023 salary",
          "2023 salary",
          "2023 salary",
          "2023 salary",
          "2023 salary",
          "2023 salary",
          "2023 salary",
          "2023 salary",
          "2023 salary",
          "2023 salary",
          "2023 salary",
          "2023 salary",
          "2023 salary",
          "2023 salary",
          "2023 salary",
          "2023 salary",
          "2023 salary",
          "2023 salary",
          "2023 salary",
          "2023 salary",
          "2023 salary",
          "2023 salary",
          "2023 salary",
          "2023 salary",
          "2023 salary",
          "2023 salary",
          "2023 salary",
          "2023 salary",
          "2023 salary",
          "2023 salary",
          "2023 salary",
          "2023 salary",
          "2023 salary",
          "2023 salary",
          "2023 salary",
          "2023 salary",
          "2023 salary",
          "2023 salary",
          "2023 salary",
          "2023 salary",
          "2023 salary",
          "2023 salary",
          "2023 salary",
          "2023 salary",
          "2023 salary",
          "2023 salary",
          "2023 salary",
          "2023 salary",
          "2023 salary",
          "2023 salary",
          "2023 salary",
          "2023 salary",
          "2023 salary",
          "2023 salary",
          "2023 salary",
          "2023 salary",
          "2023 salary",
          "2023 salary",
          "2023 salary",
          "2023 salary",
          "2023 salary",
          "2023 salary",
          "2023 salary",
          "2023 salary",
          "2023 salary",
          "2023 salary",
          "2023 salary",
          "2023 salary",
          "2023 salary",
          "2023 salary",
          "2023 salary",
          "2023 salary",
          "2023 salary",
          "2023 salary",
          "2023 salary",
          "2023 salary",
          "2023 salary",
          "2023 salary",
          "2023 salary",
          "2023 salary",
          "2023 salary",
          "2023 salary",
          "2023 salary",
          "2023 salary",
          "2023 salary",
          "2023 salary",
          "2023 salary",
          "2023 salary",
          "2023 salary",
          "2023 salary",
          "2023 salary",
          "2023 salary",
          "2023 salary",
          "2023 salary",
          "2023 salary",
          "2023 salary",
          "2023 salary",
          "2023 salary",
          "2023 salary",
          "2023 salary",
          "2023 salary",
          "2023 salary",
          "2023 salary",
          "2023 salary",
          "2023 salary",
          "2023 salary",
          "2023 salary",
          "2023 salary",
          "2023 salary",
          "2023 salary",
          "2023 salary",
          "2023 salary",
          "2023 salary",
          "2023 salary",
          "2023 salary",
          "2023 salary",
          "2023 salary",
          "2023 salary",
          "2023 salary",
          "2023 salary",
          "2023 salary",
          "2023 salary",
          "2023 salary",
          "2023 salary",
          "2023 salary",
          "2023 salary",
          "2023 salary",
          "2023 salary",
          "2023 salary",
          "2023 salary",
          "2023 salary",
          "2023 salary",
          "2023 salary",
          "2023 salary",
          "2023 salary",
          "2023 salary",
          "2023 salary",
          "2023 salary",
          "2023 salary",
          "2023 salary",
          "2023 salary",
          "2023 salary",
          "2023 salary",
          "2023 salary",
          "2023 salary",
          "2023 salary",
          "2023 salary",
          "2023 salary",
          "2023 salary",
          "2023 salary",
          "2023 salary",
          "2023 salary",
          "2023 salary",
          "2023 salary",
          "2023 salary",
          "2023 salary",
          "2023 salary",
          "2023 salary",
          "2023 salary",
          "2023 salary",
          "2023 salary",
          "2023 salary",
          "2023 salary",
          "2023 salary",
          "2023 salary",
          "2023 salary",
          "2023 salary",
          "2023 salary",
          "2023 salary",
          "2023 salary",
          "2023 salary",
          "2023 salary",
          "2023 salary",
          "2023 salary",
          "2023 salary",
          "2023 salary",
          "2023 salary",
          "2023 salary",
          "2023 salary",
          "2023 salary",
          "2023 salary",
          "2023 salary",
          "2023 salary",
          "2023 salary",
          "2023 salary",
          "2023 salary",
          "2023 salary",
          "2023 salary",
          "2023 salary",
          "2023 salary",
          "2023 salary",
          "2023 salary",
          "2023 salary",
          "2023 salary",
          "2023 salary",
          "2023 salary",
          "2023 salary",
          "2023 salary",
          "2023 salary",
          "2023 salary",
          "2023 salary",
          "2023 salary",
          "2023 salary",
          "2023 salary",
          "2023 salary",
          "2023 salary",
          "2023 salary",
          "2023 salary",
          "2023 salary",
          "2023 salary",
          "2023 salary",
          "2023 salary",
          "2023 salary",
          "2023 salary",
          "2023 salary",
          "2023 salary",
          "2023 salary",
          "2023 salary",
          "2023 salary",
          "2023 salary",
          "2023 salary",
          "2023 salary",
          "2023 salary",
          "2023 salary",
          "2023 salary",
          "2023 salary",
          "2023 salary",
          "2023 salary",
          "2023 salary",
          "2023 salary",
          "2023 salary",
          "2023 salary",
          "2023 salary",
          "2023 salary",
          "2023 salary",
          "2023 salary",
          "2023 salary",
          "2023 salary",
          "2023 salary",
          "2023 salary",
          "2023 salary",
          "2023 salary",
          "2023 salary",
          "2023 salary",
          "2023 salary",
          "2023 salary",
          "2023 salary",
          "2023 salary",
          "2023 salary",
          "2023 salary",
          "2023 salary",
          "2023 salary",
          "2023 salary",
          "2023 salary",
          "2023 salary",
          "2023 salary",
          "2023 salary",
          "2023 salary",
          "2023 salary",
          "2023 salary",
          "2023 salary",
          "2023 salary",
          "2023 salary",
          "2023 salary",
          "2023 salary",
          "2023 salary",
          "2023 salary",
          "2023 salary",
          "2023 salary",
          "2023 salary",
          "2023 salary",
          "2023 salary",
          "2023 salary",
          "2023 salary",
          "2023 salary",
          "2023 salary",
          "2023 salary",
          "2023 salary",
          "2023 salary",
          "2023 salary",
          "2023 salary",
          "2023 salary",
          "2023 salary",
          "2023 salary",
          "2023 salary",
          "2023 salary",
          "2023 salary",
          "2023 salary",
          "2023 salary",
          "2023 salary",
          "2023 salary",
          "2023 salary",
          "2023 salary",
          "2023 salary",
          "2023 salary",
          "2023 salary",
          "2023 salary",
          "2023 salary",
          "2023 salary",
          "2023 salary",
          "2023 salary",
          "2023 salary",
          "2023 salary",
          "2023 salary",
          "2023 salary",
          "2023 salary",
          "2023 salary",
          "2023 salary",
          "2023 salary",
          "2023 salary",
          "2023 salary",
          "2023 salary",
          "2023 salary",
          "2023 salary",
          "2023 salary",
          "2023 salary",
          "2023 salary",
          "2023 salary",
          "2023 salary",
          "2023 salary",
          "2023 salary",
          "2023 salary",
          "2023 salary",
          "2023 salary",
          "2023 salary",
          "2023 salary",
          "2023 salary",
          "2023 salary",
          "2023 salary",
          "2023 salary",
          "2023 salary",
          "2023 salary"
         ],
         "yaxis": "y2"
        }
       ],
       "layout": {
        "barmode": "overlay",
        "hovermode": "closest",
        "legend": {
         "traceorder": "reversed"
        },
        "template": {
         "data": {
          "bar": [
           {
            "error_x": {
             "color": "#2a3f5f"
            },
            "error_y": {
             "color": "#2a3f5f"
            },
            "marker": {
             "line": {
              "color": "#E5ECF6",
              "width": 0.5
             },
             "pattern": {
              "fillmode": "overlay",
              "size": 10,
              "solidity": 0.2
             }
            },
            "type": "bar"
           }
          ],
          "barpolar": [
           {
            "marker": {
             "line": {
              "color": "#E5ECF6",
              "width": 0.5
             },
             "pattern": {
              "fillmode": "overlay",
              "size": 10,
              "solidity": 0.2
             }
            },
            "type": "barpolar"
           }
          ],
          "carpet": [
           {
            "aaxis": {
             "endlinecolor": "#2a3f5f",
             "gridcolor": "white",
             "linecolor": "white",
             "minorgridcolor": "white",
             "startlinecolor": "#2a3f5f"
            },
            "baxis": {
             "endlinecolor": "#2a3f5f",
             "gridcolor": "white",
             "linecolor": "white",
             "minorgridcolor": "white",
             "startlinecolor": "#2a3f5f"
            },
            "type": "carpet"
           }
          ],
          "choropleth": [
           {
            "colorbar": {
             "outlinewidth": 0,
             "ticks": ""
            },
            "type": "choropleth"
           }
          ],
          "contour": [
           {
            "colorbar": {
             "outlinewidth": 0,
             "ticks": ""
            },
            "colorscale": [
             [
              0,
              "#0d0887"
             ],
             [
              0.1111111111111111,
              "#46039f"
             ],
             [
              0.2222222222222222,
              "#7201a8"
             ],
             [
              0.3333333333333333,
              "#9c179e"
             ],
             [
              0.4444444444444444,
              "#bd3786"
             ],
             [
              0.5555555555555556,
              "#d8576b"
             ],
             [
              0.6666666666666666,
              "#ed7953"
             ],
             [
              0.7777777777777778,
              "#fb9f3a"
             ],
             [
              0.8888888888888888,
              "#fdca26"
             ],
             [
              1,
              "#f0f921"
             ]
            ],
            "type": "contour"
           }
          ],
          "contourcarpet": [
           {
            "colorbar": {
             "outlinewidth": 0,
             "ticks": ""
            },
            "type": "contourcarpet"
           }
          ],
          "heatmap": [
           {
            "colorbar": {
             "outlinewidth": 0,
             "ticks": ""
            },
            "colorscale": [
             [
              0,
              "#0d0887"
             ],
             [
              0.1111111111111111,
              "#46039f"
             ],
             [
              0.2222222222222222,
              "#7201a8"
             ],
             [
              0.3333333333333333,
              "#9c179e"
             ],
             [
              0.4444444444444444,
              "#bd3786"
             ],
             [
              0.5555555555555556,
              "#d8576b"
             ],
             [
              0.6666666666666666,
              "#ed7953"
             ],
             [
              0.7777777777777778,
              "#fb9f3a"
             ],
             [
              0.8888888888888888,
              "#fdca26"
             ],
             [
              1,
              "#f0f921"
             ]
            ],
            "type": "heatmap"
           }
          ],
          "heatmapgl": [
           {
            "colorbar": {
             "outlinewidth": 0,
             "ticks": ""
            },
            "colorscale": [
             [
              0,
              "#0d0887"
             ],
             [
              0.1111111111111111,
              "#46039f"
             ],
             [
              0.2222222222222222,
              "#7201a8"
             ],
             [
              0.3333333333333333,
              "#9c179e"
             ],
             [
              0.4444444444444444,
              "#bd3786"
             ],
             [
              0.5555555555555556,
              "#d8576b"
             ],
             [
              0.6666666666666666,
              "#ed7953"
             ],
             [
              0.7777777777777778,
              "#fb9f3a"
             ],
             [
              0.8888888888888888,
              "#fdca26"
             ],
             [
              1,
              "#f0f921"
             ]
            ],
            "type": "heatmapgl"
           }
          ],
          "histogram": [
           {
            "marker": {
             "pattern": {
              "fillmode": "overlay",
              "size": 10,
              "solidity": 0.2
             }
            },
            "type": "histogram"
           }
          ],
          "histogram2d": [
           {
            "colorbar": {
             "outlinewidth": 0,
             "ticks": ""
            },
            "colorscale": [
             [
              0,
              "#0d0887"
             ],
             [
              0.1111111111111111,
              "#46039f"
             ],
             [
              0.2222222222222222,
              "#7201a8"
             ],
             [
              0.3333333333333333,
              "#9c179e"
             ],
             [
              0.4444444444444444,
              "#bd3786"
             ],
             [
              0.5555555555555556,
              "#d8576b"
             ],
             [
              0.6666666666666666,
              "#ed7953"
             ],
             [
              0.7777777777777778,
              "#fb9f3a"
             ],
             [
              0.8888888888888888,
              "#fdca26"
             ],
             [
              1,
              "#f0f921"
             ]
            ],
            "type": "histogram2d"
           }
          ],
          "histogram2dcontour": [
           {
            "colorbar": {
             "outlinewidth": 0,
             "ticks": ""
            },
            "colorscale": [
             [
              0,
              "#0d0887"
             ],
             [
              0.1111111111111111,
              "#46039f"
             ],
             [
              0.2222222222222222,
              "#7201a8"
             ],
             [
              0.3333333333333333,
              "#9c179e"
             ],
             [
              0.4444444444444444,
              "#bd3786"
             ],
             [
              0.5555555555555556,
              "#d8576b"
             ],
             [
              0.6666666666666666,
              "#ed7953"
             ],
             [
              0.7777777777777778,
              "#fb9f3a"
             ],
             [
              0.8888888888888888,
              "#fdca26"
             ],
             [
              1,
              "#f0f921"
             ]
            ],
            "type": "histogram2dcontour"
           }
          ],
          "mesh3d": [
           {
            "colorbar": {
             "outlinewidth": 0,
             "ticks": ""
            },
            "type": "mesh3d"
           }
          ],
          "parcoords": [
           {
            "line": {
             "colorbar": {
              "outlinewidth": 0,
              "ticks": ""
             }
            },
            "type": "parcoords"
           }
          ],
          "pie": [
           {
            "automargin": true,
            "type": "pie"
           }
          ],
          "scatter": [
           {
            "fillpattern": {
             "fillmode": "overlay",
             "size": 10,
             "solidity": 0.2
            },
            "type": "scatter"
           }
          ],
          "scatter3d": [
           {
            "line": {
             "colorbar": {
              "outlinewidth": 0,
              "ticks": ""
             }
            },
            "marker": {
             "colorbar": {
              "outlinewidth": 0,
              "ticks": ""
             }
            },
            "type": "scatter3d"
           }
          ],
          "scattercarpet": [
           {
            "marker": {
             "colorbar": {
              "outlinewidth": 0,
              "ticks": ""
             }
            },
            "type": "scattercarpet"
           }
          ],
          "scattergeo": [
           {
            "marker": {
             "colorbar": {
              "outlinewidth": 0,
              "ticks": ""
             }
            },
            "type": "scattergeo"
           }
          ],
          "scattergl": [
           {
            "marker": {
             "colorbar": {
              "outlinewidth": 0,
              "ticks": ""
             }
            },
            "type": "scattergl"
           }
          ],
          "scattermapbox": [
           {
            "marker": {
             "colorbar": {
              "outlinewidth": 0,
              "ticks": ""
             }
            },
            "type": "scattermapbox"
           }
          ],
          "scatterpolar": [
           {
            "marker": {
             "colorbar": {
              "outlinewidth": 0,
              "ticks": ""
             }
            },
            "type": "scatterpolar"
           }
          ],
          "scatterpolargl": [
           {
            "marker": {
             "colorbar": {
              "outlinewidth": 0,
              "ticks": ""
             }
            },
            "type": "scatterpolargl"
           }
          ],
          "scatterternary": [
           {
            "marker": {
             "colorbar": {
              "outlinewidth": 0,
              "ticks": ""
             }
            },
            "type": "scatterternary"
           }
          ],
          "surface": [
           {
            "colorbar": {
             "outlinewidth": 0,
             "ticks": ""
            },
            "colorscale": [
             [
              0,
              "#0d0887"
             ],
             [
              0.1111111111111111,
              "#46039f"
             ],
             [
              0.2222222222222222,
              "#7201a8"
             ],
             [
              0.3333333333333333,
              "#9c179e"
             ],
             [
              0.4444444444444444,
              "#bd3786"
             ],
             [
              0.5555555555555556,
              "#d8576b"
             ],
             [
              0.6666666666666666,
              "#ed7953"
             ],
             [
              0.7777777777777778,
              "#fb9f3a"
             ],
             [
              0.8888888888888888,
              "#fdca26"
             ],
             [
              1,
              "#f0f921"
             ]
            ],
            "type": "surface"
           }
          ],
          "table": [
           {
            "cells": {
             "fill": {
              "color": "#EBF0F8"
             },
             "line": {
              "color": "white"
             }
            },
            "header": {
             "fill": {
              "color": "#C8D4E3"
             },
             "line": {
              "color": "white"
             }
            },
            "type": "table"
           }
          ]
         },
         "layout": {
          "annotationdefaults": {
           "arrowcolor": "#2a3f5f",
           "arrowhead": 0,
           "arrowwidth": 1
          },
          "autotypenumbers": "strict",
          "coloraxis": {
           "colorbar": {
            "outlinewidth": 0,
            "ticks": ""
           }
          },
          "colorscale": {
           "diverging": [
            [
             0,
             "#8e0152"
            ],
            [
             0.1,
             "#c51b7d"
            ],
            [
             0.2,
             "#de77ae"
            ],
            [
             0.3,
             "#f1b6da"
            ],
            [
             0.4,
             "#fde0ef"
            ],
            [
             0.5,
             "#f7f7f7"
            ],
            [
             0.6,
             "#e6f5d0"
            ],
            [
             0.7,
             "#b8e186"
            ],
            [
             0.8,
             "#7fbc41"
            ],
            [
             0.9,
             "#4d9221"
            ],
            [
             1,
             "#276419"
            ]
           ],
           "sequential": [
            [
             0,
             "#0d0887"
            ],
            [
             0.1111111111111111,
             "#46039f"
            ],
            [
             0.2222222222222222,
             "#7201a8"
            ],
            [
             0.3333333333333333,
             "#9c179e"
            ],
            [
             0.4444444444444444,
             "#bd3786"
            ],
            [
             0.5555555555555556,
             "#d8576b"
            ],
            [
             0.6666666666666666,
             "#ed7953"
            ],
            [
             0.7777777777777778,
             "#fb9f3a"
            ],
            [
             0.8888888888888888,
             "#fdca26"
            ],
            [
             1,
             "#f0f921"
            ]
           ],
           "sequentialminus": [
            [
             0,
             "#0d0887"
            ],
            [
             0.1111111111111111,
             "#46039f"
            ],
            [
             0.2222222222222222,
             "#7201a8"
            ],
            [
             0.3333333333333333,
             "#9c179e"
            ],
            [
             0.4444444444444444,
             "#bd3786"
            ],
            [
             0.5555555555555556,
             "#d8576b"
            ],
            [
             0.6666666666666666,
             "#ed7953"
            ],
            [
             0.7777777777777778,
             "#fb9f3a"
            ],
            [
             0.8888888888888888,
             "#fdca26"
            ],
            [
             1,
             "#f0f921"
            ]
           ]
          },
          "colorway": [
           "#636efa",
           "#EF553B",
           "#00cc96",
           "#ab63fa",
           "#FFA15A",
           "#19d3f3",
           "#FF6692",
           "#B6E880",
           "#FF97FF",
           "#FECB52"
          ],
          "font": {
           "color": "#2a3f5f"
          },
          "geo": {
           "bgcolor": "white",
           "lakecolor": "white",
           "landcolor": "#E5ECF6",
           "showlakes": true,
           "showland": true,
           "subunitcolor": "white"
          },
          "hoverlabel": {
           "align": "left"
          },
          "hovermode": "closest",
          "mapbox": {
           "style": "light"
          },
          "paper_bgcolor": "white",
          "plot_bgcolor": "#E5ECF6",
          "polar": {
           "angularaxis": {
            "gridcolor": "white",
            "linecolor": "white",
            "ticks": ""
           },
           "bgcolor": "#E5ECF6",
           "radialaxis": {
            "gridcolor": "white",
            "linecolor": "white",
            "ticks": ""
           }
          },
          "scene": {
           "xaxis": {
            "backgroundcolor": "#E5ECF6",
            "gridcolor": "white",
            "gridwidth": 2,
            "linecolor": "white",
            "showbackground": true,
            "ticks": "",
            "zerolinecolor": "white"
           },
           "yaxis": {
            "backgroundcolor": "#E5ECF6",
            "gridcolor": "white",
            "gridwidth": 2,
            "linecolor": "white",
            "showbackground": true,
            "ticks": "",
            "zerolinecolor": "white"
           },
           "zaxis": {
            "backgroundcolor": "#E5ECF6",
            "gridcolor": "white",
            "gridwidth": 2,
            "linecolor": "white",
            "showbackground": true,
            "ticks": "",
            "zerolinecolor": "white"
           }
          },
          "shapedefaults": {
           "line": {
            "color": "#2a3f5f"
           }
          },
          "ternary": {
           "aaxis": {
            "gridcolor": "white",
            "linecolor": "white",
            "ticks": ""
           },
           "baxis": {
            "gridcolor": "white",
            "linecolor": "white",
            "ticks": ""
           },
           "bgcolor": "#E5ECF6",
           "caxis": {
            "gridcolor": "white",
            "linecolor": "white",
            "ticks": ""
           }
          },
          "title": {
           "x": 0.05
          },
          "xaxis": {
           "automargin": true,
           "gridcolor": "white",
           "linecolor": "white",
           "ticks": "",
           "title": {
            "standoff": 15
           },
           "zerolinecolor": "white",
           "zerolinewidth": 2
          },
          "yaxis": {
           "automargin": true,
           "gridcolor": "white",
           "linecolor": "white",
           "ticks": "",
           "title": {
            "standoff": 15
           },
           "zerolinecolor": "white",
           "zerolinewidth": 2
          }
         }
        },
        "title": {
         "text": "Salary Distribution based on Work Year"
        },
        "xaxis": {
         "anchor": "y2",
         "domain": [
          0,
          1
         ],
         "zeroline": false
        },
        "yaxis": {
         "anchor": "free",
         "domain": [
          0.35,
          1
         ],
         "position": 0
        },
        "yaxis2": {
         "anchor": "x",
         "domain": [
          0,
          0.25
         ],
         "dtick": 1,
         "showticklabels": false
        }
       }
      }
     },
     "metadata": {},
     "output_type": "display_data"
    }
   ],
   "source": [
    "fig1 = px.bar(x = year_salary.columns, y = year_salary.values.tolist()[0], color = year_salary.columns, \n",
    "              title = 'Average Salary based on Work Year')\n",
    "\n",
    "fig2 = go.Figure(data = ff.create_distplot(hist_data, group_labels, show_hist = False))\n",
    "\n",
    "fig1.update_layout(xaxis_title = \"Work Year\", yaxis_title = \"Mean Salary (k)\")\n",
    "fig2.update_layout(title = 'Salary Distribution based on Work Year')\n",
    "fig1.show()\n",
    "fig2.show()"
   ]
  },
  {
   "cell_type": "markdown",
   "metadata": {},
   "source": [
    "#### 3. Salary based on the Experience Level"
   ]
  },
  {
   "cell_type": "code",
   "execution_count": 27,
   "metadata": {},
   "outputs": [],
   "source": [
    "experience_salary = round(df_ds.groupby('experience_level')['salary_in_usd'].mean().sort_values(ascending=True))"
   ]
  },
  {
   "cell_type": "code",
   "execution_count": 28,
   "metadata": {},
   "outputs": [],
   "source": [
    "## OR\n",
    "\n",
    "# experience_salary = df_ds[['experience_level','salary_in_usd']]\n",
    "\n",
    "# en_salary = df_ds[df_ds['experience_level'] == 'EN']\n",
    "# mi_salary = df_ds[df_ds['experience_level'] == 'MI']\n",
    "# se_salary = df_ds[df_ds['experience_level'] == 'SE']\n",
    "# ex_salary = df_ds[df_ds['experience_level'] == 'EX']\n",
    "\n",
    "# hist_data = [en_salary['salary_in_usd'], mi_salary['salary_in_usd'], se_salary['salary_in_usd'], ex_salary['salary_in_usd']]\n",
    "# group_labels = ['EN', 'MI', 'SE', 'EX']\n",
    "\n",
    "# means = [en_salary['salary_in_usd'].mean(), mi_salary['salary_in_usd'].mean(), se_salary['salary_in_usd'].mean(), \n",
    "#          ex_salary['salary_in_usd'].mean()]\n",
    "\n",
    "# fig = px.bar(x = group_labels, y = experience_salary.values, color = group_labels, text = experience_salary.values,\n",
    "#              title = 'Average Salary based on the Employee Experience Levels')"
   ]
  },
  {
   "cell_type": "code",
   "execution_count": 29,
   "metadata": {},
   "outputs": [
    {
     "data": {
      "application/vnd.plotly.v1+json": {
       "config": {
        "plotlyServerURL": "https://plot.ly"
       },
       "data": [
        {
         "alignmentgroup": "True",
         "hovertemplate": "color=Entry-level (Junior)<br>x=%{x}<br>y=%{y}<br>text=%{text}<extra></extra>",
         "legendgroup": "Entry-level (Junior)",
         "marker": {
          "color": "#636efa",
          "pattern": {
           "shape": ""
          }
         },
         "name": "Entry-level (Junior)",
         "offsetgroup": "Entry-level (Junior)",
         "orientation": "v",
         "showlegend": true,
         "text": [
          78546
         ],
         "textposition": "auto",
         "type": "bar",
         "x": [
          "Entry-level (Junior)"
         ],
         "xaxis": "x",
         "y": [
          78546
         ],
         "yaxis": "y"
        },
        {
         "alignmentgroup": "True",
         "hovertemplate": "color=Mid-level (Intermediate)<br>x=%{x}<br>y=%{y}<br>text=%{text}<extra></extra>",
         "legendgroup": "Mid-level (Intermediate)",
         "marker": {
          "color": "#EF553B",
          "pattern": {
           "shape": ""
          }
         },
         "name": "Mid-level (Intermediate)",
         "offsetgroup": "Mid-level (Intermediate)",
         "orientation": "v",
         "showlegend": true,
         "text": [
          104526
         ],
         "textposition": "auto",
         "type": "bar",
         "x": [
          "Mid-level (Intermediate)"
         ],
         "xaxis": "x",
         "y": [
          104526
         ],
         "yaxis": "y"
        },
        {
         "alignmentgroup": "True",
         "hovertemplate": "color=Senior-level (Senior)<br>x=%{x}<br>y=%{y}<br>text=%{text}<extra></extra>",
         "legendgroup": "Senior-level (Senior)",
         "marker": {
          "color": "#00cc96",
          "pattern": {
           "shape": ""
          }
         },
         "name": "Senior-level (Senior)",
         "offsetgroup": "Senior-level (Senior)",
         "orientation": "v",
         "showlegend": true,
         "text": [
          153051
         ],
         "textposition": "auto",
         "type": "bar",
         "x": [
          "Senior-level (Senior)"
         ],
         "xaxis": "x",
         "y": [
          153051
         ],
         "yaxis": "y"
        },
        {
         "alignmentgroup": "True",
         "hovertemplate": "color=Executive-level (Director)<br>x=%{x}<br>y=%{y}<br>text=%{text}<extra></extra>",
         "legendgroup": "Executive-level (Director)",
         "marker": {
          "color": "#ab63fa",
          "pattern": {
           "shape": ""
          }
         },
         "name": "Executive-level (Director)",
         "offsetgroup": "Executive-level (Director)",
         "orientation": "v",
         "showlegend": true,
         "text": [
          194931
         ],
         "textposition": "auto",
         "type": "bar",
         "x": [
          "Executive-level (Director)"
         ],
         "xaxis": "x",
         "y": [
          194931
         ],
         "yaxis": "y"
        }
       ],
       "layout": {
        "barmode": "relative",
        "legend": {
         "title": {
          "text": "color"
         },
         "tracegroupgap": 0
        },
        "template": {
         "data": {
          "bar": [
           {
            "error_x": {
             "color": "#2a3f5f"
            },
            "error_y": {
             "color": "#2a3f5f"
            },
            "marker": {
             "line": {
              "color": "#E5ECF6",
              "width": 0.5
             },
             "pattern": {
              "fillmode": "overlay",
              "size": 10,
              "solidity": 0.2
             }
            },
            "type": "bar"
           }
          ],
          "barpolar": [
           {
            "marker": {
             "line": {
              "color": "#E5ECF6",
              "width": 0.5
             },
             "pattern": {
              "fillmode": "overlay",
              "size": 10,
              "solidity": 0.2
             }
            },
            "type": "barpolar"
           }
          ],
          "carpet": [
           {
            "aaxis": {
             "endlinecolor": "#2a3f5f",
             "gridcolor": "white",
             "linecolor": "white",
             "minorgridcolor": "white",
             "startlinecolor": "#2a3f5f"
            },
            "baxis": {
             "endlinecolor": "#2a3f5f",
             "gridcolor": "white",
             "linecolor": "white",
             "minorgridcolor": "white",
             "startlinecolor": "#2a3f5f"
            },
            "type": "carpet"
           }
          ],
          "choropleth": [
           {
            "colorbar": {
             "outlinewidth": 0,
             "ticks": ""
            },
            "type": "choropleth"
           }
          ],
          "contour": [
           {
            "colorbar": {
             "outlinewidth": 0,
             "ticks": ""
            },
            "colorscale": [
             [
              0,
              "#0d0887"
             ],
             [
              0.1111111111111111,
              "#46039f"
             ],
             [
              0.2222222222222222,
              "#7201a8"
             ],
             [
              0.3333333333333333,
              "#9c179e"
             ],
             [
              0.4444444444444444,
              "#bd3786"
             ],
             [
              0.5555555555555556,
              "#d8576b"
             ],
             [
              0.6666666666666666,
              "#ed7953"
             ],
             [
              0.7777777777777778,
              "#fb9f3a"
             ],
             [
              0.8888888888888888,
              "#fdca26"
             ],
             [
              1,
              "#f0f921"
             ]
            ],
            "type": "contour"
           }
          ],
          "contourcarpet": [
           {
            "colorbar": {
             "outlinewidth": 0,
             "ticks": ""
            },
            "type": "contourcarpet"
           }
          ],
          "heatmap": [
           {
            "colorbar": {
             "outlinewidth": 0,
             "ticks": ""
            },
            "colorscale": [
             [
              0,
              "#0d0887"
             ],
             [
              0.1111111111111111,
              "#46039f"
             ],
             [
              0.2222222222222222,
              "#7201a8"
             ],
             [
              0.3333333333333333,
              "#9c179e"
             ],
             [
              0.4444444444444444,
              "#bd3786"
             ],
             [
              0.5555555555555556,
              "#d8576b"
             ],
             [
              0.6666666666666666,
              "#ed7953"
             ],
             [
              0.7777777777777778,
              "#fb9f3a"
             ],
             [
              0.8888888888888888,
              "#fdca26"
             ],
             [
              1,
              "#f0f921"
             ]
            ],
            "type": "heatmap"
           }
          ],
          "heatmapgl": [
           {
            "colorbar": {
             "outlinewidth": 0,
             "ticks": ""
            },
            "colorscale": [
             [
              0,
              "#0d0887"
             ],
             [
              0.1111111111111111,
              "#46039f"
             ],
             [
              0.2222222222222222,
              "#7201a8"
             ],
             [
              0.3333333333333333,
              "#9c179e"
             ],
             [
              0.4444444444444444,
              "#bd3786"
             ],
             [
              0.5555555555555556,
              "#d8576b"
             ],
             [
              0.6666666666666666,
              "#ed7953"
             ],
             [
              0.7777777777777778,
              "#fb9f3a"
             ],
             [
              0.8888888888888888,
              "#fdca26"
             ],
             [
              1,
              "#f0f921"
             ]
            ],
            "type": "heatmapgl"
           }
          ],
          "histogram": [
           {
            "marker": {
             "pattern": {
              "fillmode": "overlay",
              "size": 10,
              "solidity": 0.2
             }
            },
            "type": "histogram"
           }
          ],
          "histogram2d": [
           {
            "colorbar": {
             "outlinewidth": 0,
             "ticks": ""
            },
            "colorscale": [
             [
              0,
              "#0d0887"
             ],
             [
              0.1111111111111111,
              "#46039f"
             ],
             [
              0.2222222222222222,
              "#7201a8"
             ],
             [
              0.3333333333333333,
              "#9c179e"
             ],
             [
              0.4444444444444444,
              "#bd3786"
             ],
             [
              0.5555555555555556,
              "#d8576b"
             ],
             [
              0.6666666666666666,
              "#ed7953"
             ],
             [
              0.7777777777777778,
              "#fb9f3a"
             ],
             [
              0.8888888888888888,
              "#fdca26"
             ],
             [
              1,
              "#f0f921"
             ]
            ],
            "type": "histogram2d"
           }
          ],
          "histogram2dcontour": [
           {
            "colorbar": {
             "outlinewidth": 0,
             "ticks": ""
            },
            "colorscale": [
             [
              0,
              "#0d0887"
             ],
             [
              0.1111111111111111,
              "#46039f"
             ],
             [
              0.2222222222222222,
              "#7201a8"
             ],
             [
              0.3333333333333333,
              "#9c179e"
             ],
             [
              0.4444444444444444,
              "#bd3786"
             ],
             [
              0.5555555555555556,
              "#d8576b"
             ],
             [
              0.6666666666666666,
              "#ed7953"
             ],
             [
              0.7777777777777778,
              "#fb9f3a"
             ],
             [
              0.8888888888888888,
              "#fdca26"
             ],
             [
              1,
              "#f0f921"
             ]
            ],
            "type": "histogram2dcontour"
           }
          ],
          "mesh3d": [
           {
            "colorbar": {
             "outlinewidth": 0,
             "ticks": ""
            },
            "type": "mesh3d"
           }
          ],
          "parcoords": [
           {
            "line": {
             "colorbar": {
              "outlinewidth": 0,
              "ticks": ""
             }
            },
            "type": "parcoords"
           }
          ],
          "pie": [
           {
            "automargin": true,
            "type": "pie"
           }
          ],
          "scatter": [
           {
            "fillpattern": {
             "fillmode": "overlay",
             "size": 10,
             "solidity": 0.2
            },
            "type": "scatter"
           }
          ],
          "scatter3d": [
           {
            "line": {
             "colorbar": {
              "outlinewidth": 0,
              "ticks": ""
             }
            },
            "marker": {
             "colorbar": {
              "outlinewidth": 0,
              "ticks": ""
             }
            },
            "type": "scatter3d"
           }
          ],
          "scattercarpet": [
           {
            "marker": {
             "colorbar": {
              "outlinewidth": 0,
              "ticks": ""
             }
            },
            "type": "scattercarpet"
           }
          ],
          "scattergeo": [
           {
            "marker": {
             "colorbar": {
              "outlinewidth": 0,
              "ticks": ""
             }
            },
            "type": "scattergeo"
           }
          ],
          "scattergl": [
           {
            "marker": {
             "colorbar": {
              "outlinewidth": 0,
              "ticks": ""
             }
            },
            "type": "scattergl"
           }
          ],
          "scattermapbox": [
           {
            "marker": {
             "colorbar": {
              "outlinewidth": 0,
              "ticks": ""
             }
            },
            "type": "scattermapbox"
           }
          ],
          "scatterpolar": [
           {
            "marker": {
             "colorbar": {
              "outlinewidth": 0,
              "ticks": ""
             }
            },
            "type": "scatterpolar"
           }
          ],
          "scatterpolargl": [
           {
            "marker": {
             "colorbar": {
              "outlinewidth": 0,
              "ticks": ""
             }
            },
            "type": "scatterpolargl"
           }
          ],
          "scatterternary": [
           {
            "marker": {
             "colorbar": {
              "outlinewidth": 0,
              "ticks": ""
             }
            },
            "type": "scatterternary"
           }
          ],
          "surface": [
           {
            "colorbar": {
             "outlinewidth": 0,
             "ticks": ""
            },
            "colorscale": [
             [
              0,
              "#0d0887"
             ],
             [
              0.1111111111111111,
              "#46039f"
             ],
             [
              0.2222222222222222,
              "#7201a8"
             ],
             [
              0.3333333333333333,
              "#9c179e"
             ],
             [
              0.4444444444444444,
              "#bd3786"
             ],
             [
              0.5555555555555556,
              "#d8576b"
             ],
             [
              0.6666666666666666,
              "#ed7953"
             ],
             [
              0.7777777777777778,
              "#fb9f3a"
             ],
             [
              0.8888888888888888,
              "#fdca26"
             ],
             [
              1,
              "#f0f921"
             ]
            ],
            "type": "surface"
           }
          ],
          "table": [
           {
            "cells": {
             "fill": {
              "color": "#EBF0F8"
             },
             "line": {
              "color": "white"
             }
            },
            "header": {
             "fill": {
              "color": "#C8D4E3"
             },
             "line": {
              "color": "white"
             }
            },
            "type": "table"
           }
          ]
         },
         "layout": {
          "annotationdefaults": {
           "arrowcolor": "#2a3f5f",
           "arrowhead": 0,
           "arrowwidth": 1
          },
          "autotypenumbers": "strict",
          "coloraxis": {
           "colorbar": {
            "outlinewidth": 0,
            "ticks": ""
           }
          },
          "colorscale": {
           "diverging": [
            [
             0,
             "#8e0152"
            ],
            [
             0.1,
             "#c51b7d"
            ],
            [
             0.2,
             "#de77ae"
            ],
            [
             0.3,
             "#f1b6da"
            ],
            [
             0.4,
             "#fde0ef"
            ],
            [
             0.5,
             "#f7f7f7"
            ],
            [
             0.6,
             "#e6f5d0"
            ],
            [
             0.7,
             "#b8e186"
            ],
            [
             0.8,
             "#7fbc41"
            ],
            [
             0.9,
             "#4d9221"
            ],
            [
             1,
             "#276419"
            ]
           ],
           "sequential": [
            [
             0,
             "#0d0887"
            ],
            [
             0.1111111111111111,
             "#46039f"
            ],
            [
             0.2222222222222222,
             "#7201a8"
            ],
            [
             0.3333333333333333,
             "#9c179e"
            ],
            [
             0.4444444444444444,
             "#bd3786"
            ],
            [
             0.5555555555555556,
             "#d8576b"
            ],
            [
             0.6666666666666666,
             "#ed7953"
            ],
            [
             0.7777777777777778,
             "#fb9f3a"
            ],
            [
             0.8888888888888888,
             "#fdca26"
            ],
            [
             1,
             "#f0f921"
            ]
           ],
           "sequentialminus": [
            [
             0,
             "#0d0887"
            ],
            [
             0.1111111111111111,
             "#46039f"
            ],
            [
             0.2222222222222222,
             "#7201a8"
            ],
            [
             0.3333333333333333,
             "#9c179e"
            ],
            [
             0.4444444444444444,
             "#bd3786"
            ],
            [
             0.5555555555555556,
             "#d8576b"
            ],
            [
             0.6666666666666666,
             "#ed7953"
            ],
            [
             0.7777777777777778,
             "#fb9f3a"
            ],
            [
             0.8888888888888888,
             "#fdca26"
            ],
            [
             1,
             "#f0f921"
            ]
           ]
          },
          "colorway": [
           "#636efa",
           "#EF553B",
           "#00cc96",
           "#ab63fa",
           "#FFA15A",
           "#19d3f3",
           "#FF6692",
           "#B6E880",
           "#FF97FF",
           "#FECB52"
          ],
          "font": {
           "color": "#2a3f5f"
          },
          "geo": {
           "bgcolor": "white",
           "lakecolor": "white",
           "landcolor": "#E5ECF6",
           "showlakes": true,
           "showland": true,
           "subunitcolor": "white"
          },
          "hoverlabel": {
           "align": "left"
          },
          "hovermode": "closest",
          "mapbox": {
           "style": "light"
          },
          "paper_bgcolor": "white",
          "plot_bgcolor": "#E5ECF6",
          "polar": {
           "angularaxis": {
            "gridcolor": "white",
            "linecolor": "white",
            "ticks": ""
           },
           "bgcolor": "#E5ECF6",
           "radialaxis": {
            "gridcolor": "white",
            "linecolor": "white",
            "ticks": ""
           }
          },
          "scene": {
           "xaxis": {
            "backgroundcolor": "#E5ECF6",
            "gridcolor": "white",
            "gridwidth": 2,
            "linecolor": "white",
            "showbackground": true,
            "ticks": "",
            "zerolinecolor": "white"
           },
           "yaxis": {
            "backgroundcolor": "#E5ECF6",
            "gridcolor": "white",
            "gridwidth": 2,
            "linecolor": "white",
            "showbackground": true,
            "ticks": "",
            "zerolinecolor": "white"
           },
           "zaxis": {
            "backgroundcolor": "#E5ECF6",
            "gridcolor": "white",
            "gridwidth": 2,
            "linecolor": "white",
            "showbackground": true,
            "ticks": "",
            "zerolinecolor": "white"
           }
          },
          "shapedefaults": {
           "line": {
            "color": "#2a3f5f"
           }
          },
          "ternary": {
           "aaxis": {
            "gridcolor": "white",
            "linecolor": "white",
            "ticks": ""
           },
           "baxis": {
            "gridcolor": "white",
            "linecolor": "white",
            "ticks": ""
           },
           "bgcolor": "#E5ECF6",
           "caxis": {
            "gridcolor": "white",
            "linecolor": "white",
            "ticks": ""
           }
          },
          "title": {
           "x": 0.05
          },
          "xaxis": {
           "automargin": true,
           "gridcolor": "white",
           "linecolor": "white",
           "ticks": "",
           "title": {
            "standoff": 15
           },
           "zerolinecolor": "white",
           "zerolinewidth": 2
          },
          "yaxis": {
           "automargin": true,
           "gridcolor": "white",
           "linecolor": "white",
           "ticks": "",
           "title": {
            "standoff": 15
           },
           "zerolinecolor": "white",
           "zerolinewidth": 2
          }
         }
        },
        "title": {
         "text": "Average Salary based on the Employee Experience Levels"
        },
        "xaxis": {
         "anchor": "y",
         "domain": [
          0,
          1
         ],
         "title": {
          "text": "Experience Levels"
         }
        },
        "yaxis": {
         "anchor": "x",
         "domain": [
          0,
          1
         ],
         "title": {
          "text": "Salary in USD"
         }
        }
       }
      }
     },
     "metadata": {},
     "output_type": "display_data"
    }
   ],
   "source": [
    "fig = px.bar(x = experience_salary.index, y = experience_salary.values, color = experience_salary.index, text = experience_salary.values,\n",
    "             title = 'Average Salary based on the Employee Experience Levels')\n",
    "\n",
    "fig.update_layout(xaxis_title = 'Experience Levels', yaxis_title = 'Salary in USD')\n",
    "\n",
    "fig.show()"
   ]
  },
  {
   "cell_type": "markdown",
   "metadata": {},
   "source": [
    "WHAT WE KNOW:\n",
    "- The above graph shows that as the employee's experience levels increase, the higher the average salary. "
   ]
  },
  {
   "cell_type": "markdown",
   "metadata": {},
   "source": [
    "#### 4. Salary based on the Company Size"
   ]
  },
  {
   "cell_type": "code",
   "execution_count": 30,
   "metadata": {},
   "outputs": [],
   "source": [
    "size_salary = round(df_ds.groupby('company_size')['salary_in_usd'].mean())\n",
    "\n",
    "# order = ['S', 'M', 'L']\n",
    "# mapping = {size: i for i, size in enumerate(order)}\n",
    "# key = size_salary.map(mapping)"
   ]
  },
  {
   "cell_type": "code",
   "execution_count": 31,
   "metadata": {},
   "outputs": [
    {
     "data": {
      "application/vnd.plotly.v1+json": {
       "config": {
        "plotlyServerURL": "https://plot.ly"
       },
       "data": [
        {
         "alignmentgroup": "True",
         "hovertemplate": "color=L<br>x=%{x}<br>y=%{y}<br>text=%{text}<extra></extra>",
         "legendgroup": "L",
         "marker": {
          "color": "#636efa",
          "pattern": {
           "shape": ""
          }
         },
         "name": "L",
         "offsetgroup": "L",
         "orientation": "v",
         "showlegend": true,
         "text": [
          118301
         ],
         "textposition": "auto",
         "type": "bar",
         "x": [
          "L"
         ],
         "xaxis": "x",
         "y": [
          118301
         ],
         "yaxis": "y"
        },
        {
         "alignmentgroup": "True",
         "hovertemplate": "color=M<br>x=%{x}<br>y=%{y}<br>text=%{text}<extra></extra>",
         "legendgroup": "M",
         "marker": {
          "color": "#EF553B",
          "pattern": {
           "shape": ""
          }
         },
         "name": "M",
         "offsetgroup": "M",
         "orientation": "v",
         "showlegend": true,
         "text": [
          143131
         ],
         "textposition": "auto",
         "type": "bar",
         "x": [
          "M"
         ],
         "xaxis": "x",
         "y": [
          143131
         ],
         "yaxis": "y"
        },
        {
         "alignmentgroup": "True",
         "hovertemplate": "color=S<br>x=%{x}<br>y=%{y}<br>text=%{text}<extra></extra>",
         "legendgroup": "S",
         "marker": {
          "color": "#00cc96",
          "pattern": {
           "shape": ""
          }
         },
         "name": "S",
         "offsetgroup": "S",
         "orientation": "v",
         "showlegend": true,
         "text": [
          78227
         ],
         "textposition": "auto",
         "type": "bar",
         "x": [
          "S"
         ],
         "xaxis": "x",
         "y": [
          78227
         ],
         "yaxis": "y"
        }
       ],
       "layout": {
        "barmode": "relative",
        "legend": {
         "title": {
          "text": "color"
         },
         "tracegroupgap": 0
        },
        "template": {
         "data": {
          "bar": [
           {
            "error_x": {
             "color": "#2a3f5f"
            },
            "error_y": {
             "color": "#2a3f5f"
            },
            "marker": {
             "line": {
              "color": "#E5ECF6",
              "width": 0.5
             },
             "pattern": {
              "fillmode": "overlay",
              "size": 10,
              "solidity": 0.2
             }
            },
            "type": "bar"
           }
          ],
          "barpolar": [
           {
            "marker": {
             "line": {
              "color": "#E5ECF6",
              "width": 0.5
             },
             "pattern": {
              "fillmode": "overlay",
              "size": 10,
              "solidity": 0.2
             }
            },
            "type": "barpolar"
           }
          ],
          "carpet": [
           {
            "aaxis": {
             "endlinecolor": "#2a3f5f",
             "gridcolor": "white",
             "linecolor": "white",
             "minorgridcolor": "white",
             "startlinecolor": "#2a3f5f"
            },
            "baxis": {
             "endlinecolor": "#2a3f5f",
             "gridcolor": "white",
             "linecolor": "white",
             "minorgridcolor": "white",
             "startlinecolor": "#2a3f5f"
            },
            "type": "carpet"
           }
          ],
          "choropleth": [
           {
            "colorbar": {
             "outlinewidth": 0,
             "ticks": ""
            },
            "type": "choropleth"
           }
          ],
          "contour": [
           {
            "colorbar": {
             "outlinewidth": 0,
             "ticks": ""
            },
            "colorscale": [
             [
              0,
              "#0d0887"
             ],
             [
              0.1111111111111111,
              "#46039f"
             ],
             [
              0.2222222222222222,
              "#7201a8"
             ],
             [
              0.3333333333333333,
              "#9c179e"
             ],
             [
              0.4444444444444444,
              "#bd3786"
             ],
             [
              0.5555555555555556,
              "#d8576b"
             ],
             [
              0.6666666666666666,
              "#ed7953"
             ],
             [
              0.7777777777777778,
              "#fb9f3a"
             ],
             [
              0.8888888888888888,
              "#fdca26"
             ],
             [
              1,
              "#f0f921"
             ]
            ],
            "type": "contour"
           }
          ],
          "contourcarpet": [
           {
            "colorbar": {
             "outlinewidth": 0,
             "ticks": ""
            },
            "type": "contourcarpet"
           }
          ],
          "heatmap": [
           {
            "colorbar": {
             "outlinewidth": 0,
             "ticks": ""
            },
            "colorscale": [
             [
              0,
              "#0d0887"
             ],
             [
              0.1111111111111111,
              "#46039f"
             ],
             [
              0.2222222222222222,
              "#7201a8"
             ],
             [
              0.3333333333333333,
              "#9c179e"
             ],
             [
              0.4444444444444444,
              "#bd3786"
             ],
             [
              0.5555555555555556,
              "#d8576b"
             ],
             [
              0.6666666666666666,
              "#ed7953"
             ],
             [
              0.7777777777777778,
              "#fb9f3a"
             ],
             [
              0.8888888888888888,
              "#fdca26"
             ],
             [
              1,
              "#f0f921"
             ]
            ],
            "type": "heatmap"
           }
          ],
          "heatmapgl": [
           {
            "colorbar": {
             "outlinewidth": 0,
             "ticks": ""
            },
            "colorscale": [
             [
              0,
              "#0d0887"
             ],
             [
              0.1111111111111111,
              "#46039f"
             ],
             [
              0.2222222222222222,
              "#7201a8"
             ],
             [
              0.3333333333333333,
              "#9c179e"
             ],
             [
              0.4444444444444444,
              "#bd3786"
             ],
             [
              0.5555555555555556,
              "#d8576b"
             ],
             [
              0.6666666666666666,
              "#ed7953"
             ],
             [
              0.7777777777777778,
              "#fb9f3a"
             ],
             [
              0.8888888888888888,
              "#fdca26"
             ],
             [
              1,
              "#f0f921"
             ]
            ],
            "type": "heatmapgl"
           }
          ],
          "histogram": [
           {
            "marker": {
             "pattern": {
              "fillmode": "overlay",
              "size": 10,
              "solidity": 0.2
             }
            },
            "type": "histogram"
           }
          ],
          "histogram2d": [
           {
            "colorbar": {
             "outlinewidth": 0,
             "ticks": ""
            },
            "colorscale": [
             [
              0,
              "#0d0887"
             ],
             [
              0.1111111111111111,
              "#46039f"
             ],
             [
              0.2222222222222222,
              "#7201a8"
             ],
             [
              0.3333333333333333,
              "#9c179e"
             ],
             [
              0.4444444444444444,
              "#bd3786"
             ],
             [
              0.5555555555555556,
              "#d8576b"
             ],
             [
              0.6666666666666666,
              "#ed7953"
             ],
             [
              0.7777777777777778,
              "#fb9f3a"
             ],
             [
              0.8888888888888888,
              "#fdca26"
             ],
             [
              1,
              "#f0f921"
             ]
            ],
            "type": "histogram2d"
           }
          ],
          "histogram2dcontour": [
           {
            "colorbar": {
             "outlinewidth": 0,
             "ticks": ""
            },
            "colorscale": [
             [
              0,
              "#0d0887"
             ],
             [
              0.1111111111111111,
              "#46039f"
             ],
             [
              0.2222222222222222,
              "#7201a8"
             ],
             [
              0.3333333333333333,
              "#9c179e"
             ],
             [
              0.4444444444444444,
              "#bd3786"
             ],
             [
              0.5555555555555556,
              "#d8576b"
             ],
             [
              0.6666666666666666,
              "#ed7953"
             ],
             [
              0.7777777777777778,
              "#fb9f3a"
             ],
             [
              0.8888888888888888,
              "#fdca26"
             ],
             [
              1,
              "#f0f921"
             ]
            ],
            "type": "histogram2dcontour"
           }
          ],
          "mesh3d": [
           {
            "colorbar": {
             "outlinewidth": 0,
             "ticks": ""
            },
            "type": "mesh3d"
           }
          ],
          "parcoords": [
           {
            "line": {
             "colorbar": {
              "outlinewidth": 0,
              "ticks": ""
             }
            },
            "type": "parcoords"
           }
          ],
          "pie": [
           {
            "automargin": true,
            "type": "pie"
           }
          ],
          "scatter": [
           {
            "fillpattern": {
             "fillmode": "overlay",
             "size": 10,
             "solidity": 0.2
            },
            "type": "scatter"
           }
          ],
          "scatter3d": [
           {
            "line": {
             "colorbar": {
              "outlinewidth": 0,
              "ticks": ""
             }
            },
            "marker": {
             "colorbar": {
              "outlinewidth": 0,
              "ticks": ""
             }
            },
            "type": "scatter3d"
           }
          ],
          "scattercarpet": [
           {
            "marker": {
             "colorbar": {
              "outlinewidth": 0,
              "ticks": ""
             }
            },
            "type": "scattercarpet"
           }
          ],
          "scattergeo": [
           {
            "marker": {
             "colorbar": {
              "outlinewidth": 0,
              "ticks": ""
             }
            },
            "type": "scattergeo"
           }
          ],
          "scattergl": [
           {
            "marker": {
             "colorbar": {
              "outlinewidth": 0,
              "ticks": ""
             }
            },
            "type": "scattergl"
           }
          ],
          "scattermapbox": [
           {
            "marker": {
             "colorbar": {
              "outlinewidth": 0,
              "ticks": ""
             }
            },
            "type": "scattermapbox"
           }
          ],
          "scatterpolar": [
           {
            "marker": {
             "colorbar": {
              "outlinewidth": 0,
              "ticks": ""
             }
            },
            "type": "scatterpolar"
           }
          ],
          "scatterpolargl": [
           {
            "marker": {
             "colorbar": {
              "outlinewidth": 0,
              "ticks": ""
             }
            },
            "type": "scatterpolargl"
           }
          ],
          "scatterternary": [
           {
            "marker": {
             "colorbar": {
              "outlinewidth": 0,
              "ticks": ""
             }
            },
            "type": "scatterternary"
           }
          ],
          "surface": [
           {
            "colorbar": {
             "outlinewidth": 0,
             "ticks": ""
            },
            "colorscale": [
             [
              0,
              "#0d0887"
             ],
             [
              0.1111111111111111,
              "#46039f"
             ],
             [
              0.2222222222222222,
              "#7201a8"
             ],
             [
              0.3333333333333333,
              "#9c179e"
             ],
             [
              0.4444444444444444,
              "#bd3786"
             ],
             [
              0.5555555555555556,
              "#d8576b"
             ],
             [
              0.6666666666666666,
              "#ed7953"
             ],
             [
              0.7777777777777778,
              "#fb9f3a"
             ],
             [
              0.8888888888888888,
              "#fdca26"
             ],
             [
              1,
              "#f0f921"
             ]
            ],
            "type": "surface"
           }
          ],
          "table": [
           {
            "cells": {
             "fill": {
              "color": "#EBF0F8"
             },
             "line": {
              "color": "white"
             }
            },
            "header": {
             "fill": {
              "color": "#C8D4E3"
             },
             "line": {
              "color": "white"
             }
            },
            "type": "table"
           }
          ]
         },
         "layout": {
          "annotationdefaults": {
           "arrowcolor": "#2a3f5f",
           "arrowhead": 0,
           "arrowwidth": 1
          },
          "autotypenumbers": "strict",
          "coloraxis": {
           "colorbar": {
            "outlinewidth": 0,
            "ticks": ""
           }
          },
          "colorscale": {
           "diverging": [
            [
             0,
             "#8e0152"
            ],
            [
             0.1,
             "#c51b7d"
            ],
            [
             0.2,
             "#de77ae"
            ],
            [
             0.3,
             "#f1b6da"
            ],
            [
             0.4,
             "#fde0ef"
            ],
            [
             0.5,
             "#f7f7f7"
            ],
            [
             0.6,
             "#e6f5d0"
            ],
            [
             0.7,
             "#b8e186"
            ],
            [
             0.8,
             "#7fbc41"
            ],
            [
             0.9,
             "#4d9221"
            ],
            [
             1,
             "#276419"
            ]
           ],
           "sequential": [
            [
             0,
             "#0d0887"
            ],
            [
             0.1111111111111111,
             "#46039f"
            ],
            [
             0.2222222222222222,
             "#7201a8"
            ],
            [
             0.3333333333333333,
             "#9c179e"
            ],
            [
             0.4444444444444444,
             "#bd3786"
            ],
            [
             0.5555555555555556,
             "#d8576b"
            ],
            [
             0.6666666666666666,
             "#ed7953"
            ],
            [
             0.7777777777777778,
             "#fb9f3a"
            ],
            [
             0.8888888888888888,
             "#fdca26"
            ],
            [
             1,
             "#f0f921"
            ]
           ],
           "sequentialminus": [
            [
             0,
             "#0d0887"
            ],
            [
             0.1111111111111111,
             "#46039f"
            ],
            [
             0.2222222222222222,
             "#7201a8"
            ],
            [
             0.3333333333333333,
             "#9c179e"
            ],
            [
             0.4444444444444444,
             "#bd3786"
            ],
            [
             0.5555555555555556,
             "#d8576b"
            ],
            [
             0.6666666666666666,
             "#ed7953"
            ],
            [
             0.7777777777777778,
             "#fb9f3a"
            ],
            [
             0.8888888888888888,
             "#fdca26"
            ],
            [
             1,
             "#f0f921"
            ]
           ]
          },
          "colorway": [
           "#636efa",
           "#EF553B",
           "#00cc96",
           "#ab63fa",
           "#FFA15A",
           "#19d3f3",
           "#FF6692",
           "#B6E880",
           "#FF97FF",
           "#FECB52"
          ],
          "font": {
           "color": "#2a3f5f"
          },
          "geo": {
           "bgcolor": "white",
           "lakecolor": "white",
           "landcolor": "#E5ECF6",
           "showlakes": true,
           "showland": true,
           "subunitcolor": "white"
          },
          "hoverlabel": {
           "align": "left"
          },
          "hovermode": "closest",
          "mapbox": {
           "style": "light"
          },
          "paper_bgcolor": "white",
          "plot_bgcolor": "#E5ECF6",
          "polar": {
           "angularaxis": {
            "gridcolor": "white",
            "linecolor": "white",
            "ticks": ""
           },
           "bgcolor": "#E5ECF6",
           "radialaxis": {
            "gridcolor": "white",
            "linecolor": "white",
            "ticks": ""
           }
          },
          "scene": {
           "xaxis": {
            "backgroundcolor": "#E5ECF6",
            "gridcolor": "white",
            "gridwidth": 2,
            "linecolor": "white",
            "showbackground": true,
            "ticks": "",
            "zerolinecolor": "white"
           },
           "yaxis": {
            "backgroundcolor": "#E5ECF6",
            "gridcolor": "white",
            "gridwidth": 2,
            "linecolor": "white",
            "showbackground": true,
            "ticks": "",
            "zerolinecolor": "white"
           },
           "zaxis": {
            "backgroundcolor": "#E5ECF6",
            "gridcolor": "white",
            "gridwidth": 2,
            "linecolor": "white",
            "showbackground": true,
            "ticks": "",
            "zerolinecolor": "white"
           }
          },
          "shapedefaults": {
           "line": {
            "color": "#2a3f5f"
           }
          },
          "ternary": {
           "aaxis": {
            "gridcolor": "white",
            "linecolor": "white",
            "ticks": ""
           },
           "baxis": {
            "gridcolor": "white",
            "linecolor": "white",
            "ticks": ""
           },
           "bgcolor": "#E5ECF6",
           "caxis": {
            "gridcolor": "white",
            "linecolor": "white",
            "ticks": ""
           }
          },
          "title": {
           "x": 0.05
          },
          "xaxis": {
           "automargin": true,
           "gridcolor": "white",
           "linecolor": "white",
           "ticks": "",
           "title": {
            "standoff": 15
           },
           "zerolinecolor": "white",
           "zerolinewidth": 2
          },
          "yaxis": {
           "automargin": true,
           "gridcolor": "white",
           "linecolor": "white",
           "ticks": "",
           "title": {
            "standoff": 15
           },
           "zerolinecolor": "white",
           "zerolinewidth": 2
          }
         }
        },
        "title": {
         "text": "Average Salary based on the Company Size"
        },
        "xaxis": {
         "anchor": "y",
         "categoryarray": [
          "S",
          "M",
          "L"
         ],
         "categoryorder": "array",
         "domain": [
          0,
          1
         ],
         "title": {
          "text": "Company Size"
         }
        },
        "yaxis": {
         "anchor": "x",
         "domain": [
          0,
          1
         ],
         "title": {
          "text": "Salary in USD"
         }
        }
       }
      }
     },
     "metadata": {},
     "output_type": "display_data"
    }
   ],
   "source": [
    "fig = px.bar(x = size_salary.index, y = size_salary.values, color = size_salary.index, text = size_salary.values,\n",
    "             title = 'Average Salary based on the Company Size')\n",
    "\n",
    "fig.update_layout(xaxis_title = 'Company Size', yaxis_title = 'Salary in USD')\n",
    "\n",
    "## using `categoryorder` to set the list of order that you want to use for the axis!\n",
    "fig.update_xaxes(categoryorder='array', categoryarray= ['S', 'M', 'L'])\n",
    "fig.show()"
   ]
  },
  {
   "cell_type": "markdown",
   "metadata": {},
   "source": [
    "WHAT WE KNOW:\n",
    "- Medium-sized company pays higher average salary then Small and Large companies."
   ]
  },
  {
   "cell_type": "markdown",
   "metadata": {},
   "source": [
    "#### 5. Salary based on the company location?"
   ]
  },
  {
   "cell_type": "code",
   "execution_count": 32,
   "metadata": {},
   "outputs": [
    {
     "data": {
      "application/vnd.plotly.v1+json": {
       "config": {
        "plotlyServerURL": "https://plot.ly"
       },
       "data": [
        {
         "coloraxis": "coloraxis",
         "geo": "geo",
         "hovertemplate": "locations=%{location}<br>color=%{z}<extra></extra>",
         "locations": [
          "ALB",
          "ARE",
          "ARG",
          "ARM",
          "ASM",
          "AUS",
          "AUT",
          "BEL",
          "BHS",
          "BIH",
          "BOL",
          "BRA",
          "CAF",
          "CAN",
          "CHE",
          "CHL",
          "CHN",
          "COL",
          "CRI",
          "CZE",
          "DEU",
          "DNK",
          "DZA",
          "EGY",
          "ESP",
          "EST",
          "FIN",
          "FRA",
          "GBR",
          "GHA",
          "GRC",
          "HKG",
          "HND",
          "HRV",
          "HUN",
          "IDN",
          "IND",
          "IRL",
          "IRN",
          "IRQ",
          "ISR",
          "ITA",
          "JPN",
          "KEN",
          "LTU",
          "LUX",
          "LVA",
          "MAR",
          "MDA",
          "MEX",
          "MKD",
          "MLT",
          "MYS",
          "NGA",
          "NLD",
          "NZL",
          "PAK",
          "PHL",
          "POL",
          "PRI",
          "PRT",
          "ROU",
          "RUS",
          "SGP",
          "SVK",
          "SVN",
          "SWE",
          "THA",
          "TUR",
          "UKR",
          "USA",
          "VNM"
         ],
         "name": "",
         "type": "choropleth",
         "z": [
          10000,
          100000,
          25000,
          50000,
          29351,
          80033,
          71355,
          76865,
          45555,
          120000,
          7500,
          40579,
          48609,
          131918,
          81722,
          40038,
          100000,
          64961,
          50000,
          35200,
          88289,
          45558,
          100000,
          22800,
          57676,
          47416,
          68793,
          66139,
          86890,
          18500,
          51792,
          65062,
          20000,
          75968,
          26710,
          34208,
          30198,
          114943,
          100000,
          100000,
          271446,
          41298,
          114127,
          44636,
          94812,
          43943,
          57946,
          10000,
          18000,
          97151,
          6304,
          28369,
          40000,
          78000,
          78738,
          125000,
          20000,
          50000,
          61343,
          167500,
          50539,
          56827,
          140333,
          53675,
          12608,
          62767,
          105000,
          23064,
          19058,
          57850,
          151822,
          12000
         ]
        }
       ],
       "layout": {
        "coloraxis": {
         "colorbar": {
          "title": {
           "text": "color"
          }
         },
         "colorscale": [
          [
           0,
           "rgb(247,252,245)"
          ],
          [
           0.125,
           "rgb(229,245,224)"
          ],
          [
           0.25,
           "rgb(199,233,192)"
          ],
          [
           0.375,
           "rgb(161,217,155)"
          ],
          [
           0.5,
           "rgb(116,196,118)"
          ],
          [
           0.625,
           "rgb(65,171,93)"
          ],
          [
           0.75,
           "rgb(35,139,69)"
          ],
          [
           0.875,
           "rgb(0,109,44)"
          ],
          [
           1,
           "rgb(0,68,27)"
          ]
         ]
        },
        "geo": {
         "center": {},
         "domain": {
          "x": [
           0,
           1
          ],
          "y": [
           0,
           1
          ]
         }
        },
        "legend": {
         "tracegroupgap": 0
        },
        "template": {
         "data": {
          "bar": [
           {
            "error_x": {
             "color": "#2a3f5f"
            },
            "error_y": {
             "color": "#2a3f5f"
            },
            "marker": {
             "line": {
              "color": "#E5ECF6",
              "width": 0.5
             },
             "pattern": {
              "fillmode": "overlay",
              "size": 10,
              "solidity": 0.2
             }
            },
            "type": "bar"
           }
          ],
          "barpolar": [
           {
            "marker": {
             "line": {
              "color": "#E5ECF6",
              "width": 0.5
             },
             "pattern": {
              "fillmode": "overlay",
              "size": 10,
              "solidity": 0.2
             }
            },
            "type": "barpolar"
           }
          ],
          "carpet": [
           {
            "aaxis": {
             "endlinecolor": "#2a3f5f",
             "gridcolor": "white",
             "linecolor": "white",
             "minorgridcolor": "white",
             "startlinecolor": "#2a3f5f"
            },
            "baxis": {
             "endlinecolor": "#2a3f5f",
             "gridcolor": "white",
             "linecolor": "white",
             "minorgridcolor": "white",
             "startlinecolor": "#2a3f5f"
            },
            "type": "carpet"
           }
          ],
          "choropleth": [
           {
            "colorbar": {
             "outlinewidth": 0,
             "ticks": ""
            },
            "type": "choropleth"
           }
          ],
          "contour": [
           {
            "colorbar": {
             "outlinewidth": 0,
             "ticks": ""
            },
            "colorscale": [
             [
              0,
              "#0d0887"
             ],
             [
              0.1111111111111111,
              "#46039f"
             ],
             [
              0.2222222222222222,
              "#7201a8"
             ],
             [
              0.3333333333333333,
              "#9c179e"
             ],
             [
              0.4444444444444444,
              "#bd3786"
             ],
             [
              0.5555555555555556,
              "#d8576b"
             ],
             [
              0.6666666666666666,
              "#ed7953"
             ],
             [
              0.7777777777777778,
              "#fb9f3a"
             ],
             [
              0.8888888888888888,
              "#fdca26"
             ],
             [
              1,
              "#f0f921"
             ]
            ],
            "type": "contour"
           }
          ],
          "contourcarpet": [
           {
            "colorbar": {
             "outlinewidth": 0,
             "ticks": ""
            },
            "type": "contourcarpet"
           }
          ],
          "heatmap": [
           {
            "colorbar": {
             "outlinewidth": 0,
             "ticks": ""
            },
            "colorscale": [
             [
              0,
              "#0d0887"
             ],
             [
              0.1111111111111111,
              "#46039f"
             ],
             [
              0.2222222222222222,
              "#7201a8"
             ],
             [
              0.3333333333333333,
              "#9c179e"
             ],
             [
              0.4444444444444444,
              "#bd3786"
             ],
             [
              0.5555555555555556,
              "#d8576b"
             ],
             [
              0.6666666666666666,
              "#ed7953"
             ],
             [
              0.7777777777777778,
              "#fb9f3a"
             ],
             [
              0.8888888888888888,
              "#fdca26"
             ],
             [
              1,
              "#f0f921"
             ]
            ],
            "type": "heatmap"
           }
          ],
          "heatmapgl": [
           {
            "colorbar": {
             "outlinewidth": 0,
             "ticks": ""
            },
            "colorscale": [
             [
              0,
              "#0d0887"
             ],
             [
              0.1111111111111111,
              "#46039f"
             ],
             [
              0.2222222222222222,
              "#7201a8"
             ],
             [
              0.3333333333333333,
              "#9c179e"
             ],
             [
              0.4444444444444444,
              "#bd3786"
             ],
             [
              0.5555555555555556,
              "#d8576b"
             ],
             [
              0.6666666666666666,
              "#ed7953"
             ],
             [
              0.7777777777777778,
              "#fb9f3a"
             ],
             [
              0.8888888888888888,
              "#fdca26"
             ],
             [
              1,
              "#f0f921"
             ]
            ],
            "type": "heatmapgl"
           }
          ],
          "histogram": [
           {
            "marker": {
             "pattern": {
              "fillmode": "overlay",
              "size": 10,
              "solidity": 0.2
             }
            },
            "type": "histogram"
           }
          ],
          "histogram2d": [
           {
            "colorbar": {
             "outlinewidth": 0,
             "ticks": ""
            },
            "colorscale": [
             [
              0,
              "#0d0887"
             ],
             [
              0.1111111111111111,
              "#46039f"
             ],
             [
              0.2222222222222222,
              "#7201a8"
             ],
             [
              0.3333333333333333,
              "#9c179e"
             ],
             [
              0.4444444444444444,
              "#bd3786"
             ],
             [
              0.5555555555555556,
              "#d8576b"
             ],
             [
              0.6666666666666666,
              "#ed7953"
             ],
             [
              0.7777777777777778,
              "#fb9f3a"
             ],
             [
              0.8888888888888888,
              "#fdca26"
             ],
             [
              1,
              "#f0f921"
             ]
            ],
            "type": "histogram2d"
           }
          ],
          "histogram2dcontour": [
           {
            "colorbar": {
             "outlinewidth": 0,
             "ticks": ""
            },
            "colorscale": [
             [
              0,
              "#0d0887"
             ],
             [
              0.1111111111111111,
              "#46039f"
             ],
             [
              0.2222222222222222,
              "#7201a8"
             ],
             [
              0.3333333333333333,
              "#9c179e"
             ],
             [
              0.4444444444444444,
              "#bd3786"
             ],
             [
              0.5555555555555556,
              "#d8576b"
             ],
             [
              0.6666666666666666,
              "#ed7953"
             ],
             [
              0.7777777777777778,
              "#fb9f3a"
             ],
             [
              0.8888888888888888,
              "#fdca26"
             ],
             [
              1,
              "#f0f921"
             ]
            ],
            "type": "histogram2dcontour"
           }
          ],
          "mesh3d": [
           {
            "colorbar": {
             "outlinewidth": 0,
             "ticks": ""
            },
            "type": "mesh3d"
           }
          ],
          "parcoords": [
           {
            "line": {
             "colorbar": {
              "outlinewidth": 0,
              "ticks": ""
             }
            },
            "type": "parcoords"
           }
          ],
          "pie": [
           {
            "automargin": true,
            "type": "pie"
           }
          ],
          "scatter": [
           {
            "fillpattern": {
             "fillmode": "overlay",
             "size": 10,
             "solidity": 0.2
            },
            "type": "scatter"
           }
          ],
          "scatter3d": [
           {
            "line": {
             "colorbar": {
              "outlinewidth": 0,
              "ticks": ""
             }
            },
            "marker": {
             "colorbar": {
              "outlinewidth": 0,
              "ticks": ""
             }
            },
            "type": "scatter3d"
           }
          ],
          "scattercarpet": [
           {
            "marker": {
             "colorbar": {
              "outlinewidth": 0,
              "ticks": ""
             }
            },
            "type": "scattercarpet"
           }
          ],
          "scattergeo": [
           {
            "marker": {
             "colorbar": {
              "outlinewidth": 0,
              "ticks": ""
             }
            },
            "type": "scattergeo"
           }
          ],
          "scattergl": [
           {
            "marker": {
             "colorbar": {
              "outlinewidth": 0,
              "ticks": ""
             }
            },
            "type": "scattergl"
           }
          ],
          "scattermapbox": [
           {
            "marker": {
             "colorbar": {
              "outlinewidth": 0,
              "ticks": ""
             }
            },
            "type": "scattermapbox"
           }
          ],
          "scatterpolar": [
           {
            "marker": {
             "colorbar": {
              "outlinewidth": 0,
              "ticks": ""
             }
            },
            "type": "scatterpolar"
           }
          ],
          "scatterpolargl": [
           {
            "marker": {
             "colorbar": {
              "outlinewidth": 0,
              "ticks": ""
             }
            },
            "type": "scatterpolargl"
           }
          ],
          "scatterternary": [
           {
            "marker": {
             "colorbar": {
              "outlinewidth": 0,
              "ticks": ""
             }
            },
            "type": "scatterternary"
           }
          ],
          "surface": [
           {
            "colorbar": {
             "outlinewidth": 0,
             "ticks": ""
            },
            "colorscale": [
             [
              0,
              "#0d0887"
             ],
             [
              0.1111111111111111,
              "#46039f"
             ],
             [
              0.2222222222222222,
              "#7201a8"
             ],
             [
              0.3333333333333333,
              "#9c179e"
             ],
             [
              0.4444444444444444,
              "#bd3786"
             ],
             [
              0.5555555555555556,
              "#d8576b"
             ],
             [
              0.6666666666666666,
              "#ed7953"
             ],
             [
              0.7777777777777778,
              "#fb9f3a"
             ],
             [
              0.8888888888888888,
              "#fdca26"
             ],
             [
              1,
              "#f0f921"
             ]
            ],
            "type": "surface"
           }
          ],
          "table": [
           {
            "cells": {
             "fill": {
              "color": "#EBF0F8"
             },
             "line": {
              "color": "white"
             }
            },
            "header": {
             "fill": {
              "color": "#C8D4E3"
             },
             "line": {
              "color": "white"
             }
            },
            "type": "table"
           }
          ]
         },
         "layout": {
          "annotationdefaults": {
           "arrowcolor": "#2a3f5f",
           "arrowhead": 0,
           "arrowwidth": 1
          },
          "autotypenumbers": "strict",
          "coloraxis": {
           "colorbar": {
            "outlinewidth": 0,
            "ticks": ""
           }
          },
          "colorscale": {
           "diverging": [
            [
             0,
             "#8e0152"
            ],
            [
             0.1,
             "#c51b7d"
            ],
            [
             0.2,
             "#de77ae"
            ],
            [
             0.3,
             "#f1b6da"
            ],
            [
             0.4,
             "#fde0ef"
            ],
            [
             0.5,
             "#f7f7f7"
            ],
            [
             0.6,
             "#e6f5d0"
            ],
            [
             0.7,
             "#b8e186"
            ],
            [
             0.8,
             "#7fbc41"
            ],
            [
             0.9,
             "#4d9221"
            ],
            [
             1,
             "#276419"
            ]
           ],
           "sequential": [
            [
             0,
             "#0d0887"
            ],
            [
             0.1111111111111111,
             "#46039f"
            ],
            [
             0.2222222222222222,
             "#7201a8"
            ],
            [
             0.3333333333333333,
             "#9c179e"
            ],
            [
             0.4444444444444444,
             "#bd3786"
            ],
            [
             0.5555555555555556,
             "#d8576b"
            ],
            [
             0.6666666666666666,
             "#ed7953"
            ],
            [
             0.7777777777777778,
             "#fb9f3a"
            ],
            [
             0.8888888888888888,
             "#fdca26"
            ],
            [
             1,
             "#f0f921"
            ]
           ],
           "sequentialminus": [
            [
             0,
             "#0d0887"
            ],
            [
             0.1111111111111111,
             "#46039f"
            ],
            [
             0.2222222222222222,
             "#7201a8"
            ],
            [
             0.3333333333333333,
             "#9c179e"
            ],
            [
             0.4444444444444444,
             "#bd3786"
            ],
            [
             0.5555555555555556,
             "#d8576b"
            ],
            [
             0.6666666666666666,
             "#ed7953"
            ],
            [
             0.7777777777777778,
             "#fb9f3a"
            ],
            [
             0.8888888888888888,
             "#fdca26"
            ],
            [
             1,
             "#f0f921"
            ]
           ]
          },
          "colorway": [
           "#636efa",
           "#EF553B",
           "#00cc96",
           "#ab63fa",
           "#FFA15A",
           "#19d3f3",
           "#FF6692",
           "#B6E880",
           "#FF97FF",
           "#FECB52"
          ],
          "font": {
           "color": "#2a3f5f"
          },
          "geo": {
           "bgcolor": "white",
           "lakecolor": "white",
           "landcolor": "#E5ECF6",
           "showlakes": true,
           "showland": true,
           "subunitcolor": "white"
          },
          "hoverlabel": {
           "align": "left"
          },
          "hovermode": "closest",
          "mapbox": {
           "style": "light"
          },
          "paper_bgcolor": "white",
          "plot_bgcolor": "#E5ECF6",
          "polar": {
           "angularaxis": {
            "gridcolor": "white",
            "linecolor": "white",
            "ticks": ""
           },
           "bgcolor": "#E5ECF6",
           "radialaxis": {
            "gridcolor": "white",
            "linecolor": "white",
            "ticks": ""
           }
          },
          "scene": {
           "xaxis": {
            "backgroundcolor": "#E5ECF6",
            "gridcolor": "white",
            "gridwidth": 2,
            "linecolor": "white",
            "showbackground": true,
            "ticks": "",
            "zerolinecolor": "white"
           },
           "yaxis": {
            "backgroundcolor": "#E5ECF6",
            "gridcolor": "white",
            "gridwidth": 2,
            "linecolor": "white",
            "showbackground": true,
            "ticks": "",
            "zerolinecolor": "white"
           },
           "zaxis": {
            "backgroundcolor": "#E5ECF6",
            "gridcolor": "white",
            "gridwidth": 2,
            "linecolor": "white",
            "showbackground": true,
            "ticks": "",
            "zerolinecolor": "white"
           }
          },
          "shapedefaults": {
           "line": {
            "color": "#2a3f5f"
           }
          },
          "ternary": {
           "aaxis": {
            "gridcolor": "white",
            "linecolor": "white",
            "ticks": ""
           },
           "baxis": {
            "gridcolor": "white",
            "linecolor": "white",
            "ticks": ""
           },
           "bgcolor": "#E5ECF6",
           "caxis": {
            "gridcolor": "white",
            "linecolor": "white",
            "ticks": ""
           }
          },
          "title": {
           "x": 0.05
          },
          "xaxis": {
           "automargin": true,
           "gridcolor": "white",
           "linecolor": "white",
           "ticks": "",
           "title": {
            "standoff": 15
           },
           "zerolinecolor": "white",
           "zerolinewidth": 2
          },
          "yaxis": {
           "automargin": true,
           "gridcolor": "white",
           "linecolor": "white",
           "ticks": "",
           "title": {
            "standoff": 15
           },
           "zerolinecolor": "white",
           "zerolinewidth": 2
          }
         }
        },
        "title": {
         "text": "Locations of Employees"
        }
       }
      }
     },
     "metadata": {},
     "output_type": "display_data"
    }
   ],
   "source": [
    "location_mean = round(df_ds.groupby('company_location')['salary_in_usd'].mean())\n",
    "\n",
    "fig = px.choropleth(locations = location_mean.index, color = location_mean.values, \n",
    "                    color_continuous_scale = px.colors.sequential.Greens,\n",
    "                    title = 'Locations of Employees')\n",
    "fig.show()"
   ]
  },
  {
   "cell_type": "markdown",
   "metadata": {},
   "source": [
    "WHAT WE KNOW:\n",
    "- Above map diagram shows us that USA, and RUS pays the highest salary based on the location of the company location."
   ]
  },
  {
   "cell_type": "markdown",
   "metadata": {},
   "source": [
    "#### Looking at the Remote Work\n",
    "\n",
    "#### 1. Remote work vs Work Year"
   ]
  },
  {
   "cell_type": "code",
   "execution_count": 33,
   "metadata": {},
   "outputs": [],
   "source": [
    "remote_year = df_ds[['work_year','remote_ratio']]"
   ]
  },
  {
   "cell_type": "code",
   "execution_count": 34,
   "metadata": {},
   "outputs": [
    {
     "data": {
      "application/vnd.plotly.v1+json": {
       "config": {
        "plotlyServerURL": "https://plot.ly"
       },
       "data": [
        {
         "alignmentgroup": "True",
         "bingroup": "x",
         "hovertemplate": "remote_ratio=Fully Remote<br>work_year=%{x}<br>count=%{y}<extra></extra>",
         "legendgroup": "Fully Remote",
         "marker": {
          "color": "#636efa",
          "pattern": {
           "shape": ""
          }
         },
         "name": "Fully Remote",
         "offsetgroup": "Fully Remote",
         "orientation": "v",
         "showlegend": true,
         "texttemplate": "%{value}",
         "type": "histogram",
         "x": [
          2023,
          2023,
          2023,
          2023,
          2023,
          2023,
          2023,
          2023,
          2023,
          2023,
          2023,
          2023,
          2023,
          2023,
          2023,
          2023,
          2023,
          2023,
          2023,
          2023,
          2023,
          2023,
          2023,
          2023,
          2023,
          2023,
          2023,
          2023,
          2023,
          2023,
          2023,
          2023,
          2023,
          2023,
          2023,
          2023,
          2023,
          2023,
          2023,
          2023,
          2023,
          2023,
          2022,
          2023,
          2023,
          2023,
          2023,
          2023,
          2023,
          2023,
          2023,
          2023,
          2023,
          2023,
          2023,
          2023,
          2023,
          2023,
          2023,
          2023,
          2023,
          2023,
          2023,
          2023,
          2023,
          2023,
          2023,
          2023,
          2023,
          2023,
          2023,
          2023,
          2023,
          2023,
          2023,
          2023,
          2023,
          2023,
          2023,
          2023,
          2023,
          2022,
          2023,
          2023,
          2023,
          2023,
          2023,
          2023,
          2023,
          2023,
          2023,
          2023,
          2023,
          2023,
          2023,
          2023,
          2023,
          2023,
          2023,
          2023,
          2023,
          2023,
          2023,
          2023,
          2023,
          2023,
          2023,
          2023,
          2023,
          2023,
          2023,
          2023,
          2023,
          2023,
          2023,
          2023,
          2023,
          2023,
          2023,
          2023,
          2023,
          2023,
          2023,
          2023,
          2023,
          2023,
          2023,
          2023,
          2023,
          2023,
          2023,
          2023,
          2023,
          2023,
          2023,
          2023,
          2023,
          2023,
          2023,
          2023,
          2023,
          2023,
          2023,
          2023,
          2023,
          2023,
          2023,
          2023,
          2023,
          2023,
          2023,
          2023,
          2023,
          2023,
          2023,
          2023,
          2023,
          2022,
          2023,
          2023,
          2023,
          2023,
          2023,
          2023,
          2023,
          2023,
          2023,
          2023,
          2023,
          2023,
          2023,
          2023,
          2023,
          2023,
          2023,
          2023,
          2023,
          2023,
          2023,
          2023,
          2023,
          2023,
          2023,
          2023,
          2023,
          2023,
          2023,
          2023,
          2023,
          2023,
          2023,
          2023,
          2022,
          2023,
          2023,
          2023,
          2023,
          2023,
          2023,
          2023,
          2023,
          2022,
          2023,
          2023,
          2023,
          2023,
          2023,
          2023,
          2023,
          2023,
          2023,
          2023,
          2023,
          2023,
          2023,
          2023,
          2023,
          2023,
          2023,
          2023,
          2023,
          2023,
          2023,
          2023,
          2023,
          2023,
          2023,
          2023,
          2023,
          2023,
          2023,
          2023,
          2023,
          2023,
          2023,
          2023,
          2023,
          2023,
          2023,
          2023,
          2023,
          2023,
          2023,
          2023,
          2023,
          2023,
          2023,
          2023,
          2023,
          2023,
          2023,
          2023,
          2023,
          2023,
          2023,
          2023,
          2023,
          2023,
          2023,
          2023,
          2023,
          2023,
          2023,
          2023,
          2023,
          2023,
          2022,
          2021,
          2023,
          2023,
          2023,
          2023,
          2023,
          2023,
          2023,
          2023,
          2023,
          2023,
          2023,
          2023,
          2023,
          2023,
          2023,
          2023,
          2023,
          2023,
          2023,
          2023,
          2023,
          2023,
          2023,
          2023,
          2023,
          2023,
          2023,
          2023,
          2023,
          2023,
          2023,
          2023,
          2023,
          2023,
          2023,
          2023,
          2023,
          2023,
          2023,
          2023,
          2023,
          2023,
          2023,
          2023,
          2023,
          2023,
          2023,
          2023,
          2023,
          2023,
          2023,
          2023,
          2022,
          2022,
          2023,
          2023,
          2023,
          2023,
          2023,
          2023,
          2023,
          2023,
          2023,
          2023,
          2023,
          2023,
          2023,
          2023,
          2023,
          2022,
          2023,
          2023,
          2023,
          2023,
          2023,
          2023,
          2023,
          2023,
          2022,
          2023,
          2023,
          2023,
          2023,
          2023,
          2023,
          2023,
          2023,
          2023,
          2023,
          2023,
          2023,
          2023,
          2023,
          2023,
          2023,
          2023,
          2023,
          2023,
          2023,
          2023,
          2023,
          2023,
          2023,
          2023,
          2023,
          2023,
          2023,
          2023,
          2023,
          2023,
          2023,
          2023,
          2023,
          2023,
          2023,
          2023,
          2023,
          2023,
          2023,
          2023,
          2023,
          2023,
          2023,
          2023,
          2023,
          2023,
          2023,
          2023,
          2023,
          2023,
          2023,
          2023,
          2023,
          2023,
          2023,
          2023,
          2023,
          2023,
          2023,
          2023,
          2023,
          2023,
          2023,
          2023,
          2023,
          2023,
          2023,
          2023,
          2023,
          2023,
          2023,
          2023,
          2023,
          2023,
          2023,
          2022,
          2023,
          2023,
          2023,
          2023,
          2023,
          2023,
          2023,
          2023,
          2023,
          2023,
          2023,
          2023,
          2023,
          2023,
          2023,
          2023,
          2023,
          2023,
          2023,
          2023,
          2023,
          2023,
          2023,
          2023,
          2023,
          2023,
          2023,
          2023,
          2023,
          2023,
          2023,
          2023,
          2023,
          2023,
          2023,
          2023,
          2023,
          2023,
          2023,
          2022,
          2023,
          2023,
          2023,
          2023,
          2023,
          2023,
          2022,
          2023,
          2023,
          2023,
          2023,
          2023,
          2023,
          2023,
          2023,
          2023,
          2023,
          2023,
          2023,
          2023,
          2023,
          2022,
          2023,
          2023,
          2023,
          2023,
          2023,
          2023,
          2023,
          2023,
          2023,
          2023,
          2023,
          2023,
          2023,
          2023,
          2023,
          2023,
          2023,
          2023,
          2023,
          2023,
          2023,
          2023,
          2023,
          2023,
          2023,
          2023,
          2023,
          2023,
          2023,
          2023,
          2023,
          2023,
          2023,
          2023,
          2023,
          2023,
          2023,
          2023,
          2023,
          2023,
          2023,
          2023,
          2023,
          2023,
          2023,
          2023,
          2023,
          2023,
          2023,
          2023,
          2023,
          2023,
          2023,
          2023,
          2023,
          2022,
          2022,
          2023,
          2023,
          2023,
          2023,
          2023,
          2023,
          2023,
          2023,
          2023,
          2023,
          2023,
          2023,
          2023,
          2023,
          2023,
          2023,
          2023,
          2023,
          2023,
          2023,
          2023,
          2023,
          2023,
          2023,
          2023,
          2023,
          2023,
          2023,
          2023,
          2023,
          2023,
          2023,
          2023,
          2023,
          2023,
          2023,
          2023,
          2022,
          2023,
          2023,
          2023,
          2023,
          2023,
          2023,
          2023,
          2023,
          2023,
          2023,
          2021,
          2023,
          2023,
          2022,
          2023,
          2023,
          2023,
          2023,
          2023,
          2023,
          2023,
          2023,
          2023,
          2023,
          2023,
          2023,
          2023,
          2023,
          2023,
          2023,
          2023,
          2023,
          2022,
          2022,
          2022,
          2022,
          2022,
          2022,
          2022,
          2022,
          2022,
          2022,
          2022,
          2022,
          2022,
          2022,
          2022,
          2022,
          2022,
          2022,
          2022,
          2022,
          2022,
          2022,
          2022,
          2022,
          2022,
          2022,
          2022,
          2022,
          2022,
          2022,
          2022,
          2022,
          2022,
          2022,
          2022,
          2022,
          2022,
          2022,
          2022,
          2022,
          2022,
          2022,
          2022,
          2022,
          2022,
          2022,
          2022,
          2022,
          2022,
          2022,
          2022,
          2022,
          2022,
          2022,
          2022,
          2022,
          2022,
          2022,
          2022,
          2022,
          2022,
          2022,
          2022,
          2022,
          2022,
          2022,
          2022,
          2022,
          2022,
          2022,
          2022,
          2022,
          2022,
          2022,
          2022,
          2022,
          2022,
          2022,
          2022,
          2022,
          2022,
          2022,
          2022,
          2022,
          2022,
          2022,
          2022,
          2022,
          2022,
          2022,
          2022,
          2022,
          2022,
          2022,
          2022,
          2022,
          2022,
          2022,
          2022,
          2022,
          2022,
          2022,
          2022,
          2022,
          2022,
          2022,
          2022,
          2022,
          2022,
          2022,
          2022,
          2022,
          2022,
          2022,
          2022,
          2022,
          2022,
          2022,
          2022,
          2022,
          2022,
          2022,
          2022,
          2022,
          2022,
          2022,
          2022,
          2022,
          2022,
          2022,
          2022,
          2022,
          2022,
          2022,
          2022,
          2022,
          2022,
          2022,
          2022,
          2021,
          2022,
          2022,
          2022,
          2022,
          2022,
          2022,
          2022,
          2022,
          2022,
          2022,
          2022,
          2022,
          2022,
          2022,
          2022,
          2022,
          2022,
          2022,
          2022,
          2022,
          2022,
          2022,
          2022,
          2022,
          2022,
          2022,
          2022,
          2022,
          2022,
          2022,
          2022,
          2022,
          2022,
          2022,
          2022,
          2022,
          2022,
          2022,
          2022,
          2022,
          2022,
          2022,
          2022,
          2022,
          2022,
          2022,
          2022,
          2022,
          2022,
          2022,
          2022,
          2022,
          2022,
          2022,
          2022,
          2022,
          2022,
          2022,
          2022,
          2022,
          2022,
          2022,
          2022,
          2022,
          2022,
          2022,
          2022,
          2022,
          2022,
          2022,
          2022,
          2022,
          2022,
          2022,
          2022,
          2022,
          2022,
          2022,
          2022,
          2022,
          2022,
          2022,
          2022,
          2022,
          2022,
          2022,
          2022,
          2022,
          2022,
          2022,
          2022,
          2022,
          2022,
          2022,
          2022,
          2022,
          2022,
          2022,
          2022,
          2022,
          2022,
          2022,
          2022,
          2022,
          2022,
          2022,
          2022,
          2022,
          2022,
          2022,
          2022,
          2022,
          2022,
          2022,
          2022,
          2022,
          2022,
          2022,
          2022,
          2022,
          2022,
          2022,
          2022,
          2022,
          2022,
          2022,
          2022,
          2022,
          2022,
          2022,
          2022,
          2022,
          2022,
          2022,
          2022,
          2022,
          2022,
          2022,
          2022,
          2022,
          2022,
          2022,
          2022,
          2022,
          2022,
          2022,
          2022,
          2022,
          2022,
          2022,
          2022,
          2022,
          2022,
          2022,
          2022,
          2022,
          2022,
          2022,
          2022,
          2022,
          2022,
          2022,
          2022,
          2022,
          2022,
          2022,
          2022,
          2022,
          2022,
          2022,
          2022,
          2022,
          2022,
          2022,
          2022,
          2022,
          2022,
          2022,
          2022,
          2022,
          2022,
          2022,
          2022,
          2022,
          2022,
          2022,
          2022,
          2022,
          2022,
          2022,
          2022,
          2022,
          2022,
          2022,
          2022,
          2022,
          2022,
          2022,
          2022,
          2022,
          2022,
          2022,
          2022,
          2022,
          2022,
          2022,
          2022,
          2022,
          2022,
          2022,
          2022,
          2022,
          2022,
          2022,
          2022,
          2022,
          2022,
          2022,
          2022,
          2022,
          2022,
          2022,
          2022,
          2022,
          2022,
          2022,
          2022,
          2022,
          2022,
          2022,
          2022,
          2022,
          2022,
          2022,
          2022,
          2022,
          2022,
          2022,
          2022,
          2022,
          2022,
          2022,
          2022,
          2022,
          2022,
          2022,
          2022,
          2022,
          2022,
          2022,
          2022,
          2022,
          2022,
          2022,
          2022,
          2022,
          2022,
          2022,
          2022,
          2022,
          2022,
          2022,
          2022,
          2022,
          2022,
          2022,
          2022,
          2022,
          2022,
          2022,
          2022,
          2022,
          2022,
          2022,
          2022,
          2022,
          2022,
          2022,
          2022,
          2022,
          2022,
          2022,
          2022,
          2022,
          2022,
          2022,
          2022,
          2022,
          2022,
          2022,
          2022,
          2022,
          2022,
          2022,
          2022,
          2022,
          2022,
          2022,
          2022,
          2022,
          2022,
          2022,
          2022,
          2022,
          2022,
          2022,
          2022,
          2022,
          2022,
          2022,
          2022,
          2022,
          2022,
          2022,
          2022,
          2022,
          2022,
          2022,
          2022,
          2022,
          2022,
          2022,
          2022,
          2022,
          2022,
          2022,
          2022,
          2022,
          2022,
          2021,
          2022,
          2022,
          2022,
          2022,
          2022,
          2022,
          2022,
          2022,
          2022,
          2022,
          2022,
          2022,
          2022,
          2022,
          2022,
          2022,
          2022,
          2022,
          2022,
          2022,
          2022,
          2022,
          2022,
          2022,
          2022,
          2022,
          2022,
          2022,
          2022,
          2022,
          2022,
          2022,
          2022,
          2022,
          2022,
          2022,
          2022,
          2022,
          2022,
          2022,
          2022,
          2022,
          2022,
          2022,
          2022,
          2022,
          2022,
          2022,
          2022,
          2022,
          2022,
          2022,
          2022,
          2022,
          2022,
          2022,
          2022,
          2022,
          2022,
          2022,
          2022,
          2022,
          2022,
          2022,
          2022,
          2022,
          2022,
          2022,
          2022,
          2022,
          2022,
          2022,
          2022,
          2022,
          2021,
          2022,
          2022,
          2022,
          2022,
          2022,
          2022,
          2022,
          2022,
          2022,
          2022,
          2022,
          2022,
          2022,
          2022,
          2022,
          2022,
          2022,
          2022,
          2022,
          2022,
          2022,
          2022,
          2022,
          2022,
          2022,
          2022,
          2022,
          2022,
          2022,
          2022,
          2022,
          2022,
          2022,
          2022,
          2022,
          2022,
          2022,
          2022,
          2022,
          2022,
          2022,
          2022,
          2022,
          2022,
          2022,
          2022,
          2022,
          2022,
          2022,
          2022,
          2022,
          2022,
          2022,
          2022,
          2021,
          2022,
          2022,
          2022,
          2022,
          2022,
          2022,
          2022,
          2022,
          2022,
          2022,
          2022,
          2022,
          2022,
          2022,
          2022,
          2022,
          2022,
          2022,
          2022,
          2022,
          2022,
          2022,
          2022,
          2022,
          2022,
          2022,
          2022,
          2022,
          2022,
          2020,
          2020,
          2022,
          2022,
          2022,
          2022,
          2022,
          2022,
          2022,
          2022,
          2022,
          2022,
          2022,
          2022,
          2022,
          2020,
          2022,
          2022,
          2022,
          2022,
          2022,
          2022,
          2022,
          2022,
          2022,
          2022,
          2022,
          2022,
          2022,
          2022,
          2022,
          2022,
          2022,
          2022,
          2022,
          2022,
          2022,
          2022,
          2022,
          2022,
          2022,
          2022,
          2022,
          2022,
          2022,
          2022,
          2022,
          2022,
          2022,
          2022,
          2022,
          2022,
          2022,
          2022,
          2022,
          2022,
          2022,
          2022,
          2022,
          2022,
          2022,
          2022,
          2022,
          2022,
          2022,
          2022,
          2022,
          2022,
          2022,
          2022,
          2022,
          2022,
          2022,
          2022,
          2022,
          2022,
          2022,
          2022,
          2022,
          2022,
          2022,
          2022,
          2022,
          2022,
          2022,
          2022,
          2022,
          2022,
          2022,
          2022,
          2022,
          2022,
          2022,
          2022,
          2022,
          2022,
          2022,
          2022,
          2022,
          2022,
          2022,
          2022,
          2022,
          2022,
          2022,
          2022,
          2022,
          2022,
          2022,
          2022,
          2022,
          2022,
          2022,
          2022,
          2022,
          2022,
          2022,
          2022,
          2022,
          2022,
          2022,
          2022,
          2022,
          2022,
          2022,
          2022,
          2022,
          2022,
          2022,
          2022,
          2022,
          2022,
          2022,
          2022,
          2022,
          2022,
          2022,
          2022,
          2022,
          2022,
          2022,
          2022,
          2022,
          2022,
          2022,
          2022,
          2022,
          2022,
          2022,
          2022,
          2022,
          2022,
          2022,
          2022,
          2022,
          2022,
          2022,
          2022,
          2022,
          2022,
          2022,
          2022,
          2022,
          2022,
          2022,
          2022,
          2022,
          2022,
          2022,
          2022,
          2022,
          2022,
          2022,
          2022,
          2022,
          2022,
          2022,
          2022,
          2022,
          2022,
          2022,
          2022,
          2022,
          2022,
          2022,
          2022,
          2022,
          2022,
          2022,
          2022,
          2022,
          2022,
          2022,
          2022,
          2022,
          2022,
          2022,
          2022,
          2022,
          2022,
          2022,
          2022,
          2022,
          2022,
          2022,
          2022,
          2022,
          2022,
          2022,
          2022,
          2022,
          2022,
          2022,
          2022,
          2022,
          2022,
          2022,
          2022,
          2022,
          2022,
          2022,
          2022,
          2021,
          2022,
          2022,
          2022,
          2022,
          2022,
          2022,
          2022,
          2022,
          2022,
          2020,
          2022,
          2022,
          2022,
          2022,
          2022,
          2022,
          2022,
          2022,
          2022,
          2022,
          2022,
          2021,
          2021,
          2022,
          2022,
          2022,
          2022,
          2022,
          2021,
          2022,
          2022,
          2021,
          2021,
          2021,
          2022,
          2021,
          2022,
          2021,
          2021,
          2021,
          2021,
          2020,
          2021,
          2021,
          2021,
          2021,
          2020,
          2020,
          2021,
          2021,
          2021,
          2021,
          2021,
          2021,
          2020,
          2021,
          2021,
          2021,
          2021,
          2021,
          2021,
          2021,
          2021,
          2021,
          2021,
          2021,
          2021,
          2020,
          2020,
          2021,
          2021,
          2021,
          2021,
          2020,
          2021,
          2021,
          2021,
          2021,
          2021,
          2021,
          2021,
          2021,
          2021,
          2021,
          2021,
          2021,
          2020,
          2021,
          2020,
          2021,
          2021,
          2020,
          2020,
          2021,
          2020,
          2021,
          2021,
          2021,
          2021,
          2021,
          2021,
          2020,
          2021,
          2021,
          2021,
          2021,
          2021,
          2021,
          2021,
          2021,
          2021,
          2021,
          2021,
          2021,
          2021,
          2021,
          2021,
          2021,
          2020,
          2021,
          2021,
          2021,
          2020,
          2021,
          2021,
          2021,
          2021,
          2021,
          2020,
          2021,
          2021,
          2020,
          2021,
          2021,
          2021,
          2021,
          2021,
          2020,
          2021,
          2021,
          2021,
          2020,
          2020,
          2021,
          2020,
          2020,
          2020,
          2021,
          2021,
          2021,
          2021,
          2021,
          2020,
          2021,
          2021,
          2021,
          2020,
          2021,
          2021,
          2020,
          2020,
          2021,
          2021,
          2021,
          2021,
          2021,
          2021,
          2020,
          2020,
          2020,
          2020,
          2020,
          2021,
          2021,
          2020,
          2021,
          2020,
          2020
         ],
         "xaxis": "x",
         "yaxis": "y"
        },
        {
         "alignmentgroup": "True",
         "bingroup": "x",
         "hovertemplate": "remote_ratio=No Remote<br>work_year=%{x}<br>count=%{y}<extra></extra>",
         "legendgroup": "No Remote",
         "marker": {
          "color": "#EF553B",
          "pattern": {
           "shape": ""
          }
         },
         "name": "No Remote",
         "offsetgroup": "No Remote",
         "orientation": "v",
         "showlegend": true,
         "texttemplate": "%{value}",
         "type": "histogram",
         "x": [
          2023,
          2023,
          2023,
          2023,
          2023,
          2023,
          2023,
          2023,
          2023,
          2023,
          2023,
          2023,
          2023,
          2023,
          2023,
          2023,
          2023,
          2023,
          2023,
          2023,
          2023,
          2023,
          2023,
          2023,
          2023,
          2023,
          2023,
          2023,
          2023,
          2023,
          2023,
          2023,
          2023,
          2023,
          2023,
          2023,
          2023,
          2023,
          2023,
          2023,
          2023,
          2023,
          2023,
          2023,
          2023,
          2023,
          2023,
          2023,
          2023,
          2023,
          2023,
          2023,
          2023,
          2023,
          2023,
          2023,
          2023,
          2023,
          2023,
          2023,
          2023,
          2023,
          2023,
          2023,
          2023,
          2023,
          2023,
          2023,
          2023,
          2023,
          2023,
          2023,
          2023,
          2023,
          2023,
          2023,
          2023,
          2023,
          2023,
          2023,
          2023,
          2023,
          2023,
          2023,
          2023,
          2023,
          2023,
          2023,
          2023,
          2023,
          2023,
          2023,
          2023,
          2023,
          2023,
          2023,
          2023,
          2023,
          2023,
          2023,
          2023,
          2023,
          2023,
          2023,
          2023,
          2023,
          2023,
          2023,
          2023,
          2023,
          2023,
          2023,
          2023,
          2023,
          2023,
          2020,
          2023,
          2023,
          2023,
          2023,
          2023,
          2023,
          2023,
          2023,
          2023,
          2023,
          2023,
          2023,
          2023,
          2023,
          2023,
          2023,
          2023,
          2023,
          2023,
          2023,
          2023,
          2023,
          2023,
          2023,
          2023,
          2023,
          2023,
          2023,
          2023,
          2023,
          2023,
          2023,
          2023,
          2023,
          2023,
          2023,
          2023,
          2023,
          2023,
          2023,
          2023,
          2023,
          2023,
          2023,
          2023,
          2023,
          2023,
          2023,
          2023,
          2023,
          2023,
          2023,
          2023,
          2023,
          2023,
          2023,
          2023,
          2023,
          2023,
          2023,
          2023,
          2023,
          2023,
          2023,
          2023,
          2023,
          2023,
          2023,
          2023,
          2023,
          2023,
          2023,
          2023,
          2023,
          2023,
          2023,
          2023,
          2023,
          2023,
          2023,
          2023,
          2023,
          2023,
          2023,
          2023,
          2023,
          2023,
          2023,
          2023,
          2023,
          2023,
          2023,
          2022,
          2023,
          2023,
          2023,
          2023,
          2023,
          2023,
          2023,
          2023,
          2023,
          2023,
          2023,
          2023,
          2023,
          2023,
          2023,
          2023,
          2023,
          2023,
          2023,
          2023,
          2023,
          2023,
          2023,
          2023,
          2023,
          2023,
          2023,
          2023,
          2023,
          2023,
          2023,
          2023,
          2023,
          2023,
          2023,
          2023,
          2023,
          2023,
          2023,
          2023,
          2023,
          2023,
          2023,
          2023,
          2023,
          2023,
          2023,
          2023,
          2023,
          2023,
          2023,
          2023,
          2023,
          2023,
          2023,
          2023,
          2023,
          2023,
          2023,
          2023,
          2023,
          2023,
          2023,
          2023,
          2023,
          2023,
          2023,
          2023,
          2023,
          2023,
          2023,
          2023,
          2023,
          2023,
          2023,
          2023,
          2023,
          2023,
          2023,
          2023,
          2023,
          2023,
          2023,
          2023,
          2023,
          2023,
          2023,
          2023,
          2023,
          2023,
          2023,
          2023,
          2023,
          2023,
          2023,
          2023,
          2023,
          2023,
          2023,
          2023,
          2023,
          2023,
          2023,
          2023,
          2023,
          2023,
          2023,
          2023,
          2023,
          2023,
          2023,
          2023,
          2023,
          2023,
          2023,
          2023,
          2023,
          2023,
          2023,
          2023,
          2023,
          2023,
          2023,
          2023,
          2023,
          2023,
          2023,
          2023,
          2023,
          2023,
          2023,
          2023,
          2023,
          2023,
          2023,
          2023,
          2023,
          2023,
          2023,
          2023,
          2023,
          2023,
          2023,
          2023,
          2023,
          2023,
          2023,
          2023,
          2023,
          2023,
          2023,
          2023,
          2023,
          2023,
          2023,
          2023,
          2023,
          2023,
          2023,
          2023,
          2023,
          2023,
          2023,
          2023,
          2023,
          2023,
          2023,
          2023,
          2023,
          2023,
          2023,
          2023,
          2023,
          2023,
          2023,
          2023,
          2023,
          2023,
          2023,
          2023,
          2023,
          2023,
          2023,
          2023,
          2023,
          2023,
          2023,
          2023,
          2023,
          2023,
          2023,
          2023,
          2023,
          2023,
          2023,
          2023,
          2023,
          2023,
          2023,
          2023,
          2023,
          2023,
          2023,
          2023,
          2023,
          2023,
          2023,
          2023,
          2023,
          2023,
          2023,
          2023,
          2023,
          2023,
          2023,
          2023,
          2023,
          2023,
          2023,
          2023,
          2023,
          2023,
          2023,
          2023,
          2023,
          2023,
          2023,
          2023,
          2023,
          2023,
          2023,
          2023,
          2023,
          2023,
          2023,
          2023,
          2023,
          2023,
          2023,
          2023,
          2023,
          2023,
          2023,
          2023,
          2023,
          2023,
          2023,
          2023,
          2023,
          2023,
          2023,
          2023,
          2023,
          2023,
          2023,
          2023,
          2023,
          2023,
          2023,
          2023,
          2023,
          2023,
          2023,
          2023,
          2023,
          2023,
          2023,
          2023,
          2023,
          2023,
          2023,
          2023,
          2023,
          2023,
          2023,
          2023,
          2023,
          2023,
          2023,
          2023,
          2023,
          2023,
          2023,
          2023,
          2023,
          2023,
          2023,
          2023,
          2023,
          2023,
          2023,
          2023,
          2023,
          2023,
          2023,
          2023,
          2023,
          2023,
          2023,
          2023,
          2023,
          2023,
          2023,
          2023,
          2023,
          2023,
          2023,
          2023,
          2023,
          2023,
          2023,
          2023,
          2023,
          2023,
          2023,
          2023,
          2023,
          2023,
          2023,
          2023,
          2023,
          2023,
          2023,
          2023,
          2023,
          2023,
          2023,
          2023,
          2023,
          2023,
          2023,
          2023,
          2023,
          2023,
          2023,
          2023,
          2023,
          2023,
          2023,
          2023,
          2023,
          2023,
          2023,
          2023,
          2023,
          2023,
          2023,
          2023,
          2023,
          2023,
          2023,
          2023,
          2023,
          2023,
          2023,
          2023,
          2023,
          2023,
          2023,
          2023,
          2023,
          2023,
          2023,
          2023,
          2023,
          2023,
          2023,
          2023,
          2023,
          2023,
          2023,
          2023,
          2023,
          2023,
          2023,
          2023,
          2023,
          2023,
          2023,
          2023,
          2023,
          2023,
          2023,
          2023,
          2023,
          2023,
          2023,
          2023,
          2023,
          2023,
          2023,
          2023,
          2023,
          2023,
          2023,
          2023,
          2023,
          2023,
          2023,
          2023,
          2023,
          2023,
          2023,
          2023,
          2023,
          2023,
          2023,
          2023,
          2023,
          2023,
          2023,
          2023,
          2023,
          2023,
          2023,
          2023,
          2023,
          2023,
          2023,
          2023,
          2023,
          2023,
          2023,
          2023,
          2023,
          2023,
          2023,
          2023,
          2022,
          2023,
          2023,
          2023,
          2023,
          2023,
          2023,
          2023,
          2023,
          2023,
          2023,
          2023,
          2023,
          2023,
          2023,
          2023,
          2023,
          2023,
          2023,
          2023,
          2023,
          2023,
          2023,
          2023,
          2023,
          2023,
          2023,
          2023,
          2023,
          2023,
          2023,
          2023,
          2023,
          2023,
          2023,
          2023,
          2023,
          2023,
          2023,
          2023,
          2023,
          2023,
          2023,
          2023,
          2023,
          2023,
          2023,
          2023,
          2023,
          2023,
          2023,
          2023,
          2023,
          2023,
          2023,
          2023,
          2023,
          2023,
          2023,
          2023,
          2023,
          2023,
          2023,
          2023,
          2023,
          2023,
          2023,
          2023,
          2023,
          2023,
          2023,
          2023,
          2023,
          2023,
          2023,
          2023,
          2023,
          2023,
          2023,
          2023,
          2023,
          2023,
          2023,
          2023,
          2023,
          2023,
          2023,
          2023,
          2023,
          2023,
          2023,
          2023,
          2023,
          2023,
          2023,
          2023,
          2023,
          2023,
          2023,
          2023,
          2023,
          2023,
          2021,
          2023,
          2023,
          2023,
          2023,
          2023,
          2023,
          2023,
          2023,
          2023,
          2023,
          2023,
          2023,
          2023,
          2023,
          2023,
          2023,
          2023,
          2023,
          2023,
          2023,
          2023,
          2023,
          2023,
          2023,
          2023,
          2023,
          2023,
          2023,
          2023,
          2023,
          2023,
          2023,
          2023,
          2023,
          2023,
          2023,
          2023,
          2023,
          2023,
          2023,
          2023,
          2023,
          2023,
          2023,
          2023,
          2023,
          2022,
          2023,
          2023,
          2023,
          2023,
          2023,
          2023,
          2023,
          2023,
          2023,
          2023,
          2023,
          2023,
          2023,
          2023,
          2023,
          2023,
          2023,
          2023,
          2023,
          2023,
          2023,
          2023,
          2023,
          2023,
          2023,
          2023,
          2023,
          2023,
          2023,
          2023,
          2023,
          2023,
          2023,
          2023,
          2023,
          2023,
          2023,
          2023,
          2023,
          2023,
          2023,
          2023,
          2023,
          2023,
          2023,
          2023,
          2023,
          2023,
          2023,
          2023,
          2023,
          2023,
          2023,
          2023,
          2023,
          2023,
          2023,
          2023,
          2023,
          2023,
          2023,
          2023,
          2023,
          2023,
          2023,
          2023,
          2023,
          2023,
          2023,
          2023,
          2023,
          2023,
          2023,
          2023,
          2023,
          2023,
          2023,
          2023,
          2023,
          2023,
          2023,
          2023,
          2023,
          2023,
          2023,
          2023,
          2023,
          2023,
          2023,
          2023,
          2023,
          2023,
          2023,
          2023,
          2023,
          2023,
          2023,
          2023,
          2023,
          2023,
          2023,
          2023,
          2023,
          2023,
          2023,
          2023,
          2023,
          2023,
          2023,
          2023,
          2023,
          2023,
          2023,
          2023,
          2023,
          2023,
          2023,
          2023,
          2023,
          2023,
          2023,
          2023,
          2023,
          2023,
          2023,
          2023,
          2023,
          2023,
          2023,
          2023,
          2023,
          2023,
          2023,
          2023,
          2023,
          2023,
          2023,
          2023,
          2023,
          2023,
          2023,
          2023,
          2023,
          2023,
          2023,
          2023,
          2023,
          2023,
          2023,
          2023,
          2023,
          2023,
          2023,
          2023,
          2023,
          2023,
          2023,
          2023,
          2023,
          2023,
          2023,
          2023,
          2023,
          2023,
          2023,
          2023,
          2023,
          2023,
          2023,
          2023,
          2023,
          2023,
          2023,
          2023,
          2023,
          2023,
          2023,
          2023,
          2023,
          2023,
          2023,
          2023,
          2023,
          2023,
          2023,
          2023,
          2023,
          2023,
          2023,
          2023,
          2023,
          2023,
          2023,
          2023,
          2023,
          2023,
          2023,
          2023,
          2023,
          2023,
          2023,
          2023,
          2023,
          2022,
          2023,
          2023,
          2023,
          2023,
          2023,
          2023,
          2023,
          2023,
          2023,
          2023,
          2023,
          2023,
          2023,
          2023,
          2023,
          2023,
          2023,
          2023,
          2023,
          2023,
          2023,
          2023,
          2023,
          2023,
          2023,
          2023,
          2023,
          2023,
          2023,
          2023,
          2023,
          2023,
          2023,
          2023,
          2023,
          2023,
          2023,
          2023,
          2023,
          2023,
          2023,
          2023,
          2023,
          2023,
          2023,
          2023,
          2023,
          2023,
          2023,
          2023,
          2023,
          2023,
          2023,
          2023,
          2023,
          2023,
          2023,
          2023,
          2023,
          2023,
          2023,
          2023,
          2023,
          2023,
          2023,
          2023,
          2023,
          2023,
          2023,
          2023,
          2023,
          2023,
          2023,
          2023,
          2023,
          2023,
          2023,
          2023,
          2023,
          2023,
          2023,
          2023,
          2023,
          2023,
          2023,
          2023,
          2023,
          2023,
          2023,
          2023,
          2023,
          2023,
          2023,
          2023,
          2023,
          2023,
          2023,
          2023,
          2023,
          2023,
          2023,
          2023,
          2023,
          2023,
          2023,
          2023,
          2023,
          2023,
          2023,
          2023,
          2023,
          2023,
          2023,
          2023,
          2023,
          2023,
          2023,
          2023,
          2023,
          2023,
          2023,
          2023,
          2023,
          2023,
          2023,
          2023,
          2023,
          2023,
          2023,
          2023,
          2023,
          2023,
          2023,
          2023,
          2023,
          2022,
          2023,
          2023,
          2023,
          2023,
          2023,
          2023,
          2023,
          2023,
          2023,
          2023,
          2023,
          2023,
          2023,
          2023,
          2023,
          2023,
          2023,
          2023,
          2023,
          2023,
          2023,
          2023,
          2023,
          2023,
          2023,
          2023,
          2023,
          2023,
          2023,
          2023,
          2023,
          2023,
          2023,
          2023,
          2022,
          2023,
          2023,
          2023,
          2023,
          2023,
          2023,
          2023,
          2023,
          2022,
          2022,
          2022,
          2022,
          2022,
          2022,
          2022,
          2022,
          2022,
          2022,
          2022,
          2022,
          2022,
          2022,
          2022,
          2022,
          2022,
          2022,
          2022,
          2022,
          2022,
          2022,
          2022,
          2022,
          2022,
          2022,
          2022,
          2022,
          2022,
          2022,
          2022,
          2022,
          2022,
          2022,
          2022,
          2022,
          2022,
          2022,
          2022,
          2022,
          2022,
          2022,
          2022,
          2022,
          2022,
          2022,
          2022,
          2022,
          2022,
          2022,
          2022,
          2022,
          2022,
          2022,
          2022,
          2022,
          2022,
          2022,
          2022,
          2022,
          2022,
          2022,
          2022,
          2022,
          2022,
          2022,
          2022,
          2022,
          2022,
          2022,
          2022,
          2022,
          2022,
          2022,
          2022,
          2022,
          2022,
          2022,
          2022,
          2022,
          2022,
          2022,
          2022,
          2022,
          2022,
          2022,
          2022,
          2022,
          2022,
          2022,
          2022,
          2022,
          2022,
          2022,
          2022,
          2022,
          2022,
          2022,
          2022,
          2022,
          2022,
          2022,
          2022,
          2022,
          2022,
          2022,
          2022,
          2022,
          2022,
          2022,
          2022,
          2022,
          2022,
          2022,
          2022,
          2022,
          2022,
          2022,
          2022,
          2022,
          2022,
          2022,
          2022,
          2022,
          2022,
          2022,
          2022,
          2022,
          2022,
          2022,
          2022,
          2022,
          2022,
          2022,
          2022,
          2022,
          2022,
          2022,
          2022,
          2022,
          2022,
          2022,
          2022,
          2022,
          2022,
          2022,
          2022,
          2022,
          2022,
          2022,
          2022,
          2022,
          2020,
          2022,
          2022,
          2022,
          2022,
          2022,
          2022,
          2022,
          2022,
          2022,
          2022,
          2022,
          2022,
          2022,
          2022,
          2022,
          2022,
          2022,
          2022,
          2021,
          2022,
          2022,
          2022,
          2022,
          2022,
          2022,
          2022,
          2022,
          2022,
          2022,
          2022,
          2022,
          2022,
          2022,
          2022,
          2022,
          2022,
          2022,
          2022,
          2022,
          2022,
          2022,
          2022,
          2022,
          2022,
          2022,
          2022,
          2022,
          2022,
          2022,
          2022,
          2022,
          2022,
          2022,
          2022,
          2022,
          2022,
          2022,
          2022,
          2022,
          2022,
          2022,
          2022,
          2022,
          2022,
          2022,
          2022,
          2022,
          2022,
          2022,
          2022,
          2022,
          2022,
          2022,
          2022,
          2022,
          2022,
          2022,
          2022,
          2022,
          2022,
          2022,
          2022,
          2022,
          2022,
          2022,
          2022,
          2022,
          2022,
          2022,
          2022,
          2022,
          2022,
          2022,
          2022,
          2022,
          2022,
          2022,
          2022,
          2022,
          2022,
          2022,
          2022,
          2022,
          2022,
          2022,
          2022,
          2022,
          2022,
          2022,
          2022,
          2022,
          2022,
          2022,
          2022,
          2022,
          2022,
          2022,
          2022,
          2022,
          2022,
          2022,
          2022,
          2022,
          2022,
          2022,
          2022,
          2022,
          2022,
          2022,
          2022,
          2022,
          2022,
          2022,
          2022,
          2022,
          2022,
          2022,
          2022,
          2022,
          2022,
          2022,
          2022,
          2022,
          2022,
          2022,
          2022,
          2022,
          2022,
          2022,
          2022,
          2022,
          2022,
          2022,
          2022,
          2022,
          2022,
          2022,
          2022,
          2022,
          2022,
          2022,
          2022,
          2022,
          2022,
          2022,
          2022,
          2022,
          2022,
          2022,
          2022,
          2022,
          2022,
          2022,
          2022,
          2022,
          2022,
          2022,
          2022,
          2022,
          2022,
          2022,
          2022,
          2022,
          2022,
          2022,
          2022,
          2022,
          2022,
          2022,
          2022,
          2022,
          2022,
          2022,
          2022,
          2022,
          2022,
          2022,
          2022,
          2022,
          2022,
          2022,
          2022,
          2022,
          2022,
          2022,
          2022,
          2022,
          2022,
          2022,
          2022,
          2022,
          2022,
          2022,
          2022,
          2022,
          2022,
          2022,
          2022,
          2022,
          2022,
          2022,
          2022,
          2022,
          2022,
          2022,
          2022,
          2022,
          2022,
          2022,
          2022,
          2022,
          2022,
          2022,
          2022,
          2022,
          2022,
          2022,
          2022,
          2022,
          2022,
          2022,
          2022,
          2022,
          2022,
          2022,
          2022,
          2022,
          2022,
          2022,
          2022,
          2022,
          2022,
          2022,
          2022,
          2022,
          2022,
          2022,
          2022,
          2022,
          2022,
          2022,
          2022,
          2022,
          2022,
          2022,
          2022,
          2022,
          2022,
          2022,
          2022,
          2022,
          2022,
          2022,
          2022,
          2022,
          2022,
          2022,
          2022,
          2022,
          2022,
          2022,
          2022,
          2022,
          2022,
          2022,
          2022,
          2022,
          2022,
          2022,
          2022,
          2022,
          2022,
          2022,
          2022,
          2022,
          2022,
          2022,
          2022,
          2022,
          2022,
          2022,
          2022,
          2022,
          2022,
          2022,
          2022,
          2022,
          2022,
          2022,
          2022,
          2022,
          2022,
          2022,
          2022,
          2022,
          2022,
          2022,
          2022,
          2022,
          2022,
          2022,
          2022,
          2022,
          2022,
          2022,
          2022,
          2022,
          2022,
          2022,
          2022,
          2022,
          2022,
          2022,
          2022,
          2022,
          2022,
          2022,
          2022,
          2022,
          2022,
          2022,
          2022,
          2022,
          2022,
          2022,
          2022,
          2022,
          2022,
          2022,
          2022,
          2022,
          2022,
          2022,
          2022,
          2022,
          2022,
          2022,
          2022,
          2022,
          2022,
          2022,
          2022,
          2022,
          2022,
          2022,
          2022,
          2022,
          2022,
          2022,
          2022,
          2022,
          2022,
          2022,
          2022,
          2022,
          2022,
          2022,
          2022,
          2022,
          2022,
          2022,
          2022,
          2022,
          2022,
          2022,
          2022,
          2022,
          2022,
          2022,
          2022,
          2022,
          2022,
          2022,
          2022,
          2022,
          2022,
          2022,
          2022,
          2022,
          2022,
          2022,
          2022,
          2022,
          2022,
          2022,
          2022,
          2022,
          2022,
          2022,
          2022,
          2022,
          2022,
          2022,
          2022,
          2022,
          2022,
          2022,
          2022,
          2022,
          2022,
          2022,
          2022,
          2022,
          2022,
          2022,
          2022,
          2022,
          2022,
          2022,
          2022,
          2022,
          2022,
          2022,
          2022,
          2022,
          2022,
          2022,
          2022,
          2022,
          2022,
          2022,
          2022,
          2022,
          2022,
          2022,
          2022,
          2022,
          2022,
          2022,
          2022,
          2022,
          2022,
          2022,
          2022,
          2022,
          2022,
          2022,
          2022,
          2022,
          2022,
          2022,
          2022,
          2022,
          2022,
          2022,
          2022,
          2022,
          2022,
          2022,
          2022,
          2022,
          2022,
          2022,
          2022,
          2022,
          2022,
          2022,
          2022,
          2022,
          2020,
          2022,
          2022,
          2022,
          2022,
          2022,
          2022,
          2022,
          2022,
          2022,
          2022,
          2022,
          2022,
          2022,
          2022,
          2022,
          2022,
          2022,
          2022,
          2022,
          2022,
          2022,
          2022,
          2022,
          2022,
          2022,
          2022,
          2022,
          2022,
          2022,
          2022,
          2022,
          2022,
          2022,
          2022,
          2022,
          2022,
          2022,
          2022,
          2022,
          2022,
          2022,
          2022,
          2022,
          2022,
          2022,
          2022,
          2022,
          2022,
          2022,
          2022,
          2022,
          2022,
          2022,
          2022,
          2022,
          2022,
          2022,
          2022,
          2022,
          2022,
          2022,
          2022,
          2022,
          2022,
          2022,
          2022,
          2022,
          2022,
          2022,
          2022,
          2020,
          2022,
          2021,
          2021,
          2022,
          2022,
          2021,
          2021,
          2022,
          2022,
          2021,
          2021,
          2021,
          2021,
          2020,
          2020,
          2021,
          2020,
          2020,
          2021,
          2020,
          2020,
          2021,
          2020,
          2021,
          2021,
          2021,
          2021,
          2021,
          2021,
          2021,
          2020,
          2020,
          2020,
          2021,
          2021,
          2021,
          2020,
          2021,
          2021,
          2021,
          2021,
          2021,
          2021,
          2021,
          2020,
          2021,
          2021,
          2021,
          2021
         ],
         "xaxis": "x",
         "yaxis": "y"
        },
        {
         "alignmentgroup": "True",
         "bingroup": "x",
         "hovertemplate": "remote_ratio=Hybrid<br>work_year=%{x}<br>count=%{y}<extra></extra>",
         "legendgroup": "Hybrid",
         "marker": {
          "color": "#00cc96",
          "pattern": {
           "shape": ""
          }
         },
         "name": "Hybrid",
         "offsetgroup": "Hybrid",
         "orientation": "v",
         "showlegend": true,
         "texttemplate": "%{value}",
         "type": "histogram",
         "x": [
          2022,
          2022,
          2023,
          2023,
          2023,
          2023,
          2023,
          2023,
          2023,
          2023,
          2023,
          2023,
          2023,
          2023,
          2023,
          2023,
          2023,
          2023,
          2023,
          2023,
          2023,
          2023,
          2023,
          2021,
          2023,
          2023,
          2022,
          2023,
          2022,
          2023,
          2023,
          2023,
          2023,
          2023,
          2023,
          2022,
          2022,
          2022,
          2022,
          2022,
          2022,
          2021,
          2022,
          2022,
          2022,
          2022,
          2022,
          2022,
          2021,
          2022,
          2022,
          2022,
          2022,
          2022,
          2022,
          2022,
          2022,
          2021,
          2021,
          2022,
          2022,
          2022,
          2022,
          2021,
          2022,
          2022,
          2022,
          2021,
          2022,
          2021,
          2022,
          2022,
          2022,
          2021,
          2022,
          2022,
          2022,
          2022,
          2022,
          2022,
          2022,
          2022,
          2022,
          2021,
          2022,
          2022,
          2022,
          2022,
          2022,
          2022,
          2022,
          2022,
          2021,
          2020,
          2022,
          2022,
          2022,
          2022,
          2021,
          2022,
          2022,
          2022,
          2021,
          2021,
          2021,
          2022,
          2022,
          2022,
          2021,
          2021,
          2021,
          2021,
          2021,
          2021,
          2021,
          2021,
          2021,
          2021,
          2021,
          2021,
          2020,
          2020,
          2021,
          2021,
          2021,
          2021,
          2020,
          2021,
          2021,
          2020,
          2021,
          2021,
          2020,
          2021,
          2021,
          2021,
          2021,
          2020,
          2021,
          2021,
          2021,
          2021,
          2021,
          2020,
          2020,
          2021,
          2020,
          2021,
          2021,
          2021,
          2021,
          2021,
          2021,
          2020,
          2021,
          2021,
          2021,
          2021,
          2021,
          2020,
          2021,
          2021,
          2021,
          2021,
          2021,
          2020,
          2020,
          2021,
          2021,
          2020,
          2021,
          2021,
          2021,
          2020,
          2020,
          2020,
          2021,
          2020,
          2020,
          2021,
          2021,
          2021,
          2021,
          2021,
          2020,
          2021,
          2021,
          2021,
          2021
         ],
         "xaxis": "x",
         "yaxis": "y"
        }
       ],
       "layout": {
        "barmode": "group",
        "legend": {
         "title": {
          "text": "remote_ratio"
         },
         "tracegroupgap": 0
        },
        "template": {
         "data": {
          "bar": [
           {
            "error_x": {
             "color": "#2a3f5f"
            },
            "error_y": {
             "color": "#2a3f5f"
            },
            "marker": {
             "line": {
              "color": "#E5ECF6",
              "width": 0.5
             },
             "pattern": {
              "fillmode": "overlay",
              "size": 10,
              "solidity": 0.2
             }
            },
            "type": "bar"
           }
          ],
          "barpolar": [
           {
            "marker": {
             "line": {
              "color": "#E5ECF6",
              "width": 0.5
             },
             "pattern": {
              "fillmode": "overlay",
              "size": 10,
              "solidity": 0.2
             }
            },
            "type": "barpolar"
           }
          ],
          "carpet": [
           {
            "aaxis": {
             "endlinecolor": "#2a3f5f",
             "gridcolor": "white",
             "linecolor": "white",
             "minorgridcolor": "white",
             "startlinecolor": "#2a3f5f"
            },
            "baxis": {
             "endlinecolor": "#2a3f5f",
             "gridcolor": "white",
             "linecolor": "white",
             "minorgridcolor": "white",
             "startlinecolor": "#2a3f5f"
            },
            "type": "carpet"
           }
          ],
          "choropleth": [
           {
            "colorbar": {
             "outlinewidth": 0,
             "ticks": ""
            },
            "type": "choropleth"
           }
          ],
          "contour": [
           {
            "colorbar": {
             "outlinewidth": 0,
             "ticks": ""
            },
            "colorscale": [
             [
              0,
              "#0d0887"
             ],
             [
              0.1111111111111111,
              "#46039f"
             ],
             [
              0.2222222222222222,
              "#7201a8"
             ],
             [
              0.3333333333333333,
              "#9c179e"
             ],
             [
              0.4444444444444444,
              "#bd3786"
             ],
             [
              0.5555555555555556,
              "#d8576b"
             ],
             [
              0.6666666666666666,
              "#ed7953"
             ],
             [
              0.7777777777777778,
              "#fb9f3a"
             ],
             [
              0.8888888888888888,
              "#fdca26"
             ],
             [
              1,
              "#f0f921"
             ]
            ],
            "type": "contour"
           }
          ],
          "contourcarpet": [
           {
            "colorbar": {
             "outlinewidth": 0,
             "ticks": ""
            },
            "type": "contourcarpet"
           }
          ],
          "heatmap": [
           {
            "colorbar": {
             "outlinewidth": 0,
             "ticks": ""
            },
            "colorscale": [
             [
              0,
              "#0d0887"
             ],
             [
              0.1111111111111111,
              "#46039f"
             ],
             [
              0.2222222222222222,
              "#7201a8"
             ],
             [
              0.3333333333333333,
              "#9c179e"
             ],
             [
              0.4444444444444444,
              "#bd3786"
             ],
             [
              0.5555555555555556,
              "#d8576b"
             ],
             [
              0.6666666666666666,
              "#ed7953"
             ],
             [
              0.7777777777777778,
              "#fb9f3a"
             ],
             [
              0.8888888888888888,
              "#fdca26"
             ],
             [
              1,
              "#f0f921"
             ]
            ],
            "type": "heatmap"
           }
          ],
          "heatmapgl": [
           {
            "colorbar": {
             "outlinewidth": 0,
             "ticks": ""
            },
            "colorscale": [
             [
              0,
              "#0d0887"
             ],
             [
              0.1111111111111111,
              "#46039f"
             ],
             [
              0.2222222222222222,
              "#7201a8"
             ],
             [
              0.3333333333333333,
              "#9c179e"
             ],
             [
              0.4444444444444444,
              "#bd3786"
             ],
             [
              0.5555555555555556,
              "#d8576b"
             ],
             [
              0.6666666666666666,
              "#ed7953"
             ],
             [
              0.7777777777777778,
              "#fb9f3a"
             ],
             [
              0.8888888888888888,
              "#fdca26"
             ],
             [
              1,
              "#f0f921"
             ]
            ],
            "type": "heatmapgl"
           }
          ],
          "histogram": [
           {
            "marker": {
             "pattern": {
              "fillmode": "overlay",
              "size": 10,
              "solidity": 0.2
             }
            },
            "type": "histogram"
           }
          ],
          "histogram2d": [
           {
            "colorbar": {
             "outlinewidth": 0,
             "ticks": ""
            },
            "colorscale": [
             [
              0,
              "#0d0887"
             ],
             [
              0.1111111111111111,
              "#46039f"
             ],
             [
              0.2222222222222222,
              "#7201a8"
             ],
             [
              0.3333333333333333,
              "#9c179e"
             ],
             [
              0.4444444444444444,
              "#bd3786"
             ],
             [
              0.5555555555555556,
              "#d8576b"
             ],
             [
              0.6666666666666666,
              "#ed7953"
             ],
             [
              0.7777777777777778,
              "#fb9f3a"
             ],
             [
              0.8888888888888888,
              "#fdca26"
             ],
             [
              1,
              "#f0f921"
             ]
            ],
            "type": "histogram2d"
           }
          ],
          "histogram2dcontour": [
           {
            "colorbar": {
             "outlinewidth": 0,
             "ticks": ""
            },
            "colorscale": [
             [
              0,
              "#0d0887"
             ],
             [
              0.1111111111111111,
              "#46039f"
             ],
             [
              0.2222222222222222,
              "#7201a8"
             ],
             [
              0.3333333333333333,
              "#9c179e"
             ],
             [
              0.4444444444444444,
              "#bd3786"
             ],
             [
              0.5555555555555556,
              "#d8576b"
             ],
             [
              0.6666666666666666,
              "#ed7953"
             ],
             [
              0.7777777777777778,
              "#fb9f3a"
             ],
             [
              0.8888888888888888,
              "#fdca26"
             ],
             [
              1,
              "#f0f921"
             ]
            ],
            "type": "histogram2dcontour"
           }
          ],
          "mesh3d": [
           {
            "colorbar": {
             "outlinewidth": 0,
             "ticks": ""
            },
            "type": "mesh3d"
           }
          ],
          "parcoords": [
           {
            "line": {
             "colorbar": {
              "outlinewidth": 0,
              "ticks": ""
             }
            },
            "type": "parcoords"
           }
          ],
          "pie": [
           {
            "automargin": true,
            "type": "pie"
           }
          ],
          "scatter": [
           {
            "fillpattern": {
             "fillmode": "overlay",
             "size": 10,
             "solidity": 0.2
            },
            "type": "scatter"
           }
          ],
          "scatter3d": [
           {
            "line": {
             "colorbar": {
              "outlinewidth": 0,
              "ticks": ""
             }
            },
            "marker": {
             "colorbar": {
              "outlinewidth": 0,
              "ticks": ""
             }
            },
            "type": "scatter3d"
           }
          ],
          "scattercarpet": [
           {
            "marker": {
             "colorbar": {
              "outlinewidth": 0,
              "ticks": ""
             }
            },
            "type": "scattercarpet"
           }
          ],
          "scattergeo": [
           {
            "marker": {
             "colorbar": {
              "outlinewidth": 0,
              "ticks": ""
             }
            },
            "type": "scattergeo"
           }
          ],
          "scattergl": [
           {
            "marker": {
             "colorbar": {
              "outlinewidth": 0,
              "ticks": ""
             }
            },
            "type": "scattergl"
           }
          ],
          "scattermapbox": [
           {
            "marker": {
             "colorbar": {
              "outlinewidth": 0,
              "ticks": ""
             }
            },
            "type": "scattermapbox"
           }
          ],
          "scatterpolar": [
           {
            "marker": {
             "colorbar": {
              "outlinewidth": 0,
              "ticks": ""
             }
            },
            "type": "scatterpolar"
           }
          ],
          "scatterpolargl": [
           {
            "marker": {
             "colorbar": {
              "outlinewidth": 0,
              "ticks": ""
             }
            },
            "type": "scatterpolargl"
           }
          ],
          "scatterternary": [
           {
            "marker": {
             "colorbar": {
              "outlinewidth": 0,
              "ticks": ""
             }
            },
            "type": "scatterternary"
           }
          ],
          "surface": [
           {
            "colorbar": {
             "outlinewidth": 0,
             "ticks": ""
            },
            "colorscale": [
             [
              0,
              "#0d0887"
             ],
             [
              0.1111111111111111,
              "#46039f"
             ],
             [
              0.2222222222222222,
              "#7201a8"
             ],
             [
              0.3333333333333333,
              "#9c179e"
             ],
             [
              0.4444444444444444,
              "#bd3786"
             ],
             [
              0.5555555555555556,
              "#d8576b"
             ],
             [
              0.6666666666666666,
              "#ed7953"
             ],
             [
              0.7777777777777778,
              "#fb9f3a"
             ],
             [
              0.8888888888888888,
              "#fdca26"
             ],
             [
              1,
              "#f0f921"
             ]
            ],
            "type": "surface"
           }
          ],
          "table": [
           {
            "cells": {
             "fill": {
              "color": "#EBF0F8"
             },
             "line": {
              "color": "white"
             }
            },
            "header": {
             "fill": {
              "color": "#C8D4E3"
             },
             "line": {
              "color": "white"
             }
            },
            "type": "table"
           }
          ]
         },
         "layout": {
          "annotationdefaults": {
           "arrowcolor": "#2a3f5f",
           "arrowhead": 0,
           "arrowwidth": 1
          },
          "autotypenumbers": "strict",
          "coloraxis": {
           "colorbar": {
            "outlinewidth": 0,
            "ticks": ""
           }
          },
          "colorscale": {
           "diverging": [
            [
             0,
             "#8e0152"
            ],
            [
             0.1,
             "#c51b7d"
            ],
            [
             0.2,
             "#de77ae"
            ],
            [
             0.3,
             "#f1b6da"
            ],
            [
             0.4,
             "#fde0ef"
            ],
            [
             0.5,
             "#f7f7f7"
            ],
            [
             0.6,
             "#e6f5d0"
            ],
            [
             0.7,
             "#b8e186"
            ],
            [
             0.8,
             "#7fbc41"
            ],
            [
             0.9,
             "#4d9221"
            ],
            [
             1,
             "#276419"
            ]
           ],
           "sequential": [
            [
             0,
             "#0d0887"
            ],
            [
             0.1111111111111111,
             "#46039f"
            ],
            [
             0.2222222222222222,
             "#7201a8"
            ],
            [
             0.3333333333333333,
             "#9c179e"
            ],
            [
             0.4444444444444444,
             "#bd3786"
            ],
            [
             0.5555555555555556,
             "#d8576b"
            ],
            [
             0.6666666666666666,
             "#ed7953"
            ],
            [
             0.7777777777777778,
             "#fb9f3a"
            ],
            [
             0.8888888888888888,
             "#fdca26"
            ],
            [
             1,
             "#f0f921"
            ]
           ],
           "sequentialminus": [
            [
             0,
             "#0d0887"
            ],
            [
             0.1111111111111111,
             "#46039f"
            ],
            [
             0.2222222222222222,
             "#7201a8"
            ],
            [
             0.3333333333333333,
             "#9c179e"
            ],
            [
             0.4444444444444444,
             "#bd3786"
            ],
            [
             0.5555555555555556,
             "#d8576b"
            ],
            [
             0.6666666666666666,
             "#ed7953"
            ],
            [
             0.7777777777777778,
             "#fb9f3a"
            ],
            [
             0.8888888888888888,
             "#fdca26"
            ],
            [
             1,
             "#f0f921"
            ]
           ]
          },
          "colorway": [
           "#636efa",
           "#EF553B",
           "#00cc96",
           "#ab63fa",
           "#FFA15A",
           "#19d3f3",
           "#FF6692",
           "#B6E880",
           "#FF97FF",
           "#FECB52"
          ],
          "font": {
           "color": "#2a3f5f"
          },
          "geo": {
           "bgcolor": "white",
           "lakecolor": "white",
           "landcolor": "#E5ECF6",
           "showlakes": true,
           "showland": true,
           "subunitcolor": "white"
          },
          "hoverlabel": {
           "align": "left"
          },
          "hovermode": "closest",
          "mapbox": {
           "style": "light"
          },
          "paper_bgcolor": "white",
          "plot_bgcolor": "#E5ECF6",
          "polar": {
           "angularaxis": {
            "gridcolor": "white",
            "linecolor": "white",
            "ticks": ""
           },
           "bgcolor": "#E5ECF6",
           "radialaxis": {
            "gridcolor": "white",
            "linecolor": "white",
            "ticks": ""
           }
          },
          "scene": {
           "xaxis": {
            "backgroundcolor": "#E5ECF6",
            "gridcolor": "white",
            "gridwidth": 2,
            "linecolor": "white",
            "showbackground": true,
            "ticks": "",
            "zerolinecolor": "white"
           },
           "yaxis": {
            "backgroundcolor": "#E5ECF6",
            "gridcolor": "white",
            "gridwidth": 2,
            "linecolor": "white",
            "showbackground": true,
            "ticks": "",
            "zerolinecolor": "white"
           },
           "zaxis": {
            "backgroundcolor": "#E5ECF6",
            "gridcolor": "white",
            "gridwidth": 2,
            "linecolor": "white",
            "showbackground": true,
            "ticks": "",
            "zerolinecolor": "white"
           }
          },
          "shapedefaults": {
           "line": {
            "color": "#2a3f5f"
           }
          },
          "ternary": {
           "aaxis": {
            "gridcolor": "white",
            "linecolor": "white",
            "ticks": ""
           },
           "baxis": {
            "gridcolor": "white",
            "linecolor": "white",
            "ticks": ""
           },
           "bgcolor": "#E5ECF6",
           "caxis": {
            "gridcolor": "white",
            "linecolor": "white",
            "ticks": ""
           }
          },
          "title": {
           "x": 0.05
          },
          "xaxis": {
           "automargin": true,
           "gridcolor": "white",
           "linecolor": "white",
           "ticks": "",
           "title": {
            "standoff": 15
           },
           "zerolinecolor": "white",
           "zerolinewidth": 2
          },
          "yaxis": {
           "automargin": true,
           "gridcolor": "white",
           "linecolor": "white",
           "ticks": "",
           "title": {
            "standoff": 15
           },
           "zerolinecolor": "white",
           "zerolinewidth": 2
          }
         }
        },
        "title": {
         "text": "Number of Remote employees per year"
        },
        "xaxis": {
         "anchor": "y",
         "domain": [
          0,
          1
         ],
         "title": {
          "text": "Work Year"
         }
        },
        "yaxis": {
         "anchor": "x",
         "domain": [
          0,
          1
         ],
         "title": {
          "text": "Count"
         }
        }
       }
      }
     },
     "metadata": {},
     "output_type": "display_data"
    }
   ],
   "source": [
    "fig = px.histogram(remote_year, x = 'work_year', color = 'remote_ratio', barmode='group', text_auto=True,\n",
    "                   title = 'Number of Remote employees per year')\n",
    "fig.update_layout(xaxis_title = 'Work Year', yaxis_title = 'Count')\n",
    "fig.show()"
   ]
  },
  {
   "cell_type": "markdown",
   "metadata": {},
   "source": [
    "WHAT WE KNOW:\n",
    "- As the year progresses, the number of fully remote and no-remote employees increased. \n",
    "- This tells us the growth/demand of data science jobs."
   ]
  },
  {
   "cell_type": "markdown",
   "metadata": {},
   "source": [
    "#### 2. Locations of remote employees"
   ]
  },
  {
   "cell_type": "code",
   "execution_count": 35,
   "metadata": {},
   "outputs": [],
   "source": [
    "location_100 = df_ds[df_ds['remote_ratio'] == 'Fully Remote']\n",
    "location_50 = df_ds[df_ds['remote_ratio'] == 'Hybrid']\n",
    "location_0 = df_ds[df_ds['remote_ratio'] == 'No Remote']"
   ]
  },
  {
   "cell_type": "code",
   "execution_count": 36,
   "metadata": {},
   "outputs": [
    {
     "data": {
      "application/vnd.plotly.v1+json": {
       "config": {
        "plotlyServerURL": "https://plot.ly"
       },
       "data": [
        {
         "coloraxis": "coloraxis",
         "geo": "geo",
         "hovertemplate": "locations=%{location}<br>color=%{z}<extra></extra>",
         "locations": [
          "USA",
          "GBR",
          "CAN",
          "IND",
          "ESP",
          "DEU",
          "BRA",
          "FRA",
          "GRC",
          "MEX",
          "NLD",
          "PRT",
          "POL",
          "AUS",
          "ARG",
          "NGA",
          "PAK",
          "PRI",
          "ITA",
          "BEL",
          "SVN",
          "IRL",
          "BOL",
          "VNM",
          "JPN",
          "PHL",
          "CHE",
          "RUS",
          "CAF",
          "CHL",
          "ARE",
          "SGP",
          "KEN",
          "MYS",
          "BGR",
          "TUR",
          "SRB",
          "LUX",
          "TUN",
          "EST",
          "UKR",
          "UZB",
          "EGY",
          "DOM",
          "SWE",
          "THA",
          "CZE",
          "SVK",
          "HUN",
          "IRN",
          "AUT",
          "COL",
          "HRV"
         ],
         "name": "",
         "type": "choropleth",
         "z": [
          1302,
          61,
          45,
          39,
          25,
          17,
          16,
          15,
          12,
          9,
          8,
          8,
          6,
          6,
          6,
          5,
          5,
          4,
          3,
          3,
          3,
          3,
          2,
          2,
          2,
          2,
          2,
          2,
          2,
          2,
          2,
          2,
          2,
          1,
          1,
          1,
          1,
          1,
          1,
          1,
          1,
          1,
          1,
          1,
          1,
          1,
          1,
          1,
          1,
          1,
          1,
          1,
          1
         ]
        }
       ],
       "layout": {
        "coloraxis": {
         "colorbar": {
          "title": {
           "text": "color"
          }
         },
         "colorscale": [
          [
           0,
           "rgb(241, 236, 236)"
          ],
          [
           0.09090909090909091,
           "rgb(230, 209, 203)"
          ],
          [
           0.18181818181818182,
           "rgb(221, 182, 170)"
          ],
          [
           0.2727272727272727,
           "rgb(213, 156, 137)"
          ],
          [
           0.36363636363636365,
           "rgb(205, 129, 103)"
          ],
          [
           0.45454545454545453,
           "rgb(196, 102, 73)"
          ],
          [
           0.5454545454545454,
           "rgb(186, 74, 47)"
          ],
          [
           0.6363636363636364,
           "rgb(172, 44, 36)"
          ],
          [
           0.7272727272727273,
           "rgb(149, 19, 39)"
          ],
          [
           0.8181818181818182,
           "rgb(120, 14, 40)"
          ],
          [
           0.9090909090909091,
           "rgb(89, 13, 31)"
          ],
          [
           1,
           "rgb(60, 9, 17)"
          ]
         ]
        },
        "geo": {
         "center": {},
         "domain": {
          "x": [
           0,
           1
          ],
          "y": [
           0,
           1
          ]
         }
        },
        "legend": {
         "tracegroupgap": 0
        },
        "template": {
         "data": {
          "bar": [
           {
            "error_x": {
             "color": "#2a3f5f"
            },
            "error_y": {
             "color": "#2a3f5f"
            },
            "marker": {
             "line": {
              "color": "#E5ECF6",
              "width": 0.5
             },
             "pattern": {
              "fillmode": "overlay",
              "size": 10,
              "solidity": 0.2
             }
            },
            "type": "bar"
           }
          ],
          "barpolar": [
           {
            "marker": {
             "line": {
              "color": "#E5ECF6",
              "width": 0.5
             },
             "pattern": {
              "fillmode": "overlay",
              "size": 10,
              "solidity": 0.2
             }
            },
            "type": "barpolar"
           }
          ],
          "carpet": [
           {
            "aaxis": {
             "endlinecolor": "#2a3f5f",
             "gridcolor": "white",
             "linecolor": "white",
             "minorgridcolor": "white",
             "startlinecolor": "#2a3f5f"
            },
            "baxis": {
             "endlinecolor": "#2a3f5f",
             "gridcolor": "white",
             "linecolor": "white",
             "minorgridcolor": "white",
             "startlinecolor": "#2a3f5f"
            },
            "type": "carpet"
           }
          ],
          "choropleth": [
           {
            "colorbar": {
             "outlinewidth": 0,
             "ticks": ""
            },
            "type": "choropleth"
           }
          ],
          "contour": [
           {
            "colorbar": {
             "outlinewidth": 0,
             "ticks": ""
            },
            "colorscale": [
             [
              0,
              "#0d0887"
             ],
             [
              0.1111111111111111,
              "#46039f"
             ],
             [
              0.2222222222222222,
              "#7201a8"
             ],
             [
              0.3333333333333333,
              "#9c179e"
             ],
             [
              0.4444444444444444,
              "#bd3786"
             ],
             [
              0.5555555555555556,
              "#d8576b"
             ],
             [
              0.6666666666666666,
              "#ed7953"
             ],
             [
              0.7777777777777778,
              "#fb9f3a"
             ],
             [
              0.8888888888888888,
              "#fdca26"
             ],
             [
              1,
              "#f0f921"
             ]
            ],
            "type": "contour"
           }
          ],
          "contourcarpet": [
           {
            "colorbar": {
             "outlinewidth": 0,
             "ticks": ""
            },
            "type": "contourcarpet"
           }
          ],
          "heatmap": [
           {
            "colorbar": {
             "outlinewidth": 0,
             "ticks": ""
            },
            "colorscale": [
             [
              0,
              "#0d0887"
             ],
             [
              0.1111111111111111,
              "#46039f"
             ],
             [
              0.2222222222222222,
              "#7201a8"
             ],
             [
              0.3333333333333333,
              "#9c179e"
             ],
             [
              0.4444444444444444,
              "#bd3786"
             ],
             [
              0.5555555555555556,
              "#d8576b"
             ],
             [
              0.6666666666666666,
              "#ed7953"
             ],
             [
              0.7777777777777778,
              "#fb9f3a"
             ],
             [
              0.8888888888888888,
              "#fdca26"
             ],
             [
              1,
              "#f0f921"
             ]
            ],
            "type": "heatmap"
           }
          ],
          "heatmapgl": [
           {
            "colorbar": {
             "outlinewidth": 0,
             "ticks": ""
            },
            "colorscale": [
             [
              0,
              "#0d0887"
             ],
             [
              0.1111111111111111,
              "#46039f"
             ],
             [
              0.2222222222222222,
              "#7201a8"
             ],
             [
              0.3333333333333333,
              "#9c179e"
             ],
             [
              0.4444444444444444,
              "#bd3786"
             ],
             [
              0.5555555555555556,
              "#d8576b"
             ],
             [
              0.6666666666666666,
              "#ed7953"
             ],
             [
              0.7777777777777778,
              "#fb9f3a"
             ],
             [
              0.8888888888888888,
              "#fdca26"
             ],
             [
              1,
              "#f0f921"
             ]
            ],
            "type": "heatmapgl"
           }
          ],
          "histogram": [
           {
            "marker": {
             "pattern": {
              "fillmode": "overlay",
              "size": 10,
              "solidity": 0.2
             }
            },
            "type": "histogram"
           }
          ],
          "histogram2d": [
           {
            "colorbar": {
             "outlinewidth": 0,
             "ticks": ""
            },
            "colorscale": [
             [
              0,
              "#0d0887"
             ],
             [
              0.1111111111111111,
              "#46039f"
             ],
             [
              0.2222222222222222,
              "#7201a8"
             ],
             [
              0.3333333333333333,
              "#9c179e"
             ],
             [
              0.4444444444444444,
              "#bd3786"
             ],
             [
              0.5555555555555556,
              "#d8576b"
             ],
             [
              0.6666666666666666,
              "#ed7953"
             ],
             [
              0.7777777777777778,
              "#fb9f3a"
             ],
             [
              0.8888888888888888,
              "#fdca26"
             ],
             [
              1,
              "#f0f921"
             ]
            ],
            "type": "histogram2d"
           }
          ],
          "histogram2dcontour": [
           {
            "colorbar": {
             "outlinewidth": 0,
             "ticks": ""
            },
            "colorscale": [
             [
              0,
              "#0d0887"
             ],
             [
              0.1111111111111111,
              "#46039f"
             ],
             [
              0.2222222222222222,
              "#7201a8"
             ],
             [
              0.3333333333333333,
              "#9c179e"
             ],
             [
              0.4444444444444444,
              "#bd3786"
             ],
             [
              0.5555555555555556,
              "#d8576b"
             ],
             [
              0.6666666666666666,
              "#ed7953"
             ],
             [
              0.7777777777777778,
              "#fb9f3a"
             ],
             [
              0.8888888888888888,
              "#fdca26"
             ],
             [
              1,
              "#f0f921"
             ]
            ],
            "type": "histogram2dcontour"
           }
          ],
          "mesh3d": [
           {
            "colorbar": {
             "outlinewidth": 0,
             "ticks": ""
            },
            "type": "mesh3d"
           }
          ],
          "parcoords": [
           {
            "line": {
             "colorbar": {
              "outlinewidth": 0,
              "ticks": ""
             }
            },
            "type": "parcoords"
           }
          ],
          "pie": [
           {
            "automargin": true,
            "type": "pie"
           }
          ],
          "scatter": [
           {
            "fillpattern": {
             "fillmode": "overlay",
             "size": 10,
             "solidity": 0.2
            },
            "type": "scatter"
           }
          ],
          "scatter3d": [
           {
            "line": {
             "colorbar": {
              "outlinewidth": 0,
              "ticks": ""
             }
            },
            "marker": {
             "colorbar": {
              "outlinewidth": 0,
              "ticks": ""
             }
            },
            "type": "scatter3d"
           }
          ],
          "scattercarpet": [
           {
            "marker": {
             "colorbar": {
              "outlinewidth": 0,
              "ticks": ""
             }
            },
            "type": "scattercarpet"
           }
          ],
          "scattergeo": [
           {
            "marker": {
             "colorbar": {
              "outlinewidth": 0,
              "ticks": ""
             }
            },
            "type": "scattergeo"
           }
          ],
          "scattergl": [
           {
            "marker": {
             "colorbar": {
              "outlinewidth": 0,
              "ticks": ""
             }
            },
            "type": "scattergl"
           }
          ],
          "scattermapbox": [
           {
            "marker": {
             "colorbar": {
              "outlinewidth": 0,
              "ticks": ""
             }
            },
            "type": "scattermapbox"
           }
          ],
          "scatterpolar": [
           {
            "marker": {
             "colorbar": {
              "outlinewidth": 0,
              "ticks": ""
             }
            },
            "type": "scatterpolar"
           }
          ],
          "scatterpolargl": [
           {
            "marker": {
             "colorbar": {
              "outlinewidth": 0,
              "ticks": ""
             }
            },
            "type": "scatterpolargl"
           }
          ],
          "scatterternary": [
           {
            "marker": {
             "colorbar": {
              "outlinewidth": 0,
              "ticks": ""
             }
            },
            "type": "scatterternary"
           }
          ],
          "surface": [
           {
            "colorbar": {
             "outlinewidth": 0,
             "ticks": ""
            },
            "colorscale": [
             [
              0,
              "#0d0887"
             ],
             [
              0.1111111111111111,
              "#46039f"
             ],
             [
              0.2222222222222222,
              "#7201a8"
             ],
             [
              0.3333333333333333,
              "#9c179e"
             ],
             [
              0.4444444444444444,
              "#bd3786"
             ],
             [
              0.5555555555555556,
              "#d8576b"
             ],
             [
              0.6666666666666666,
              "#ed7953"
             ],
             [
              0.7777777777777778,
              "#fb9f3a"
             ],
             [
              0.8888888888888888,
              "#fdca26"
             ],
             [
              1,
              "#f0f921"
             ]
            ],
            "type": "surface"
           }
          ],
          "table": [
           {
            "cells": {
             "fill": {
              "color": "#EBF0F8"
             },
             "line": {
              "color": "white"
             }
            },
            "header": {
             "fill": {
              "color": "#C8D4E3"
             },
             "line": {
              "color": "white"
             }
            },
            "type": "table"
           }
          ]
         },
         "layout": {
          "annotationdefaults": {
           "arrowcolor": "#2a3f5f",
           "arrowhead": 0,
           "arrowwidth": 1
          },
          "autotypenumbers": "strict",
          "coloraxis": {
           "colorbar": {
            "outlinewidth": 0,
            "ticks": ""
           }
          },
          "colorscale": {
           "diverging": [
            [
             0,
             "#8e0152"
            ],
            [
             0.1,
             "#c51b7d"
            ],
            [
             0.2,
             "#de77ae"
            ],
            [
             0.3,
             "#f1b6da"
            ],
            [
             0.4,
             "#fde0ef"
            ],
            [
             0.5,
             "#f7f7f7"
            ],
            [
             0.6,
             "#e6f5d0"
            ],
            [
             0.7,
             "#b8e186"
            ],
            [
             0.8,
             "#7fbc41"
            ],
            [
             0.9,
             "#4d9221"
            ],
            [
             1,
             "#276419"
            ]
           ],
           "sequential": [
            [
             0,
             "#0d0887"
            ],
            [
             0.1111111111111111,
             "#46039f"
            ],
            [
             0.2222222222222222,
             "#7201a8"
            ],
            [
             0.3333333333333333,
             "#9c179e"
            ],
            [
             0.4444444444444444,
             "#bd3786"
            ],
            [
             0.5555555555555556,
             "#d8576b"
            ],
            [
             0.6666666666666666,
             "#ed7953"
            ],
            [
             0.7777777777777778,
             "#fb9f3a"
            ],
            [
             0.8888888888888888,
             "#fdca26"
            ],
            [
             1,
             "#f0f921"
            ]
           ],
           "sequentialminus": [
            [
             0,
             "#0d0887"
            ],
            [
             0.1111111111111111,
             "#46039f"
            ],
            [
             0.2222222222222222,
             "#7201a8"
            ],
            [
             0.3333333333333333,
             "#9c179e"
            ],
            [
             0.4444444444444444,
             "#bd3786"
            ],
            [
             0.5555555555555556,
             "#d8576b"
            ],
            [
             0.6666666666666666,
             "#ed7953"
            ],
            [
             0.7777777777777778,
             "#fb9f3a"
            ],
            [
             0.8888888888888888,
             "#fdca26"
            ],
            [
             1,
             "#f0f921"
            ]
           ]
          },
          "colorway": [
           "#636efa",
           "#EF553B",
           "#00cc96",
           "#ab63fa",
           "#FFA15A",
           "#19d3f3",
           "#FF6692",
           "#B6E880",
           "#FF97FF",
           "#FECB52"
          ],
          "font": {
           "color": "#2a3f5f"
          },
          "geo": {
           "bgcolor": "white",
           "lakecolor": "white",
           "landcolor": "#E5ECF6",
           "showlakes": true,
           "showland": true,
           "subunitcolor": "white"
          },
          "hoverlabel": {
           "align": "left"
          },
          "hovermode": "closest",
          "mapbox": {
           "style": "light"
          },
          "paper_bgcolor": "white",
          "plot_bgcolor": "#E5ECF6",
          "polar": {
           "angularaxis": {
            "gridcolor": "white",
            "linecolor": "white",
            "ticks": ""
           },
           "bgcolor": "#E5ECF6",
           "radialaxis": {
            "gridcolor": "white",
            "linecolor": "white",
            "ticks": ""
           }
          },
          "scene": {
           "xaxis": {
            "backgroundcolor": "#E5ECF6",
            "gridcolor": "white",
            "gridwidth": 2,
            "linecolor": "white",
            "showbackground": true,
            "ticks": "",
            "zerolinecolor": "white"
           },
           "yaxis": {
            "backgroundcolor": "#E5ECF6",
            "gridcolor": "white",
            "gridwidth": 2,
            "linecolor": "white",
            "showbackground": true,
            "ticks": "",
            "zerolinecolor": "white"
           },
           "zaxis": {
            "backgroundcolor": "#E5ECF6",
            "gridcolor": "white",
            "gridwidth": 2,
            "linecolor": "white",
            "showbackground": true,
            "ticks": "",
            "zerolinecolor": "white"
           }
          },
          "shapedefaults": {
           "line": {
            "color": "#2a3f5f"
           }
          },
          "ternary": {
           "aaxis": {
            "gridcolor": "white",
            "linecolor": "white",
            "ticks": ""
           },
           "baxis": {
            "gridcolor": "white",
            "linecolor": "white",
            "ticks": ""
           },
           "bgcolor": "#E5ECF6",
           "caxis": {
            "gridcolor": "white",
            "linecolor": "white",
            "ticks": ""
           }
          },
          "title": {
           "x": 0.05
          },
          "xaxis": {
           "automargin": true,
           "gridcolor": "white",
           "linecolor": "white",
           "ticks": "",
           "title": {
            "standoff": 15
           },
           "zerolinecolor": "white",
           "zerolinewidth": 2
          },
          "yaxis": {
           "automargin": true,
           "gridcolor": "white",
           "linecolor": "white",
           "ticks": "",
           "title": {
            "standoff": 15
           },
           "zerolinecolor": "white",
           "zerolinewidth": 2
          }
         }
        },
        "title": {
         "text": "Locations of \"Fully-Remote\" Employees"
        }
       }
      }
     },
     "metadata": {},
     "output_type": "display_data"
    }
   ],
   "source": [
    "#### Remote ratio of 100\n",
    "\n",
    "location_mean = location_100['employee_residence'].value_counts()\n",
    "\n",
    "fig = px.choropleth(locations = location_mean.index, color = location_mean.values, \n",
    "                    color_continuous_scale = px.colors.sequential.amp,\n",
    "                    title = 'Locations of \"Fully-Remote\" Employees')\n",
    "fig.show()"
   ]
  },
  {
   "cell_type": "code",
   "execution_count": 37,
   "metadata": {},
   "outputs": [
    {
     "data": {
      "application/vnd.plotly.v1+json": {
       "config": {
        "plotlyServerURL": "https://plot.ly"
       },
       "data": [
        {
         "coloraxis": "coloraxis",
         "geo": "geo",
         "hovertemplate": "locations=%{location}<br>color=%{z}<extra></extra>",
         "locations": [
          "USA",
          "IND",
          "FRA",
          "GBR",
          "DEU",
          "CAN",
          "ESP",
          "AUS",
          "ITA",
          "PRT",
          "DNK",
          "NLD",
          "SGP",
          "JPN",
          "AUT",
          "THA",
          "HUN",
          "TUR",
          "BEL",
          "ROU",
          "GRC",
          "PAK",
          "PRI",
          "NZL",
          "RUS",
          "IRQ",
          "DZA",
          "HKG",
          "CZE",
          "SVN",
          "COL",
          "FIN",
          "BOL",
          "NGA",
          "CRI",
          "CHE",
          "CHN",
          "UKR",
          "ASM",
          "MAR",
          "BIH",
          "CYP",
          "SWE",
          "KWT",
          "MLT"
         ],
         "name": "",
         "type": "choropleth",
         "z": [
          35,
          22,
          21,
          16,
          15,
          12,
          6,
          4,
          3,
          3,
          3,
          3,
          3,
          3,
          3,
          2,
          2,
          2,
          2,
          2,
          2,
          2,
          1,
          1,
          1,
          1,
          1,
          1,
          1,
          1,
          1,
          1,
          1,
          1,
          1,
          1,
          1,
          1,
          1,
          1,
          1,
          1,
          1,
          1,
          1
         ]
        }
       ],
       "layout": {
        "coloraxis": {
         "colorbar": {
          "title": {
           "text": "color"
          }
         },
         "colorscale": [
          [
           0,
           "rgb(241, 236, 236)"
          ],
          [
           0.09090909090909091,
           "rgb(230, 209, 203)"
          ],
          [
           0.18181818181818182,
           "rgb(221, 182, 170)"
          ],
          [
           0.2727272727272727,
           "rgb(213, 156, 137)"
          ],
          [
           0.36363636363636365,
           "rgb(205, 129, 103)"
          ],
          [
           0.45454545454545453,
           "rgb(196, 102, 73)"
          ],
          [
           0.5454545454545454,
           "rgb(186, 74, 47)"
          ],
          [
           0.6363636363636364,
           "rgb(172, 44, 36)"
          ],
          [
           0.7272727272727273,
           "rgb(149, 19, 39)"
          ],
          [
           0.8181818181818182,
           "rgb(120, 14, 40)"
          ],
          [
           0.9090909090909091,
           "rgb(89, 13, 31)"
          ],
          [
           1,
           "rgb(60, 9, 17)"
          ]
         ]
        },
        "geo": {
         "center": {},
         "domain": {
          "x": [
           0,
           1
          ],
          "y": [
           0,
           1
          ]
         }
        },
        "legend": {
         "tracegroupgap": 0
        },
        "template": {
         "data": {
          "bar": [
           {
            "error_x": {
             "color": "#2a3f5f"
            },
            "error_y": {
             "color": "#2a3f5f"
            },
            "marker": {
             "line": {
              "color": "#E5ECF6",
              "width": 0.5
             },
             "pattern": {
              "fillmode": "overlay",
              "size": 10,
              "solidity": 0.2
             }
            },
            "type": "bar"
           }
          ],
          "barpolar": [
           {
            "marker": {
             "line": {
              "color": "#E5ECF6",
              "width": 0.5
             },
             "pattern": {
              "fillmode": "overlay",
              "size": 10,
              "solidity": 0.2
             }
            },
            "type": "barpolar"
           }
          ],
          "carpet": [
           {
            "aaxis": {
             "endlinecolor": "#2a3f5f",
             "gridcolor": "white",
             "linecolor": "white",
             "minorgridcolor": "white",
             "startlinecolor": "#2a3f5f"
            },
            "baxis": {
             "endlinecolor": "#2a3f5f",
             "gridcolor": "white",
             "linecolor": "white",
             "minorgridcolor": "white",
             "startlinecolor": "#2a3f5f"
            },
            "type": "carpet"
           }
          ],
          "choropleth": [
           {
            "colorbar": {
             "outlinewidth": 0,
             "ticks": ""
            },
            "type": "choropleth"
           }
          ],
          "contour": [
           {
            "colorbar": {
             "outlinewidth": 0,
             "ticks": ""
            },
            "colorscale": [
             [
              0,
              "#0d0887"
             ],
             [
              0.1111111111111111,
              "#46039f"
             ],
             [
              0.2222222222222222,
              "#7201a8"
             ],
             [
              0.3333333333333333,
              "#9c179e"
             ],
             [
              0.4444444444444444,
              "#bd3786"
             ],
             [
              0.5555555555555556,
              "#d8576b"
             ],
             [
              0.6666666666666666,
              "#ed7953"
             ],
             [
              0.7777777777777778,
              "#fb9f3a"
             ],
             [
              0.8888888888888888,
              "#fdca26"
             ],
             [
              1,
              "#f0f921"
             ]
            ],
            "type": "contour"
           }
          ],
          "contourcarpet": [
           {
            "colorbar": {
             "outlinewidth": 0,
             "ticks": ""
            },
            "type": "contourcarpet"
           }
          ],
          "heatmap": [
           {
            "colorbar": {
             "outlinewidth": 0,
             "ticks": ""
            },
            "colorscale": [
             [
              0,
              "#0d0887"
             ],
             [
              0.1111111111111111,
              "#46039f"
             ],
             [
              0.2222222222222222,
              "#7201a8"
             ],
             [
              0.3333333333333333,
              "#9c179e"
             ],
             [
              0.4444444444444444,
              "#bd3786"
             ],
             [
              0.5555555555555556,
              "#d8576b"
             ],
             [
              0.6666666666666666,
              "#ed7953"
             ],
             [
              0.7777777777777778,
              "#fb9f3a"
             ],
             [
              0.8888888888888888,
              "#fdca26"
             ],
             [
              1,
              "#f0f921"
             ]
            ],
            "type": "heatmap"
           }
          ],
          "heatmapgl": [
           {
            "colorbar": {
             "outlinewidth": 0,
             "ticks": ""
            },
            "colorscale": [
             [
              0,
              "#0d0887"
             ],
             [
              0.1111111111111111,
              "#46039f"
             ],
             [
              0.2222222222222222,
              "#7201a8"
             ],
             [
              0.3333333333333333,
              "#9c179e"
             ],
             [
              0.4444444444444444,
              "#bd3786"
             ],
             [
              0.5555555555555556,
              "#d8576b"
             ],
             [
              0.6666666666666666,
              "#ed7953"
             ],
             [
              0.7777777777777778,
              "#fb9f3a"
             ],
             [
              0.8888888888888888,
              "#fdca26"
             ],
             [
              1,
              "#f0f921"
             ]
            ],
            "type": "heatmapgl"
           }
          ],
          "histogram": [
           {
            "marker": {
             "pattern": {
              "fillmode": "overlay",
              "size": 10,
              "solidity": 0.2
             }
            },
            "type": "histogram"
           }
          ],
          "histogram2d": [
           {
            "colorbar": {
             "outlinewidth": 0,
             "ticks": ""
            },
            "colorscale": [
             [
              0,
              "#0d0887"
             ],
             [
              0.1111111111111111,
              "#46039f"
             ],
             [
              0.2222222222222222,
              "#7201a8"
             ],
             [
              0.3333333333333333,
              "#9c179e"
             ],
             [
              0.4444444444444444,
              "#bd3786"
             ],
             [
              0.5555555555555556,
              "#d8576b"
             ],
             [
              0.6666666666666666,
              "#ed7953"
             ],
             [
              0.7777777777777778,
              "#fb9f3a"
             ],
             [
              0.8888888888888888,
              "#fdca26"
             ],
             [
              1,
              "#f0f921"
             ]
            ],
            "type": "histogram2d"
           }
          ],
          "histogram2dcontour": [
           {
            "colorbar": {
             "outlinewidth": 0,
             "ticks": ""
            },
            "colorscale": [
             [
              0,
              "#0d0887"
             ],
             [
              0.1111111111111111,
              "#46039f"
             ],
             [
              0.2222222222222222,
              "#7201a8"
             ],
             [
              0.3333333333333333,
              "#9c179e"
             ],
             [
              0.4444444444444444,
              "#bd3786"
             ],
             [
              0.5555555555555556,
              "#d8576b"
             ],
             [
              0.6666666666666666,
              "#ed7953"
             ],
             [
              0.7777777777777778,
              "#fb9f3a"
             ],
             [
              0.8888888888888888,
              "#fdca26"
             ],
             [
              1,
              "#f0f921"
             ]
            ],
            "type": "histogram2dcontour"
           }
          ],
          "mesh3d": [
           {
            "colorbar": {
             "outlinewidth": 0,
             "ticks": ""
            },
            "type": "mesh3d"
           }
          ],
          "parcoords": [
           {
            "line": {
             "colorbar": {
              "outlinewidth": 0,
              "ticks": ""
             }
            },
            "type": "parcoords"
           }
          ],
          "pie": [
           {
            "automargin": true,
            "type": "pie"
           }
          ],
          "scatter": [
           {
            "fillpattern": {
             "fillmode": "overlay",
             "size": 10,
             "solidity": 0.2
            },
            "type": "scatter"
           }
          ],
          "scatter3d": [
           {
            "line": {
             "colorbar": {
              "outlinewidth": 0,
              "ticks": ""
             }
            },
            "marker": {
             "colorbar": {
              "outlinewidth": 0,
              "ticks": ""
             }
            },
            "type": "scatter3d"
           }
          ],
          "scattercarpet": [
           {
            "marker": {
             "colorbar": {
              "outlinewidth": 0,
              "ticks": ""
             }
            },
            "type": "scattercarpet"
           }
          ],
          "scattergeo": [
           {
            "marker": {
             "colorbar": {
              "outlinewidth": 0,
              "ticks": ""
             }
            },
            "type": "scattergeo"
           }
          ],
          "scattergl": [
           {
            "marker": {
             "colorbar": {
              "outlinewidth": 0,
              "ticks": ""
             }
            },
            "type": "scattergl"
           }
          ],
          "scattermapbox": [
           {
            "marker": {
             "colorbar": {
              "outlinewidth": 0,
              "ticks": ""
             }
            },
            "type": "scattermapbox"
           }
          ],
          "scatterpolar": [
           {
            "marker": {
             "colorbar": {
              "outlinewidth": 0,
              "ticks": ""
             }
            },
            "type": "scatterpolar"
           }
          ],
          "scatterpolargl": [
           {
            "marker": {
             "colorbar": {
              "outlinewidth": 0,
              "ticks": ""
             }
            },
            "type": "scatterpolargl"
           }
          ],
          "scatterternary": [
           {
            "marker": {
             "colorbar": {
              "outlinewidth": 0,
              "ticks": ""
             }
            },
            "type": "scatterternary"
           }
          ],
          "surface": [
           {
            "colorbar": {
             "outlinewidth": 0,
             "ticks": ""
            },
            "colorscale": [
             [
              0,
              "#0d0887"
             ],
             [
              0.1111111111111111,
              "#46039f"
             ],
             [
              0.2222222222222222,
              "#7201a8"
             ],
             [
              0.3333333333333333,
              "#9c179e"
             ],
             [
              0.4444444444444444,
              "#bd3786"
             ],
             [
              0.5555555555555556,
              "#d8576b"
             ],
             [
              0.6666666666666666,
              "#ed7953"
             ],
             [
              0.7777777777777778,
              "#fb9f3a"
             ],
             [
              0.8888888888888888,
              "#fdca26"
             ],
             [
              1,
              "#f0f921"
             ]
            ],
            "type": "surface"
           }
          ],
          "table": [
           {
            "cells": {
             "fill": {
              "color": "#EBF0F8"
             },
             "line": {
              "color": "white"
             }
            },
            "header": {
             "fill": {
              "color": "#C8D4E3"
             },
             "line": {
              "color": "white"
             }
            },
            "type": "table"
           }
          ]
         },
         "layout": {
          "annotationdefaults": {
           "arrowcolor": "#2a3f5f",
           "arrowhead": 0,
           "arrowwidth": 1
          },
          "autotypenumbers": "strict",
          "coloraxis": {
           "colorbar": {
            "outlinewidth": 0,
            "ticks": ""
           }
          },
          "colorscale": {
           "diverging": [
            [
             0,
             "#8e0152"
            ],
            [
             0.1,
             "#c51b7d"
            ],
            [
             0.2,
             "#de77ae"
            ],
            [
             0.3,
             "#f1b6da"
            ],
            [
             0.4,
             "#fde0ef"
            ],
            [
             0.5,
             "#f7f7f7"
            ],
            [
             0.6,
             "#e6f5d0"
            ],
            [
             0.7,
             "#b8e186"
            ],
            [
             0.8,
             "#7fbc41"
            ],
            [
             0.9,
             "#4d9221"
            ],
            [
             1,
             "#276419"
            ]
           ],
           "sequential": [
            [
             0,
             "#0d0887"
            ],
            [
             0.1111111111111111,
             "#46039f"
            ],
            [
             0.2222222222222222,
             "#7201a8"
            ],
            [
             0.3333333333333333,
             "#9c179e"
            ],
            [
             0.4444444444444444,
             "#bd3786"
            ],
            [
             0.5555555555555556,
             "#d8576b"
            ],
            [
             0.6666666666666666,
             "#ed7953"
            ],
            [
             0.7777777777777778,
             "#fb9f3a"
            ],
            [
             0.8888888888888888,
             "#fdca26"
            ],
            [
             1,
             "#f0f921"
            ]
           ],
           "sequentialminus": [
            [
             0,
             "#0d0887"
            ],
            [
             0.1111111111111111,
             "#46039f"
            ],
            [
             0.2222222222222222,
             "#7201a8"
            ],
            [
             0.3333333333333333,
             "#9c179e"
            ],
            [
             0.4444444444444444,
             "#bd3786"
            ],
            [
             0.5555555555555556,
             "#d8576b"
            ],
            [
             0.6666666666666666,
             "#ed7953"
            ],
            [
             0.7777777777777778,
             "#fb9f3a"
            ],
            [
             0.8888888888888888,
             "#fdca26"
            ],
            [
             1,
             "#f0f921"
            ]
           ]
          },
          "colorway": [
           "#636efa",
           "#EF553B",
           "#00cc96",
           "#ab63fa",
           "#FFA15A",
           "#19d3f3",
           "#FF6692",
           "#B6E880",
           "#FF97FF",
           "#FECB52"
          ],
          "font": {
           "color": "#2a3f5f"
          },
          "geo": {
           "bgcolor": "white",
           "lakecolor": "white",
           "landcolor": "#E5ECF6",
           "showlakes": true,
           "showland": true,
           "subunitcolor": "white"
          },
          "hoverlabel": {
           "align": "left"
          },
          "hovermode": "closest",
          "mapbox": {
           "style": "light"
          },
          "paper_bgcolor": "white",
          "plot_bgcolor": "#E5ECF6",
          "polar": {
           "angularaxis": {
            "gridcolor": "white",
            "linecolor": "white",
            "ticks": ""
           },
           "bgcolor": "#E5ECF6",
           "radialaxis": {
            "gridcolor": "white",
            "linecolor": "white",
            "ticks": ""
           }
          },
          "scene": {
           "xaxis": {
            "backgroundcolor": "#E5ECF6",
            "gridcolor": "white",
            "gridwidth": 2,
            "linecolor": "white",
            "showbackground": true,
            "ticks": "",
            "zerolinecolor": "white"
           },
           "yaxis": {
            "backgroundcolor": "#E5ECF6",
            "gridcolor": "white",
            "gridwidth": 2,
            "linecolor": "white",
            "showbackground": true,
            "ticks": "",
            "zerolinecolor": "white"
           },
           "zaxis": {
            "backgroundcolor": "#E5ECF6",
            "gridcolor": "white",
            "gridwidth": 2,
            "linecolor": "white",
            "showbackground": true,
            "ticks": "",
            "zerolinecolor": "white"
           }
          },
          "shapedefaults": {
           "line": {
            "color": "#2a3f5f"
           }
          },
          "ternary": {
           "aaxis": {
            "gridcolor": "white",
            "linecolor": "white",
            "ticks": ""
           },
           "baxis": {
            "gridcolor": "white",
            "linecolor": "white",
            "ticks": ""
           },
           "bgcolor": "#E5ECF6",
           "caxis": {
            "gridcolor": "white",
            "linecolor": "white",
            "ticks": ""
           }
          },
          "title": {
           "x": 0.05
          },
          "xaxis": {
           "automargin": true,
           "gridcolor": "white",
           "linecolor": "white",
           "ticks": "",
           "title": {
            "standoff": 15
           },
           "zerolinecolor": "white",
           "zerolinewidth": 2
          },
          "yaxis": {
           "automargin": true,
           "gridcolor": "white",
           "linecolor": "white",
           "ticks": "",
           "title": {
            "standoff": 15
           },
           "zerolinecolor": "white",
           "zerolinewidth": 2
          }
         }
        },
        "title": {
         "text": "Locations of \"Hybrid\" Employees"
        }
       }
      }
     },
     "metadata": {},
     "output_type": "display_data"
    }
   ],
   "source": [
    "#### Remote ratio of 50\n",
    "\n",
    "location_mean = location_50['employee_residence'].value_counts()\n",
    "\n",
    "fig = px.choropleth(locations = location_mean.index, color = location_mean.values, \n",
    "                    color_continuous_scale = px.colors.sequential.amp,\n",
    "                    title = 'Locations of \"Hybrid\" Employees')\n",
    "fig.show()"
   ]
  },
  {
   "cell_type": "code",
   "execution_count": 38,
   "metadata": {},
   "outputs": [
    {
     "data": {
      "application/vnd.plotly.v1+json": {
       "config": {
        "plotlyServerURL": "https://plot.ly"
       },
       "data": [
        {
         "coloraxis": "coloraxis",
         "geo": "geo",
         "hovertemplate": "locations=%{location}<br>color=%{z}<extra></extra>",
         "locations": [
          "USA",
          "GBR",
          "ESP",
          "CAN",
          "DEU",
          "IND",
          "PRT",
          "LVA",
          "NLD",
          "IRL",
          "UKR",
          "FRA",
          "TUR",
          "ITA",
          "LTU",
          "AUT",
          "JPN",
          "HRV",
          "BRA",
          "COL",
          "GHA",
          "GRC",
          "ROU",
          "JEY",
          "ARE",
          "MEX",
          "RUS",
          "PAK",
          "CHE",
          "AUS",
          "HND",
          "IDN",
          "ISR",
          "ASM",
          "HKG",
          "NGA",
          "FIN",
          "MKD",
          "ARM",
          "VNM",
          "UZB",
          "MDA"
         ],
         "name": "",
         "type": "choropleth",
         "z": [
          1667,
          90,
          49,
          28,
          16,
          10,
          7,
          4,
          4,
          4,
          2,
          2,
          2,
          2,
          2,
          2,
          2,
          2,
          2,
          2,
          2,
          2,
          1,
          1,
          1,
          1,
          1,
          1,
          1,
          1,
          1,
          1,
          1,
          1,
          1,
          1,
          1,
          1,
          1,
          1,
          1,
          1
         ]
        }
       ],
       "layout": {
        "coloraxis": {
         "colorbar": {
          "title": {
           "text": "color"
          }
         },
         "colorscale": [
          [
           0,
           "rgb(241, 236, 236)"
          ],
          [
           0.09090909090909091,
           "rgb(230, 209, 203)"
          ],
          [
           0.18181818181818182,
           "rgb(221, 182, 170)"
          ],
          [
           0.2727272727272727,
           "rgb(213, 156, 137)"
          ],
          [
           0.36363636363636365,
           "rgb(205, 129, 103)"
          ],
          [
           0.45454545454545453,
           "rgb(196, 102, 73)"
          ],
          [
           0.5454545454545454,
           "rgb(186, 74, 47)"
          ],
          [
           0.6363636363636364,
           "rgb(172, 44, 36)"
          ],
          [
           0.7272727272727273,
           "rgb(149, 19, 39)"
          ],
          [
           0.8181818181818182,
           "rgb(120, 14, 40)"
          ],
          [
           0.9090909090909091,
           "rgb(89, 13, 31)"
          ],
          [
           1,
           "rgb(60, 9, 17)"
          ]
         ]
        },
        "geo": {
         "center": {},
         "domain": {
          "x": [
           0,
           1
          ],
          "y": [
           0,
           1
          ]
         }
        },
        "legend": {
         "tracegroupgap": 0
        },
        "template": {
         "data": {
          "bar": [
           {
            "error_x": {
             "color": "#2a3f5f"
            },
            "error_y": {
             "color": "#2a3f5f"
            },
            "marker": {
             "line": {
              "color": "#E5ECF6",
              "width": 0.5
             },
             "pattern": {
              "fillmode": "overlay",
              "size": 10,
              "solidity": 0.2
             }
            },
            "type": "bar"
           }
          ],
          "barpolar": [
           {
            "marker": {
             "line": {
              "color": "#E5ECF6",
              "width": 0.5
             },
             "pattern": {
              "fillmode": "overlay",
              "size": 10,
              "solidity": 0.2
             }
            },
            "type": "barpolar"
           }
          ],
          "carpet": [
           {
            "aaxis": {
             "endlinecolor": "#2a3f5f",
             "gridcolor": "white",
             "linecolor": "white",
             "minorgridcolor": "white",
             "startlinecolor": "#2a3f5f"
            },
            "baxis": {
             "endlinecolor": "#2a3f5f",
             "gridcolor": "white",
             "linecolor": "white",
             "minorgridcolor": "white",
             "startlinecolor": "#2a3f5f"
            },
            "type": "carpet"
           }
          ],
          "choropleth": [
           {
            "colorbar": {
             "outlinewidth": 0,
             "ticks": ""
            },
            "type": "choropleth"
           }
          ],
          "contour": [
           {
            "colorbar": {
             "outlinewidth": 0,
             "ticks": ""
            },
            "colorscale": [
             [
              0,
              "#0d0887"
             ],
             [
              0.1111111111111111,
              "#46039f"
             ],
             [
              0.2222222222222222,
              "#7201a8"
             ],
             [
              0.3333333333333333,
              "#9c179e"
             ],
             [
              0.4444444444444444,
              "#bd3786"
             ],
             [
              0.5555555555555556,
              "#d8576b"
             ],
             [
              0.6666666666666666,
              "#ed7953"
             ],
             [
              0.7777777777777778,
              "#fb9f3a"
             ],
             [
              0.8888888888888888,
              "#fdca26"
             ],
             [
              1,
              "#f0f921"
             ]
            ],
            "type": "contour"
           }
          ],
          "contourcarpet": [
           {
            "colorbar": {
             "outlinewidth": 0,
             "ticks": ""
            },
            "type": "contourcarpet"
           }
          ],
          "heatmap": [
           {
            "colorbar": {
             "outlinewidth": 0,
             "ticks": ""
            },
            "colorscale": [
             [
              0,
              "#0d0887"
             ],
             [
              0.1111111111111111,
              "#46039f"
             ],
             [
              0.2222222222222222,
              "#7201a8"
             ],
             [
              0.3333333333333333,
              "#9c179e"
             ],
             [
              0.4444444444444444,
              "#bd3786"
             ],
             [
              0.5555555555555556,
              "#d8576b"
             ],
             [
              0.6666666666666666,
              "#ed7953"
             ],
             [
              0.7777777777777778,
              "#fb9f3a"
             ],
             [
              0.8888888888888888,
              "#fdca26"
             ],
             [
              1,
              "#f0f921"
             ]
            ],
            "type": "heatmap"
           }
          ],
          "heatmapgl": [
           {
            "colorbar": {
             "outlinewidth": 0,
             "ticks": ""
            },
            "colorscale": [
             [
              0,
              "#0d0887"
             ],
             [
              0.1111111111111111,
              "#46039f"
             ],
             [
              0.2222222222222222,
              "#7201a8"
             ],
             [
              0.3333333333333333,
              "#9c179e"
             ],
             [
              0.4444444444444444,
              "#bd3786"
             ],
             [
              0.5555555555555556,
              "#d8576b"
             ],
             [
              0.6666666666666666,
              "#ed7953"
             ],
             [
              0.7777777777777778,
              "#fb9f3a"
             ],
             [
              0.8888888888888888,
              "#fdca26"
             ],
             [
              1,
              "#f0f921"
             ]
            ],
            "type": "heatmapgl"
           }
          ],
          "histogram": [
           {
            "marker": {
             "pattern": {
              "fillmode": "overlay",
              "size": 10,
              "solidity": 0.2
             }
            },
            "type": "histogram"
           }
          ],
          "histogram2d": [
           {
            "colorbar": {
             "outlinewidth": 0,
             "ticks": ""
            },
            "colorscale": [
             [
              0,
              "#0d0887"
             ],
             [
              0.1111111111111111,
              "#46039f"
             ],
             [
              0.2222222222222222,
              "#7201a8"
             ],
             [
              0.3333333333333333,
              "#9c179e"
             ],
             [
              0.4444444444444444,
              "#bd3786"
             ],
             [
              0.5555555555555556,
              "#d8576b"
             ],
             [
              0.6666666666666666,
              "#ed7953"
             ],
             [
              0.7777777777777778,
              "#fb9f3a"
             ],
             [
              0.8888888888888888,
              "#fdca26"
             ],
             [
              1,
              "#f0f921"
             ]
            ],
            "type": "histogram2d"
           }
          ],
          "histogram2dcontour": [
           {
            "colorbar": {
             "outlinewidth": 0,
             "ticks": ""
            },
            "colorscale": [
             [
              0,
              "#0d0887"
             ],
             [
              0.1111111111111111,
              "#46039f"
             ],
             [
              0.2222222222222222,
              "#7201a8"
             ],
             [
              0.3333333333333333,
              "#9c179e"
             ],
             [
              0.4444444444444444,
              "#bd3786"
             ],
             [
              0.5555555555555556,
              "#d8576b"
             ],
             [
              0.6666666666666666,
              "#ed7953"
             ],
             [
              0.7777777777777778,
              "#fb9f3a"
             ],
             [
              0.8888888888888888,
              "#fdca26"
             ],
             [
              1,
              "#f0f921"
             ]
            ],
            "type": "histogram2dcontour"
           }
          ],
          "mesh3d": [
           {
            "colorbar": {
             "outlinewidth": 0,
             "ticks": ""
            },
            "type": "mesh3d"
           }
          ],
          "parcoords": [
           {
            "line": {
             "colorbar": {
              "outlinewidth": 0,
              "ticks": ""
             }
            },
            "type": "parcoords"
           }
          ],
          "pie": [
           {
            "automargin": true,
            "type": "pie"
           }
          ],
          "scatter": [
           {
            "fillpattern": {
             "fillmode": "overlay",
             "size": 10,
             "solidity": 0.2
            },
            "type": "scatter"
           }
          ],
          "scatter3d": [
           {
            "line": {
             "colorbar": {
              "outlinewidth": 0,
              "ticks": ""
             }
            },
            "marker": {
             "colorbar": {
              "outlinewidth": 0,
              "ticks": ""
             }
            },
            "type": "scatter3d"
           }
          ],
          "scattercarpet": [
           {
            "marker": {
             "colorbar": {
              "outlinewidth": 0,
              "ticks": ""
             }
            },
            "type": "scattercarpet"
           }
          ],
          "scattergeo": [
           {
            "marker": {
             "colorbar": {
              "outlinewidth": 0,
              "ticks": ""
             }
            },
            "type": "scattergeo"
           }
          ],
          "scattergl": [
           {
            "marker": {
             "colorbar": {
              "outlinewidth": 0,
              "ticks": ""
             }
            },
            "type": "scattergl"
           }
          ],
          "scattermapbox": [
           {
            "marker": {
             "colorbar": {
              "outlinewidth": 0,
              "ticks": ""
             }
            },
            "type": "scattermapbox"
           }
          ],
          "scatterpolar": [
           {
            "marker": {
             "colorbar": {
              "outlinewidth": 0,
              "ticks": ""
             }
            },
            "type": "scatterpolar"
           }
          ],
          "scatterpolargl": [
           {
            "marker": {
             "colorbar": {
              "outlinewidth": 0,
              "ticks": ""
             }
            },
            "type": "scatterpolargl"
           }
          ],
          "scatterternary": [
           {
            "marker": {
             "colorbar": {
              "outlinewidth": 0,
              "ticks": ""
             }
            },
            "type": "scatterternary"
           }
          ],
          "surface": [
           {
            "colorbar": {
             "outlinewidth": 0,
             "ticks": ""
            },
            "colorscale": [
             [
              0,
              "#0d0887"
             ],
             [
              0.1111111111111111,
              "#46039f"
             ],
             [
              0.2222222222222222,
              "#7201a8"
             ],
             [
              0.3333333333333333,
              "#9c179e"
             ],
             [
              0.4444444444444444,
              "#bd3786"
             ],
             [
              0.5555555555555556,
              "#d8576b"
             ],
             [
              0.6666666666666666,
              "#ed7953"
             ],
             [
              0.7777777777777778,
              "#fb9f3a"
             ],
             [
              0.8888888888888888,
              "#fdca26"
             ],
             [
              1,
              "#f0f921"
             ]
            ],
            "type": "surface"
           }
          ],
          "table": [
           {
            "cells": {
             "fill": {
              "color": "#EBF0F8"
             },
             "line": {
              "color": "white"
             }
            },
            "header": {
             "fill": {
              "color": "#C8D4E3"
             },
             "line": {
              "color": "white"
             }
            },
            "type": "table"
           }
          ]
         },
         "layout": {
          "annotationdefaults": {
           "arrowcolor": "#2a3f5f",
           "arrowhead": 0,
           "arrowwidth": 1
          },
          "autotypenumbers": "strict",
          "coloraxis": {
           "colorbar": {
            "outlinewidth": 0,
            "ticks": ""
           }
          },
          "colorscale": {
           "diverging": [
            [
             0,
             "#8e0152"
            ],
            [
             0.1,
             "#c51b7d"
            ],
            [
             0.2,
             "#de77ae"
            ],
            [
             0.3,
             "#f1b6da"
            ],
            [
             0.4,
             "#fde0ef"
            ],
            [
             0.5,
             "#f7f7f7"
            ],
            [
             0.6,
             "#e6f5d0"
            ],
            [
             0.7,
             "#b8e186"
            ],
            [
             0.8,
             "#7fbc41"
            ],
            [
             0.9,
             "#4d9221"
            ],
            [
             1,
             "#276419"
            ]
           ],
           "sequential": [
            [
             0,
             "#0d0887"
            ],
            [
             0.1111111111111111,
             "#46039f"
            ],
            [
             0.2222222222222222,
             "#7201a8"
            ],
            [
             0.3333333333333333,
             "#9c179e"
            ],
            [
             0.4444444444444444,
             "#bd3786"
            ],
            [
             0.5555555555555556,
             "#d8576b"
            ],
            [
             0.6666666666666666,
             "#ed7953"
            ],
            [
             0.7777777777777778,
             "#fb9f3a"
            ],
            [
             0.8888888888888888,
             "#fdca26"
            ],
            [
             1,
             "#f0f921"
            ]
           ],
           "sequentialminus": [
            [
             0,
             "#0d0887"
            ],
            [
             0.1111111111111111,
             "#46039f"
            ],
            [
             0.2222222222222222,
             "#7201a8"
            ],
            [
             0.3333333333333333,
             "#9c179e"
            ],
            [
             0.4444444444444444,
             "#bd3786"
            ],
            [
             0.5555555555555556,
             "#d8576b"
            ],
            [
             0.6666666666666666,
             "#ed7953"
            ],
            [
             0.7777777777777778,
             "#fb9f3a"
            ],
            [
             0.8888888888888888,
             "#fdca26"
            ],
            [
             1,
             "#f0f921"
            ]
           ]
          },
          "colorway": [
           "#636efa",
           "#EF553B",
           "#00cc96",
           "#ab63fa",
           "#FFA15A",
           "#19d3f3",
           "#FF6692",
           "#B6E880",
           "#FF97FF",
           "#FECB52"
          ],
          "font": {
           "color": "#2a3f5f"
          },
          "geo": {
           "bgcolor": "white",
           "lakecolor": "white",
           "landcolor": "#E5ECF6",
           "showlakes": true,
           "showland": true,
           "subunitcolor": "white"
          },
          "hoverlabel": {
           "align": "left"
          },
          "hovermode": "closest",
          "mapbox": {
           "style": "light"
          },
          "paper_bgcolor": "white",
          "plot_bgcolor": "#E5ECF6",
          "polar": {
           "angularaxis": {
            "gridcolor": "white",
            "linecolor": "white",
            "ticks": ""
           },
           "bgcolor": "#E5ECF6",
           "radialaxis": {
            "gridcolor": "white",
            "linecolor": "white",
            "ticks": ""
           }
          },
          "scene": {
           "xaxis": {
            "backgroundcolor": "#E5ECF6",
            "gridcolor": "white",
            "gridwidth": 2,
            "linecolor": "white",
            "showbackground": true,
            "ticks": "",
            "zerolinecolor": "white"
           },
           "yaxis": {
            "backgroundcolor": "#E5ECF6",
            "gridcolor": "white",
            "gridwidth": 2,
            "linecolor": "white",
            "showbackground": true,
            "ticks": "",
            "zerolinecolor": "white"
           },
           "zaxis": {
            "backgroundcolor": "#E5ECF6",
            "gridcolor": "white",
            "gridwidth": 2,
            "linecolor": "white",
            "showbackground": true,
            "ticks": "",
            "zerolinecolor": "white"
           }
          },
          "shapedefaults": {
           "line": {
            "color": "#2a3f5f"
           }
          },
          "ternary": {
           "aaxis": {
            "gridcolor": "white",
            "linecolor": "white",
            "ticks": ""
           },
           "baxis": {
            "gridcolor": "white",
            "linecolor": "white",
            "ticks": ""
           },
           "bgcolor": "#E5ECF6",
           "caxis": {
            "gridcolor": "white",
            "linecolor": "white",
            "ticks": ""
           }
          },
          "title": {
           "x": 0.05
          },
          "xaxis": {
           "automargin": true,
           "gridcolor": "white",
           "linecolor": "white",
           "ticks": "",
           "title": {
            "standoff": 15
           },
           "zerolinecolor": "white",
           "zerolinewidth": 2
          },
          "yaxis": {
           "automargin": true,
           "gridcolor": "white",
           "linecolor": "white",
           "ticks": "",
           "title": {
            "standoff": 15
           },
           "zerolinecolor": "white",
           "zerolinewidth": 2
          }
         }
        },
        "title": {
         "text": "Locations of \"No-Remote\" Employees"
        }
       }
      }
     },
     "metadata": {},
     "output_type": "display_data"
    }
   ],
   "source": [
    "#### Remote ratio of 0\n",
    "\n",
    "location_mean = location_0['employee_residence'].value_counts()\n",
    "\n",
    "fig = px.choropleth(locations = location_mean.index, color = location_mean.values, \n",
    "                    color_continuous_scale = px.colors.sequential.amp,\n",
    "                    title = 'Locations of \"No-Remote\" Employees')\n",
    "fig.show()"
   ]
  },
  {
   "cell_type": "markdown",
   "metadata": {},
   "source": [
    "WHAT WE KNOW (The above map diagram shows us that):\n",
    "- Fully-Remote: Employees are majority in USA.\n",
    "- Hybrid: Employees are in USA > IND.\n",
    "- No-Remote: Employees are majority in USA."
   ]
  },
  {
   "cell_type": "markdown",
   "metadata": {},
   "source": [
    "## Final Thoughts:"
   ]
  },
  {
   "cell_type": "markdown",
   "metadata": {},
   "source": [
    "- The data science field is rapidly growing throughout the years. \n",
    "- Research Scientists is the highest paying job in US. Followed by the Data Analyst (Which is what we doing now! <3)\n",
    "- Recent years, there has been increase in the on-site (no-remote) work, this can explain for the data science field's high demand in companies. \n",
    "- The salary also increases with more experience in the data science job field.  "
   ]
  },
  {
   "cell_type": "markdown",
   "metadata": {},
   "source": [
    "## Appendix Codes:"
   ]
  },
  {
   "cell_type": "code",
   "execution_count": 39,
   "metadata": {},
   "outputs": [],
   "source": [
    "## 3. Salary based ont he experience level\n",
    "## Filtering based on different experience levels, calculate the mean salary then plotting the graph\n",
    "## However, this is not really practical. \n",
    "\n",
    "# experience_salary = df_ds[['experience_level','salary_in_usd']]\n",
    "\n",
    "# en_salary = df_ds[df_ds['experience_level'] == 'EN']\n",
    "# mi_salary = df_ds[df_ds['experience_level'] == 'MI']\n",
    "# se_salary = df_ds[df_ds['experience_level'] == 'SE']\n",
    "# ex_salary = df_ds[df_ds['experience_level'] == 'EX']\n",
    "\n",
    "# hist_data = [en_salary['salary_in_usd'], mi_salary['salary_in_usd'], se_salary['salary_in_usd'], ex_salary['salary_in_usd']]\n",
    "# group_labels = ['EN', 'MI', 'SE', 'EX']\n",
    "\n",
    "# means = [en_salary['salary_in_usd'].mean(), mi_salary['salary_in_usd'].mean(), se_salary['salary_in_usd'].mean(), \n",
    "#          ex_salary['salary_in_usd'].mean()]\n",
    "\n",
    "# fig = px.bar(x = group_labels, y = experience_salary.values, color = group_labels, text = experience_salary.values,\n",
    "#              title = 'Average Salary based on the Employee Experience Levels')"
   ]
  }
 ],
 "metadata": {
  "kernelspec": {
   "display_name": "Python 3",
   "language": "python",
   "name": "python3"
  },
  "language_info": {
   "codemirror_mode": {
    "name": "ipython",
    "version": 3
   },
   "file_extension": ".py",
   "mimetype": "text/x-python",
   "name": "python",
   "nbconvert_exporter": "python",
   "pygments_lexer": "ipython3",
   "version": "3.12.0"
  }
 },
 "nbformat": 4,
 "nbformat_minor": 2
}
